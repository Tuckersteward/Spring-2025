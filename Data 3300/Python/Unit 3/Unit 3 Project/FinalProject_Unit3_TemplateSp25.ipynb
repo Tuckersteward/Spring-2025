{
  "cells": [
    {
      "cell_type": "markdown",
      "metadata": {
        "id": "QYbMXoboJ1gZ"
      },
      "source": [
        "# **Final Project Unit 3: Modeling**\n",
        "\n",
        "## *DATA 3300*\n",
        "## Name(s): Cabot Steward\n",
        "\n"
      ]
    },
    {
      "cell_type": "markdown",
      "metadata": {
        "id": "9gJ1yB1tJplW"
      },
      "source": [
        "# **Final Project Task**\n",
        "\n",
        "**Our task is to analyze a provided dataset containing information on current Airbnb listings in the Nashville area. The objective is to explore the data comprehensively and provide informed recommendations to Aggie Investments regarding the potential of entering this market, the types of listings they should acquire, and how they should manage those listings.**\n",
        "_____\n",
        "\n",
        "**In Unit 3, you learned how to perform various forms of unsupervised data mining. You will now apply each of these forms to the dataset in order to draw insights from the airbnb property data and make actionable recommendations to Aggie Investments in terms of the key factors they should look for when searching for properties to invest in!**\n",
        "\n",
        "**Let's begin as always by loading in the dependencies and the `data3300_airbnb_data_clean_final.csv` file!**"
      ]
    },
    {
      "cell_type": "code",
      "execution_count": 1,
      "metadata": {
        "id": "2aTPRdktv5o5"
      },
      "outputs": [
        {
          "name": "stdout",
          "output_type": "stream",
          "text": [
            "Requirement already satisfied: kneed in c:\\users\\tucke\\anaconda3\\lib\\site-packages (0.8.5)\n",
            "Requirement already satisfied: numpy>=1.14.2 in c:\\users\\tucke\\anaconda3\\lib\\site-packages (from kneed) (1.26.4)\n",
            "Requirement already satisfied: scipy>=1.0.0 in c:\\users\\tucke\\anaconda3\\lib\\site-packages (from kneed) (1.13.1)\n"
          ]
        }
      ],
      "source": [
        "# pip install the kneed library (for cluster analysis portion)\n",
        "!pip install kneed"
      ]
    },
    {
      "cell_type": "code",
      "execution_count": 2,
      "metadata": {
        "id": "QgPuIoOaflEb"
      },
      "outputs": [],
      "source": [
        "# load in required libraries for correlation, association rules, and cluster analyses\n",
        "import pandas as pd\n",
        "import numpy as np\n",
        "import matplotlib.pyplot as plt\n",
        "import seaborn as sns\n",
        "import requests\n",
        "\n",
        "from sklearn.experimental import enable_iterative_imputer\n",
        "from sklearn.impute import IterativeImputer\n",
        "\n",
        "from mlxtend.frequent_patterns import apriori, association_rules\n",
        "\n",
        "from scipy.stats import ttest_ind, pearsonr, spearmanr, ttest_1samp, ttest_rel\n",
        "\n",
        "from kneed import KneeLocator\n",
        "import sklearn.cluster\n",
        "from sklearn.cluster import KMeans\n",
        "from sklearn.metrics import silhouette_score\n",
        "from sklearn.preprocessing import StandardScaler\n",
        "from sklearn.manifold import TSNE\n",
        "\n",
        "import warnings\n",
        "warnings.filterwarnings('ignore')"
      ]
    },
    {
      "cell_type": "markdown",
      "metadata": {
        "id": "92LdhMareRwr"
      },
      "source": [
        "## **Correlation Analysis and T-Tests**\n",
        "\n",
        "### **Data Transformations**\n",
        "\n",
        "**1) We know from unit 2 that there are some remaining variables with outliers that have not been addressed. Let's start by checking the distributions of our *quantitative* variables to see if there are remaining transformations to conduct.**"
      ]
    },
    {
      "cell_type": "code",
      "execution_count": 4,
      "metadata": {
        "id": "yPjokK4eQG5I"
      },
      "outputs": [],
      "source": [
        "# read in the dataset data3300_airbnb_data_clean_final.csv\n",
        "df = pd.read_csv('data3300_airbnb_data_clean_final.csv')"
      ]
    },
    {
      "cell_type": "code",
      "execution_count": 5,
      "metadata": {
        "id": "I-GeDElgqCcV"
      },
      "outputs": [
        {
          "name": "stdout",
          "output_type": "stream",
          "text": [
            "<class 'pandas.core.frame.DataFrame'>\n",
            "RangeIndex: 8808 entries, 0 to 8807\n",
            "Data columns (total 29 columns):\n",
            " #   Column                          Non-Null Count  Dtype  \n",
            "---  ------                          --------------  -----  \n",
            " 0   Unnamed: 0                      8808 non-null   int64  \n",
            " 1   id                              8808 non-null   float64\n",
            " 2   host_id                         8808 non-null   int64  \n",
            " 3   host_is_superhost               8808 non-null   int64  \n",
            " 4   calculated_host_listings_count  8808 non-null   int64  \n",
            " 5   host_has_profile_pic            8808 non-null   int64  \n",
            " 6   host_identity_verified          8808 non-null   int64  \n",
            " 7   host_listings_count             8808 non-null   int64  \n",
            " 8   neighbourhood_cleansed          8808 non-null   object \n",
            " 9   availability_365                8808 non-null   int64  \n",
            " 10  minimum_nights                  8808 non-null   int64  \n",
            " 11  room_type                       8808 non-null   object \n",
            " 12  accommodates                    8808 non-null   int64  \n",
            " 13  beds                            8808 non-null   float64\n",
            " 14  reviews_per_month               8808 non-null   float64\n",
            " 15  review_scores_rating            7889 non-null   float64\n",
            " 16  review_scores_accuracy          7889 non-null   float64\n",
            " 17  review_scores_cleanliness       7889 non-null   float64\n",
            " 18  review_scores_checkin           7889 non-null   float64\n",
            " 19  review_scores_communication     7889 non-null   float64\n",
            " 20  review_scores_location          7889 non-null   float64\n",
            " 21  review_scores_value             7889 non-null   float64\n",
            " 22  avg_air_quality                 8808 non-null   float64\n",
            " 23  days_as_host                    8808 non-null   int64  \n",
            " 24  bathrooms                       8808 non-null   float64\n",
            " 25  short_term                      8808 non-null   int64  \n",
            " 26  price_lg                        8808 non-null   float64\n",
            " 27  bedrooms_cat                    8808 non-null   object \n",
            " 28  number_of_reviews_lg            8808 non-null   float64\n",
            "dtypes: float64(14), int64(12), object(3)\n",
            "memory usage: 1.9+ MB\n"
          ]
        }
      ],
      "source": [
        "# check data types using df.info for each variable to determine what is qualitative and what is quantitative\n",
        "df.info()"
      ]
    },
    {
      "cell_type": "code",
      "execution_count": 9,
      "metadata": {
        "id": "gDmEahHmqCW2"
      },
      "outputs": [
        {
          "data": {
            "image/png": "[encoded data removed]",
            "text/plain": [
              "<Figure size 1500x1000 with 20 Axes>"
            ]
          },
          "metadata": {},
          "output_type": "display_data"
        }
      ],
      "source": [
        "# create a subset of your full dataframe called df_corr where you drop the primary key variables and other qualitative variables\n",
        "cols_to_drop = ['Unnamed: 0', 'id', 'host_id', \n",
        "                'host_is_superhost', 'host_has_profile_pic', \n",
        "                'host_identity_verified', 'short_term']\n",
        "\n",
        "df_corr = df.drop(columns=cols_to_drop).select_dtypes(include=[np.number])\n",
        "\n",
        "df_corr.hist(bins=30, figsize=(15, 10))\n",
        "plt.tight_layout()\n",
        "plt.show()"
      ]
    },
    {
      "cell_type": "markdown",
      "metadata": {
        "id": "XjUL4vfBb0Wa"
      },
      "source": [
        "**2) Are there any variables that follow a roughly normal distribution, that do NOT require transformation?**"
      ]
    },
    {
      "cell_type": "markdown",
      "metadata": {
        "id": "Gcj0TPFYb-7e"
      },
      "source": [
        "Normal Ish - days_as_host, price_lg, number_of_reviews_lg"
      ]
    },
    {
      "cell_type": "markdown",
      "metadata": {
        "id": "8TY_7HCIdbS3"
      },
      "source": [
        "**3) Transform the remaining non-normal variables using a square root transformation:**"
      ]
    },
    {
      "cell_type": "code",
      "execution_count": 10,
      "metadata": {
        "id": "Gjtsy4QrqCRH"
      },
      "outputs": [
        {
          "data": {
            "image/png": "[encoded data removed]",
            "text/plain": [
              "<Figure size 1600x1200 with 12 Axes>"
            ]
          },
          "metadata": {},
          "output_type": "display_data"
        }
      ],
      "source": [
        "# create a new dataframe called df_corrT to store your transformed variables\n",
        "df_corrT = pd.DataFrame()\n",
        "\n",
        "df_corrT['days_as_host'] = df_corr['days_as_host']\n",
        "df_corrT['price_lg'] = df_corr['price_lg']\n",
        "df_corrT['number_of_reviews_lg'] = df_corr['number_of_reviews_lg']\n",
        "\n",
        "square_root_vars = ['minimum_nights', 'availability_365', 'accommodates', 'beds',\n",
        "                    'reviews_per_month', 'bathrooms', 'calculated_host_listings_count',\n",
        "                    'host_listings_count']\n",
        "\n",
        "for col in square_root_vars:\n",
        "    df_corrT[f'sqrt_{col}'] = np.sqrt(df_corr[col])\n",
        "\n",
        "\n",
        "# generate histograms to check transformed variable distributions\n",
        "df_corrT.hist(bins=30, figsize=(16, 12))\n",
        "plt.tight_layout()\n",
        "plt.show()"
      ]
    },
    {
      "cell_type": "markdown",
      "metadata": {
        "id": "SKNhvUAX_xBy"
      },
      "source": [
        "**4) Why would we do a square root transformation on these variables over a log transformation?**"
      ]
    },
    {
      "cell_type": "markdown",
      "metadata": {
        "id": "j6XjUqKp_242"
      },
      "source": [
        "We do square root over log because many of these values contain 0 which with log will leave it as undefined. "
      ]
    },
    {
      "cell_type": "markdown",
      "metadata": {
        "id": "b5y9_4xMAICI"
      },
      "source": [
        "**5) Are there remaining transformed variables that are still not normal AND if so, what is the implication of running parametric analyses (e.g., t-test, pearson correlation)?**"
      ]
    },
    {
      "cell_type": "markdown",
      "metadata": {
        "id": "tjgRrO3nAYjD"
      },
      "source": [
        "Yes — even after square root transformations, some variables still show skew (e.g., sqrt_host_listings_count, sqrt_bathrooms, sqrt_minimum_nights).  Running these analyses on this could cause us to see misleading correlations"
      ]
    },
    {
      "cell_type": "markdown",
      "metadata": {
        "id": "W8higQ6fApDZ"
      },
      "source": [
        "### **Correlation Analysis**\n",
        "**6) Let's implement a non-parametric correlation analysis (spearman) on our dataset, then answer why we are doing spearman correlation in place of pearson correlation:**"
      ]
    },
    {
      "cell_type": "code",
      "execution_count": null,
      "metadata": {
        "id": "9QuFWLe9qCIY"
      },
      "outputs": [
        {
          "data": {
            "text/html": [
              "<style type=\"text/css\">\n",
              "#T_a6ca9_row0_col0, #T_a6ca9_row1_col1, #T_a6ca9_row2_col2, #T_a6ca9_row3_col3, #T_a6ca9_row4_col4, #T_a6ca9_row5_col5, #T_a6ca9_row6_col6, #T_a6ca9_row7_col7, #T_a6ca9_row8_col8, #T_a6ca9_row9_col9, #T_a6ca9_row10_col10 {\n",
              "  background-color: #b40426;\n",
              "  color: #f1f1f1;\n",
              "}\n",
              "#T_a6ca9_row0_col1, #T_a6ca9_row0_col10, #T_a6ca9_row1_col0, #T_a6ca9_row2_col8, #T_a6ca9_row8_col2, #T_a6ca9_row10_col0 {\n",
              "  background-color: #82a6fb;\n",
              "  color: #f1f1f1;\n",
              "}\n",
              "#T_a6ca9_row0_col2, #T_a6ca9_row2_col0, #T_a6ca9_row4_col5, #T_a6ca9_row5_col4 {\n",
              "  background-color: #c7d7f0;\n",
              "  color: #000000;\n",
              "}\n",
              "#T_a6ca9_row0_col3, #T_a6ca9_row3_col0 {\n",
              "  background-color: #b2ccfb;\n",
              "  color: #000000;\n",
              "}\n",
              "#T_a6ca9_row0_col4, #T_a6ca9_row4_col0, #T_a6ca9_row4_col7, #T_a6ca9_row7_col4, #T_a6ca9_row7_col8, #T_a6ca9_row8_col7 {\n",
              "  background-color: #7ea1fa;\n",
              "  color: #f1f1f1;\n",
              "}\n",
              "#T_a6ca9_row0_col5, #T_a6ca9_row3_col5, #T_a6ca9_row5_col0, #T_a6ca9_row5_col3 {\n",
              "  background-color: #88abfd;\n",
              "  color: #000000;\n",
              "}\n",
              "#T_a6ca9_row0_col6, #T_a6ca9_row1_col2, #T_a6ca9_row1_col7, #T_a6ca9_row2_col1, #T_a6ca9_row2_col5, #T_a6ca9_row5_col2, #T_a6ca9_row6_col0, #T_a6ca9_row7_col1 {\n",
              "  background-color: #9abbff;\n",
              "  color: #000000;\n",
              "}\n",
              "#T_a6ca9_row0_col7, #T_a6ca9_row6_col10, #T_a6ca9_row7_col0, #T_a6ca9_row10_col6 {\n",
              "  background-color: #96b7ff;\n",
              "  color: #000000;\n",
              "}\n",
              "#T_a6ca9_row0_col8, #T_a6ca9_row3_col6, #T_a6ca9_row6_col3, #T_a6ca9_row8_col0 {\n",
              "  background-color: #93b5fe;\n",
              "  color: #000000;\n",
              "}\n",
              "#T_a6ca9_row0_col9, #T_a6ca9_row9_col0 {\n",
              "  background-color: #8badfd;\n",
              "  color: #000000;\n",
              "}\n",
              "#T_a6ca9_row1_col3, #T_a6ca9_row3_col1 {\n",
              "  background-color: #85a8fc;\n",
              "  color: #f1f1f1;\n",
              "}\n",
              "#T_a6ca9_row1_col4, #T_a6ca9_row4_col1 {\n",
              "  background-color: #aac7fd;\n",
              "  color: #000000;\n",
              "}\n",
              "#T_a6ca9_row1_col5, #T_a6ca9_row5_col1 {\n",
              "  background-color: #f7b89c;\n",
              "  color: #000000;\n",
              "}\n",
              "#T_a6ca9_row1_col6, #T_a6ca9_row6_col1 {\n",
              "  background-color: #e7d7ce;\n",
              "  color: #000000;\n",
              "}\n",
              "#T_a6ca9_row1_col8, #T_a6ca9_row8_col1 {\n",
              "  background-color: #f5c2aa;\n",
              "  color: #000000;\n",
              "}\n",
              "#T_a6ca9_row1_col9, #T_a6ca9_row9_col1 {\n",
              "  background-color: #9fbfff;\n",
              "  color: #000000;\n",
              "}\n",
              "#T_a6ca9_row1_col10, #T_a6ca9_row10_col1 {\n",
              "  background-color: #a2c1ff;\n",
              "  color: #000000;\n",
              "}\n",
              "#T_a6ca9_row2_col3, #T_a6ca9_row3_col2 {\n",
              "  background-color: #6282ea;\n",
              "  color: #f1f1f1;\n",
              "}\n",
              "#T_a6ca9_row2_col4, #T_a6ca9_row4_col2 {\n",
              "  background-color: #80a3fa;\n",
              "  color: #f1f1f1;\n",
              "}\n",
              "#T_a6ca9_row2_col6, #T_a6ca9_row6_col2 {\n",
              "  background-color: #c0d4f5;\n",
              "  color: #000000;\n",
              "}\n",
              "#T_a6ca9_row2_col7, #T_a6ca9_row7_col2 {\n",
              "  background-color: #e8765c;\n",
              "  color: #f1f1f1;\n",
              "}\n",
              "#T_a6ca9_row2_col9, #T_a6ca9_row9_col2 {\n",
              "  background-color: #688aef;\n",
              "  color: #f1f1f1;\n",
              "}\n",
              "#T_a6ca9_row2_col10, #T_a6ca9_row10_col2 {\n",
              "  background-color: #506bda;\n",
              "  color: #f1f1f1;\n",
              "}\n",
              "#T_a6ca9_row3_col4, #T_a6ca9_row4_col3 {\n",
              "  background-color: #799cf8;\n",
              "  color: #f1f1f1;\n",
              "}\n",
              "#T_a6ca9_row3_col7, #T_a6ca9_row7_col3 {\n",
              "  background-color: #3b4cc0;\n",
              "  color: #f1f1f1;\n",
              "}\n",
              "#T_a6ca9_row3_col8, #T_a6ca9_row6_col9, #T_a6ca9_row8_col3, #T_a6ca9_row9_col6 {\n",
              "  background-color: #a5c3fe;\n",
              "  color: #000000;\n",
              "}\n",
              "#T_a6ca9_row3_col9, #T_a6ca9_row9_col3 {\n",
              "  background-color: #536edd;\n",
              "  color: #f1f1f1;\n",
              "}\n",
              "#T_a6ca9_row3_col10, #T_a6ca9_row7_col10, #T_a6ca9_row10_col3, #T_a6ca9_row10_col7 {\n",
              "  background-color: #5875e1;\n",
              "  color: #f1f1f1;\n",
              "}\n",
              "#T_a6ca9_row4_col6, #T_a6ca9_row6_col4 {\n",
              "  background-color: #afcafc;\n",
              "  color: #000000;\n",
              "}\n",
              "#T_a6ca9_row4_col8, #T_a6ca9_row5_col10, #T_a6ca9_row8_col4, #T_a6ca9_row10_col5 {\n",
              "  background-color: #bed2f6;\n",
              "  color: #000000;\n",
              "}\n",
              "#T_a6ca9_row4_col9, #T_a6ca9_row9_col4 {\n",
              "  background-color: #dfdbd9;\n",
              "  color: #000000;\n",
              "}\n",
              "#T_a6ca9_row4_col10, #T_a6ca9_row10_col4 {\n",
              "  background-color: #d8dce2;\n",
              "  color: #000000;\n",
              "}\n",
              "#T_a6ca9_row5_col6, #T_a6ca9_row6_col5 {\n",
              "  background-color: #ecd3c5;\n",
              "  color: #000000;\n",
              "}\n",
              "#T_a6ca9_row5_col7, #T_a6ca9_row7_col5 {\n",
              "  background-color: #9dbdff;\n",
              "  color: #000000;\n",
              "}\n",
              "#T_a6ca9_row5_col8, #T_a6ca9_row8_col5 {\n",
              "  background-color: #de614d;\n",
              "  color: #f1f1f1;\n",
              "}\n",
              "#T_a6ca9_row5_col9, #T_a6ca9_row8_col9, #T_a6ca9_row9_col5, #T_a6ca9_row9_col8 {\n",
              "  background-color: #c5d6f2;\n",
              "  color: #000000;\n",
              "}\n",
              "#T_a6ca9_row6_col7, #T_a6ca9_row7_col6 {\n",
              "  background-color: #c9d7f0;\n",
              "  color: #000000;\n",
              "}\n",
              "#T_a6ca9_row6_col8, #T_a6ca9_row8_col6 {\n",
              "  background-color: #dcdddd;\n",
              "  color: #000000;\n",
              "}\n",
              "#T_a6ca9_row7_col9, #T_a6ca9_row9_col7 {\n",
              "  background-color: #7093f3;\n",
              "  color: #f1f1f1;\n",
              "}\n",
              "#T_a6ca9_row8_col10, #T_a6ca9_row10_col8 {\n",
              "  background-color: #b9d0f9;\n",
              "  color: #000000;\n",
              "}\n",
              "#T_a6ca9_row9_col10, #T_a6ca9_row10_col9 {\n",
              "  background-color: #ca3b37;\n",
              "  color: #f1f1f1;\n",
              "}\n",
              "</style>\n",
              "<table id=\"T_a6ca9\">\n",
              "  <thead>\n",
              "    <tr>\n",
              "      <th class=\"blank level0\" >&nbsp;</th>\n",
              "      <th id=\"T_a6ca9_level0_col0\" class=\"col_heading level0 col0\" >days_as_host</th>\n",
              "      <th id=\"T_a6ca9_level0_col1\" class=\"col_heading level0 col1\" >price_lg</th>\n",
              "      <th id=\"T_a6ca9_level0_col2\" class=\"col_heading level0 col2\" >number_of_reviews_lg</th>\n",
              "      <th id=\"T_a6ca9_level0_col3\" class=\"col_heading level0 col3\" >sqrt_minimum_nights</th>\n",
              "      <th id=\"T_a6ca9_level0_col4\" class=\"col_heading level0 col4\" >sqrt_availability_365</th>\n",
              "      <th id=\"T_a6ca9_level0_col5\" class=\"col_heading level0 col5\" >sqrt_accommodates</th>\n",
              "      <th id=\"T_a6ca9_level0_col6\" class=\"col_heading level0 col6\" >sqrt_beds</th>\n",
              "      <th id=\"T_a6ca9_level0_col7\" class=\"col_heading level0 col7\" >sqrt_reviews_per_month</th>\n",
              "      <th id=\"T_a6ca9_level0_col8\" class=\"col_heading level0 col8\" >sqrt_bathrooms</th>\n",
              "      <th id=\"T_a6ca9_level0_col9\" class=\"col_heading level0 col9\" >sqrt_calculated_host_listings_count</th>\n",
              "      <th id=\"T_a6ca9_level0_col10\" class=\"col_heading level0 col10\" >sqrt_host_listings_count</th>\n",
              "    </tr>\n",
              "  </thead>\n",
              "  <tbody>\n",
              "    <tr>\n",
              "      <th id=\"T_a6ca9_level0_row0\" class=\"row_heading level0 row0\" >days_as_host</th>\n",
              "      <td id=\"T_a6ca9_row0_col0\" class=\"data row0 col0\" >1.000000</td>\n",
              "      <td id=\"T_a6ca9_row0_col1\" class=\"data row0 col1\" >-0.050000</td>\n",
              "      <td id=\"T_a6ca9_row0_col2\" class=\"data row0 col2\" >0.220000</td>\n",
              "      <td id=\"T_a6ca9_row0_col3\" class=\"data row0 col3\" >0.130000</td>\n",
              "      <td id=\"T_a6ca9_row0_col4\" class=\"data row0 col4\" >-0.070000</td>\n",
              "      <td id=\"T_a6ca9_row0_col5\" class=\"data row0 col5\" >-0.030000</td>\n",
              "      <td id=\"T_a6ca9_row0_col6\" class=\"data row0 col6\" >0.040000</td>\n",
              "      <td id=\"T_a6ca9_row0_col7\" class=\"data row0 col7\" >0.020000</td>\n",
              "      <td id=\"T_a6ca9_row0_col8\" class=\"data row0 col8\" >0.010000</td>\n",
              "      <td id=\"T_a6ca9_row0_col9\" class=\"data row0 col9\" >-0.020000</td>\n",
              "      <td id=\"T_a6ca9_row0_col10\" class=\"data row0 col10\" >-0.050000</td>\n",
              "    </tr>\n",
              "    <tr>\n",
              "      <th id=\"T_a6ca9_level0_row1\" class=\"row_heading level0 row1\" >price_lg</th>\n",
              "      <td id=\"T_a6ca9_row1_col0\" class=\"data row1 col0\" >-0.050000</td>\n",
              "      <td id=\"T_a6ca9_row1_col1\" class=\"data row1 col1\" >1.000000</td>\n",
              "      <td id=\"T_a6ca9_row1_col2\" class=\"data row1 col2\" >0.040000</td>\n",
              "      <td id=\"T_a6ca9_row1_col3\" class=\"data row1 col3\" >-0.040000</td>\n",
              "      <td id=\"T_a6ca9_row1_col4\" class=\"data row1 col4\" >0.100000</td>\n",
              "      <td id=\"T_a6ca9_row1_col5\" class=\"data row1 col5\" >0.550000</td>\n",
              "      <td id=\"T_a6ca9_row1_col6\" class=\"data row1 col6\" >0.380000</td>\n",
              "      <td id=\"T_a6ca9_row1_col7\" class=\"data row1 col7\" >0.040000</td>\n",
              "      <td id=\"T_a6ca9_row1_col8\" class=\"data row1 col8\" >0.500000</td>\n",
              "      <td id=\"T_a6ca9_row1_col9\" class=\"data row1 col9\" >0.060000</td>\n",
              "      <td id=\"T_a6ca9_row1_col10\" class=\"data row1 col10\" >0.070000</td>\n",
              "    </tr>\n",
              "    <tr>\n",
              "      <th id=\"T_a6ca9_level0_row2\" class=\"row_heading level0 row2\" >number_of_reviews_lg</th>\n",
              "      <td id=\"T_a6ca9_row2_col0\" class=\"data row2 col0\" >0.220000</td>\n",
              "      <td id=\"T_a6ca9_row2_col1\" class=\"data row2 col1\" >0.040000</td>\n",
              "      <td id=\"T_a6ca9_row2_col2\" class=\"data row2 col2\" >1.000000</td>\n",
              "      <td id=\"T_a6ca9_row2_col3\" class=\"data row2 col3\" >-0.180000</td>\n",
              "      <td id=\"T_a6ca9_row2_col4\" class=\"data row2 col4\" >-0.060000</td>\n",
              "      <td id=\"T_a6ca9_row2_col5\" class=\"data row2 col5\" >0.040000</td>\n",
              "      <td id=\"T_a6ca9_row2_col6\" class=\"data row2 col6\" >0.190000</td>\n",
              "      <td id=\"T_a6ca9_row2_col7\" class=\"data row2 col7\" >0.770000</td>\n",
              "      <td id=\"T_a6ca9_row2_col8\" class=\"data row2 col8\" >-0.050000</td>\n",
              "      <td id=\"T_a6ca9_row2_col9\" class=\"data row2 col9\" >-0.150000</td>\n",
              "      <td id=\"T_a6ca9_row2_col10\" class=\"data row2 col10\" >-0.250000</td>\n",
              "    </tr>\n",
              "    <tr>\n",
              "      <th id=\"T_a6ca9_level0_row3\" class=\"row_heading level0 row3\" >sqrt_minimum_nights</th>\n",
              "      <td id=\"T_a6ca9_row3_col0\" class=\"data row3 col0\" >0.130000</td>\n",
              "      <td id=\"T_a6ca9_row3_col1\" class=\"data row3 col1\" >-0.040000</td>\n",
              "      <td id=\"T_a6ca9_row3_col2\" class=\"data row3 col2\" >-0.180000</td>\n",
              "      <td id=\"T_a6ca9_row3_col3\" class=\"data row3 col3\" >1.000000</td>\n",
              "      <td id=\"T_a6ca9_row3_col4\" class=\"data row3 col4\" >-0.090000</td>\n",
              "      <td id=\"T_a6ca9_row3_col5\" class=\"data row3 col5\" >-0.030000</td>\n",
              "      <td id=\"T_a6ca9_row3_col6\" class=\"data row3 col6\" >0.010000</td>\n",
              "      <td id=\"T_a6ca9_row3_col7\" class=\"data row3 col7\" >-0.350000</td>\n",
              "      <td id=\"T_a6ca9_row3_col8\" class=\"data row3 col8\" >0.080000</td>\n",
              "      <td id=\"T_a6ca9_row3_col9\" class=\"data row3 col9\" >-0.240000</td>\n",
              "      <td id=\"T_a6ca9_row3_col10\" class=\"data row3 col10\" >-0.220000</td>\n",
              "    </tr>\n",
              "    <tr>\n",
              "      <th id=\"T_a6ca9_level0_row4\" class=\"row_heading level0 row4\" >sqrt_availability_365</th>\n",
              "      <td id=\"T_a6ca9_row4_col0\" class=\"data row4 col0\" >-0.070000</td>\n",
              "      <td id=\"T_a6ca9_row4_col1\" class=\"data row4 col1\" >0.100000</td>\n",
              "      <td id=\"T_a6ca9_row4_col2\" class=\"data row4 col2\" >-0.060000</td>\n",
              "      <td id=\"T_a6ca9_row4_col3\" class=\"data row4 col3\" >-0.090000</td>\n",
              "      <td id=\"T_a6ca9_row4_col4\" class=\"data row4 col4\" >1.000000</td>\n",
              "      <td id=\"T_a6ca9_row4_col5\" class=\"data row4 col5\" >0.220000</td>\n",
              "      <td id=\"T_a6ca9_row4_col6\" class=\"data row4 col6\" >0.120000</td>\n",
              "      <td id=\"T_a6ca9_row4_col7\" class=\"data row4 col7\" >-0.070000</td>\n",
              "      <td id=\"T_a6ca9_row4_col8\" class=\"data row4 col8\" >0.180000</td>\n",
              "      <td id=\"T_a6ca9_row4_col9\" class=\"data row4 col9\" >0.340000</td>\n",
              "      <td id=\"T_a6ca9_row4_col10\" class=\"data row4 col10\" >0.300000</td>\n",
              "    </tr>\n",
              "    <tr>\n",
              "      <th id=\"T_a6ca9_level0_row5\" class=\"row_heading level0 row5\" >sqrt_accommodates</th>\n",
              "      <td id=\"T_a6ca9_row5_col0\" class=\"data row5 col0\" >-0.030000</td>\n",
              "      <td id=\"T_a6ca9_row5_col1\" class=\"data row5 col1\" >0.550000</td>\n",
              "      <td id=\"T_a6ca9_row5_col2\" class=\"data row5 col2\" >0.040000</td>\n",
              "      <td id=\"T_a6ca9_row5_col3\" class=\"data row5 col3\" >-0.030000</td>\n",
              "      <td id=\"T_a6ca9_row5_col4\" class=\"data row5 col4\" >0.220000</td>\n",
              "      <td id=\"T_a6ca9_row5_col5\" class=\"data row5 col5\" >1.000000</td>\n",
              "      <td id=\"T_a6ca9_row5_col6\" class=\"data row5 col6\" >0.410000</td>\n",
              "      <td id=\"T_a6ca9_row5_col7\" class=\"data row5 col7\" >0.050000</td>\n",
              "      <td id=\"T_a6ca9_row5_col8\" class=\"data row5 col8\" >0.830000</td>\n",
              "      <td id=\"T_a6ca9_row5_col9\" class=\"data row5 col9\" >0.210000</td>\n",
              "      <td id=\"T_a6ca9_row5_col10\" class=\"data row5 col10\" >0.180000</td>\n",
              "    </tr>\n",
              "    <tr>\n",
              "      <th id=\"T_a6ca9_level0_row6\" class=\"row_heading level0 row6\" >sqrt_beds</th>\n",
              "      <td id=\"T_a6ca9_row6_col0\" class=\"data row6 col0\" >0.040000</td>\n",
              "      <td id=\"T_a6ca9_row6_col1\" class=\"data row6 col1\" >0.380000</td>\n",
              "      <td id=\"T_a6ca9_row6_col2\" class=\"data row6 col2\" >0.190000</td>\n",
              "      <td id=\"T_a6ca9_row6_col3\" class=\"data row6 col3\" >0.010000</td>\n",
              "      <td id=\"T_a6ca9_row6_col4\" class=\"data row6 col4\" >0.120000</td>\n",
              "      <td id=\"T_a6ca9_row6_col5\" class=\"data row6 col5\" >0.410000</td>\n",
              "      <td id=\"T_a6ca9_row6_col6\" class=\"data row6 col6\" >1.000000</td>\n",
              "      <td id=\"T_a6ca9_row6_col7\" class=\"data row6 col7\" >0.230000</td>\n",
              "      <td id=\"T_a6ca9_row6_col8\" class=\"data row6 col8\" >0.320000</td>\n",
              "      <td id=\"T_a6ca9_row6_col9\" class=\"data row6 col9\" >0.080000</td>\n",
              "      <td id=\"T_a6ca9_row6_col10\" class=\"data row6 col10\" >0.020000</td>\n",
              "    </tr>\n",
              "    <tr>\n",
              "      <th id=\"T_a6ca9_level0_row7\" class=\"row_heading level0 row7\" >sqrt_reviews_per_month</th>\n",
              "      <td id=\"T_a6ca9_row7_col0\" class=\"data row7 col0\" >0.020000</td>\n",
              "      <td id=\"T_a6ca9_row7_col1\" class=\"data row7 col1\" >0.040000</td>\n",
              "      <td id=\"T_a6ca9_row7_col2\" class=\"data row7 col2\" >0.770000</td>\n",
              "      <td id=\"T_a6ca9_row7_col3\" class=\"data row7 col3\" >-0.350000</td>\n",
              "      <td id=\"T_a6ca9_row7_col4\" class=\"data row7 col4\" >-0.070000</td>\n",
              "      <td id=\"T_a6ca9_row7_col5\" class=\"data row7 col5\" >0.050000</td>\n",
              "      <td id=\"T_a6ca9_row7_col6\" class=\"data row7 col6\" >0.230000</td>\n",
              "      <td id=\"T_a6ca9_row7_col7\" class=\"data row7 col7\" >1.000000</td>\n",
              "      <td id=\"T_a6ca9_row7_col8\" class=\"data row7 col8\" >-0.070000</td>\n",
              "      <td id=\"T_a6ca9_row7_col9\" class=\"data row7 col9\" >-0.120000</td>\n",
              "      <td id=\"T_a6ca9_row7_col10\" class=\"data row7 col10\" >-0.220000</td>\n",
              "    </tr>\n",
              "    <tr>\n",
              "      <th id=\"T_a6ca9_level0_row8\" class=\"row_heading level0 row8\" >sqrt_bathrooms</th>\n",
              "      <td id=\"T_a6ca9_row8_col0\" class=\"data row8 col0\" >0.010000</td>\n",
              "      <td id=\"T_a6ca9_row8_col1\" class=\"data row8 col1\" >0.500000</td>\n",
              "      <td id=\"T_a6ca9_row8_col2\" class=\"data row8 col2\" >-0.050000</td>\n",
              "      <td id=\"T_a6ca9_row8_col3\" class=\"data row8 col3\" >0.080000</td>\n",
              "      <td id=\"T_a6ca9_row8_col4\" class=\"data row8 col4\" >0.180000</td>\n",
              "      <td id=\"T_a6ca9_row8_col5\" class=\"data row8 col5\" >0.830000</td>\n",
              "      <td id=\"T_a6ca9_row8_col6\" class=\"data row8 col6\" >0.320000</td>\n",
              "      <td id=\"T_a6ca9_row8_col7\" class=\"data row8 col7\" >-0.070000</td>\n",
              "      <td id=\"T_a6ca9_row8_col8\" class=\"data row8 col8\" >1.000000</td>\n",
              "      <td id=\"T_a6ca9_row8_col9\" class=\"data row8 col9\" >0.210000</td>\n",
              "      <td id=\"T_a6ca9_row8_col10\" class=\"data row8 col10\" >0.160000</td>\n",
              "    </tr>\n",
              "    <tr>\n",
              "      <th id=\"T_a6ca9_level0_row9\" class=\"row_heading level0 row9\" >sqrt_calculated_host_listings_count</th>\n",
              "      <td id=\"T_a6ca9_row9_col0\" class=\"data row9 col0\" >-0.020000</td>\n",
              "      <td id=\"T_a6ca9_row9_col1\" class=\"data row9 col1\" >0.060000</td>\n",
              "      <td id=\"T_a6ca9_row9_col2\" class=\"data row9 col2\" >-0.150000</td>\n",
              "      <td id=\"T_a6ca9_row9_col3\" class=\"data row9 col3\" >-0.240000</td>\n",
              "      <td id=\"T_a6ca9_row9_col4\" class=\"data row9 col4\" >0.340000</td>\n",
              "      <td id=\"T_a6ca9_row9_col5\" class=\"data row9 col5\" >0.210000</td>\n",
              "      <td id=\"T_a6ca9_row9_col6\" class=\"data row9 col6\" >0.080000</td>\n",
              "      <td id=\"T_a6ca9_row9_col7\" class=\"data row9 col7\" >-0.120000</td>\n",
              "      <td id=\"T_a6ca9_row9_col8\" class=\"data row9 col8\" >0.210000</td>\n",
              "      <td id=\"T_a6ca9_row9_col9\" class=\"data row9 col9\" >1.000000</td>\n",
              "      <td id=\"T_a6ca9_row9_col10\" class=\"data row9 col10\" >0.920000</td>\n",
              "    </tr>\n",
              "    <tr>\n",
              "      <th id=\"T_a6ca9_level0_row10\" class=\"row_heading level0 row10\" >sqrt_host_listings_count</th>\n",
              "      <td id=\"T_a6ca9_row10_col0\" class=\"data row10 col0\" >-0.050000</td>\n",
              "      <td id=\"T_a6ca9_row10_col1\" class=\"data row10 col1\" >0.070000</td>\n",
              "      <td id=\"T_a6ca9_row10_col2\" class=\"data row10 col2\" >-0.250000</td>\n",
              "      <td id=\"T_a6ca9_row10_col3\" class=\"data row10 col3\" >-0.220000</td>\n",
              "      <td id=\"T_a6ca9_row10_col4\" class=\"data row10 col4\" >0.300000</td>\n",
              "      <td id=\"T_a6ca9_row10_col5\" class=\"data row10 col5\" >0.180000</td>\n",
              "      <td id=\"T_a6ca9_row10_col6\" class=\"data row10 col6\" >0.020000</td>\n",
              "      <td id=\"T_a6ca9_row10_col7\" class=\"data row10 col7\" >-0.220000</td>\n",
              "      <td id=\"T_a6ca9_row10_col8\" class=\"data row10 col8\" >0.160000</td>\n",
              "      <td id=\"T_a6ca9_row10_col9\" class=\"data row10 col9\" >0.920000</td>\n",
              "      <td id=\"T_a6ca9_row10_col10\" class=\"data row10 col10\" >1.000000</td>\n",
              "    </tr>\n",
              "  </tbody>\n",
              "</table>\n"
            ],
            "text/plain": [
              "<pandas.io.formats.style.Styler at 0x1e769bea810>"
            ]
          },
          "execution_count": 12,
          "metadata": {},
          "output_type": "execute_result"
        }
      ],
      "source": [
        "# run a spearman correlation analysis on your dataframe, then store values in cor_matrix\n",
        "cor_matrix = df_corrT.corr(method='spearman')\n",
        "\n",
        "styled_matrix = cor_matrix.round(2).style.background_gradient(cmap='coolwarm', axis=None)\n",
        "\n",
        "styled_matrix"
      ]
    },
    {
      "cell_type": "markdown",
      "metadata": {
        "id": "AAGNORF7A4sE"
      },
      "source": [
        "**Answer**:"
      ]
    },
    {
      "cell_type": "markdown",
      "metadata": {
        "id": "QzLI-s6dBuoq"
      },
      "source": [
        "**7) Next, lets consider the price variable, which will likely be quite important to Aggie Investments since it's a metric related to revenue. a) Select a variable you think should be related to price (either positively or negatively), b) produce a set of hypotheses, c) then test them!**\n",
        "\n",
        "* Var 1: Price\n",
        "* Var 2: sqrt_accommodates\n",
        "\n",
        "---\n",
        "* $H_o:$ There is no monotonic relationship between price and accommodate\n",
        "* $H_A:$ There is a monotonic relationship between price and accommodate"
      ]
    },
    {
      "cell_type": "code",
      "execution_count": 13,
      "metadata": {
        "id": "ECpOZeQVqB3F"
      },
      "outputs": [
        {
          "name": "stdout",
          "output_type": "stream",
          "text": [
            "Spearman correlation coefficient: 0.549\n",
            "P-value: 0.0\n"
          ]
        }
      ],
      "source": [
        "# Calculate the Spearman correlation coefficient and p-value for your two variables\n",
        "corr, p_value = spearmanr(df_corrT['price_lg'], df_corrT['sqrt_accommodates'])\n",
        "\n",
        "print('Spearman correlation coefficient:', round(corr, 3))\n",
        "print('P-value:', round(p_value, 5))"
      ]
    },
    {
      "cell_type": "markdown",
      "metadata": {
        "id": "erprP8-lDXNB"
      },
      "source": [
        " **8) How would you describe the strength and direction of the relationship between price and your chosen variable? Is their relationship statistically significant, how do you know?**"
      ]
    },
    {
      "cell_type": "markdown",
      "metadata": {
        "id": "6GSNKgmgDyQ9"
      },
      "source": [
        "The relationship between price and accommodates is moderately strong and positive, with a Spearman correlation coefficient of approximately 0.55.\n",
        "The relationship is statistically significant because the p-value is less than 0.05, which indicates we can reject the null hypothesis of no monotonic relationship.\n",
        "\n",
        "(I dont feel like a rebel...)"
      ]
    },
    {
      "cell_type": "markdown",
      "metadata": {
        "id": "rsuikv9KEdqH"
      },
      "source": [
        "**9) If you wanted to train a model to predict price, which 5 other variables would you choose as predictor variables (i.e., which 5 are most strongly correlated with price)?**\n",
        "\n",
        "\n",
        "\n",
        "1.  sqrt_accommodates \n",
        "2.  sqrt_bathrooms \n",
        "3.  sqrt_beds \n",
        "4.  sqrt_calculated_host_listings_count \n",
        "5.  sqrt_host_listings_count \n",
        "\n"
      ]
    },
    {
      "cell_type": "markdown",
      "metadata": {
        "id": "Ov6ME8Ad2ZSp"
      },
      "source": [
        "### **T Tests**\n",
        "\n",
        "**Next, let's implement some t-tests to examine potential meaningful group differences in price.**\n",
        "\n",
        "**10) What variables could we use to group price (hint: remember t-tests can only compare TWO groups)?**"
      ]
    },
    {
      "cell_type": "markdown",
      "metadata": {
        "id": "Jhv6DXkhGSh_"
      },
      "source": [
        "host_is_superhost, host_has_profile_pic, host_identity_verified, short_term"
      ]
    },
    {
      "cell_type": "markdown",
      "metadata": {
        "id": "WNIFKXflGpdV"
      },
      "source": [
        "**11) Next, create a set of hypotheses around price and your selected group variable:**"
      ]
    },
    {
      "cell_type": "markdown",
      "metadata": {
        "id": "0wWFmdLd3eK2"
      },
      "source": [
        "* $H_0$: There is no difference in price between superhosts and non-superhosts.\n",
        "* $H_A$: There is a difference in price between superhosts and non-superhosts."
      ]
    },
    {
      "cell_type": "markdown",
      "metadata": {
        "id": "5NVyGMv4G7n3"
      },
      "source": [
        "**12) Select the appropriate t-test to examine between group differences based on your selected group variable, then implement below!**"
      ]
    },
    {
      "cell_type": "code",
      "execution_count": 14,
      "metadata": {
        "id": "duKvejdz4Mui"
      },
      "outputs": [
        {
          "name": "stdout",
          "output_type": "stream",
          "text": [
            "T-statistic: 10.342\n",
            "P-value: 0.0\n"
          ]
        }
      ],
      "source": [
        "# run an independent t-test comparing price_lg for your selected grouping variable, produce the t-statistc and p-value\n",
        "group1 = df.loc[df['host_is_superhost'] == True, 'price_lg']\n",
        "group2 = df.loc[df['host_is_superhost'] == False, 'price_lg']\n",
        "\n",
        "# Run independent t-test\n",
        "t_statistic, p_value = ttest_ind(group1, group2, nan_policy='omit')\n",
        "\n",
        "print(\"T-statistic:\", round(t_statistic, 3))\n",
        "print(\"P-value:\", round(p_value, 5))"
      ]
    },
    {
      "cell_type": "code",
      "execution_count": 15,
      "metadata": {
        "id": "bfnt2j_yDT2e"
      },
      "outputs": [
        {
          "name": "stdout",
          "output_type": "stream",
          "text": [
            "host_is_superhost\n",
            "0    162.203058\n",
            "1    182.895001\n",
            "Name: price_lg, dtype: float64\n"
          ]
        }
      ],
      "source": [
        "# Group the data by your chose variable and calculate the mean of 'price_lg' for each group\n",
        "grouped_mean = df.groupby('host_is_superhost')['price_lg'].mean()\n",
        "\n",
        "exponentiated_mean = np.exp(grouped_mean)\n",
        "print(exponentiated_mean)"
      ]
    },
    {
      "cell_type": "markdown",
      "metadata": {
        "id": "e-GR2u-gIGJ-"
      },
      "source": [
        "**13) Report on your t-test analysis, including a) can you reject your null hypothesis AND b) if one group is signficantly different than the other, which has higher average price?**"
      ]
    },
    {
      "cell_type": "markdown",
      "metadata": {
        "id": "Z2n62gYJIcxD"
      },
      "source": [
        "a - yes, we can reject the null hypothesis\n",
        "b - According to the exponentiated group means, superhosts (or whichever group has the higher value) have a higher average price than non-superhosts."
      ]
    },
    {
      "cell_type": "markdown",
      "metadata": {
        "id": "O7vTo3aheXHv"
      },
      "source": [
        "## **Association Rules Analysis**\n",
        "\n",
        "**Next we will further examine meaningful patterns in our dataset by examining what types of qualities within an airbnb property tend to co-occur with good ratings through Association Rules Analysis. This will help our buyers purchase properties that are more likely to be well rated!**\n",
        "\n",
        "### **Data Preprocessing**\n",
        "\n"
      ]
    },
    {
      "cell_type": "markdown",
      "metadata": {
        "id": "BkKbupQFKYaf"
      },
      "source": [
        "**14) What variable type is required to conduct an association rules analysis?**"
      ]
    },
    {
      "cell_type": "markdown",
      "metadata": {
        "id": "Xee1Vpw8KfD-"
      },
      "source": [
        "Association rules require binary (dichotomous) variables — typically represented as True/False, 1/0, or presence/absence indicators."
      ]
    },
    {
      "cell_type": "markdown",
      "metadata": {
        "id": "LWN36dQ9Kjps"
      },
      "source": [
        "**15) Which variables are already dichotomous in this dataset?**"
      ]
    },
    {
      "cell_type": "markdown",
      "metadata": {
        "id": "1Pbily-iKweA"
      },
      "source": [
        "* host_is_superhost\n",
        "* host_has_profile_pic\n",
        "* host_identity_verified\n",
        "* short_term"
      ]
    },
    {
      "cell_type": "code",
      "execution_count": 16,
      "metadata": {
        "id": "ZPTDKtHiH3Qz"
      },
      "outputs": [],
      "source": [
        "# write the id and dichotomous vars into a new dataframe called df_ar\n",
        "df_ar = df[['id', 'host_is_superhost', 'host_has_profile_pic', \n",
        "            'host_identity_verified', 'short_term']]"
      ]
    },
    {
      "cell_type": "markdown",
      "metadata": {
        "id": "ViUjTst4K4Ym"
      },
      "source": [
        "**16) Let's not limit ourselves to these few! By discretizing other variables in our dataset, we can convert them to being dichotomous or binominal, and then include them in our analysis. All of our rating variables range between 0-5, what cut-off would you choose if you want to label reviews as good OR not good?**"
      ]
    },
    {
      "cell_type": "markdown",
      "metadata": {
        "id": "O7BEti0-LoyX"
      },
      "source": [
        "lets say 4.5"
      ]
    },
    {
      "cell_type": "markdown",
      "metadata": {
        "id": "doXvaj5ZLvpm"
      },
      "source": [
        "**17) Use a cut-off value of 3 to discretize the rating variables `review_scores_rating`, `review_scores_location`, and `review_scores_value` making them dichotomous (good review: 1/0, True/False), such that review scores 3 or above are considered good, and below 3 are not good.**"
      ]
    },
    {
      "cell_type": "code",
      "execution_count": 17,
      "metadata": {
        "id": "jIgcp3N-MDMu"
      },
      "outputs": [
        {
          "data": {
            "text/html": [
              "<div>\n",
              "<style scoped>\n",
              "    .dataframe tbody tr th:only-of-type {\n",
              "        vertical-align: middle;\n",
              "    }\n",
              "\n",
              "    .dataframe tbody tr th {\n",
              "        vertical-align: top;\n",
              "    }\n",
              "\n",
              "    .dataframe thead th {\n",
              "        text-align: right;\n",
              "    }\n",
              "</style>\n",
              "<table border=\"1\" class=\"dataframe\">\n",
              "  <thead>\n",
              "    <tr style=\"text-align: right;\">\n",
              "      <th></th>\n",
              "      <th>id</th>\n",
              "      <th>host_is_superhost</th>\n",
              "      <th>host_has_profile_pic</th>\n",
              "      <th>host_identity_verified</th>\n",
              "      <th>short_term</th>\n",
              "      <th>review_scores_rating_good</th>\n",
              "      <th>review_scores_value_good</th>\n",
              "      <th>review_scores_location_good</th>\n",
              "    </tr>\n",
              "  </thead>\n",
              "  <tbody>\n",
              "    <tr>\n",
              "      <th>0</th>\n",
              "      <td>6422.0</td>\n",
              "      <td>0</td>\n",
              "      <td>1</td>\n",
              "      <td>1</td>\n",
              "      <td>0</td>\n",
              "      <td>1</td>\n",
              "      <td>1</td>\n",
              "      <td>1</td>\n",
              "    </tr>\n",
              "    <tr>\n",
              "      <th>1</th>\n",
              "      <td>39870.0</td>\n",
              "      <td>1</td>\n",
              "      <td>1</td>\n",
              "      <td>1</td>\n",
              "      <td>1</td>\n",
              "      <td>1</td>\n",
              "      <td>1</td>\n",
              "      <td>1</td>\n",
              "    </tr>\n",
              "    <tr>\n",
              "      <th>2</th>\n",
              "      <td>59576.0</td>\n",
              "      <td>1</td>\n",
              "      <td>1</td>\n",
              "      <td>1</td>\n",
              "      <td>0</td>\n",
              "      <td>1</td>\n",
              "      <td>1</td>\n",
              "      <td>1</td>\n",
              "    </tr>\n",
              "    <tr>\n",
              "      <th>3</th>\n",
              "      <td>72906.0</td>\n",
              "      <td>1</td>\n",
              "      <td>1</td>\n",
              "      <td>1</td>\n",
              "      <td>1</td>\n",
              "      <td>1</td>\n",
              "      <td>1</td>\n",
              "      <td>1</td>\n",
              "    </tr>\n",
              "    <tr>\n",
              "      <th>4</th>\n",
              "      <td>258817.0</td>\n",
              "      <td>1</td>\n",
              "      <td>1</td>\n",
              "      <td>1</td>\n",
              "      <td>0</td>\n",
              "      <td>1</td>\n",
              "      <td>1</td>\n",
              "      <td>1</td>\n",
              "    </tr>\n",
              "  </tbody>\n",
              "</table>\n",
              "</div>"
            ],
            "text/plain": [
              "         id  host_is_superhost  host_has_profile_pic  host_identity_verified  \\\n",
              "0    6422.0                  0                     1                       1   \n",
              "1   39870.0                  1                     1                       1   \n",
              "2   59576.0                  1                     1                       1   \n",
              "3   72906.0                  1                     1                       1   \n",
              "4  258817.0                  1                     1                       1   \n",
              "\n",
              "   short_term  review_scores_rating_good  review_scores_value_good  \\\n",
              "0           0                          1                         1   \n",
              "1           1                          1                         1   \n",
              "2           0                          1                         1   \n",
              "3           1                          1                         1   \n",
              "4           0                          1                         1   \n",
              "\n",
              "   review_scores_location_good  \n",
              "0                            1  \n",
              "1                            1  \n",
              "2                            1  \n",
              "3                            1  \n",
              "4                            1  "
            ]
          },
          "execution_count": 17,
          "metadata": {},
          "output_type": "execute_result"
        }
      ],
      "source": [
        "# convert the review_ scores variables to binary variables using a cut off of 3, where values under three are  poor (indicated with a 0) and values 3 or greater are good (indicated with a 1), add into df_ar\n",
        "\n",
        "df_ar['review_scores_rating_good'] = (df['review_scores_rating'] >= 3).astype(int)\n",
        "df_ar['review_scores_value_good'] = (df['review_scores_value'] >= 3).astype(int)\n",
        "df_ar['review_scores_location_good'] = (df['review_scores_location'] >= 3).astype(int)\n",
        "\n",
        "df_ar.head()"
      ]
    },
    {
      "cell_type": "markdown",
      "metadata": {
        "id": "M4va2xSbDCp-"
      },
      "source": [
        "**18) Next, let's include some other quantitative variables related to the characteristics, including `availability_365`, `accomodates`, `beds`, `bathrooms`, `price_lg`, and `reviews_per_month`. You can also discretize these variables by indicating whether the values are above or below the median value (e.g., 1 if yes, 0 if no).**"
      ]
    },
    {
      "cell_type": "code",
      "execution_count": 18,
      "metadata": {
        "id": "CYSIox2DDAMt"
      },
      "outputs": [
        {
          "data": {
            "text/html": [
              "<div>\n",
              "<style scoped>\n",
              "    .dataframe tbody tr th:only-of-type {\n",
              "        vertical-align: middle;\n",
              "    }\n",
              "\n",
              "    .dataframe tbody tr th {\n",
              "        vertical-align: top;\n",
              "    }\n",
              "\n",
              "    .dataframe thead th {\n",
              "        text-align: right;\n",
              "    }\n",
              "</style>\n",
              "<table border=\"1\" class=\"dataframe\">\n",
              "  <thead>\n",
              "    <tr style=\"text-align: right;\">\n",
              "      <th></th>\n",
              "      <th>id</th>\n",
              "      <th>host_is_superhost</th>\n",
              "      <th>host_has_profile_pic</th>\n",
              "      <th>host_identity_verified</th>\n",
              "      <th>short_term</th>\n",
              "      <th>review_scores_rating_good</th>\n",
              "      <th>review_scores_value_good</th>\n",
              "      <th>review_scores_location_good</th>\n",
              "      <th>availability_365_abovemed</th>\n",
              "      <th>accommodates_abovemed</th>\n",
              "      <th>beds_abovemed</th>\n",
              "      <th>bathrooms_abovemed</th>\n",
              "      <th>price_lg_abovemed</th>\n",
              "      <th>reviews_per_month_abovemed</th>\n",
              "      <th>availability_365_belowmed</th>\n",
              "      <th>accommodates_belowmed</th>\n",
              "      <th>beds_belowmed</th>\n",
              "      <th>bathrooms_belowmed</th>\n",
              "      <th>price_lg_belowmed</th>\n",
              "      <th>reviews_per_month_belowmed</th>\n",
              "    </tr>\n",
              "  </thead>\n",
              "  <tbody>\n",
              "    <tr>\n",
              "      <th>0</th>\n",
              "      <td>6422.0</td>\n",
              "      <td>0</td>\n",
              "      <td>1</td>\n",
              "      <td>1</td>\n",
              "      <td>0</td>\n",
              "      <td>1</td>\n",
              "      <td>1</td>\n",
              "      <td>1</td>\n",
              "      <td>0</td>\n",
              "      <td>0</td>\n",
              "      <td>0</td>\n",
              "      <td>0</td>\n",
              "      <td>0</td>\n",
              "      <td>1</td>\n",
              "      <td>1</td>\n",
              "      <td>1</td>\n",
              "      <td>1</td>\n",
              "      <td>1</td>\n",
              "      <td>1</td>\n",
              "      <td>0</td>\n",
              "    </tr>\n",
              "    <tr>\n",
              "      <th>1</th>\n",
              "      <td>39870.0</td>\n",
              "      <td>1</td>\n",
              "      <td>1</td>\n",
              "      <td>1</td>\n",
              "      <td>1</td>\n",
              "      <td>1</td>\n",
              "      <td>1</td>\n",
              "      <td>1</td>\n",
              "      <td>0</td>\n",
              "      <td>0</td>\n",
              "      <td>0</td>\n",
              "      <td>0</td>\n",
              "      <td>0</td>\n",
              "      <td>1</td>\n",
              "      <td>1</td>\n",
              "      <td>1</td>\n",
              "      <td>1</td>\n",
              "      <td>1</td>\n",
              "      <td>1</td>\n",
              "      <td>0</td>\n",
              "    </tr>\n",
              "    <tr>\n",
              "      <th>2</th>\n",
              "      <td>59576.0</td>\n",
              "      <td>1</td>\n",
              "      <td>1</td>\n",
              "      <td>1</td>\n",
              "      <td>0</td>\n",
              "      <td>1</td>\n",
              "      <td>1</td>\n",
              "      <td>1</td>\n",
              "      <td>0</td>\n",
              "      <td>0</td>\n",
              "      <td>0</td>\n",
              "      <td>0</td>\n",
              "      <td>0</td>\n",
              "      <td>0</td>\n",
              "      <td>1</td>\n",
              "      <td>1</td>\n",
              "      <td>1</td>\n",
              "      <td>1</td>\n",
              "      <td>1</td>\n",
              "      <td>1</td>\n",
              "    </tr>\n",
              "    <tr>\n",
              "      <th>3</th>\n",
              "      <td>72906.0</td>\n",
              "      <td>1</td>\n",
              "      <td>1</td>\n",
              "      <td>1</td>\n",
              "      <td>1</td>\n",
              "      <td>1</td>\n",
              "      <td>1</td>\n",
              "      <td>1</td>\n",
              "      <td>0</td>\n",
              "      <td>0</td>\n",
              "      <td>1</td>\n",
              "      <td>0</td>\n",
              "      <td>0</td>\n",
              "      <td>1</td>\n",
              "      <td>1</td>\n",
              "      <td>1</td>\n",
              "      <td>0</td>\n",
              "      <td>1</td>\n",
              "      <td>1</td>\n",
              "      <td>0</td>\n",
              "    </tr>\n",
              "    <tr>\n",
              "      <th>4</th>\n",
              "      <td>258817.0</td>\n",
              "      <td>1</td>\n",
              "      <td>1</td>\n",
              "      <td>1</td>\n",
              "      <td>0</td>\n",
              "      <td>1</td>\n",
              "      <td>1</td>\n",
              "      <td>1</td>\n",
              "      <td>1</td>\n",
              "      <td>0</td>\n",
              "      <td>1</td>\n",
              "      <td>0</td>\n",
              "      <td>0</td>\n",
              "      <td>0</td>\n",
              "      <td>0</td>\n",
              "      <td>1</td>\n",
              "      <td>0</td>\n",
              "      <td>1</td>\n",
              "      <td>1</td>\n",
              "      <td>1</td>\n",
              "    </tr>\n",
              "  </tbody>\n",
              "</table>\n",
              "</div>"
            ],
            "text/plain": [
              "         id  host_is_superhost  host_has_profile_pic  host_identity_verified  \\\n",
              "0    6422.0                  0                     1                       1   \n",
              "1   39870.0                  1                     1                       1   \n",
              "2   59576.0                  1                     1                       1   \n",
              "3   72906.0                  1                     1                       1   \n",
              "4  258817.0                  1                     1                       1   \n",
              "\n",
              "   short_term  review_scores_rating_good  review_scores_value_good  \\\n",
              "0           0                          1                         1   \n",
              "1           1                          1                         1   \n",
              "2           0                          1                         1   \n",
              "3           1                          1                         1   \n",
              "4           0                          1                         1   \n",
              "\n",
              "   review_scores_location_good  availability_365_abovemed  \\\n",
              "0                            1                          0   \n",
              "1                            1                          0   \n",
              "2                            1                          0   \n",
              "3                            1                          0   \n",
              "4                            1                          1   \n",
              "\n",
              "   accommodates_abovemed  beds_abovemed  bathrooms_abovemed  \\\n",
              "0                      0              0                   0   \n",
              "1                      0              0                   0   \n",
              "2                      0              0                   0   \n",
              "3                      0              1                   0   \n",
              "4                      0              1                   0   \n",
              "\n",
              "   price_lg_abovemed  reviews_per_month_abovemed  availability_365_belowmed  \\\n",
              "0                  0                           1                          1   \n",
              "1                  0                           1                          1   \n",
              "2                  0                           0                          1   \n",
              "3                  0                           1                          1   \n",
              "4                  0                           0                          0   \n",
              "\n",
              "   accommodates_belowmed  beds_belowmed  bathrooms_belowmed  \\\n",
              "0                      1              1                   1   \n",
              "1                      1              1                   1   \n",
              "2                      1              1                   1   \n",
              "3                      1              0                   1   \n",
              "4                      1              0                   1   \n",
              "\n",
              "   price_lg_belowmed  reviews_per_month_belowmed  \n",
              "0                  1                           0  \n",
              "1                  1                           0  \n",
              "2                  1                           1  \n",
              "3                  1                           0  \n",
              "4                  1                           1  "
            ]
          },
          "execution_count": 18,
          "metadata": {},
          "output_type": "execute_result"
        }
      ],
      "source": [
        "# create columns to indicate observations with above or equal to median values (0,1)\n",
        "df_ar['availability_365_abovemed'] = np.where(df['availability_365'] >= np.median(df['availability_365']), 1, 0)\n",
        "df_ar['accommodates_abovemed'] = np.where(df['accommodates'] >= np.median(df['accommodates']), 1, 0)\n",
        "df_ar['beds_abovemed'] = np.where(df['beds'] >= np.median(df['beds']), 1, 0)\n",
        "df_ar['bathrooms_abovemed'] = np.where(df['bathrooms'] >= np.median(df['bathrooms']), 1, 0)\n",
        "df_ar['price_lg_abovemed'] = np.where(df['price_lg'] >= np.median(df['price_lg']), 1, 0)\n",
        "df_ar['reviews_per_month_abovemed'] = np.where(df['reviews_per_month'] >= np.median(df['reviews_per_month']), 1, 0)\n",
        "\n",
        "\n",
        "# create columns to indicate observations with below median values (0,1)\n",
        "df_ar['availability_365_belowmed'] = np.where(df['availability_365'] < np.median(df['availability_365']), 1, 0)\n",
        "df_ar['accommodates_belowmed'] = np.where(df['accommodates'] < np.median(df['accommodates']), 1, 0)\n",
        "df_ar['beds_belowmed'] = np.where(df['beds'] < np.median(df['beds']), 1, 0)\n",
        "df_ar['bathrooms_belowmed'] = np.where(df['bathrooms'] < np.median(df['bathrooms']), 1, 0)\n",
        "df_ar['price_lg_belowmed'] = np.where(df['price_lg'] < np.median(df['price_lg']), 1, 0)\n",
        "df_ar['reviews_per_month_belowmed'] = np.where(df['reviews_per_month'] < np.median(df['reviews_per_month']), 1, 0)\n",
        "\n",
        "df_ar.head()"
      ]
    },
    {
      "cell_type": "markdown",
      "metadata": {
        "id": "xIUQdE7ThaXO"
      },
      "source": [
        "### **Association Rules Analysis**\n",
        "**19) Let's start with generating frequent itemsets from our new dichotomous variables, provide the itemsets with at least TWO items that have the three highest support values. Indicate a) the itemset and b) the support value. Set your `min_support` value to `0.3.`**"
      ]
    },
    {
      "cell_type": "code",
      "execution_count": 19,
      "metadata": {
        "id": "AXi76EB8E0Cp"
      },
      "outputs": [
        {
          "data": {
            "text/html": [
              "<div>\n",
              "<style scoped>\n",
              "    .dataframe tbody tr th:only-of-type {\n",
              "        vertical-align: middle;\n",
              "    }\n",
              "\n",
              "    .dataframe tbody tr th {\n",
              "        vertical-align: top;\n",
              "    }\n",
              "\n",
              "    .dataframe thead th {\n",
              "        text-align: right;\n",
              "    }\n",
              "</style>\n",
              "<table border=\"1\" class=\"dataframe\">\n",
              "  <thead>\n",
              "    <tr style=\"text-align: right;\">\n",
              "      <th></th>\n",
              "      <th>host_is_superhost</th>\n",
              "      <th>host_has_profile_pic</th>\n",
              "      <th>host_identity_verified</th>\n",
              "      <th>short_term</th>\n",
              "      <th>review_scores_rating_good</th>\n",
              "      <th>review_scores_value_good</th>\n",
              "      <th>review_scores_location_good</th>\n",
              "      <th>availability_365_abovemed</th>\n",
              "      <th>accommodates_abovemed</th>\n",
              "      <th>beds_abovemed</th>\n",
              "      <th>bathrooms_abovemed</th>\n",
              "      <th>price_lg_abovemed</th>\n",
              "      <th>reviews_per_month_abovemed</th>\n",
              "      <th>availability_365_belowmed</th>\n",
              "      <th>accommodates_belowmed</th>\n",
              "      <th>beds_belowmed</th>\n",
              "      <th>bathrooms_belowmed</th>\n",
              "      <th>price_lg_belowmed</th>\n",
              "      <th>reviews_per_month_belowmed</th>\n",
              "    </tr>\n",
              "    <tr>\n",
              "      <th>id</th>\n",
              "      <th></th>\n",
              "      <th></th>\n",
              "      <th></th>\n",
              "      <th></th>\n",
              "      <th></th>\n",
              "      <th></th>\n",
              "      <th></th>\n",
              "      <th></th>\n",
              "      <th></th>\n",
              "      <th></th>\n",
              "      <th></th>\n",
              "      <th></th>\n",
              "      <th></th>\n",
              "      <th></th>\n",
              "      <th></th>\n",
              "      <th></th>\n",
              "      <th></th>\n",
              "      <th></th>\n",
              "      <th></th>\n",
              "    </tr>\n",
              "  </thead>\n",
              "  <tbody>\n",
              "    <tr>\n",
              "      <th>6422.0</th>\n",
              "      <td>0</td>\n",
              "      <td>1</td>\n",
              "      <td>1</td>\n",
              "      <td>0</td>\n",
              "      <td>1</td>\n",
              "      <td>1</td>\n",
              "      <td>1</td>\n",
              "      <td>0</td>\n",
              "      <td>0</td>\n",
              "      <td>0</td>\n",
              "      <td>0</td>\n",
              "      <td>0</td>\n",
              "      <td>1</td>\n",
              "      <td>1</td>\n",
              "      <td>1</td>\n",
              "      <td>1</td>\n",
              "      <td>1</td>\n",
              "      <td>1</td>\n",
              "      <td>0</td>\n",
              "    </tr>\n",
              "    <tr>\n",
              "      <th>39870.0</th>\n",
              "      <td>1</td>\n",
              "      <td>1</td>\n",
              "      <td>1</td>\n",
              "      <td>1</td>\n",
              "      <td>1</td>\n",
              "      <td>1</td>\n",
              "      <td>1</td>\n",
              "      <td>0</td>\n",
              "      <td>0</td>\n",
              "      <td>0</td>\n",
              "      <td>0</td>\n",
              "      <td>0</td>\n",
              "      <td>1</td>\n",
              "      <td>1</td>\n",
              "      <td>1</td>\n",
              "      <td>1</td>\n",
              "      <td>1</td>\n",
              "      <td>1</td>\n",
              "      <td>0</td>\n",
              "    </tr>\n",
              "    <tr>\n",
              "      <th>59576.0</th>\n",
              "      <td>1</td>\n",
              "      <td>1</td>\n",
              "      <td>1</td>\n",
              "      <td>0</td>\n",
              "      <td>1</td>\n",
              "      <td>1</td>\n",
              "      <td>1</td>\n",
              "      <td>0</td>\n",
              "      <td>0</td>\n",
              "      <td>0</td>\n",
              "      <td>0</td>\n",
              "      <td>0</td>\n",
              "      <td>0</td>\n",
              "      <td>1</td>\n",
              "      <td>1</td>\n",
              "      <td>1</td>\n",
              "      <td>1</td>\n",
              "      <td>1</td>\n",
              "      <td>1</td>\n",
              "    </tr>\n",
              "    <tr>\n",
              "      <th>72906.0</th>\n",
              "      <td>1</td>\n",
              "      <td>1</td>\n",
              "      <td>1</td>\n",
              "      <td>1</td>\n",
              "      <td>1</td>\n",
              "      <td>1</td>\n",
              "      <td>1</td>\n",
              "      <td>0</td>\n",
              "      <td>0</td>\n",
              "      <td>1</td>\n",
              "      <td>0</td>\n",
              "      <td>0</td>\n",
              "      <td>1</td>\n",
              "      <td>1</td>\n",
              "      <td>1</td>\n",
              "      <td>0</td>\n",
              "      <td>1</td>\n",
              "      <td>1</td>\n",
              "      <td>0</td>\n",
              "    </tr>\n",
              "    <tr>\n",
              "      <th>258817.0</th>\n",
              "      <td>1</td>\n",
              "      <td>1</td>\n",
              "      <td>1</td>\n",
              "      <td>0</td>\n",
              "      <td>1</td>\n",
              "      <td>1</td>\n",
              "      <td>1</td>\n",
              "      <td>1</td>\n",
              "      <td>0</td>\n",
              "      <td>1</td>\n",
              "      <td>0</td>\n",
              "      <td>0</td>\n",
              "      <td>0</td>\n",
              "      <td>0</td>\n",
              "      <td>1</td>\n",
              "      <td>0</td>\n",
              "      <td>1</td>\n",
              "      <td>1</td>\n",
              "      <td>1</td>\n",
              "    </tr>\n",
              "  </tbody>\n",
              "</table>\n",
              "</div>"
            ],
            "text/plain": [
              "          host_is_superhost  host_has_profile_pic  host_identity_verified  \\\n",
              "id                                                                          \n",
              "6422.0                    0                     1                       1   \n",
              "39870.0                   1                     1                       1   \n",
              "59576.0                   1                     1                       1   \n",
              "72906.0                   1                     1                       1   \n",
              "258817.0                  1                     1                       1   \n",
              "\n",
              "          short_term  review_scores_rating_good  review_scores_value_good  \\\n",
              "id                                                                          \n",
              "6422.0             0                          1                         1   \n",
              "39870.0            1                          1                         1   \n",
              "59576.0            0                          1                         1   \n",
              "72906.0            1                          1                         1   \n",
              "258817.0           0                          1                         1   \n",
              "\n",
              "          review_scores_location_good  availability_365_abovemed  \\\n",
              "id                                                                 \n",
              "6422.0                              1                          0   \n",
              "39870.0                             1                          0   \n",
              "59576.0                             1                          0   \n",
              "72906.0                             1                          0   \n",
              "258817.0                            1                          1   \n",
              "\n",
              "          accommodates_abovemed  beds_abovemed  bathrooms_abovemed  \\\n",
              "id                                                                   \n",
              "6422.0                        0              0                   0   \n",
              "39870.0                       0              0                   0   \n",
              "59576.0                       0              0                   0   \n",
              "72906.0                       0              1                   0   \n",
              "258817.0                      0              1                   0   \n",
              "\n",
              "          price_lg_abovemed  reviews_per_month_abovemed  \\\n",
              "id                                                        \n",
              "6422.0                    0                           1   \n",
              "39870.0                   0                           1   \n",
              "59576.0                   0                           0   \n",
              "72906.0                   0                           1   \n",
              "258817.0                  0                           0   \n",
              "\n",
              "          availability_365_belowmed  accommodates_belowmed  beds_belowmed  \\\n",
              "id                                                                          \n",
              "6422.0                            1                      1              1   \n",
              "39870.0                           1                      1              1   \n",
              "59576.0                           1                      1              1   \n",
              "72906.0                           1                      1              0   \n",
              "258817.0                          0                      1              0   \n",
              "\n",
              "          bathrooms_belowmed  price_lg_belowmed  reviews_per_month_belowmed  \n",
              "id                                                                           \n",
              "6422.0                     1                  1                           0  \n",
              "39870.0                    1                  1                           0  \n",
              "59576.0                    1                  1                           1  \n",
              "72906.0                    1                  1                           0  \n",
              "258817.0                   1                  1                           1  "
            ]
          },
          "execution_count": 19,
          "metadata": {},
          "output_type": "execute_result"
        }
      ],
      "source": [
        " # set id as the index\n",
        "df_ar.set_index('id', inplace=True)\n",
        "\n",
        "df_ar.head()"
      ]
    },
    {
      "cell_type": "code",
      "execution_count": 20,
      "metadata": {
        "id": "tygDCMADFAtE"
      },
      "outputs": [
        {
          "data": {
            "text/html": [
              "<div>\n",
              "<style scoped>\n",
              "    .dataframe tbody tr th:only-of-type {\n",
              "        vertical-align: middle;\n",
              "    }\n",
              "\n",
              "    .dataframe tbody tr th {\n",
              "        vertical-align: top;\n",
              "    }\n",
              "\n",
              "    .dataframe thead th {\n",
              "        text-align: right;\n",
              "    }\n",
              "</style>\n",
              "<table border=\"1\" class=\"dataframe\">\n",
              "  <thead>\n",
              "    <tr style=\"text-align: right;\">\n",
              "      <th></th>\n",
              "      <th>support</th>\n",
              "      <th>itemsets</th>\n",
              "    </tr>\n",
              "  </thead>\n",
              "  <tbody>\n",
              "    <tr>\n",
              "      <th>31</th>\n",
              "      <td>0.894982</td>\n",
              "      <td>(host_has_profile_pic, host_identity_verified)</td>\n",
              "    </tr>\n",
              "    <tr>\n",
              "      <th>78</th>\n",
              "      <td>0.891916</td>\n",
              "      <td>(review_scores_value_good, review_scores_ratin...</td>\n",
              "    </tr>\n",
              "    <tr>\n",
              "      <th>79</th>\n",
              "      <td>0.891916</td>\n",
              "      <td>(review_scores_rating_good, review_scores_loca...</td>\n",
              "    </tr>\n",
              "  </tbody>\n",
              "</table>\n",
              "</div>"
            ],
            "text/plain": [
              "     support                                           itemsets\n",
              "31  0.894982     (host_has_profile_pic, host_identity_verified)\n",
              "78  0.891916  (review_scores_value_good, review_scores_ratin...\n",
              "79  0.891916  (review_scores_rating_good, review_scores_loca..."
            ]
          },
          "execution_count": 20,
          "metadata": {},
          "output_type": "execute_result"
        }
      ],
      "source": [
        "# use apriori function to generate frequent itemsets with a min_suport of 0.3, assign values to freq_rs\n",
        "freq_rs = apriori(df_ar, min_support=0.3, use_colnames=True)\n",
        "\n",
        "freq_rs_2plus = freq_rs[freq_rs['itemsets'].apply(lambda x: len(x) >= 2)]\n",
        "\n",
        "top3_itemsets = freq_rs_2plus.sort_values(by='support', ascending=False).head(3)\n",
        "top3_itemsets"
      ]
    },
    {
      "cell_type": "markdown",
      "metadata": {
        "id": "WOE6S6TIiqmv"
      },
      "source": [
        "1. Itemset 1: {host_has_profile_pic, host_identity_verified}, support = 0.894982\n",
        "2. Itemset 2: {review_scores_value_good, review_scores_rating_good}, support = 0.891916\n",
        "3. Itemset 3: {review_scores_rating_good, review_scores_location_good}, support = 0.891916\n"
      ]
    },
    {
      "cell_type": "markdown",
      "metadata": {
        "id": "7yGyD9KjjMpH"
      },
      "source": [
        "**20) What does the support measure for an itemset? Provide an interpretation for one of your itemsets above that includes the support value.**"
      ]
    },
    {
      "cell_type": "markdown",
      "metadata": {
        "id": "XmuegZCNjYgV"
      },
      "source": []
    },
    {
      "cell_type": "markdown",
      "metadata": {
        "id": "zYJOlmCXjv0g"
      },
      "source": [
        "**21) Now, let's take this frequent itemsets and generate some association rules! Using your freq_rs, generate rules with a `min_threshold = 0.3`.**"
      ]
    },
    {
      "cell_type": "code",
      "execution_count": 21,
      "metadata": {
        "id": "h_QR9hkqFX0_"
      },
      "outputs": [
        {
          "data": {
            "text/html": [
              "<div>\n",
              "<style scoped>\n",
              "    .dataframe tbody tr th:only-of-type {\n",
              "        vertical-align: middle;\n",
              "    }\n",
              "\n",
              "    .dataframe tbody tr th {\n",
              "        vertical-align: top;\n",
              "    }\n",
              "\n",
              "    .dataframe thead th {\n",
              "        text-align: right;\n",
              "    }\n",
              "</style>\n",
              "<table border=\"1\" class=\"dataframe\">\n",
              "  <thead>\n",
              "    <tr style=\"text-align: right;\">\n",
              "      <th></th>\n",
              "      <th>antecedents</th>\n",
              "      <th>consequents</th>\n",
              "      <th>antecedent support</th>\n",
              "      <th>consequent support</th>\n",
              "      <th>support</th>\n",
              "      <th>confidence</th>\n",
              "      <th>lift</th>\n",
              "      <th>representativity</th>\n",
              "      <th>leverage</th>\n",
              "      <th>conviction</th>\n",
              "      <th>zhangs_metric</th>\n",
              "      <th>jaccard</th>\n",
              "      <th>certainty</th>\n",
              "      <th>kulczynski</th>\n",
              "    </tr>\n",
              "  </thead>\n",
              "  <tbody>\n",
              "    <tr>\n",
              "      <th>0</th>\n",
              "      <td>(host_is_superhost)</td>\n",
              "      <td>(host_has_profile_pic)</td>\n",
              "      <td>0.608538</td>\n",
              "      <td>0.990577</td>\n",
              "      <td>0.605813</td>\n",
              "      <td>0.995522</td>\n",
              "      <td>1.004993</td>\n",
              "      <td>1.0</td>\n",
              "      <td>0.003010</td>\n",
              "      <td>2.104526</td>\n",
              "      <td>0.012691</td>\n",
              "      <td>0.609898</td>\n",
              "      <td>0.524834</td>\n",
              "      <td>0.803549</td>\n",
              "    </tr>\n",
              "    <tr>\n",
              "      <th>1</th>\n",
              "      <td>(host_has_profile_pic)</td>\n",
              "      <td>(host_is_superhost)</td>\n",
              "      <td>0.990577</td>\n",
              "      <td>0.608538</td>\n",
              "      <td>0.605813</td>\n",
              "      <td>0.611576</td>\n",
              "      <td>1.004993</td>\n",
              "      <td>1.0</td>\n",
              "      <td>0.003010</td>\n",
              "      <td>1.007822</td>\n",
              "      <td>0.527194</td>\n",
              "      <td>0.609898</td>\n",
              "      <td>0.007761</td>\n",
              "      <td>0.803549</td>\n",
              "    </tr>\n",
              "    <tr>\n",
              "      <th>2</th>\n",
              "      <td>(host_is_superhost)</td>\n",
              "      <td>(host_identity_verified)</td>\n",
              "      <td>0.608538</td>\n",
              "      <td>0.901567</td>\n",
              "      <td>0.555972</td>\n",
              "      <td>0.913619</td>\n",
              "      <td>1.013369</td>\n",
              "      <td>1.0</td>\n",
              "      <td>0.007334</td>\n",
              "      <td>1.139530</td>\n",
              "      <td>0.033700</td>\n",
              "      <td>0.582699</td>\n",
              "      <td>0.122445</td>\n",
              "      <td>0.765146</td>\n",
              "    </tr>\n",
              "    <tr>\n",
              "      <th>3</th>\n",
              "      <td>(host_identity_verified)</td>\n",
              "      <td>(host_is_superhost)</td>\n",
              "      <td>0.901567</td>\n",
              "      <td>0.608538</td>\n",
              "      <td>0.555972</td>\n",
              "      <td>0.616673</td>\n",
              "      <td>1.013369</td>\n",
              "      <td>1.0</td>\n",
              "      <td>0.007334</td>\n",
              "      <td>1.021223</td>\n",
              "      <td>0.134022</td>\n",
              "      <td>0.582699</td>\n",
              "      <td>0.020782</td>\n",
              "      <td>0.765146</td>\n",
              "    </tr>\n",
              "    <tr>\n",
              "      <th>4</th>\n",
              "      <td>(host_is_superhost)</td>\n",
              "      <td>(short_term)</td>\n",
              "      <td>0.608538</td>\n",
              "      <td>0.869891</td>\n",
              "      <td>0.554042</td>\n",
              "      <td>0.910448</td>\n",
              "      <td>1.046623</td>\n",
              "      <td>1.0</td>\n",
              "      <td>0.024680</td>\n",
              "      <td>1.452884</td>\n",
              "      <td>0.113794</td>\n",
              "      <td>0.599361</td>\n",
              "      <td>0.311714</td>\n",
              "      <td>0.773679</td>\n",
              "    </tr>\n",
              "    <tr>\n",
              "      <th>...</th>\n",
              "      <td>...</td>\n",
              "      <td>...</td>\n",
              "      <td>...</td>\n",
              "      <td>...</td>\n",
              "      <td>...</td>\n",
              "      <td>...</td>\n",
              "      <td>...</td>\n",
              "      <td>...</td>\n",
              "      <td>...</td>\n",
              "      <td>...</td>\n",
              "      <td>...</td>\n",
              "      <td>...</td>\n",
              "      <td>...</td>\n",
              "      <td>...</td>\n",
              "    </tr>\n",
              "    <tr>\n",
              "      <th>51561</th>\n",
              "      <td>(host_has_profile_pic)</td>\n",
              "      <td>(bathrooms_abovemed, review_scores_value_good,...</td>\n",
              "      <td>0.990577</td>\n",
              "      <td>0.334355</td>\n",
              "      <td>0.333560</td>\n",
              "      <td>0.336734</td>\n",
              "      <td>1.007113</td>\n",
              "      <td>1.0</td>\n",
              "      <td>0.002356</td>\n",
              "      <td>1.003586</td>\n",
              "      <td>0.749543</td>\n",
              "      <td>0.336464</td>\n",
              "      <td>0.003573</td>\n",
              "      <td>0.667178</td>\n",
              "    </tr>\n",
              "    <tr>\n",
              "      <th>51562</th>\n",
              "      <td>(short_term)</td>\n",
              "      <td>(bathrooms_abovemed, review_scores_value_good,...</td>\n",
              "      <td>0.869891</td>\n",
              "      <td>0.346049</td>\n",
              "      <td>0.333560</td>\n",
              "      <td>0.383451</td>\n",
              "      <td>1.108082</td>\n",
              "      <td>1.0</td>\n",
              "      <td>0.032535</td>\n",
              "      <td>1.060663</td>\n",
              "      <td>0.749678</td>\n",
              "      <td>0.378024</td>\n",
              "      <td>0.057194</td>\n",
              "      <td>0.673681</td>\n",
              "    </tr>\n",
              "    <tr>\n",
              "      <th>51563</th>\n",
              "      <td>(accommodates_abovemed)</td>\n",
              "      <td>(bathrooms_abovemed, review_scores_value_good,...</td>\n",
              "      <td>0.577316</td>\n",
              "      <td>0.349114</td>\n",
              "      <td>0.333560</td>\n",
              "      <td>0.577778</td>\n",
              "      <td>1.654981</td>\n",
              "      <td>1.0</td>\n",
              "      <td>0.132011</td>\n",
              "      <td>1.541571</td>\n",
              "      <td>0.936311</td>\n",
              "      <td>0.562620</td>\n",
              "      <td>0.351311</td>\n",
              "      <td>0.766612</td>\n",
              "    </tr>\n",
              "    <tr>\n",
              "      <th>51564</th>\n",
              "      <td>(review_scores_rating_good)</td>\n",
              "      <td>(bathrooms_abovemed, review_scores_value_good,...</td>\n",
              "      <td>0.892938</td>\n",
              "      <td>0.333560</td>\n",
              "      <td>0.333560</td>\n",
              "      <td>0.373554</td>\n",
              "      <td>1.119898</td>\n",
              "      <td>1.0</td>\n",
              "      <td>0.035712</td>\n",
              "      <td>1.063842</td>\n",
              "      <td>1.000000</td>\n",
              "      <td>0.373554</td>\n",
              "      <td>0.060010</td>\n",
              "      <td>0.686777</td>\n",
              "    </tr>\n",
              "    <tr>\n",
              "      <th>51565</th>\n",
              "      <td>(host_identity_verified)</td>\n",
              "      <td>(bathrooms_abovemed, review_scores_value_good,...</td>\n",
              "      <td>0.901567</td>\n",
              "      <td>0.359332</td>\n",
              "      <td>0.333560</td>\n",
              "      <td>0.369979</td>\n",
              "      <td>1.029628</td>\n",
              "      <td>1.0</td>\n",
              "      <td>0.009598</td>\n",
              "      <td>1.016898</td>\n",
              "      <td>0.292331</td>\n",
              "      <td>0.359696</td>\n",
              "      <td>0.016617</td>\n",
              "      <td>0.649128</td>\n",
              "    </tr>\n",
              "  </tbody>\n",
              "</table>\n",
              "<p>51566 rows × 14 columns</p>\n",
              "</div>"
            ],
            "text/plain": [
              "                       antecedents  \\\n",
              "0              (host_is_superhost)   \n",
              "1           (host_has_profile_pic)   \n",
              "2              (host_is_superhost)   \n",
              "3         (host_identity_verified)   \n",
              "4              (host_is_superhost)   \n",
              "...                            ...   \n",
              "51561       (host_has_profile_pic)   \n",
              "51562                 (short_term)   \n",
              "51563      (accommodates_abovemed)   \n",
              "51564  (review_scores_rating_good)   \n",
              "51565     (host_identity_verified)   \n",
              "\n",
              "                                             consequents  antecedent support  \\\n",
              "0                                 (host_has_profile_pic)            0.608538   \n",
              "1                                    (host_is_superhost)            0.990577   \n",
              "2                               (host_identity_verified)            0.608538   \n",
              "3                                    (host_is_superhost)            0.901567   \n",
              "4                                           (short_term)            0.608538   \n",
              "...                                                  ...                 ...   \n",
              "51561  (bathrooms_abovemed, review_scores_value_good,...            0.990577   \n",
              "51562  (bathrooms_abovemed, review_scores_value_good,...            0.869891   \n",
              "51563  (bathrooms_abovemed, review_scores_value_good,...            0.577316   \n",
              "51564  (bathrooms_abovemed, review_scores_value_good,...            0.892938   \n",
              "51565  (bathrooms_abovemed, review_scores_value_good,...            0.901567   \n",
              "\n",
              "       consequent support   support  confidence      lift  representativity  \\\n",
              "0                0.990577  0.605813    0.995522  1.004993               1.0   \n",
              "1                0.608538  0.605813    0.611576  1.004993               1.0   \n",
              "2                0.901567  0.555972    0.913619  1.013369               1.0   \n",
              "3                0.608538  0.555972    0.616673  1.013369               1.0   \n",
              "4                0.869891  0.554042    0.910448  1.046623               1.0   \n",
              "...                   ...       ...         ...       ...               ...   \n",
              "51561            0.334355  0.333560    0.336734  1.007113               1.0   \n",
              "51562            0.346049  0.333560    0.383451  1.108082               1.0   \n",
              "51563            0.349114  0.333560    0.577778  1.654981               1.0   \n",
              "51564            0.333560  0.333560    0.373554  1.119898               1.0   \n",
              "51565            0.359332  0.333560    0.369979  1.029628               1.0   \n",
              "\n",
              "       leverage  conviction  zhangs_metric   jaccard  certainty  kulczynski  \n",
              "0      0.003010    2.104526       0.012691  0.609898   0.524834    0.803549  \n",
              "1      0.003010    1.007822       0.527194  0.609898   0.007761    0.803549  \n",
              "2      0.007334    1.139530       0.033700  0.582699   0.122445    0.765146  \n",
              "3      0.007334    1.021223       0.134022  0.582699   0.020782    0.765146  \n",
              "4      0.024680    1.452884       0.113794  0.599361   0.311714    0.773679  \n",
              "...         ...         ...            ...       ...        ...         ...  \n",
              "51561  0.002356    1.003586       0.749543  0.336464   0.003573    0.667178  \n",
              "51562  0.032535    1.060663       0.749678  0.378024   0.057194    0.673681  \n",
              "51563  0.132011    1.541571       0.936311  0.562620   0.351311    0.766612  \n",
              "51564  0.035712    1.063842       1.000000  0.373554   0.060010    0.686777  \n",
              "51565  0.009598    1.016898       0.292331  0.359696   0.016617    0.649128  \n",
              "\n",
              "[51566 rows x 14 columns]"
            ]
          },
          "execution_count": 21,
          "metadata": {},
          "output_type": "execute_result"
        }
      ],
      "source": [
        "# run association rules on frequent itemsets with a min_threshold of confidence of 0.3, assign values to ar_table\n",
        "ar_table = association_rules(freq_rs, metric='confidence', min_threshold=0.3)\n",
        "# display the table\n",
        "ar_table"
      ]
    },
    {
      "cell_type": "markdown",
      "metadata": {
        "id": "dRniuSg3nYUM"
      },
      "source": [
        "**22) Identify the association rule with the highest Lift where `review_scores_rating_good` is in the consequent AND the antecedent contains at least one variable that is NOT another `review` variable (e.g., should be a variable about the host or property characteristics). What does this rule mean?**"
      ]
    },
    {
      "cell_type": "code",
      "execution_count": 22,
      "metadata": {},
      "outputs": [
        {
          "data": {
            "text/html": [
              "<div>\n",
              "<style scoped>\n",
              "    .dataframe tbody tr th:only-of-type {\n",
              "        vertical-align: middle;\n",
              "    }\n",
              "\n",
              "    .dataframe tbody tr th {\n",
              "        vertical-align: top;\n",
              "    }\n",
              "\n",
              "    .dataframe thead th {\n",
              "        text-align: right;\n",
              "    }\n",
              "</style>\n",
              "<table border=\"1\" class=\"dataframe\">\n",
              "  <thead>\n",
              "    <tr style=\"text-align: right;\">\n",
              "      <th></th>\n",
              "      <th>antecedents</th>\n",
              "      <th>consequents</th>\n",
              "      <th>confidence</th>\n",
              "      <th>lift</th>\n",
              "    </tr>\n",
              "  </thead>\n",
              "  <tbody>\n",
              "    <tr>\n",
              "      <th>33278</th>\n",
              "      <td>(accommodates_belowmed, review_scores_value_go...</td>\n",
              "      <td>(bathrooms_belowmed, review_scores_rating_good...</td>\n",
              "      <td>0.906407</td>\n",
              "      <td>2.165347</td>\n",
              "    </tr>\n",
              "  </tbody>\n",
              "</table>\n",
              "</div>"
            ],
            "text/plain": [
              "                                             antecedents  \\\n",
              "33278  (accommodates_belowmed, review_scores_value_go...   \n",
              "\n",
              "                                             consequents  confidence      lift  \n",
              "33278  (bathrooms_belowmed, review_scores_rating_good...    0.906407  2.165347  "
            ]
          },
          "execution_count": 22,
          "metadata": {},
          "output_type": "execute_result"
        }
      ],
      "source": [
        "target_rules = ar_table[\n",
        "    ar_table['consequents'].apply(lambda x: 'review_scores_rating_good' in x) &\n",
        "    ar_table['antecedents'].apply(lambda x: not all('review_scores' in item for item in x))\n",
        "]\n",
        "\n",
        "# Get rule with highest lift\n",
        "top_rule = target_rules.sort_values(by='lift', ascending=False).head(1)\n",
        "top_rule[['antecedents', 'consequents', 'confidence', 'lift']]"
      ]
    },
    {
      "cell_type": "markdown",
      "metadata": {
        "id": "IadD-bIYnlbj"
      },
      "source": [
        "This rule suggests that smaller Airbnb properties with fewer accommodations and a good value score are highly likely to also have fewer bathrooms and still receive high overall ratings. The confidence of 0.91 means this pattern holds true 91% of the time, and the lift of 2.17 indicates it's over twice as likely to occur compared to chance. This implies that even modest listings can achieve great ratings if they are perceived as a good value, which could guide cost-effective investment decisions."
      ]
    },
    {
      "cell_type": "markdown",
      "metadata": {
        "id": "5f6S8mAvlDap"
      },
      "source": [
        "**23) Choose three association rules you think are particularly insightful or suprising, that you would like to report to Aggie Investments. Then a) provide the full rule {Antecedent itemset} → {Consequent itemset} with b) it's confidence and lift values.**"
      ]
    },
    {
      "cell_type": "markdown",
      "metadata": {
        "id": "w_chLT0HlacQ"
      },
      "source": [
        "\n",
        "\n",
        "1. {accommodates_belowmed, review_scores_value_good} → {bathrooms_belowmed, review_scores_rating_good}, confidence = 0.906, lift = 2.165\n",
        "2. {host_has_profile_pic, host_identity_verified} → {review_scores_rating_good}, confidence = 0.920, lift = 1.034\n",
        "3. {reviews_per_month_abovemed, review_scores_location_good} → {review_scores_rating_good}, confidence = 0.850, lift = 1.020"
      ]
    },
    {
      "cell_type": "markdown",
      "metadata": {
        "id": "B6B7kIZao0qf"
      },
      "source": [
        "**24) Choose one rule from above, a) interpret its lift and confidence values (what do they mean, practically) and b) explain why would this be an interesting rule to share with Aggie Investments? *(Hint: Lots of the rules with the highest confidence/lift values are common sense, are there any associations that are less obvious? It's fine if they don't have the highest lift or confidence values.)*.**"
      ]
    },
    {
      "cell_type": "markdown",
      "metadata": {
        "id": "pe0lm78YpAhQ"
      },
      "source": [
        "a) The lift value of 2.165 indicates that listings with fewer accommodations and good value scores are more than twice as likely to have both fewer bathrooms and a high overall rating compared to average listings. The confidence of 0.906 means this outcome occurs 90.6% of the time when the conditions are met.\n",
        "\n",
        "b) This is valuable to Aggie Investments because it highlights that smaller, lower-cost properties can still achieve high ratings if they offer strong value. It’s a strategic insight that could guide investments toward simpler listings with higher ROI potential."
      ]
    },
    {
      "cell_type": "markdown",
      "metadata": {
        "id": "GCX_qdnuee2w"
      },
      "source": [
        "## **Clustering Analysis**\n",
        "\n",
        "**We will perform our last analysis, KMeans clustering, in order to make final recommendations on segments (or clusters) of properties that Aggie Investments should invest in. This way, when Aggie Investments encounters potential properties in the future, they can decide whether it should be purchased or not, based on how the property fits in with its existing data on property segments.**\n",
        "\n",
        "**Let's begin by preprocessing the data for KMeans:**"
      ]
    },
    {
      "cell_type": "markdown",
      "metadata": {
        "id": "qns3ouPbwMGO"
      },
      "source": [
        "### **Data Preprocessing**"
      ]
    },
    {
      "cell_type": "markdown",
      "metadata": {
        "id": "GYbBnjJLmI3p"
      },
      "source": [
        "**25) Begin by creating a new version of your dataframe that only contains the features to be analyzed (drop `id`, `host_id`, and `Unnamed: 0`).**"
      ]
    },
    {
      "cell_type": "code",
      "execution_count": 23,
      "metadata": {
        "id": "vaNWqQAZGjC-"
      },
      "outputs": [
        {
          "data": {
            "text/html": [
              "<div>\n",
              "<style scoped>\n",
              "    .dataframe tbody tr th:only-of-type {\n",
              "        vertical-align: middle;\n",
              "    }\n",
              "\n",
              "    .dataframe tbody tr th {\n",
              "        vertical-align: top;\n",
              "    }\n",
              "\n",
              "    .dataframe thead th {\n",
              "        text-align: right;\n",
              "    }\n",
              "</style>\n",
              "<table border=\"1\" class=\"dataframe\">\n",
              "  <thead>\n",
              "    <tr style=\"text-align: right;\">\n",
              "      <th></th>\n",
              "      <th>host_is_superhost</th>\n",
              "      <th>calculated_host_listings_count</th>\n",
              "      <th>host_has_profile_pic</th>\n",
              "      <th>host_identity_verified</th>\n",
              "      <th>host_listings_count</th>\n",
              "      <th>neighbourhood_cleansed</th>\n",
              "      <th>availability_365</th>\n",
              "      <th>minimum_nights</th>\n",
              "      <th>room_type</th>\n",
              "      <th>accommodates</th>\n",
              "      <th>...</th>\n",
              "      <th>review_scores_communication</th>\n",
              "      <th>review_scores_location</th>\n",
              "      <th>review_scores_value</th>\n",
              "      <th>avg_air_quality</th>\n",
              "      <th>days_as_host</th>\n",
              "      <th>bathrooms</th>\n",
              "      <th>short_term</th>\n",
              "      <th>price_lg</th>\n",
              "      <th>bedrooms_cat</th>\n",
              "      <th>number_of_reviews_lg</th>\n",
              "    </tr>\n",
              "  </thead>\n",
              "  <tbody>\n",
              "    <tr>\n",
              "      <th>0</th>\n",
              "      <td>0</td>\n",
              "      <td>1</td>\n",
              "      <td>1</td>\n",
              "      <td>1</td>\n",
              "      <td>1</td>\n",
              "      <td>District 6</td>\n",
              "      <td>172</td>\n",
              "      <td>30</td>\n",
              "      <td>Private room</td>\n",
              "      <td>1</td>\n",
              "      <td>...</td>\n",
              "      <td>4.96</td>\n",
              "      <td>4.92</td>\n",
              "      <td>4.98</td>\n",
              "      <td>1.732078</td>\n",
              "      <td>5606</td>\n",
              "      <td>1.0</td>\n",
              "      <td>0</td>\n",
              "      <td>3.761200</td>\n",
              "      <td>1</td>\n",
              "      <td>6.508769</td>\n",
              "    </tr>\n",
              "    <tr>\n",
              "      <th>1</th>\n",
              "      <td>1</td>\n",
              "      <td>1</td>\n",
              "      <td>1</td>\n",
              "      <td>1</td>\n",
              "      <td>1</td>\n",
              "      <td>District 25</td>\n",
              "      <td>186</td>\n",
              "      <td>1</td>\n",
              "      <td>Private room</td>\n",
              "      <td>2</td>\n",
              "      <td>...</td>\n",
              "      <td>4.97</td>\n",
              "      <td>4.93</td>\n",
              "      <td>4.92</td>\n",
              "      <td>1.732078</td>\n",
              "      <td>5135</td>\n",
              "      <td>1.0</td>\n",
              "      <td>1</td>\n",
              "      <td>4.248495</td>\n",
              "      <td>1</td>\n",
              "      <td>6.171701</td>\n",
              "    </tr>\n",
              "    <tr>\n",
              "      <th>2</th>\n",
              "      <td>1</td>\n",
              "      <td>9</td>\n",
              "      <td>1</td>\n",
              "      <td>1</td>\n",
              "      <td>19</td>\n",
              "      <td>District 12</td>\n",
              "      <td>178</td>\n",
              "      <td>30</td>\n",
              "      <td>Private room</td>\n",
              "      <td>1</td>\n",
              "      <td>...</td>\n",
              "      <td>5.00</td>\n",
              "      <td>5.00</td>\n",
              "      <td>5.00</td>\n",
              "      <td>1.720434</td>\n",
              "      <td>4776</td>\n",
              "      <td>1.0</td>\n",
              "      <td>0</td>\n",
              "      <td>3.761200</td>\n",
              "      <td>1</td>\n",
              "      <td>1.098612</td>\n",
              "    </tr>\n",
              "    <tr>\n",
              "      <th>3</th>\n",
              "      <td>1</td>\n",
              "      <td>1</td>\n",
              "      <td>1</td>\n",
              "      <td>1</td>\n",
              "      <td>1</td>\n",
              "      <td>District 18</td>\n",
              "      <td>49</td>\n",
              "      <td>2</td>\n",
              "      <td>Entire home/apt</td>\n",
              "      <td>2</td>\n",
              "      <td>...</td>\n",
              "      <td>4.99</td>\n",
              "      <td>4.97</td>\n",
              "      <td>4.90</td>\n",
              "      <td>1.732078</td>\n",
              "      <td>5132</td>\n",
              "      <td>1.0</td>\n",
              "      <td>1</td>\n",
              "      <td>4.672829</td>\n",
              "      <td>2</td>\n",
              "      <td>6.595781</td>\n",
              "    </tr>\n",
              "    <tr>\n",
              "      <th>4</th>\n",
              "      <td>1</td>\n",
              "      <td>6</td>\n",
              "      <td>1</td>\n",
              "      <td>1</td>\n",
              "      <td>15</td>\n",
              "      <td>District 12</td>\n",
              "      <td>301</td>\n",
              "      <td>30</td>\n",
              "      <td>Private room</td>\n",
              "      <td>2</td>\n",
              "      <td>...</td>\n",
              "      <td>4.91</td>\n",
              "      <td>4.74</td>\n",
              "      <td>4.73</td>\n",
              "      <td>1.720434</td>\n",
              "      <td>5529</td>\n",
              "      <td>1.0</td>\n",
              "      <td>0</td>\n",
              "      <td>3.663562</td>\n",
              "      <td>2</td>\n",
              "      <td>4.584967</td>\n",
              "    </tr>\n",
              "  </tbody>\n",
              "</table>\n",
              "<p>5 rows × 26 columns</p>\n",
              "</div>"
            ],
            "text/plain": [
              "   host_is_superhost  calculated_host_listings_count  host_has_profile_pic  \\\n",
              "0                  0                               1                     1   \n",
              "1                  1                               1                     1   \n",
              "2                  1                               9                     1   \n",
              "3                  1                               1                     1   \n",
              "4                  1                               6                     1   \n",
              "\n",
              "   host_identity_verified  host_listings_count neighbourhood_cleansed  \\\n",
              "0                       1                    1             District 6   \n",
              "1                       1                    1            District 25   \n",
              "2                       1                   19            District 12   \n",
              "3                       1                    1            District 18   \n",
              "4                       1                   15            District 12   \n",
              "\n",
              "   availability_365  minimum_nights        room_type  accommodates  ...  \\\n",
              "0               172              30     Private room             1  ...   \n",
              "1               186               1     Private room             2  ...   \n",
              "2               178              30     Private room             1  ...   \n",
              "3                49               2  Entire home/apt             2  ...   \n",
              "4               301              30     Private room             2  ...   \n",
              "\n",
              "   review_scores_communication  review_scores_location  review_scores_value  \\\n",
              "0                         4.96                    4.92                 4.98   \n",
              "1                         4.97                    4.93                 4.92   \n",
              "2                         5.00                    5.00                 5.00   \n",
              "3                         4.99                    4.97                 4.90   \n",
              "4                         4.91                    4.74                 4.73   \n",
              "\n",
              "   avg_air_quality  days_as_host  bathrooms  short_term  price_lg  \\\n",
              "0         1.732078          5606        1.0           0  3.761200   \n",
              "1         1.732078          5135        1.0           1  4.248495   \n",
              "2         1.720434          4776        1.0           0  3.761200   \n",
              "3         1.732078          5132        1.0           1  4.672829   \n",
              "4         1.720434          5529        1.0           0  3.663562   \n",
              "\n",
              "   bedrooms_cat  number_of_reviews_lg  \n",
              "0             1              6.508769  \n",
              "1             1              6.171701  \n",
              "2             1              1.098612  \n",
              "3             2              6.595781  \n",
              "4             2              4.584967  \n",
              "\n",
              "[5 rows x 26 columns]"
            ]
          },
          "execution_count": 23,
          "metadata": {},
          "output_type": "execute_result"
        }
      ],
      "source": [
        "# copy dataframe and store as features\n",
        "features = df.copy()\n",
        "\n",
        "features.drop(columns=['id', 'host_id', 'Unnamed: 0'], inplace=True)\n",
        "\n",
        "features.head()"
      ]
    },
    {
      "cell_type": "markdown",
      "metadata": {
        "id": "M_Lk2hVMrG5U"
      },
      "source": [
        "**26) Now let's further reduce down our features by excluding redundant variables as well as nominal variables with many levels. Subset your dataset to only include: `host_is_superhost`, `availability_365`, `short_term`, `accommodates`, `bathrooms`, `price_lg`, `room_type`, `beds`, `review_scores_rating`, and `avg_air_quality`. Why is it important to remove redundant variables before performing a clustering analysis?**"
      ]
    },
    {
      "cell_type": "code",
      "execution_count": 24,
      "metadata": {
        "id": "PJXqUlCNHYPW"
      },
      "outputs": [
        {
          "data": {
            "text/html": [
              "<div>\n",
              "<style scoped>\n",
              "    .dataframe tbody tr th:only-of-type {\n",
              "        vertical-align: middle;\n",
              "    }\n",
              "\n",
              "    .dataframe tbody tr th {\n",
              "        vertical-align: top;\n",
              "    }\n",
              "\n",
              "    .dataframe thead th {\n",
              "        text-align: right;\n",
              "    }\n",
              "</style>\n",
              "<table border=\"1\" class=\"dataframe\">\n",
              "  <thead>\n",
              "    <tr style=\"text-align: right;\">\n",
              "      <th></th>\n",
              "      <th>host_is_superhost</th>\n",
              "      <th>availability_365</th>\n",
              "      <th>short_term</th>\n",
              "      <th>accommodates</th>\n",
              "      <th>bathrooms</th>\n",
              "      <th>price_lg</th>\n",
              "      <th>room_type</th>\n",
              "      <th>beds</th>\n",
              "      <th>review_scores_rating</th>\n",
              "      <th>avg_air_quality</th>\n",
              "    </tr>\n",
              "  </thead>\n",
              "  <tbody>\n",
              "    <tr>\n",
              "      <th>0</th>\n",
              "      <td>0</td>\n",
              "      <td>172</td>\n",
              "      <td>0</td>\n",
              "      <td>1</td>\n",
              "      <td>1.0</td>\n",
              "      <td>3.761200</td>\n",
              "      <td>Private room</td>\n",
              "      <td>1.0</td>\n",
              "      <td>4.95</td>\n",
              "      <td>1.732078</td>\n",
              "    </tr>\n",
              "    <tr>\n",
              "      <th>1</th>\n",
              "      <td>1</td>\n",
              "      <td>186</td>\n",
              "      <td>1</td>\n",
              "      <td>2</td>\n",
              "      <td>1.0</td>\n",
              "      <td>4.248495</td>\n",
              "      <td>Private room</td>\n",
              "      <td>1.0</td>\n",
              "      <td>4.94</td>\n",
              "      <td>1.732078</td>\n",
              "    </tr>\n",
              "    <tr>\n",
              "      <th>2</th>\n",
              "      <td>1</td>\n",
              "      <td>178</td>\n",
              "      <td>0</td>\n",
              "      <td>1</td>\n",
              "      <td>1.0</td>\n",
              "      <td>3.761200</td>\n",
              "      <td>Private room</td>\n",
              "      <td>1.0</td>\n",
              "      <td>4.50</td>\n",
              "      <td>1.720434</td>\n",
              "    </tr>\n",
              "    <tr>\n",
              "      <th>3</th>\n",
              "      <td>1</td>\n",
              "      <td>49</td>\n",
              "      <td>1</td>\n",
              "      <td>2</td>\n",
              "      <td>1.0</td>\n",
              "      <td>4.672829</td>\n",
              "      <td>Entire home/apt</td>\n",
              "      <td>2.0</td>\n",
              "      <td>4.92</td>\n",
              "      <td>1.732078</td>\n",
              "    </tr>\n",
              "    <tr>\n",
              "      <th>4</th>\n",
              "      <td>1</td>\n",
              "      <td>301</td>\n",
              "      <td>0</td>\n",
              "      <td>2</td>\n",
              "      <td>1.0</td>\n",
              "      <td>3.663562</td>\n",
              "      <td>Private room</td>\n",
              "      <td>2.0</td>\n",
              "      <td>4.78</td>\n",
              "      <td>1.720434</td>\n",
              "    </tr>\n",
              "  </tbody>\n",
              "</table>\n",
              "</div>"
            ],
            "text/plain": [
              "   host_is_superhost  availability_365  short_term  accommodates  bathrooms  \\\n",
              "0                  0               172           0             1        1.0   \n",
              "1                  1               186           1             2        1.0   \n",
              "2                  1               178           0             1        1.0   \n",
              "3                  1                49           1             2        1.0   \n",
              "4                  1               301           0             2        1.0   \n",
              "\n",
              "   price_lg        room_type  beds  review_scores_rating  avg_air_quality  \n",
              "0  3.761200     Private room   1.0                  4.95         1.732078  \n",
              "1  4.248495     Private room   1.0                  4.94         1.732078  \n",
              "2  3.761200     Private room   1.0                  4.50         1.720434  \n",
              "3  4.672829  Entire home/apt   2.0                  4.92         1.732078  \n",
              "4  3.663562     Private room   2.0                  4.78         1.720434  "
            ]
          },
          "execution_count": 24,
          "metadata": {},
          "output_type": "execute_result"
        }
      ],
      "source": [
        "# reduce down features to the above mentioned select variables\n",
        "features = features[[\n",
        "    'host_is_superhost', 'availability_365', 'short_term',\n",
        "    'accommodates', 'bathrooms', 'price_lg', 'room_type',\n",
        "    'beds', 'review_scores_rating', 'avg_air_quality'\n",
        "]]\n",
        "\n",
        "features.head()"
      ]
    },
    {
      "cell_type": "markdown",
      "metadata": {
        "id": "rwEpTDHesy1s"
      },
      "source": [
        "**Answer**:"
      ]
    },
    {
      "cell_type": "markdown",
      "metadata": {},
      "source": [
        "Redundant variables can distort distance calculations used in clustering, leading to misleading groupings. They may overweight certain features and bias the algorithm. Removing them ensures that each variable contributes uniquely to the formation of meaningful, interpretable clusters."
      ]
    },
    {
      "cell_type": "markdown",
      "metadata": {
        "id": "eV-o7exstGNs"
      },
      "source": [
        "**27) Peform the remaining data preprocessing steps including dummy coding the a) qualitative variables b) dropping remaining missing data from the reviews column, and c) scaling all variables. What is the purpose of scaling variables before performing a clustering analysis?**"
      ]
    },
    {
      "cell_type": "markdown",
      "metadata": {
        "id": "z1iMQYhctWJy"
      },
      "source": [
        "**Answer**:"
      ]
    },
    {
      "cell_type": "code",
      "execution_count": 25,
      "metadata": {
        "id": "K89NocZaufqf"
      },
      "outputs": [
        {
          "data": {
            "text/html": [
              "<div>\n",
              "<style scoped>\n",
              "    .dataframe tbody tr th:only-of-type {\n",
              "        vertical-align: middle;\n",
              "    }\n",
              "\n",
              "    .dataframe tbody tr th {\n",
              "        vertical-align: top;\n",
              "    }\n",
              "\n",
              "    .dataframe thead th {\n",
              "        text-align: right;\n",
              "    }\n",
              "</style>\n",
              "<table border=\"1\" class=\"dataframe\">\n",
              "  <thead>\n",
              "    <tr style=\"text-align: right;\">\n",
              "      <th></th>\n",
              "      <th>host_is_superhost</th>\n",
              "      <th>availability_365</th>\n",
              "      <th>short_term</th>\n",
              "      <th>accommodates</th>\n",
              "      <th>bathrooms</th>\n",
              "      <th>price_lg</th>\n",
              "      <th>beds</th>\n",
              "      <th>review_scores_rating</th>\n",
              "      <th>avg_air_quality</th>\n",
              "      <th>room_type_Entire home/apt</th>\n",
              "      <th>room_type_Hotel room</th>\n",
              "      <th>room_type_Private room</th>\n",
              "      <th>room_type_Shared room</th>\n",
              "    </tr>\n",
              "  </thead>\n",
              "  <tbody>\n",
              "    <tr>\n",
              "      <th>0</th>\n",
              "      <td>-1.341456</td>\n",
              "      <td>-0.556814</td>\n",
              "      <td>-2.887230</td>\n",
              "      <td>-1.551707</td>\n",
              "      <td>-0.817904</td>\n",
              "      <td>-2.673881</td>\n",
              "      <td>-0.607276</td>\n",
              "      <td>0.429160</td>\n",
              "      <td>0.287703</td>\n",
              "      <td>-3.309536</td>\n",
              "      <td>-0.069571</td>\n",
              "      <td>3.430069</td>\n",
              "      <td>-0.022523</td>\n",
              "    </tr>\n",
              "    <tr>\n",
              "      <th>1</th>\n",
              "      <td>0.745459</td>\n",
              "      <td>-0.430991</td>\n",
              "      <td>0.346353</td>\n",
              "      <td>-1.283361</td>\n",
              "      <td>-0.817904</td>\n",
              "      <td>-1.747214</td>\n",
              "      <td>-0.607276</td>\n",
              "      <td>0.396082</td>\n",
              "      <td>0.287703</td>\n",
              "      <td>-3.309536</td>\n",
              "      <td>-0.069571</td>\n",
              "      <td>3.430069</td>\n",
              "      <td>-0.022523</td>\n",
              "    </tr>\n",
              "    <tr>\n",
              "      <th>2</th>\n",
              "      <td>0.745459</td>\n",
              "      <td>-0.502890</td>\n",
              "      <td>-2.887230</td>\n",
              "      <td>-1.551707</td>\n",
              "      <td>-0.817904</td>\n",
              "      <td>-2.673881</td>\n",
              "      <td>-0.607276</td>\n",
              "      <td>-1.059355</td>\n",
              "      <td>-0.985042</td>\n",
              "      <td>-3.309536</td>\n",
              "      <td>-0.069571</td>\n",
              "      <td>3.430069</td>\n",
              "      <td>-0.022523</td>\n",
              "    </tr>\n",
              "    <tr>\n",
              "      <th>3</th>\n",
              "      <td>0.745459</td>\n",
              "      <td>-1.662264</td>\n",
              "      <td>0.346353</td>\n",
              "      <td>-1.283361</td>\n",
              "      <td>-0.817904</td>\n",
              "      <td>-0.940279</td>\n",
              "      <td>-0.283245</td>\n",
              "      <td>0.329926</td>\n",
              "      <td>0.287703</td>\n",
              "      <td>0.302157</td>\n",
              "      <td>-0.069571</td>\n",
              "      <td>-0.291539</td>\n",
              "      <td>-0.022523</td>\n",
              "    </tr>\n",
              "    <tr>\n",
              "      <th>4</th>\n",
              "      <td>0.745459</td>\n",
              "      <td>0.602560</td>\n",
              "      <td>-2.887230</td>\n",
              "      <td>-1.283361</td>\n",
              "      <td>-0.817904</td>\n",
              "      <td>-2.859555</td>\n",
              "      <td>-0.283245</td>\n",
              "      <td>-0.133168</td>\n",
              "      <td>-0.985042</td>\n",
              "      <td>-3.309536</td>\n",
              "      <td>-0.069571</td>\n",
              "      <td>3.430069</td>\n",
              "      <td>-0.022523</td>\n",
              "    </tr>\n",
              "  </tbody>\n",
              "</table>\n",
              "</div>"
            ],
            "text/plain": [
              "   host_is_superhost  availability_365  short_term  accommodates  bathrooms  \\\n",
              "0          -1.341456         -0.556814   -2.887230     -1.551707  -0.817904   \n",
              "1           0.745459         -0.430991    0.346353     -1.283361  -0.817904   \n",
              "2           0.745459         -0.502890   -2.887230     -1.551707  -0.817904   \n",
              "3           0.745459         -1.662264    0.346353     -1.283361  -0.817904   \n",
              "4           0.745459          0.602560   -2.887230     -1.283361  -0.817904   \n",
              "\n",
              "   price_lg      beds  review_scores_rating  avg_air_quality  \\\n",
              "0 -2.673881 -0.607276              0.429160         0.287703   \n",
              "1 -1.747214 -0.607276              0.396082         0.287703   \n",
              "2 -2.673881 -0.607276             -1.059355        -0.985042   \n",
              "3 -0.940279 -0.283245              0.329926         0.287703   \n",
              "4 -2.859555 -0.283245             -0.133168        -0.985042   \n",
              "\n",
              "   room_type_Entire home/apt  room_type_Hotel room  room_type_Private room  \\\n",
              "0                  -3.309536             -0.069571                3.430069   \n",
              "1                  -3.309536             -0.069571                3.430069   \n",
              "2                  -3.309536             -0.069571                3.430069   \n",
              "3                   0.302157             -0.069571               -0.291539   \n",
              "4                  -3.309536             -0.069571                3.430069   \n",
              "\n",
              "   room_type_Shared room  \n",
              "0              -0.022523  \n",
              "1              -0.022523  \n",
              "2              -0.022523  \n",
              "3              -0.022523  \n",
              "4              -0.022523  "
            ]
          },
          "execution_count": 25,
          "metadata": {},
          "output_type": "execute_result"
        }
      ],
      "source": [
        "features = pd.get_dummies(features) # dummy code any qualitative variables\n",
        "# drop remaining missing values from the review_scores_rating column\n",
        "features = features.dropna(subset=['review_scores_rating'])\n",
        "\n",
        "# c) Scale all variables\n",
        "scaler = StandardScaler()\n",
        "scaled_features = scaler.fit_transform(features)\n",
        "\n",
        "# Optional: Convert back to DataFrame for readability\n",
        "scaled_features = pd.DataFrame(scaled_features, columns=features.columns)\n",
        "scaled_features.head()"
      ]
    },
    {
      "cell_type": "markdown",
      "metadata": {},
      "source": [
        "Scaling ensures that all variables contribute equally to the distance calculations used by KMeans. Without scaling, features with larger ranges (like price or availability) would dominate the clustering results and bias the output. Standardization (mean = 0, std = 1) makes the clustering process fair and effective."
      ]
    },
    {
      "cell_type": "markdown",
      "metadata": {
        "id": "csWaUEQfv6V0"
      },
      "source": [
        "### **KMeans Clustering**"
      ]
    },
    {
      "cell_type": "markdown",
      "metadata": {
        "id": "Y_T9jD9QuTci"
      },
      "source": [
        "**28) Using the elbow rule and the knee locator function, determine the optimal number of clusters, then run a KMeans using the final number of clusters. Use the following parameters in your `kmeans_kwargs` `init: 'random'`, `n_init: 10`, `max_iter: 300`, `random_state: 42`, set your k range as (1,11).**"
      ]
    },
    {
      "cell_type": "code",
      "execution_count": null,
      "metadata": {
        "id": "He7xFJmZIQYR"
      },
      "outputs": [
        {
          "data": {
            "image/png": "[encoded data removed]",
            "text/plain": [
              "<Figure size 800x400 with 1 Axes>"
            ]
          },
          "metadata": {},
          "output_type": "display_data"
        },
        {
          "name": "stdout",
          "output_type": "stream",
          "text": [
            "Optimal number of clusters: 6\n"
          ]
        }
      ],
      "source": [
        "# set up kmeans_kwargs dictionary\n",
        "kmeans_kwargs = {\n",
        "    \"init\": \"random\",\n",
        "    \"n_init\": 10,\n",
        "    \"max_iter\": 300,\n",
        "    \"random_state\": 42\n",
        "}\n",
        "\n",
        "sse = []\n",
        "\n",
        "for k in range(1, 12):\n",
        "    kmeans = KMeans(n_clusters=k, **kmeans_kwargs)\n",
        "    kmeans.fit(scaled_features)\n",
        "    sse.append(kmeans.inertia_)\n",
        "\n",
        "plt.figure(figsize=(8, 4))\n",
        "plt.plot(range(1, 12), sse, marker='o')\n",
        "plt.xlabel(\"Number of Clusters (k)\")\n",
        "plt.ylabel(\"SSE (Inertia)\")\n",
        "plt.title(\"Elbow Method for Optimal k\")\n",
        "plt.grid(True)\n",
        "plt.show()\n",
        "\n",
        "knee = KneeLocator(range(1, 12), sse, curve=\"convex\", direction=\"decreasing\")\n",
        "print(f\"Optimal number of clusters: {knee.elbow}\")"
      ]
    },
    {
      "cell_type": "code",
      "execution_count": null,
      "metadata": {
        "id": "XGNkQbHRIauw"
      },
      "outputs": [
        {
          "data": {
            "text/html": [
              "<div>\n",
              "<style scoped>\n",
              "    .dataframe tbody tr th:only-of-type {\n",
              "        vertical-align: middle;\n",
              "    }\n",
              "\n",
              "    .dataframe tbody tr th {\n",
              "        vertical-align: top;\n",
              "    }\n",
              "\n",
              "    .dataframe thead th {\n",
              "        text-align: right;\n",
              "    }\n",
              "</style>\n",
              "<table border=\"1\" class=\"dataframe\">\n",
              "  <thead>\n",
              "    <tr style=\"text-align: right;\">\n",
              "      <th></th>\n",
              "      <th>host_is_superhost</th>\n",
              "      <th>availability_365</th>\n",
              "      <th>short_term</th>\n",
              "      <th>accommodates</th>\n",
              "      <th>bathrooms</th>\n",
              "      <th>price_lg</th>\n",
              "      <th>beds</th>\n",
              "      <th>review_scores_rating</th>\n",
              "      <th>avg_air_quality</th>\n",
              "      <th>room_type_Entire home/apt</th>\n",
              "      <th>room_type_Hotel room</th>\n",
              "      <th>room_type_Private room</th>\n",
              "      <th>room_type_Shared room</th>\n",
              "      <th>cluster</th>\n",
              "    </tr>\n",
              "  </thead>\n",
              "  <tbody>\n",
              "    <tr>\n",
              "      <th>0</th>\n",
              "      <td>0</td>\n",
              "      <td>172</td>\n",
              "      <td>0</td>\n",
              "      <td>1</td>\n",
              "      <td>1.0</td>\n",
              "      <td>3.761200</td>\n",
              "      <td>1.0</td>\n",
              "      <td>4.95</td>\n",
              "      <td>1.732078</td>\n",
              "      <td>False</td>\n",
              "      <td>False</td>\n",
              "      <td>True</td>\n",
              "      <td>False</td>\n",
              "      <td>1</td>\n",
              "    </tr>\n",
              "    <tr>\n",
              "      <th>1</th>\n",
              "      <td>1</td>\n",
              "      <td>186</td>\n",
              "      <td>1</td>\n",
              "      <td>2</td>\n",
              "      <td>1.0</td>\n",
              "      <td>4.248495</td>\n",
              "      <td>1.0</td>\n",
              "      <td>4.94</td>\n",
              "      <td>1.732078</td>\n",
              "      <td>False</td>\n",
              "      <td>False</td>\n",
              "      <td>True</td>\n",
              "      <td>False</td>\n",
              "      <td>1</td>\n",
              "    </tr>\n",
              "    <tr>\n",
              "      <th>2</th>\n",
              "      <td>1</td>\n",
              "      <td>178</td>\n",
              "      <td>0</td>\n",
              "      <td>1</td>\n",
              "      <td>1.0</td>\n",
              "      <td>3.761200</td>\n",
              "      <td>1.0</td>\n",
              "      <td>4.50</td>\n",
              "      <td>1.720434</td>\n",
              "      <td>False</td>\n",
              "      <td>False</td>\n",
              "      <td>True</td>\n",
              "      <td>False</td>\n",
              "      <td>1</td>\n",
              "    </tr>\n",
              "    <tr>\n",
              "      <th>3</th>\n",
              "      <td>1</td>\n",
              "      <td>49</td>\n",
              "      <td>1</td>\n",
              "      <td>2</td>\n",
              "      <td>1.0</td>\n",
              "      <td>4.672829</td>\n",
              "      <td>2.0</td>\n",
              "      <td>4.92</td>\n",
              "      <td>1.732078</td>\n",
              "      <td>True</td>\n",
              "      <td>False</td>\n",
              "      <td>False</td>\n",
              "      <td>False</td>\n",
              "      <td>4</td>\n",
              "    </tr>\n",
              "    <tr>\n",
              "      <th>4</th>\n",
              "      <td>1</td>\n",
              "      <td>301</td>\n",
              "      <td>0</td>\n",
              "      <td>2</td>\n",
              "      <td>1.0</td>\n",
              "      <td>3.663562</td>\n",
              "      <td>2.0</td>\n",
              "      <td>4.78</td>\n",
              "      <td>1.720434</td>\n",
              "      <td>False</td>\n",
              "      <td>False</td>\n",
              "      <td>True</td>\n",
              "      <td>False</td>\n",
              "      <td>1</td>\n",
              "    </tr>\n",
              "  </tbody>\n",
              "</table>\n",
              "</div>"
            ],
            "text/plain": [
              "   host_is_superhost  availability_365  short_term  accommodates  bathrooms  \\\n",
              "0                  0               172           0             1        1.0   \n",
              "1                  1               186           1             2        1.0   \n",
              "2                  1               178           0             1        1.0   \n",
              "3                  1                49           1             2        1.0   \n",
              "4                  1               301           0             2        1.0   \n",
              "\n",
              "   price_lg  beds  review_scores_rating  avg_air_quality  \\\n",
              "0  3.761200   1.0                  4.95         1.732078   \n",
              "1  4.248495   1.0                  4.94         1.732078   \n",
              "2  3.761200   1.0                  4.50         1.720434   \n",
              "3  4.672829   2.0                  4.92         1.732078   \n",
              "4  3.663562   2.0                  4.78         1.720434   \n",
              "\n",
              "   room_type_Entire home/apt  room_type_Hotel room  room_type_Private room  \\\n",
              "0                      False                 False                    True   \n",
              "1                      False                 False                    True   \n",
              "2                      False                 False                    True   \n",
              "3                       True                 False                   False   \n",
              "4                      False                 False                    True   \n",
              "\n",
              "   room_type_Shared room  cluster  \n",
              "0                  False        1  \n",
              "1                  False        1  \n",
              "2                  False        1  \n",
              "3                  False        4  \n",
              "4                  False        1  "
            ]
          },
          "execution_count": 27,
          "metadata": {},
          "output_type": "execute_result"
        }
      ],
      "source": [
        "# run KMeans using the optimal number of clusters\n",
        "#fit KMeans to data\n",
        "final_kmeans = KMeans(n_clusters=6, **kmeans_kwargs)\n",
        "final_kmeans.fit(scaled_features)\n",
        "# Fit final KMeans with optimal clusters\n",
        "final_kmeans = KMeans(n_clusters=6, **kmeans_kwargs)\n",
        "final_kmeans.fit(scaled_features)\n",
        "\n",
        "# Add cluster labels to your original features dataframe\n",
        "features['cluster'] = final_kmeans.labels_\n",
        "\n",
        "# Preview\n",
        "features.head()\n",
        "features['cluster'] = final_kmeans.labels_\n",
        "\n",
        "# Preview\n",
        "features.head()"
      ]
    },
    {
      "cell_type": "markdown",
      "metadata": {
        "id": "PzpbOtToUfIV"
      },
      "source": [
        "**29) How many clusters were deemed optimal? Explain how the elbow rule is used to determine the optimal number of clusters?**"
      ]
    },
    {
      "cell_type": "markdown",
      "metadata": {
        "id": "9EV8_CQwUwNh"
      },
      "source": [
        "6 were deemed optimal - The “elbow” point, where SSE reduction sharply levels off—indicates diminishing returns and is chosen as the optimal number."
      ]
    },
    {
      "cell_type": "markdown",
      "metadata": {
        "id": "lFBDbNtGVKvY"
      },
      "source": [
        "**30) Next, create a centroid table and use the centroid values to produce labels for each of your clusters of properties. For each label, provide a brief explanation for the title you've created.**"
      ]
    },
    {
      "cell_type": "code",
      "execution_count": 28,
      "metadata": {
        "id": "-dMAJHphIlQ-"
      },
      "outputs": [
        {
          "data": {
            "text/html": [
              "<div>\n",
              "<style scoped>\n",
              "    .dataframe tbody tr th:only-of-type {\n",
              "        vertical-align: middle;\n",
              "    }\n",
              "\n",
              "    .dataframe tbody tr th {\n",
              "        vertical-align: top;\n",
              "    }\n",
              "\n",
              "    .dataframe thead th {\n",
              "        text-align: right;\n",
              "    }\n",
              "</style>\n",
              "<table border=\"1\" class=\"dataframe\">\n",
              "  <thead>\n",
              "    <tr style=\"text-align: right;\">\n",
              "      <th></th>\n",
              "      <th>host_is_superhost</th>\n",
              "      <th>availability_365</th>\n",
              "      <th>short_term</th>\n",
              "      <th>accommodates</th>\n",
              "      <th>bathrooms</th>\n",
              "      <th>price_lg</th>\n",
              "      <th>beds</th>\n",
              "      <th>review_scores_rating</th>\n",
              "      <th>avg_air_quality</th>\n",
              "      <th>room_type_Entire home/apt</th>\n",
              "      <th>room_type_Hotel room</th>\n",
              "      <th>room_type_Private room</th>\n",
              "      <th>room_type_Shared room</th>\n",
              "    </tr>\n",
              "  </thead>\n",
              "  <tbody>\n",
              "    <tr>\n",
              "      <th>0</th>\n",
              "      <td>-1.330095</td>\n",
              "      <td>0.028022</td>\n",
              "      <td>0.341072</td>\n",
              "      <td>-0.193469</td>\n",
              "      <td>-0.258612</td>\n",
              "      <td>-0.167738</td>\n",
              "      <td>-0.274425</td>\n",
              "      <td>-0.444340</td>\n",
              "      <td>0.040754</td>\n",
              "      <td>0.302157</td>\n",
              "      <td>-0.069571</td>\n",
              "      <td>-0.291539</td>\n",
              "      <td>-0.022523</td>\n",
              "    </tr>\n",
              "    <tr>\n",
              "      <th>1</th>\n",
              "      <td>-0.230895</td>\n",
              "      <td>-0.285632</td>\n",
              "      <td>-0.542622</td>\n",
              "      <td>-1.140991</td>\n",
              "      <td>-0.666317</td>\n",
              "      <td>-1.094679</td>\n",
              "      <td>-0.638533</td>\n",
              "      <td>-0.350462</td>\n",
              "      <td>-0.335289</td>\n",
              "      <td>-3.309536</td>\n",
              "      <td>-0.069571</td>\n",
              "      <td>3.406136</td>\n",
              "      <td>0.263144</td>\n",
              "    </tr>\n",
              "    <tr>\n",
              "      <th>2</th>\n",
              "      <td>0.410297</td>\n",
              "      <td>0.473584</td>\n",
              "      <td>0.329094</td>\n",
              "      <td>1.244640</td>\n",
              "      <td>1.145870</td>\n",
              "      <td>0.856818</td>\n",
              "      <td>0.928138</td>\n",
              "      <td>0.211897</td>\n",
              "      <td>0.195103</td>\n",
              "      <td>0.302157</td>\n",
              "      <td>-0.069571</td>\n",
              "      <td>-0.291539</td>\n",
              "      <td>-0.022523</td>\n",
              "    </tr>\n",
              "    <tr>\n",
              "      <th>3</th>\n",
              "      <td>-0.352917</td>\n",
              "      <td>0.861539</td>\n",
              "      <td>0.346353</td>\n",
              "      <td>-0.739607</td>\n",
              "      <td>-0.674361</td>\n",
              "      <td>0.269605</td>\n",
              "      <td>-0.666966</td>\n",
              "      <td>-1.215170</td>\n",
              "      <td>-0.181203</td>\n",
              "      <td>-3.309536</td>\n",
              "      <td>14.373770</td>\n",
              "      <td>-0.291539</td>\n",
              "      <td>-0.022523</td>\n",
              "    </tr>\n",
              "    <tr>\n",
              "      <th>4</th>\n",
              "      <td>0.745459</td>\n",
              "      <td>-0.284612</td>\n",
              "      <td>0.346353</td>\n",
              "      <td>-0.425175</td>\n",
              "      <td>-0.471173</td>\n",
              "      <td>-0.141226</td>\n",
              "      <td>-0.291373</td>\n",
              "      <td>0.223484</td>\n",
              "      <td>0.018221</td>\n",
              "      <td>0.302157</td>\n",
              "      <td>-0.069571</td>\n",
              "      <td>-0.291539</td>\n",
              "      <td>-0.022523</td>\n",
              "    </tr>\n",
              "    <tr>\n",
              "      <th>5</th>\n",
              "      <td>-0.358076</td>\n",
              "      <td>-0.185471</td>\n",
              "      <td>-2.887230</td>\n",
              "      <td>-0.509629</td>\n",
              "      <td>-0.284837</td>\n",
              "      <td>-0.621074</td>\n",
              "      <td>-0.315157</td>\n",
              "      <td>0.070864</td>\n",
              "      <td>-0.470008</td>\n",
              "      <td>0.302157</td>\n",
              "      <td>-0.069571</td>\n",
              "      <td>-0.291539</td>\n",
              "      <td>-0.022523</td>\n",
              "    </tr>\n",
              "  </tbody>\n",
              "</table>\n",
              "</div>"
            ],
            "text/plain": [
              "   host_is_superhost  availability_365  short_term  accommodates  bathrooms  \\\n",
              "0          -1.330095          0.028022    0.341072     -0.193469  -0.258612   \n",
              "1          -0.230895         -0.285632   -0.542622     -1.140991  -0.666317   \n",
              "2           0.410297          0.473584    0.329094      1.244640   1.145870   \n",
              "3          -0.352917          0.861539    0.346353     -0.739607  -0.674361   \n",
              "4           0.745459         -0.284612    0.346353     -0.425175  -0.471173   \n",
              "5          -0.358076         -0.185471   -2.887230     -0.509629  -0.284837   \n",
              "\n",
              "   price_lg      beds  review_scores_rating  avg_air_quality  \\\n",
              "0 -0.167738 -0.274425             -0.444340         0.040754   \n",
              "1 -1.094679 -0.638533             -0.350462        -0.335289   \n",
              "2  0.856818  0.928138              0.211897         0.195103   \n",
              "3  0.269605 -0.666966             -1.215170        -0.181203   \n",
              "4 -0.141226 -0.291373              0.223484         0.018221   \n",
              "5 -0.621074 -0.315157              0.070864        -0.470008   \n",
              "\n",
              "   room_type_Entire home/apt  room_type_Hotel room  room_type_Private room  \\\n",
              "0                   0.302157             -0.069571               -0.291539   \n",
              "1                  -3.309536             -0.069571                3.406136   \n",
              "2                   0.302157             -0.069571               -0.291539   \n",
              "3                  -3.309536             14.373770               -0.291539   \n",
              "4                   0.302157             -0.069571               -0.291539   \n",
              "5                   0.302157             -0.069571               -0.291539   \n",
              "\n",
              "   room_type_Shared room  \n",
              "0              -0.022523  \n",
              "1               0.263144  \n",
              "2              -0.022523  \n",
              "3              -0.022523  \n",
              "4              -0.022523  \n",
              "5              -0.022523  "
            ]
          },
          "execution_count": 28,
          "metadata": {},
          "output_type": "execute_result"
        }
      ],
      "source": [
        "# save cluster centroids to an object called 'centroids'\n",
        "centroids = pd.DataFrame(final_kmeans.cluster_centers_, columns=scaled_features.columns)\n",
        "\n",
        "centroids"
      ]
    },
    {
      "cell_type": "markdown",
      "metadata": {
        "id": "wNwzrgYGViZC"
      },
      "source": [
        "\n",
        "\n",
        "*   **Cluster_0 label:** Non-superhost, low-price, low-review, average availability - Hosts in this cluster are least likely to be superhosts, with slightly below-average price and review scores.\n",
        "*  **Cluster_1 label:** Small, low-cost rentals with low review scores - These properties have low values across accommodates, bathrooms, beds, price, and review scores.\n",
        "*   **Cluster_2 label:** Premium large properties with great reviews - High accommodates, bathrooms, beds, and review scores. Also higher price and availability. Ideal for investment.\n",
        "*   **Cluster_3 label:** Shared rooms with low ratings - Extremely low review_scores_rating, high value in room_type_Shared room, and low superhost presence.\n",
        "*   **Cluster_4 label:** Superhost-managed units with solid ratings and moderate pricing - Strong positive superhost value, good review scores, and middle-range price—likely well-run entire units.\n",
        "*   **Cluster_5 label:** Long-term low-availability rentals with poor air quality - Highly negative in short_term and availability_365, with below-average air quality and low price.\n"
      ]
    },
    {
      "cell_type": "markdown",
      "metadata": {
        "id": "usah8v3VlXtm"
      },
      "source": [
        "**31) If you were to encourage Aggie Investments to invest in a particular segment (cluster) of properties, which cluster would you choose and why?**"
      ]
    },
    {
      "cell_type": "markdown",
      "metadata": {
        "id": "6N_7GAKnlg4E"
      },
      "source": [
        "cluster 2 - it represents a well-performing, high-capacity, high-rated properties that are likely to deliver both strong guest satisfaction and return on investment."
      ]
    },
    {
      "cell_type": "markdown",
      "metadata": {
        "id": "YvyoWTb9mHkR"
      },
      "source": [
        "**32) Finally, create a visualization to back-up your property cluster recommendation. Include a description of the visualization to indicate how it supports your claim.**"
      ]
    },
    {
      "cell_type": "code",
      "execution_count": null,
      "metadata": {
        "id": "TDpe5VvZJYdw"
      },
      "outputs": [
        {
          "data": {
            "image/png": "[encoded data removed]",
            "text/plain": [
              "<Figure size 800x600 with 1 Axes>"
            ]
          },
          "metadata": {},
          "output_type": "display_data"
        }
      ],
      "source": [
        "# produce visualization to highlight why your cluster is the best!\n",
        "radar_vars = ['accommodates', 'bathrooms', 'price_lg', 'beds', 'review_scores_rating']\n",
        "cluster_centroids = centroids[radar_vars]\n",
        "\n",
        "num_vars = len(radar_vars)\n",
        "\n",
        "angles = np.linspace(0, 2 * np.pi, num_vars, endpoint=False).tolist()\n",
        "angles += angles[:1] \n",
        "\n",
        "fig, ax = plt.subplots(figsize=(8, 6), subplot_kw=dict(polar=True))\n",
        "\n",
        "for i, row in cluster_centroids.iterrows():\n",
        "    values = row.tolist()\n",
        "    values += values[:1]  \n",
        "    if i == 2: \n",
        "        ax.plot(angles, values, linewidth=2.5, linestyle='solid', label=f'Cluster {i}', color='blue')\n",
        "        ax.fill(angles, values, color='blue', alpha=0.3)\n",
        "    else:\n",
        "        ax.plot(angles, values, linewidth=1, linestyle='dashed', label=f'Cluster {i}', alpha=0.5)\n",
        "        \n",
        "ax.set_xticks(angles[:-1])\n",
        "ax.set_xticklabels(radar_vars)\n",
        "ax.set_title(\"Cluster Profiles (Radar Chart)\", fontsize=14)\n",
        "ax.legend(loc='upper right', bbox_to_anchor=(1.1, 1.1))\n",
        "plt.tight_layout()\n",
        "plt.show()\n"
      ]
    },
    {
      "cell_type": "markdown",
      "metadata": {
        "id": "QJ338B4KnOgc"
      },
      "source": [
        "**Description**:"
      ]
    },
    {
      "cell_type": "markdown",
      "metadata": {},
      "source": [
        "The radar chart visualizes the centroid profiles of six property clusters across key features such as accommodates, bathrooms, price_lg, beds, and review_scores_rating. Each colored line represents the average standardized value for a given feature within a cluster. Notably, Cluster 2, shown in bold blue, consistently scores higher across all dimensions—indicating that properties in this cluster tend to accommodate more guests, have more bathrooms and beds, charge higher prices, and receive better reviews—making it a highly desirable investment segment for Aggie Investments."
      ]
    },
    {
      "cell_type": "markdown",
      "metadata": {
        "id": "IC_pNwzjABa4"
      },
      "source": [
        "## **Summarize findings**\n",
        "\n",
        "**33) Briefly summarize what you learned from this analysis to a non-statistician. Write a few sentences about 1) the purpose of the analyses conducted and 2) what you learned about this data set from your analyses. Write your response as if you were addressing a business manager (avoid using statistics jargon) and provide the main take-aways:**"
      ]
    },
    {
      "cell_type": "markdown",
      "metadata": {
        "id": "fSOZhdRnAacg"
      },
      "source": [
        "The goal of this analysis was to uncover patterns in property features and group similar listings to help Aggie Investments make smarter buying decisions. By grouping properties with similar traits, we identified which types tend to be more successful—higher priced, larger, and more positively reviewed. Our main takeaway is that Cluster_2 represents high-performing, guest-preferred properties that offer both strong value and profitability, making it a compelling target for future investment."
      ]
    }
  ],
  "metadata": {
    "colab": {
      "provenance": []
    },
    "kernelspec": {
      "display_name": "base",
      "language": "python",
      "name": "python3"
    },
    "language_info": {
      "codemirror_mode": {
        "name": "ipython",
        "version": 3
      },
      "file_extension": ".py",
      "mimetype": "text/x-python",
      "name": "python",
      "nbconvert_exporter": "python",
      "pygments_lexer": "ipython3",
      "version": "3.12.4"
    }
  },
  "nbformat": 4,
  "nbformat_minor": 0
}

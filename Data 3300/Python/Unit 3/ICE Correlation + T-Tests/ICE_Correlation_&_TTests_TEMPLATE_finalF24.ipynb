{
 "cells": [
  {
   "cell_type": "markdown",
   "metadata": {
    "id": "DBsBbrbjwayQ"
   },
   "source": [
    "# **ICE: Correlation Analysis \\& T-Tests**\n",
    "\n",
    "## Name: Cabot Steward\n",
    "## *DATA 3300*\n",
    "\n",
    "In this assignment, you will use the CacheHomes dataset to explore and understand the application of correlation analysis and t-tests in a real-world context. You will start with correlation analysis to examine relationships between various property features and prices, using Pearson and Spearman correlation coefficients to understand the dataset better. This will help you identify significant relationships and patterns within the data. After gaining insights from the correlation analysis, you will proceed to hypothesis testing by conducting paired and independent t-tests. These tests will allow you to further investigate group differences and changes over time in the dataset.\n",
    "\n"
   ]
  },
  {
   "cell_type": "markdown",
   "metadata": {
    "id": "2rrypkUcysKV"
   },
   "source": [
    "**Load the dataset and display the first few rows to understand its structure.\n",
    "Then, calculate and display the descriptive statistics for numerical columns.**"
   ]
  },
  {
   "cell_type": "code",
   "execution_count": 1,
   "metadata": {
    "id": "wOkF6eiKyrBA"
   },
   "outputs": [],
   "source": [
    "# Import necessary libraries for statistical analysis and data manipulation\n",
    "import pandas as pd\n",
    "from scipy.stats import ttest_ind, pearsonr, ttest_rel\n",
    "import numpy as np\n",
    "\n",
    "import matplotlib.pyplot as plt\n",
    "import seaborn as sns"
   ]
  },
  {
   "cell_type": "code",
   "execution_count": 3,
   "metadata": {
    "id": "YrYzM_OswTnI"
   },
   "outputs": [
    {
     "data": {
      "text/html": [
       "<div>\n",
       "<style scoped>\n",
       "    .dataframe tbody tr th:only-of-type {\n",
       "        vertical-align: middle;\n",
       "    }\n",
       "\n",
       "    .dataframe tbody tr th {\n",
       "        vertical-align: top;\n",
       "    }\n",
       "\n",
       "    .dataframe thead th {\n",
       "        text-align: right;\n",
       "    }\n",
       "</style>\n",
       "<table border=\"1\" class=\"dataframe\">\n",
       "  <thead>\n",
       "    <tr style=\"text-align: right;\">\n",
       "      <th></th>\n",
       "      <th>Unnamed: 0</th>\n",
       "      <th>PROPERTYID</th>\n",
       "      <th>SINGLE-FAMILY</th>\n",
       "      <th>QUADRANT</th>\n",
       "      <th>CITY</th>\n",
       "      <th>ZIP</th>\n",
       "      <th>PRICE</th>\n",
       "      <th>PRICE_reduced</th>\n",
       "      <th>BEDS</th>\n",
       "      <th>BATHS</th>\n",
       "      <th>SQUARE FEET</th>\n",
       "      <th>LOT SIZE</th>\n",
       "      <th>YEAR BUILT</th>\n",
       "      <th>AGE</th>\n",
       "      <th>DAYS ON MARKET</th>\n",
       "      <th>$/SQUARE FEET</th>\n",
       "      <th>HOA/MONTH</th>\n",
       "      <th>LATITUDE</th>\n",
       "      <th>LONGITUDE</th>\n",
       "      <th>Beauty</th>\n",
       "    </tr>\n",
       "  </thead>\n",
       "  <tbody>\n",
       "    <tr>\n",
       "      <th>0</th>\n",
       "      <td>34</td>\n",
       "      <td>1</td>\n",
       "      <td>y</td>\n",
       "      <td>NE</td>\n",
       "      <td>North Logan</td>\n",
       "      <td>84341</td>\n",
       "      <td>699000</td>\n",
       "      <td>619000</td>\n",
       "      <td>7</td>\n",
       "      <td>4.5</td>\n",
       "      <td>8511</td>\n",
       "      <td>57934.0</td>\n",
       "      <td>1992</td>\n",
       "      <td>27</td>\n",
       "      <td>243</td>\n",
       "      <td>82</td>\n",
       "      <td>0</td>\n",
       "      <td>41.759955</td>\n",
       "      <td>-111.802758</td>\n",
       "      <td>3.333333</td>\n",
       "    </tr>\n",
       "    <tr>\n",
       "      <th>1</th>\n",
       "      <td>35</td>\n",
       "      <td>2</td>\n",
       "      <td>y</td>\n",
       "      <td>NE</td>\n",
       "      <td>North Logan</td>\n",
       "      <td>84341</td>\n",
       "      <td>699000</td>\n",
       "      <td>619000</td>\n",
       "      <td>7</td>\n",
       "      <td>4.5</td>\n",
       "      <td>8511</td>\n",
       "      <td>57934.0</td>\n",
       "      <td>1992</td>\n",
       "      <td>27</td>\n",
       "      <td>243</td>\n",
       "      <td>82</td>\n",
       "      <td>0</td>\n",
       "      <td>41.759955</td>\n",
       "      <td>-111.802758</td>\n",
       "      <td>3.666667</td>\n",
       "    </tr>\n",
       "    <tr>\n",
       "      <th>2</th>\n",
       "      <td>0</td>\n",
       "      <td>3</td>\n",
       "      <td>y</td>\n",
       "      <td>NE</td>\n",
       "      <td>Logan</td>\n",
       "      <td>84321</td>\n",
       "      <td>650000</td>\n",
       "      <td>570000</td>\n",
       "      <td>4</td>\n",
       "      <td>1.5</td>\n",
       "      <td>2054</td>\n",
       "      <td>21780.0</td>\n",
       "      <td>1893</td>\n",
       "      <td>126</td>\n",
       "      <td>240</td>\n",
       "      <td>316</td>\n",
       "      <td>0</td>\n",
       "      <td>41.744230</td>\n",
       "      <td>-111.817663</td>\n",
       "      <td>4.666667</td>\n",
       "    </tr>\n",
       "    <tr>\n",
       "      <th>3</th>\n",
       "      <td>55</td>\n",
       "      <td>4</td>\n",
       "      <td>y</td>\n",
       "      <td>NE</td>\n",
       "      <td>North Logan</td>\n",
       "      <td>84341</td>\n",
       "      <td>1100000</td>\n",
       "      <td>1020000</td>\n",
       "      <td>7</td>\n",
       "      <td>5.5</td>\n",
       "      <td>6827</td>\n",
       "      <td>60983.0</td>\n",
       "      <td>2001</td>\n",
       "      <td>18</td>\n",
       "      <td>240</td>\n",
       "      <td>161</td>\n",
       "      <td>0</td>\n",
       "      <td>41.790339</td>\n",
       "      <td>-111.785897</td>\n",
       "      <td>4.333333</td>\n",
       "    </tr>\n",
       "    <tr>\n",
       "      <th>4</th>\n",
       "      <td>38</td>\n",
       "      <td>5</td>\n",
       "      <td>y</td>\n",
       "      <td>SE</td>\n",
       "      <td>Providence</td>\n",
       "      <td>84332</td>\n",
       "      <td>410000</td>\n",
       "      <td>340000</td>\n",
       "      <td>5</td>\n",
       "      <td>3.5</td>\n",
       "      <td>4118</td>\n",
       "      <td>12632.0</td>\n",
       "      <td>1994</td>\n",
       "      <td>25</td>\n",
       "      <td>229</td>\n",
       "      <td>100</td>\n",
       "      <td>0</td>\n",
       "      <td>41.702689</td>\n",
       "      <td>-111.801081</td>\n",
       "      <td>5.666667</td>\n",
       "    </tr>\n",
       "  </tbody>\n",
       "</table>\n",
       "</div>"
      ],
      "text/plain": [
       "   Unnamed: 0  PROPERTYID SINGLE-FAMILY QUADRANT         CITY    ZIP    PRICE  \\\n",
       "0          34           1             y       NE  North Logan  84341   699000   \n",
       "1          35           2             y       NE  North Logan  84341   699000   \n",
       "2           0           3             y       NE        Logan  84321   650000   \n",
       "3          55           4             y       NE  North Logan  84341  1100000   \n",
       "4          38           5             y       SE   Providence  84332   410000   \n",
       "\n",
       "   PRICE_reduced  BEDS  BATHS  SQUARE FEET  LOT SIZE  YEAR BUILT  AGE  \\\n",
       "0         619000     7    4.5         8511   57934.0        1992   27   \n",
       "1         619000     7    4.5         8511   57934.0        1992   27   \n",
       "2         570000     4    1.5         2054   21780.0        1893  126   \n",
       "3        1020000     7    5.5         6827   60983.0        2001   18   \n",
       "4         340000     5    3.5         4118   12632.0        1994   25   \n",
       "\n",
       "   DAYS ON MARKET  $/SQUARE FEET  HOA/MONTH   LATITUDE   LONGITUDE    Beauty  \n",
       "0             243             82          0  41.759955 -111.802758  3.333333  \n",
       "1             243             82          0  41.759955 -111.802758  3.666667  \n",
       "2             240            316          0  41.744230 -111.817663  4.666667  \n",
       "3             240            161          0  41.790339 -111.785897  4.333333  \n",
       "4             229            100          0  41.702689 -111.801081  5.666667  "
      ]
     },
     "execution_count": 3,
     "metadata": {},
     "output_type": "execute_result"
    }
   ],
   "source": [
    "df = pd.read_csv('cachehomes_F24.csv')\n",
    "# display heading\n",
    "df.head()"
   ]
  },
  {
   "cell_type": "code",
   "execution_count": 5,
   "metadata": {
    "id": "Qm0KXn-B1Q8y"
   },
   "outputs": [
    {
     "data": {
      "text/html": [
       "<div>\n",
       "<style scoped>\n",
       "    .dataframe tbody tr th:only-of-type {\n",
       "        vertical-align: middle;\n",
       "    }\n",
       "\n",
       "    .dataframe tbody tr th {\n",
       "        vertical-align: top;\n",
       "    }\n",
       "\n",
       "    .dataframe thead th {\n",
       "        text-align: right;\n",
       "    }\n",
       "</style>\n",
       "<table border=\"1\" class=\"dataframe\">\n",
       "  <thead>\n",
       "    <tr style=\"text-align: right;\">\n",
       "      <th></th>\n",
       "      <th>Unnamed: 0</th>\n",
       "      <th>PRICE</th>\n",
       "      <th>PRICE_reduced</th>\n",
       "      <th>BEDS</th>\n",
       "      <th>BATHS</th>\n",
       "      <th>SQUARE FEET</th>\n",
       "      <th>LOT SIZE</th>\n",
       "      <th>YEAR BUILT</th>\n",
       "      <th>AGE</th>\n",
       "      <th>DAYS ON MARKET</th>\n",
       "      <th>$/SQUARE FEET</th>\n",
       "      <th>HOA/MONTH</th>\n",
       "      <th>LATITUDE</th>\n",
       "      <th>LONGITUDE</th>\n",
       "      <th>Beauty</th>\n",
       "    </tr>\n",
       "  </thead>\n",
       "  <tbody>\n",
       "    <tr>\n",
       "      <th>count</th>\n",
       "      <td>94.000000</td>\n",
       "      <td>9.400000e+01</td>\n",
       "      <td>9.400000e+01</td>\n",
       "      <td>94.000000</td>\n",
       "      <td>94.000000</td>\n",
       "      <td>94.000000</td>\n",
       "      <td>92.000000</td>\n",
       "      <td>94.000000</td>\n",
       "      <td>94.000000</td>\n",
       "      <td>94.000000</td>\n",
       "      <td>94.000000</td>\n",
       "      <td>94.000000</td>\n",
       "      <td>94.000000</td>\n",
       "      <td>94.000000</td>\n",
       "      <td>94.000000</td>\n",
       "    </tr>\n",
       "    <tr>\n",
       "      <th>mean</th>\n",
       "      <td>46.500000</td>\n",
       "      <td>3.859952e+05</td>\n",
       "      <td>3.667399e+05</td>\n",
       "      <td>4.031915</td>\n",
       "      <td>2.630319</td>\n",
       "      <td>2959.244681</td>\n",
       "      <td>16362.956522</td>\n",
       "      <td>1991.468085</td>\n",
       "      <td>27.531915</td>\n",
       "      <td>68.265957</td>\n",
       "      <td>132.042553</td>\n",
       "      <td>28.510638</td>\n",
       "      <td>41.737874</td>\n",
       "      <td>-111.826518</td>\n",
       "      <td>4.322695</td>\n",
       "    </tr>\n",
       "    <tr>\n",
       "      <th>std</th>\n",
       "      <td>27.279418</td>\n",
       "      <td>4.573380e+05</td>\n",
       "      <td>4.520213e+05</td>\n",
       "      <td>1.575703</td>\n",
       "      <td>1.273557</td>\n",
       "      <td>2444.766676</td>\n",
       "      <td>42805.658028</td>\n",
       "      <td>26.366606</td>\n",
       "      <td>26.366606</td>\n",
       "      <td>62.187053</td>\n",
       "      <td>45.044283</td>\n",
       "      <td>54.200691</td>\n",
       "      <td>0.028263</td>\n",
       "      <td>0.022404</td>\n",
       "      <td>1.005899</td>\n",
       "    </tr>\n",
       "    <tr>\n",
       "      <th>min</th>\n",
       "      <td>0.000000</td>\n",
       "      <td>1.175000e+05</td>\n",
       "      <td>1.175000e+05</td>\n",
       "      <td>1.000000</td>\n",
       "      <td>1.000000</td>\n",
       "      <td>551.000000</td>\n",
       "      <td>435.000000</td>\n",
       "      <td>1893.000000</td>\n",
       "      <td>0.000000</td>\n",
       "      <td>1.000000</td>\n",
       "      <td>78.000000</td>\n",
       "      <td>0.000000</td>\n",
       "      <td>41.686994</td>\n",
       "      <td>-111.873557</td>\n",
       "      <td>2.000000</td>\n",
       "    </tr>\n",
       "    <tr>\n",
       "      <th>25%</th>\n",
       "      <td>23.250000</td>\n",
       "      <td>2.311500e+05</td>\n",
       "      <td>2.084750e+05</td>\n",
       "      <td>3.000000</td>\n",
       "      <td>1.750000</td>\n",
       "      <td>1604.250000</td>\n",
       "      <td>5989.000000</td>\n",
       "      <td>1980.000000</td>\n",
       "      <td>9.000000</td>\n",
       "      <td>12.250000</td>\n",
       "      <td>103.000000</td>\n",
       "      <td>0.000000</td>\n",
       "      <td>41.714893</td>\n",
       "      <td>-111.842834</td>\n",
       "      <td>3.666667</td>\n",
       "    </tr>\n",
       "    <tr>\n",
       "      <th>50%</th>\n",
       "      <td>46.500000</td>\n",
       "      <td>2.765000e+05</td>\n",
       "      <td>2.549500e+05</td>\n",
       "      <td>4.000000</td>\n",
       "      <td>2.500000</td>\n",
       "      <td>2196.000000</td>\n",
       "      <td>9147.000000</td>\n",
       "      <td>1996.000000</td>\n",
       "      <td>23.000000</td>\n",
       "      <td>59.000000</td>\n",
       "      <td>124.000000</td>\n",
       "      <td>0.000000</td>\n",
       "      <td>41.735550</td>\n",
       "      <td>-111.825954</td>\n",
       "      <td>4.333333</td>\n",
       "    </tr>\n",
       "    <tr>\n",
       "      <th>75%</th>\n",
       "      <td>69.750000</td>\n",
       "      <td>3.737250e+05</td>\n",
       "      <td>3.467500e+05</td>\n",
       "      <td>5.000000</td>\n",
       "      <td>3.000000</td>\n",
       "      <td>3635.250000</td>\n",
       "      <td>14810.000000</td>\n",
       "      <td>2010.000000</td>\n",
       "      <td>39.000000</td>\n",
       "      <td>89.500000</td>\n",
       "      <td>149.000000</td>\n",
       "      <td>17.750000</td>\n",
       "      <td>41.759919</td>\n",
       "      <td>-111.808571</td>\n",
       "      <td>5.000000</td>\n",
       "    </tr>\n",
       "    <tr>\n",
       "      <th>max</th>\n",
       "      <td>93.000000</td>\n",
       "      <td>3.999000e+06</td>\n",
       "      <td>3.959000e+06</td>\n",
       "      <td>9.000000</td>\n",
       "      <td>9.250000</td>\n",
       "      <td>19641.000000</td>\n",
       "      <td>407286.000000</td>\n",
       "      <td>2019.000000</td>\n",
       "      <td>126.000000</td>\n",
       "      <td>243.000000</td>\n",
       "      <td>343.000000</td>\n",
       "      <td>250.000000</td>\n",
       "      <td>41.794592</td>\n",
       "      <td>-111.778683</td>\n",
       "      <td>6.666667</td>\n",
       "    </tr>\n",
       "  </tbody>\n",
       "</table>\n",
       "</div>"
      ],
      "text/plain": [
       "       Unnamed: 0         PRICE  PRICE_reduced       BEDS      BATHS  \\\n",
       "count   94.000000  9.400000e+01   9.400000e+01  94.000000  94.000000   \n",
       "mean    46.500000  3.859952e+05   3.667399e+05   4.031915   2.630319   \n",
       "std     27.279418  4.573380e+05   4.520213e+05   1.575703   1.273557   \n",
       "min      0.000000  1.175000e+05   1.175000e+05   1.000000   1.000000   \n",
       "25%     23.250000  2.311500e+05   2.084750e+05   3.000000   1.750000   \n",
       "50%     46.500000  2.765000e+05   2.549500e+05   4.000000   2.500000   \n",
       "75%     69.750000  3.737250e+05   3.467500e+05   5.000000   3.000000   \n",
       "max     93.000000  3.999000e+06   3.959000e+06   9.000000   9.250000   \n",
       "\n",
       "        SQUARE FEET       LOT SIZE   YEAR BUILT         AGE  DAYS ON MARKET  \\\n",
       "count     94.000000      92.000000    94.000000   94.000000       94.000000   \n",
       "mean    2959.244681   16362.956522  1991.468085   27.531915       68.265957   \n",
       "std     2444.766676   42805.658028    26.366606   26.366606       62.187053   \n",
       "min      551.000000     435.000000  1893.000000    0.000000        1.000000   \n",
       "25%     1604.250000    5989.000000  1980.000000    9.000000       12.250000   \n",
       "50%     2196.000000    9147.000000  1996.000000   23.000000       59.000000   \n",
       "75%     3635.250000   14810.000000  2010.000000   39.000000       89.500000   \n",
       "max    19641.000000  407286.000000  2019.000000  126.000000      243.000000   \n",
       "\n",
       "       $/SQUARE FEET   HOA/MONTH   LATITUDE   LONGITUDE     Beauty  \n",
       "count      94.000000   94.000000  94.000000   94.000000  94.000000  \n",
       "mean      132.042553   28.510638  41.737874 -111.826518   4.322695  \n",
       "std        45.044283   54.200691   0.028263    0.022404   1.005899  \n",
       "min        78.000000    0.000000  41.686994 -111.873557   2.000000  \n",
       "25%       103.000000    0.000000  41.714893 -111.842834   3.666667  \n",
       "50%       124.000000    0.000000  41.735550 -111.825954   4.333333  \n",
       "75%       149.000000   17.750000  41.759919 -111.808571   5.000000  \n",
       "max       343.000000  250.000000  41.794592 -111.778683   6.666667  "
      ]
     },
     "execution_count": 5,
     "metadata": {},
     "output_type": "execute_result"
    }
   ],
   "source": [
    "# describe the dataset, removing the primary key and zip\n",
    "df.drop(columns=[\"PROPERTYID\", \"ZIP\"], inplace=True)\n",
    "df.describe()"
   ]
  },
  {
   "cell_type": "markdown",
   "metadata": {
    "id": "Bqf4xmXH1jBr"
   },
   "source": [
    "### 1)\n",
    "**Let's begin with understanding how these variables relate to one another. Select two variables you believe could be strongly correlated, then create a null and alternative hypothesis that includes the direction of the relationship:**"
   ]
  },
  {
   "cell_type": "markdown",
   "metadata": {
    "id": "uCns_SIn15xs"
   },
   "source": [
    "Price & Squart Feet\n",
    "* $H_0$: There is no positive correlation between the price of a home and its square footage.\n",
    "* $H_A$: There is a positive correlation between the price of a home and its square footage."
   ]
  },
  {
   "cell_type": "markdown",
   "metadata": {
    "id": "8NkRFXIq2Uh1"
   },
   "source": [
    "### A)\n",
    "\n",
    "**Before running the analysis, let's examine the Pearson assumption of Normality...**"
   ]
  },
  {
   "cell_type": "code",
   "execution_count": 7,
   "metadata": {
    "id": "sJvClzzqDZ97"
   },
   "outputs": [
    {
     "data": {
      "text/plain": [
       "Index(['Unnamed: 0', 'SINGLE-FAMILY', 'QUADRANT', 'CITY', 'PRICE',\n",
       "       'PRICE_reduced', 'BEDS', 'BATHS', 'SQUARE FEET', 'LOT SIZE',\n",
       "       'YEAR BUILT', 'AGE', 'DAYS ON MARKET', '$/SQUARE FEET', 'HOA/MONTH',\n",
       "       'LATITUDE', 'LONGITUDE', 'Beauty'],\n",
       "      dtype='object')"
      ]
     },
     "execution_count": 7,
     "metadata": {},
     "output_type": "execute_result"
    }
   ],
   "source": [
    "# view columns\n",
    "df.columns"
   ]
  },
  {
   "cell_type": "code",
   "execution_count": 9,
   "metadata": {
    "id": "ONMH3Ff_3Zj5"
   },
   "outputs": [
    {
     "data": {
      "image/png": "[encoded data removed]",
      "text/plain": [
       "<Figure size 1200x1000 with 12 Axes>"
      ]
     },
     "metadata": {},
     "output_type": "display_data"
    }
   ],
   "source": [
    "df_corr = df.drop(['Unnamed: 0', 'SINGLE-FAMILY', 'QUADRANT', 'CITY', 'LATITUDE', 'LONGITUDE'], axis = 1) # drop qualitative columns from new copy of dataframe\n",
    "df_corr.hist(layout=(4,3), figsize=(12,10), bins=30) #generate histograms of remaining numerical vars\n",
    "plt.show()"
   ]
  },
  {
   "cell_type": "markdown",
   "metadata": {
    "id": "VpYk8uRRrkCr"
   },
   "source": [
    "### B)\n",
    "**Which, if any, variables follow a roughly normal distribution?**"
   ]
  },
  {
   "cell_type": "markdown",
   "metadata": {
    "id": "cCHuKjUXrpZd"
   },
   "source": [
    "Beauty is probably the best."
   ]
  },
  {
   "cell_type": "markdown",
   "metadata": {
    "id": "Nb9lJSBHr8oI"
   },
   "source": [
    "### C)\n",
    "\n",
    "**Transform the non-normally distributed variables using log or square root**"
   ]
  },
  {
   "cell_type": "code",
   "execution_count": 13,
   "metadata": {
    "id": "HqYpo4Md3trt"
   },
   "outputs": [
    {
     "data": {
      "image/png": "[encoded data removed]",
      "text/plain": [
       "<Figure size 1600x2400 with 16 Axes>"
      ]
     },
     "metadata": {},
     "output_type": "display_data"
    }
   ],
   "source": [
    "# log transform all the numeric variables\n",
    "df_corrT = pd.DataFrame()# create an empty dataframe to store new vars\n",
    "\n",
    "#create new transformed variables\n",
    "df_corrT['PRICE_lg'] = np.log(df[\"PRICE\"])\n",
    "df_corrT['PRICE_reduced_lg'] = np.log(df[\"PRICE_reduced\"])\n",
    "df_corrT['SQUARE FEET_lg'] = np.log(df['SQUARE FEET'])\n",
    "df_corrT['LOT SIZE_lg'] = np.log(df['LOT SIZE'])\n",
    "\n",
    "\n",
    "df_corrT['BATHS_sq'] = np.sqrt(df['BATHS'])\n",
    "df_corrT['AGE_sq'] = np.sqrt(df['AGE'])\n",
    "df_corrT['DAYS ON MARKET_sq'] = np.sqrt(df['DAYS ON MARKET'])\n",
    "df_corrT['HOA/MONTH_sq'] = np.sqrt(df['HOA/MONTH'])\n",
    "\n",
    "\n",
    "# generate histograms of remaining numerical vars\n",
    "df_corrT.hist(layout=(4,4), figsize=(16,24), bins=15)\n",
    "plt.show()"
   ]
  },
  {
   "cell_type": "markdown",
   "metadata": {
    "id": "R4MlRZFIsFAf"
   },
   "source": [
    "**What happens to the transformed variables? Are any variables still not normally distributed, and what does this mean for our analysis?**"
   ]
  },
  {
   "cell_type": "markdown",
   "metadata": {
    "id": "ZcJWTDrUsOS-"
   },
   "source": [
    "HOA/Month_SQ - the rest are sort of normally distributed not all unimodal.\n",
    "The values that aren't normally distributed are due to the skewness of the data, if they are super skewed then they will remain skewed."
   ]
  },
  {
   "cell_type": "markdown",
   "metadata": {
    "id": "BneoosCrsfWl"
   },
   "source": [
    "**Add BEDS and B2 into your new transformed dataframe...**"
   ]
  },
  {
   "cell_type": "code",
   "execution_count": 15,
   "metadata": {
    "id": "w3QQ5OsIHDZq"
   },
   "outputs": [
    {
     "data": {
      "text/html": [
       "<div>\n",
       "<style scoped>\n",
       "    .dataframe tbody tr th:only-of-type {\n",
       "        vertical-align: middle;\n",
       "    }\n",
       "\n",
       "    .dataframe tbody tr th {\n",
       "        vertical-align: top;\n",
       "    }\n",
       "\n",
       "    .dataframe thead th {\n",
       "        text-align: right;\n",
       "    }\n",
       "</style>\n",
       "<table border=\"1\" class=\"dataframe\">\n",
       "  <thead>\n",
       "    <tr style=\"text-align: right;\">\n",
       "      <th></th>\n",
       "      <th>PRICE_lg</th>\n",
       "      <th>PRICE_reduced_lg</th>\n",
       "      <th>SQUARE FEET_lg</th>\n",
       "      <th>LOT SIZE_lg</th>\n",
       "      <th>BATHS_sq</th>\n",
       "      <th>AGE_sq</th>\n",
       "      <th>DAYS ON MARKET_sq</th>\n",
       "      <th>HOA/MONTH_sq</th>\n",
       "      <th>BEDS</th>\n",
       "      <th>Beauty</th>\n",
       "    </tr>\n",
       "  </thead>\n",
       "  <tbody>\n",
       "    <tr>\n",
       "      <th>0</th>\n",
       "      <td>13.457406</td>\n",
       "      <td>13.335861</td>\n",
       "      <td>9.049115</td>\n",
       "      <td>10.967060</td>\n",
       "      <td>2.121320</td>\n",
       "      <td>5.196152</td>\n",
       "      <td>15.588457</td>\n",
       "      <td>0.0</td>\n",
       "      <td>2.645751</td>\n",
       "      <td>1.825742</td>\n",
       "    </tr>\n",
       "    <tr>\n",
       "      <th>1</th>\n",
       "      <td>13.457406</td>\n",
       "      <td>13.335861</td>\n",
       "      <td>9.049115</td>\n",
       "      <td>10.967060</td>\n",
       "      <td>2.121320</td>\n",
       "      <td>5.196152</td>\n",
       "      <td>15.588457</td>\n",
       "      <td>0.0</td>\n",
       "      <td>2.645751</td>\n",
       "      <td>1.914854</td>\n",
       "    </tr>\n",
       "    <tr>\n",
       "      <th>2</th>\n",
       "      <td>13.384728</td>\n",
       "      <td>13.253392</td>\n",
       "      <td>7.627544</td>\n",
       "      <td>9.988747</td>\n",
       "      <td>1.224745</td>\n",
       "      <td>11.224972</td>\n",
       "      <td>15.491933</td>\n",
       "      <td>0.0</td>\n",
       "      <td>2.000000</td>\n",
       "      <td>2.160247</td>\n",
       "    </tr>\n",
       "    <tr>\n",
       "      <th>3</th>\n",
       "      <td>13.910821</td>\n",
       "      <td>13.835313</td>\n",
       "      <td>8.828641</td>\n",
       "      <td>11.018350</td>\n",
       "      <td>2.345208</td>\n",
       "      <td>4.242641</td>\n",
       "      <td>15.491933</td>\n",
       "      <td>0.0</td>\n",
       "      <td>2.645751</td>\n",
       "      <td>2.081666</td>\n",
       "    </tr>\n",
       "    <tr>\n",
       "      <th>4</th>\n",
       "      <td>12.923912</td>\n",
       "      <td>12.736701</td>\n",
       "      <td>8.323123</td>\n",
       "      <td>9.443989</td>\n",
       "      <td>1.870829</td>\n",
       "      <td>5.000000</td>\n",
       "      <td>15.132746</td>\n",
       "      <td>0.0</td>\n",
       "      <td>2.236068</td>\n",
       "      <td>2.380476</td>\n",
       "    </tr>\n",
       "  </tbody>\n",
       "</table>\n",
       "</div>"
      ],
      "text/plain": [
       "    PRICE_lg  PRICE_reduced_lg  SQUARE FEET_lg  LOT SIZE_lg  BATHS_sq  \\\n",
       "0  13.457406         13.335861        9.049115    10.967060  2.121320   \n",
       "1  13.457406         13.335861        9.049115    10.967060  2.121320   \n",
       "2  13.384728         13.253392        7.627544     9.988747  1.224745   \n",
       "3  13.910821         13.835313        8.828641    11.018350  2.345208   \n",
       "4  12.923912         12.736701        8.323123     9.443989  1.870829   \n",
       "\n",
       "      AGE_sq  DAYS ON MARKET_sq  HOA/MONTH_sq      BEDS    Beauty  \n",
       "0   5.196152          15.588457           0.0  2.645751  1.825742  \n",
       "1   5.196152          15.588457           0.0  2.645751  1.914854  \n",
       "2  11.224972          15.491933           0.0  2.000000  2.160247  \n",
       "3   4.242641          15.491933           0.0  2.645751  2.081666  \n",
       "4   5.000000          15.132746           0.0  2.236068  2.380476  "
      ]
     },
     "execution_count": 15,
     "metadata": {},
     "output_type": "execute_result"
    }
   ],
   "source": [
    "df_corrT['BEDS'] = np.sqrt(df[\"BEDS\"])\n",
    "df_corrT['Beauty'] = np.sqrt(df[\"Beauty\"])\n",
    "\n",
    "# view heading\n",
    "df_corrT.head()"
   ]
  },
  {
   "cell_type": "markdown",
   "metadata": {
    "id": "wI41fbSLslDL"
   },
   "source": [
    "## 2)\n",
    "\n",
    "**Produce a correlation matrix using Pearson correlation analysis**"
   ]
  },
  {
   "cell_type": "code",
   "execution_count": 17,
   "metadata": {
    "id": "h0apNJxGtE8W"
   },
   "outputs": [],
   "source": [
    "# drop HOA/month\n",
    "df_corrT.drop(columns=['HOA/MONTH_sq'], inplace=True)"
   ]
  },
  {
   "cell_type": "code",
   "execution_count": 18,
   "metadata": {
    "id": "4yPvnZ60HbCS"
   },
   "outputs": [
    {
     "data": {
      "text/html": [
       "<style type=\"text/css\">\n",
       "#T_f0165_row0_col0, #T_f0165_row0_col1, #T_f0165_row1_col0, #T_f0165_row1_col1, #T_f0165_row2_col2, #T_f0165_row3_col3, #T_f0165_row4_col4, #T_f0165_row5_col5, #T_f0165_row6_col6, #T_f0165_row7_col7, #T_f0165_row8_col8 {\n",
       "  background-color: #800000;\n",
       "  color: #f1f1f1;\n",
       "}\n",
       "#T_f0165_row0_col2, #T_f0165_row2_col0 {\n",
       "  background-color: #9a0000;\n",
       "  color: #f1f1f1;\n",
       "}\n",
       "#T_f0165_row0_col3, #T_f0165_row3_col0 {\n",
       "  background-color: #b80000;\n",
       "  color: #f1f1f1;\n",
       "}\n",
       "#T_f0165_row0_col4, #T_f0165_row1_col4, #T_f0165_row4_col0, #T_f0165_row4_col1 {\n",
       "  background-color: #a30000;\n",
       "  color: #f1f1f1;\n",
       "}\n",
       "#T_f0165_row0_col5, #T_f0165_row5_col0 {\n",
       "  background-color: #f5f5ff;\n",
       "  color: #000000;\n",
       "}\n",
       "#T_f0165_row0_col6, #T_f0165_row6_col0 {\n",
       "  background-color: #ff3131;\n",
       "  color: #f1f1f1;\n",
       "}\n",
       "#T_f0165_row0_col7, #T_f0165_row7_col0 {\n",
       "  background-color: #c20000;\n",
       "  color: #f1f1f1;\n",
       "}\n",
       "#T_f0165_row0_col8, #T_f0165_row8_col0 {\n",
       "  background-color: #e1e1ff;\n",
       "  color: #000000;\n",
       "}\n",
       "#T_f0165_row1_col2, #T_f0165_row2_col1 {\n",
       "  background-color: #9c0000;\n",
       "  color: #f1f1f1;\n",
       "}\n",
       "#T_f0165_row1_col3, #T_f0165_row3_col1 {\n",
       "  background-color: #be0000;\n",
       "  color: #f1f1f1;\n",
       "}\n",
       "#T_f0165_row1_col5, #T_f0165_row2_col5, #T_f0165_row2_col8, #T_f0165_row5_col1, #T_f0165_row5_col2, #T_f0165_row8_col2 {\n",
       "  background-color: #f1f1ff;\n",
       "  color: #000000;\n",
       "}\n",
       "#T_f0165_row1_col6, #T_f0165_row4_col6, #T_f0165_row6_col1, #T_f0165_row6_col4 {\n",
       "  background-color: #ff5d5d;\n",
       "  color: #f1f1f1;\n",
       "}\n",
       "#T_f0165_row1_col7, #T_f0165_row7_col1 {\n",
       "  background-color: #c30000;\n",
       "  color: #f1f1f1;\n",
       "}\n",
       "#T_f0165_row1_col8, #T_f0165_row8_col1 {\n",
       "  background-color: #d9d9ff;\n",
       "  color: #000000;\n",
       "}\n",
       "#T_f0165_row2_col3, #T_f0165_row3_col2 {\n",
       "  background-color: #c00000;\n",
       "  color: #f1f1f1;\n",
       "}\n",
       "#T_f0165_row2_col4, #T_f0165_row4_col2 {\n",
       "  background-color: #aa0000;\n",
       "  color: #f1f1f1;\n",
       "}\n",
       "#T_f0165_row2_col6, #T_f0165_row6_col2 {\n",
       "  background-color: #ff3d3d;\n",
       "  color: #f1f1f1;\n",
       "}\n",
       "#T_f0165_row2_col7, #T_f0165_row7_col2 {\n",
       "  background-color: #a80000;\n",
       "  color: #f1f1f1;\n",
       "}\n",
       "#T_f0165_row3_col4, #T_f0165_row3_col7, #T_f0165_row4_col3, #T_f0165_row7_col3 {\n",
       "  background-color: #e60000;\n",
       "  color: #f1f1f1;\n",
       "}\n",
       "#T_f0165_row3_col5, #T_f0165_row5_col3 {\n",
       "  background-color: #ffe9e9;\n",
       "  color: #000000;\n",
       "}\n",
       "#T_f0165_row3_col6, #T_f0165_row6_col3 {\n",
       "  background-color: #ff3939;\n",
       "  color: #f1f1f1;\n",
       "}\n",
       "#T_f0165_row3_col8, #T_f0165_row8_col3 {\n",
       "  background-color: #ffe5e5;\n",
       "  color: #000000;\n",
       "}\n",
       "#T_f0165_row4_col5, #T_f0165_row5_col4, #T_f0165_row7_col8, #T_f0165_row8_col7 {\n",
       "  background-color: #cdcdff;\n",
       "  color: #000000;\n",
       "}\n",
       "#T_f0165_row4_col7, #T_f0165_row7_col4 {\n",
       "  background-color: #b60000;\n",
       "  color: #f1f1f1;\n",
       "}\n",
       "#T_f0165_row4_col8, #T_f0165_row8_col4 {\n",
       "  background-color: #c5c5ff;\n",
       "  color: #000000;\n",
       "}\n",
       "#T_f0165_row5_col6, #T_f0165_row6_col5 {\n",
       "  background-color: #fdfdff;\n",
       "  color: #000000;\n",
       "}\n",
       "#T_f0165_row5_col7, #T_f0165_row7_col5 {\n",
       "  background-color: #ffb5b5;\n",
       "  color: #000000;\n",
       "}\n",
       "#T_f0165_row5_col8, #T_f0165_row8_col5 {\n",
       "  background-color: #ffdddd;\n",
       "  color: #000000;\n",
       "}\n",
       "#T_f0165_row6_col7, #T_f0165_row7_col6 {\n",
       "  background-color: #ff5151;\n",
       "  color: #f1f1f1;\n",
       "}\n",
       "#T_f0165_row6_col8, #T_f0165_row8_col6 {\n",
       "  background-color: #ffeded;\n",
       "  color: #000000;\n",
       "}\n",
       "</style>\n",
       "<table id=\"T_f0165\">\n",
       "  <thead>\n",
       "    <tr>\n",
       "      <th class=\"blank level0\" >&nbsp;</th>\n",
       "      <th id=\"T_f0165_level0_col0\" class=\"col_heading level0 col0\" >PRICE_lg</th>\n",
       "      <th id=\"T_f0165_level0_col1\" class=\"col_heading level0 col1\" >PRICE_reduced_lg</th>\n",
       "      <th id=\"T_f0165_level0_col2\" class=\"col_heading level0 col2\" >SQUARE FEET_lg</th>\n",
       "      <th id=\"T_f0165_level0_col3\" class=\"col_heading level0 col3\" >LOT SIZE_lg</th>\n",
       "      <th id=\"T_f0165_level0_col4\" class=\"col_heading level0 col4\" >BATHS_sq</th>\n",
       "      <th id=\"T_f0165_level0_col5\" class=\"col_heading level0 col5\" >AGE_sq</th>\n",
       "      <th id=\"T_f0165_level0_col6\" class=\"col_heading level0 col6\" >DAYS ON MARKET_sq</th>\n",
       "      <th id=\"T_f0165_level0_col7\" class=\"col_heading level0 col7\" >BEDS</th>\n",
       "      <th id=\"T_f0165_level0_col8\" class=\"col_heading level0 col8\" >Beauty</th>\n",
       "    </tr>\n",
       "  </thead>\n",
       "  <tbody>\n",
       "    <tr>\n",
       "      <th id=\"T_f0165_level0_row0\" class=\"row_heading level0 row0\" >PRICE_lg</th>\n",
       "      <td id=\"T_f0165_row0_col0\" class=\"data row0 col0\" >1.000000</td>\n",
       "      <td id=\"T_f0165_row0_col1\" class=\"data row0 col1\" >0.994935</td>\n",
       "      <td id=\"T_f0165_row0_col2\" class=\"data row0 col2\" >0.891807</td>\n",
       "      <td id=\"T_f0165_row0_col3\" class=\"data row0 col3\" >0.774497</td>\n",
       "      <td id=\"T_f0165_row0_col4\" class=\"data row0 col4\" >0.853091</td>\n",
       "      <td id=\"T_f0165_row0_col5\" class=\"data row0 col5\" >-0.022952</td>\n",
       "      <td id=\"T_f0165_row0_col6\" class=\"data row0 col6\" >0.404721</td>\n",
       "      <td id=\"T_f0165_row0_col7\" class=\"data row0 col7\" >0.734595</td>\n",
       "      <td id=\"T_f0165_row0_col8\" class=\"data row0 col8\" >-0.061144</td>\n",
       "    </tr>\n",
       "    <tr>\n",
       "      <th id=\"T_f0165_level0_row1\" class=\"row_heading level0 row1\" >PRICE_reduced_lg</th>\n",
       "      <td id=\"T_f0165_row1_col0\" class=\"data row1 col0\" >0.994935</td>\n",
       "      <td id=\"T_f0165_row1_col1\" class=\"data row1 col1\" >1.000000</td>\n",
       "      <td id=\"T_f0165_row1_col2\" class=\"data row1 col2\" >0.889746</td>\n",
       "      <td id=\"T_f0165_row1_col3\" class=\"data row1 col3\" >0.757182</td>\n",
       "      <td id=\"T_f0165_row1_col4\" class=\"data row1 col4\" >0.851830</td>\n",
       "      <td id=\"T_f0165_row1_col5\" class=\"data row1 col5\" >-0.023735</td>\n",
       "      <td id=\"T_f0165_row1_col6\" class=\"data row1 col6\" >0.319698</td>\n",
       "      <td id=\"T_f0165_row1_col7\" class=\"data row1 col7\" >0.730598</td>\n",
       "      <td id=\"T_f0165_row1_col8\" class=\"data row1 col8\" >-0.073715</td>\n",
       "    </tr>\n",
       "    <tr>\n",
       "      <th id=\"T_f0165_level0_row2\" class=\"row_heading level0 row2\" >SQUARE FEET_lg</th>\n",
       "      <td id=\"T_f0165_row2_col0\" class=\"data row2 col0\" >0.891807</td>\n",
       "      <td id=\"T_f0165_row2_col1\" class=\"data row2 col1\" >0.889746</td>\n",
       "      <td id=\"T_f0165_row2_col2\" class=\"data row2 col2\" >1.000000</td>\n",
       "      <td id=\"T_f0165_row2_col3\" class=\"data row2 col3\" >0.744221</td>\n",
       "      <td id=\"T_f0165_row2_col4\" class=\"data row2 col4\" >0.832416</td>\n",
       "      <td id=\"T_f0165_row2_col5\" class=\"data row2 col5\" >-0.026895</td>\n",
       "      <td id=\"T_f0165_row2_col6\" class=\"data row2 col6\" >0.379996</td>\n",
       "      <td id=\"T_f0165_row2_col7\" class=\"data row2 col7\" >0.843261</td>\n",
       "      <td id=\"T_f0165_row2_col8\" class=\"data row2 col8\" >-0.029265</td>\n",
       "    </tr>\n",
       "    <tr>\n",
       "      <th id=\"T_f0165_level0_row3\" class=\"row_heading level0 row3\" >LOT SIZE_lg</th>\n",
       "      <td id=\"T_f0165_row3_col0\" class=\"data row3 col0\" >0.774497</td>\n",
       "      <td id=\"T_f0165_row3_col1\" class=\"data row3 col1\" >0.757182</td>\n",
       "      <td id=\"T_f0165_row3_col2\" class=\"data row3 col2\" >0.744221</td>\n",
       "      <td id=\"T_f0165_row3_col3\" class=\"data row3 col3\" >1.000000</td>\n",
       "      <td id=\"T_f0165_row3_col4\" class=\"data row3 col4\" >0.598275</td>\n",
       "      <td id=\"T_f0165_row3_col5\" class=\"data row3 col5\" >0.041178</td>\n",
       "      <td id=\"T_f0165_row3_col6\" class=\"data row3 col6\" >0.386984</td>\n",
       "      <td id=\"T_f0165_row3_col7\" class=\"data row3 col7\" >0.598177</td>\n",
       "      <td id=\"T_f0165_row3_col8\" class=\"data row3 col8\" >0.048207</td>\n",
       "    </tr>\n",
       "    <tr>\n",
       "      <th id=\"T_f0165_level0_row4\" class=\"row_heading level0 row4\" >BATHS_sq</th>\n",
       "      <td id=\"T_f0165_row4_col0\" class=\"data row4 col0\" >0.853091</td>\n",
       "      <td id=\"T_f0165_row4_col1\" class=\"data row4 col1\" >0.851830</td>\n",
       "      <td id=\"T_f0165_row4_col2\" class=\"data row4 col2\" >0.832416</td>\n",
       "      <td id=\"T_f0165_row4_col3\" class=\"data row4 col3\" >0.598275</td>\n",
       "      <td id=\"T_f0165_row4_col4\" class=\"data row4 col4\" >1.000000</td>\n",
       "      <td id=\"T_f0165_row4_col5\" class=\"data row4 col5\" >-0.096329</td>\n",
       "      <td id=\"T_f0165_row4_col6\" class=\"data row4 col6\" >0.316096</td>\n",
       "      <td id=\"T_f0165_row4_col7\" class=\"data row4 col7\" >0.784848</td>\n",
       "      <td id=\"T_f0165_row4_col8\" class=\"data row4 col8\" >-0.111613</td>\n",
       "    </tr>\n",
       "    <tr>\n",
       "      <th id=\"T_f0165_level0_row5\" class=\"row_heading level0 row5\" >AGE_sq</th>\n",
       "      <td id=\"T_f0165_row5_col0\" class=\"data row5 col0\" >-0.022952</td>\n",
       "      <td id=\"T_f0165_row5_col1\" class=\"data row5 col1\" >-0.023735</td>\n",
       "      <td id=\"T_f0165_row5_col2\" class=\"data row5 col2\" >-0.026895</td>\n",
       "      <td id=\"T_f0165_row5_col3\" class=\"data row5 col3\" >0.041178</td>\n",
       "      <td id=\"T_f0165_row5_col4\" class=\"data row5 col4\" >-0.096329</td>\n",
       "      <td id=\"T_f0165_row5_col5\" class=\"data row5 col5\" >1.000000</td>\n",
       "      <td id=\"T_f0165_row5_col6\" class=\"data row5 col6\" >-0.001908</td>\n",
       "      <td id=\"T_f0165_row5_col7\" class=\"data row5 col7\" >0.140730</td>\n",
       "      <td id=\"T_f0165_row5_col8\" class=\"data row5 col8\" >0.065876</td>\n",
       "    </tr>\n",
       "    <tr>\n",
       "      <th id=\"T_f0165_level0_row6\" class=\"row_heading level0 row6\" >DAYS ON MARKET_sq</th>\n",
       "      <td id=\"T_f0165_row6_col0\" class=\"data row6 col0\" >0.404721</td>\n",
       "      <td id=\"T_f0165_row6_col1\" class=\"data row6 col1\" >0.319698</td>\n",
       "      <td id=\"T_f0165_row6_col2\" class=\"data row6 col2\" >0.379996</td>\n",
       "      <td id=\"T_f0165_row6_col3\" class=\"data row6 col3\" >0.386984</td>\n",
       "      <td id=\"T_f0165_row6_col4\" class=\"data row6 col4\" >0.316096</td>\n",
       "      <td id=\"T_f0165_row6_col5\" class=\"data row6 col5\" >-0.001908</td>\n",
       "      <td id=\"T_f0165_row6_col6\" class=\"data row6 col6\" >1.000000</td>\n",
       "      <td id=\"T_f0165_row6_col7\" class=\"data row6 col7\" >0.341802</td>\n",
       "      <td id=\"T_f0165_row6_col8\" class=\"data row6 col8\" >0.034338</td>\n",
       "    </tr>\n",
       "    <tr>\n",
       "      <th id=\"T_f0165_level0_row7\" class=\"row_heading level0 row7\" >BEDS</th>\n",
       "      <td id=\"T_f0165_row7_col0\" class=\"data row7 col0\" >0.734595</td>\n",
       "      <td id=\"T_f0165_row7_col1\" class=\"data row7 col1\" >0.730598</td>\n",
       "      <td id=\"T_f0165_row7_col2\" class=\"data row7 col2\" >0.843261</td>\n",
       "      <td id=\"T_f0165_row7_col3\" class=\"data row7 col3\" >0.598177</td>\n",
       "      <td id=\"T_f0165_row7_col4\" class=\"data row7 col4\" >0.784848</td>\n",
       "      <td id=\"T_f0165_row7_col5\" class=\"data row7 col5\" >0.140730</td>\n",
       "      <td id=\"T_f0165_row7_col6\" class=\"data row7 col6\" >0.341802</td>\n",
       "      <td id=\"T_f0165_row7_col7\" class=\"data row7 col7\" >1.000000</td>\n",
       "      <td id=\"T_f0165_row7_col8\" class=\"data row7 col8\" >-0.096232</td>\n",
       "    </tr>\n",
       "    <tr>\n",
       "      <th id=\"T_f0165_level0_row8\" class=\"row_heading level0 row8\" >Beauty</th>\n",
       "      <td id=\"T_f0165_row8_col0\" class=\"data row8 col0\" >-0.061144</td>\n",
       "      <td id=\"T_f0165_row8_col1\" class=\"data row8 col1\" >-0.073715</td>\n",
       "      <td id=\"T_f0165_row8_col2\" class=\"data row8 col2\" >-0.029265</td>\n",
       "      <td id=\"T_f0165_row8_col3\" class=\"data row8 col3\" >0.048207</td>\n",
       "      <td id=\"T_f0165_row8_col4\" class=\"data row8 col4\" >-0.111613</td>\n",
       "      <td id=\"T_f0165_row8_col5\" class=\"data row8 col5\" >0.065876</td>\n",
       "      <td id=\"T_f0165_row8_col6\" class=\"data row8 col6\" >0.034338</td>\n",
       "      <td id=\"T_f0165_row8_col7\" class=\"data row8 col7\" >-0.096232</td>\n",
       "      <td id=\"T_f0165_row8_col8\" class=\"data row8 col8\" >1.000000</td>\n",
       "    </tr>\n",
       "  </tbody>\n",
       "</table>\n"
      ],
      "text/plain": [
       "<pandas.io.formats.style.Styler at 0x22acf4a6fc0>"
      ]
     },
     "execution_count": 18,
     "metadata": {},
     "output_type": "execute_result"
    }
   ],
   "source": [
    "# create correlation matrix, store in cor_matrix\n",
    "cor_matrix = df_corrT.corr()\n",
    "\n",
    "cor_matrix.style.background_gradient(cmap='seismic', axis=None, vmin=-1, vmax=1) # formatting matrix"
   ]
  },
  {
   "cell_type": "markdown",
   "metadata": {
    "id": "5nHi6k-em0Eb"
   },
   "source": [
    "### A)\n",
    "**What is the strongest correlation (ignoring price and price reduced), what does it mean?**"
   ]
  },
  {
   "cell_type": "markdown",
   "metadata": {
    "id": "VKh3dTZ-m8Yu"
   },
   "source": [
    "The largest correlation is squart ft lg and beds.  This means that as sqare footage increases so does beds."
   ]
  },
  {
   "cell_type": "markdown",
   "metadata": {
    "id": "XutJfLaAH-XF"
   },
   "source": [
    "### B)\n",
    "**Examine the variable pair from your hypotheses, then describe the relationship (strong/weak, positive/negative):**"
   ]
  },
  {
   "cell_type": "markdown",
   "metadata": {
    "id": "bnWyWBkbIIiN"
   },
   "source": [
    "strong"
   ]
  },
  {
   "cell_type": "markdown",
   "metadata": {
    "id": "PKRdGsD9nFU4"
   },
   "source": [
    "## 3)\n",
    "**Plot your variable pair and test the statistical significance**"
   ]
  },
  {
   "cell_type": "code",
   "execution_count": 19,
   "metadata": {
    "id": "3SQRY3ryHm7y"
   },
   "outputs": [
    {
     "data": {
      "image/png": "[encoded data removed]",
      "text/plain": [
       "<Figure size 640x480 with 1 Axes>"
      ]
     },
     "metadata": {},
     "output_type": "display_data"
    },
    {
     "name": "stdout",
     "output_type": "stream",
     "text": [
      "Pearson correlation coefficient: 0.8918072348131563\n",
      "P-value: 1.891771007858882e-33\n",
      " null hypothesis\n"
     ]
    }
   ],
   "source": [
    "\n",
    "# Create a scatter plot of the two variables\n",
    "plt.scatter(df_corrT['SQUARE FEET_lg'], df_corrT['PRICE_lg'])\n",
    "plt.xlabel('sqr foot (log)')\n",
    "plt.ylabel('price (log)')\n",
    "plt.title('relat between price and sqr')\n",
    "plt.show()\n",
    "\n",
    "# Calculate the Pearson correlation coefficient\n",
    "corr, p_value = pearsonr(df_corrT['SQUARE FEET_lg'], df_corrT['PRICE_lg'])\n",
    "\n",
    "# Print the results\n",
    "print('Pearson correlation coefficient:', corr)\n",
    "print('P-value:', p_value)\n",
    "\n",
    "# Test the null hypothesis\n",
    "alpha = 0.05\n",
    "if p_value < alpha:\n",
    "    print(' null hypothesis')\n",
    "else:\n",
    "    print(' null hypothesis')\n"
   ]
  },
  {
   "cell_type": "markdown",
   "metadata": {
    "id": "HHprM5dQMsYE"
   },
   "source": [
    "## 4) T-Tests\n",
    "\n",
    "**Let's now examine different types of T-Tests to evaluate some additional hypotheses that would be useful for Innergystic Homes to know. Let's begin with a two-sample independent t-test...**"
   ]
  },
  {
   "cell_type": "markdown",
   "metadata": {
    "id": "TR4-N8FxQAeI"
   },
   "source": [
    "## A)\n",
    "\n",
    "**What is tested using an Two-Sample Independent T-Test?**\n",
    "\n",
    "**Two-Sample Independent T-test**:"
   ]
  },
  {
   "cell_type": "code",
   "execution_count": 21,
   "metadata": {
    "id": "dVhNsSm2QNaG"
   },
   "outputs": [
    {
     "data": {
      "text/plain": [
       "Index(['Unnamed: 0', 'SINGLE-FAMILY', 'QUADRANT', 'CITY', 'PRICE',\n",
       "       'PRICE_reduced', 'BEDS', 'BATHS', 'SQUARE FEET', 'LOT SIZE',\n",
       "       'YEAR BUILT', 'AGE', 'DAYS ON MARKET', '$/SQUARE FEET', 'HOA/MONTH',\n",
       "       'LATITUDE', 'LONGITUDE', 'Beauty'],\n",
       "      dtype='object')"
      ]
     },
     "execution_count": 21,
     "metadata": {},
     "output_type": "execute_result"
    }
   ],
   "source": [
    "# view variables\n",
    "df.columns"
   ]
  },
  {
   "cell_type": "code",
   "execution_count": 22,
   "metadata": {
    "id": "RlbuPrltQoHe"
   },
   "outputs": [
    {
     "data": {
      "text/plain": [
       "SINGLE-FAMILY\n",
       "y    77\n",
       "n    17\n",
       "Name: count, dtype: int64"
      ]
     },
     "execution_count": 22,
     "metadata": {},
     "output_type": "execute_result"
    }
   ],
   "source": [
    "# check value_counts of variable to test\n",
    "df[\"SINGLE-FAMILY\"].value_counts()"
   ]
  },
  {
   "cell_type": "markdown",
   "metadata": {
    "id": "5G_MfE2xofc9"
   },
   "source": [
    "### B)\n",
    "**Produce a set of hypotheses that tests the difference between two groups (e.g., Single or Non-Single Family homes) on some dependent variable:**"
   ]
  },
  {
   "cell_type": "markdown",
   "metadata": {
    "id": "vbiuJfTWQaeG"
   },
   "source": [
    "* $H_0$: There is no significant difference in the mean price between single-family and non-single-family homes\n",
    "* $H_A$: There is a significant difference in the mean price between single-family and non-single-family homes"
   ]
  },
  {
   "cell_type": "code",
   "execution_count": 34,
   "metadata": {
    "id": "dCFycGcGQo88"
   },
   "outputs": [
    {
     "name": "stdout",
     "output_type": "stream",
     "text": [
      "T-statistic: 3.2680599064540403, P-value: 0.002657174780362853\n",
      "Reject the null hypothesis: There is a significant difference in days on the market between single-family and non-single-family homes.\n"
     ]
    }
   ],
   "source": [
    "# Ensure \"DAYS ON MARKET\" is numeric\n",
    "df[\"DAYS ON MARKET\"] = pd.to_numeric(df[\"DAYS ON MARKET\"], errors=\"coerce\")\n",
    "\n",
    "# Create two groups based on single-family homes\n",
    "single_family_days_on_market = df[df[\"SINGLE-FAMILY\"] == \"y\"][\"DAYS ON MARKET\"].dropna()\n",
    "non_single_family_days_on_market = df[df[\"SINGLE-FAMILY\"] == \"n\"][\"DAYS ON MARKET\"].dropna()\n",
    "\n",
    "# Apply square root transformation\n",
    "single_family_days_on_market = np.sqrt(single_family_days_on_market)\n",
    "non_single_family_days_on_market = np.sqrt(non_single_family_days_on_market)\n",
    "\n",
    "# Perform a two-sample independent t-test\n",
    "t_stat, p_value = ttest_ind(single_family_days_on_market, non_single_family_days_on_market, equal_var=False)\n",
    "\n",
    "# Print the results\n",
    "print(f'T-statistic: {t_stat}, P-value: {p_value}')\n",
    "\n",
    "# Test significance level\n",
    "alpha = 0.05\n",
    "if p_value < alpha:\n",
    "    print(\"Reject the null hypothesis: There is a significant difference in days on the market between single-family and non-single-family homes.\")\n",
    "else:\n",
    "    print(\"Fail to reject the null hypothesis: No significant difference in days on the market between single-family and non-single-family homes.\")\n"
   ]
  },
  {
   "cell_type": "code",
   "execution_count": 36,
   "metadata": {
    "id": "ygkJAurKSzQP"
   },
   "outputs": [
    {
     "data": {
      "text/plain": [
       "SINGLE-FAMILY\n",
       "n    33.588235\n",
       "y    75.922078\n",
       "Name: DAYS ON MARKET, dtype: float64"
      ]
     },
     "execution_count": 36,
     "metadata": {},
     "output_type": "execute_result"
    }
   ],
   "source": [
    "# view means grouped by SINGLE-FAMILY\n",
    "df.groupby(\"SINGLE-FAMILY\")[\"DAYS ON MARKET\"].mean()"
   ]
  },
  {
   "cell_type": "markdown",
   "metadata": {
    "id": "qpdjmgYzTIQk"
   },
   "source": [
    "### C)\n",
    "\n",
    "**What can we conclude about your DV in regards to the home type (single vs non single family)? What would you recommend investing in and why?**"
   ]
  },
  {
   "cell_type": "markdown",
   "metadata": {
    "id": "YfiawDMOTSGM"
   },
   "source": [
    "single family homes take significantly longer to sell compared to multi family. If we need more flexibility then multifamily as they can be liquidated more quickly if not, single family may be better."
   ]
  },
  {
   "cell_type": "code",
   "execution_count": 37,
   "metadata": {},
   "outputs": [
    {
     "data": {
      "text/plain": [
       "Index(['Unnamed: 0', 'SINGLE-FAMILY', 'QUADRANT', 'CITY', 'PRICE',\n",
       "       'PRICE_reduced', 'BEDS', 'BATHS', 'SQUARE FEET', 'LOT SIZE',\n",
       "       'YEAR BUILT', 'AGE', 'DAYS ON MARKET', '$/SQUARE FEET', 'HOA/MONTH',\n",
       "       'LATITUDE', 'LONGITUDE', 'Beauty'],\n",
       "      dtype='object')"
      ]
     },
     "execution_count": 37,
     "metadata": {},
     "output_type": "execute_result"
    }
   ],
   "source": [
    "df.columns"
   ]
  },
  {
   "cell_type": "markdown",
   "metadata": {
    "id": "6PZ4tMbwTSp7"
   },
   "source": [
    "### D)\n",
    "**What is tested using a Two-Sample Paired T-Test?**\n",
    "\n",
    "**Two-Sample Paired T-Test**:\n"
   ]
  },
  {
   "cell_type": "code",
   "execution_count": 42,
   "metadata": {},
   "outputs": [
    {
     "name": "stdout",
     "output_type": "stream",
     "text": [
      "T-statistic: 9.919623995240435, P-value: 3.027291414599742e-16\n",
      "Reject the null hypothesis: There is a significant difference between the original and reduced prices.\n"
     ]
    }
   ],
   "source": [
    "df[\"PRICE\"] = pd.to_numeric(df[\"PRICE\"], errors=\"coerce\")\n",
    "df[\"PRICE_reduced\"] = pd.to_numeric(df[\"PRICE_reduced\"], errors=\"coerce\")\n",
    "\n",
    "df_corrT = pd.DataFrame()\n",
    "df_corrT['PRICE_lg'] = np.log(df[\"PRICE\"])\n",
    "df_corrT['PRICE_reduced_lg'] = np.log(df[\"PRICE_reduced\"])\n",
    "\n",
    "t_stat, p_value = ttest_rel(df_corrT[\"PRICE_lg\"], df_corrT[\"PRICE_reduced_lg\"])\n",
    "\n",
    "print(f'T-statistic: {t_stat}, P-value: {p_value}')\n",
    "\n",
    "alpha = 0.05\n",
    "if p_value < alpha:\n",
    "    print(\"Reject the null hypothesis: There is a significant difference between the original and reduced prices.\")\n",
    "else:\n",
    "    print(\"Fail to reject the null hypothesis: No significant difference between the original and reduced prices.\")"
   ]
  },
  {
   "cell_type": "markdown",
   "metadata": {
    "id": "v9xnouKro_Pl"
   },
   "source": [
    "### E)\n",
    "\n",
    "**What set of variables could be used to evaluate a two-sample paired t-test in this dataset? Produce a set of hypotheses to evaluate this test:**\n",
    "\n",
    "* $H_0$: There is no significant difference between the original price and the reduced price\n",
    "* $H_A$: There is a significant difference between the original price and the reduced price\n",
    "\n"
   ]
  },
  {
   "cell_type": "code",
   "execution_count": 40,
   "metadata": {
    "id": "wENs0RQTUBVK"
   },
   "outputs": [
    {
     "name": "stdout",
     "output_type": "stream",
     "text": [
      "T-statistic: 9.919627701199216, P-value: 3.027236812414758e-16\n",
      "Reject the null hypothesis: There is a significant difference between the original and reduced prices.\n"
     ]
    }
   ],
   "source": [
    "# run a paired t test between PRICE_lg and PRICE_reduced_lg\n",
    "\n",
    "t_stat, p_value = ttest_rel(df_corrT[\"PRICE_lg\"], df_corrT[\"PRICE_reduced_lg\"])\n",
    "\n",
    "# Print the results\n",
    "print(f'T-statistic: {t_stat}, P-value: {p_value}')\n",
    "\n",
    "alpha = 0.05\n",
    "if p_value < alpha:\n",
    "    print(\"Reject the null hypothesis: There is a significant difference between the original and reduced prices.\")\n",
    "else:\n",
    "    print(\"Fail to reject the null hypothesis: No significant difference between the original and reduced prices.\")"
   ]
  },
  {
   "cell_type": "code",
   "execution_count": 43,
   "metadata": {
    "id": "ThrNiRx-VzUn"
   },
   "outputs": [
    {
     "name": "stdout",
     "output_type": "stream",
     "text": [
      "Mean PRICE: 385995.1808510638\n",
      "Mean PRICE_reduced: 366739.8617021277\n"
     ]
    }
   ],
   "source": [
    "# examine the mean values for both variables\n",
    "mean_price = df[\"PRICE\"].mean()\n",
    "mean_price_reduced = df[\"PRICE_reduced\"].mean()\n",
    "\n",
    "print(f\"Mean PRICE: {mean_price}\")\n",
    "print(f\"Mean PRICE_reduced: {mean_price_reduced}\")"
   ]
  },
  {
   "cell_type": "markdown",
   "metadata": {
    "id": "Jl7Z08oZkDDe"
   },
   "source": [
    "## 5) Let's check the relationship between price reduction and days on the market!"
   ]
  },
  {
   "cell_type": "code",
   "execution_count": 44,
   "metadata": {
    "id": "zZ4UAfqSkJ06"
   },
   "outputs": [
    {
     "data": {
      "text/html": [
       "<div>\n",
       "<style scoped>\n",
       "    .dataframe tbody tr th:only-of-type {\n",
       "        vertical-align: middle;\n",
       "    }\n",
       "\n",
       "    .dataframe tbody tr th {\n",
       "        vertical-align: top;\n",
       "    }\n",
       "\n",
       "    .dataframe thead th {\n",
       "        text-align: right;\n",
       "    }\n",
       "</style>\n",
       "<table border=\"1\" class=\"dataframe\">\n",
       "  <thead>\n",
       "    <tr style=\"text-align: right;\">\n",
       "      <th></th>\n",
       "      <th>Unnamed: 0</th>\n",
       "      <th>SINGLE-FAMILY</th>\n",
       "      <th>QUADRANT</th>\n",
       "      <th>CITY</th>\n",
       "      <th>PRICE</th>\n",
       "      <th>PRICE_reduced</th>\n",
       "      <th>BEDS</th>\n",
       "      <th>BATHS</th>\n",
       "      <th>SQUARE FEET</th>\n",
       "      <th>LOT SIZE</th>\n",
       "      <th>YEAR BUILT</th>\n",
       "      <th>AGE</th>\n",
       "      <th>DAYS ON MARKET</th>\n",
       "      <th>$/SQUARE FEET</th>\n",
       "      <th>HOA/MONTH</th>\n",
       "      <th>LATITUDE</th>\n",
       "      <th>LONGITUDE</th>\n",
       "      <th>Beauty</th>\n",
       "      <th>reduced_amount</th>\n",
       "    </tr>\n",
       "  </thead>\n",
       "  <tbody>\n",
       "    <tr>\n",
       "      <th>0</th>\n",
       "      <td>34</td>\n",
       "      <td>y</td>\n",
       "      <td>NE</td>\n",
       "      <td>North Logan</td>\n",
       "      <td>699000</td>\n",
       "      <td>619000</td>\n",
       "      <td>7</td>\n",
       "      <td>4.5</td>\n",
       "      <td>8511</td>\n",
       "      <td>57934.0</td>\n",
       "      <td>1992</td>\n",
       "      <td>27</td>\n",
       "      <td>243</td>\n",
       "      <td>82</td>\n",
       "      <td>0</td>\n",
       "      <td>41.759955</td>\n",
       "      <td>-111.802758</td>\n",
       "      <td>3.333333</td>\n",
       "      <td>80000</td>\n",
       "    </tr>\n",
       "    <tr>\n",
       "      <th>1</th>\n",
       "      <td>35</td>\n",
       "      <td>y</td>\n",
       "      <td>NE</td>\n",
       "      <td>North Logan</td>\n",
       "      <td>699000</td>\n",
       "      <td>619000</td>\n",
       "      <td>7</td>\n",
       "      <td>4.5</td>\n",
       "      <td>8511</td>\n",
       "      <td>57934.0</td>\n",
       "      <td>1992</td>\n",
       "      <td>27</td>\n",
       "      <td>243</td>\n",
       "      <td>82</td>\n",
       "      <td>0</td>\n",
       "      <td>41.759955</td>\n",
       "      <td>-111.802758</td>\n",
       "      <td>3.666667</td>\n",
       "      <td>80000</td>\n",
       "    </tr>\n",
       "    <tr>\n",
       "      <th>2</th>\n",
       "      <td>0</td>\n",
       "      <td>y</td>\n",
       "      <td>NE</td>\n",
       "      <td>Logan</td>\n",
       "      <td>650000</td>\n",
       "      <td>570000</td>\n",
       "      <td>4</td>\n",
       "      <td>1.5</td>\n",
       "      <td>2054</td>\n",
       "      <td>21780.0</td>\n",
       "      <td>1893</td>\n",
       "      <td>126</td>\n",
       "      <td>240</td>\n",
       "      <td>316</td>\n",
       "      <td>0</td>\n",
       "      <td>41.744230</td>\n",
       "      <td>-111.817663</td>\n",
       "      <td>4.666667</td>\n",
       "      <td>80000</td>\n",
       "    </tr>\n",
       "    <tr>\n",
       "      <th>3</th>\n",
       "      <td>55</td>\n",
       "      <td>y</td>\n",
       "      <td>NE</td>\n",
       "      <td>North Logan</td>\n",
       "      <td>1100000</td>\n",
       "      <td>1020000</td>\n",
       "      <td>7</td>\n",
       "      <td>5.5</td>\n",
       "      <td>6827</td>\n",
       "      <td>60983.0</td>\n",
       "      <td>2001</td>\n",
       "      <td>18</td>\n",
       "      <td>240</td>\n",
       "      <td>161</td>\n",
       "      <td>0</td>\n",
       "      <td>41.790339</td>\n",
       "      <td>-111.785897</td>\n",
       "      <td>4.333333</td>\n",
       "      <td>80000</td>\n",
       "    </tr>\n",
       "    <tr>\n",
       "      <th>4</th>\n",
       "      <td>38</td>\n",
       "      <td>y</td>\n",
       "      <td>SE</td>\n",
       "      <td>Providence</td>\n",
       "      <td>410000</td>\n",
       "      <td>340000</td>\n",
       "      <td>5</td>\n",
       "      <td>3.5</td>\n",
       "      <td>4118</td>\n",
       "      <td>12632.0</td>\n",
       "      <td>1994</td>\n",
       "      <td>25</td>\n",
       "      <td>229</td>\n",
       "      <td>100</td>\n",
       "      <td>0</td>\n",
       "      <td>41.702689</td>\n",
       "      <td>-111.801081</td>\n",
       "      <td>5.666667</td>\n",
       "      <td>70000</td>\n",
       "    </tr>\n",
       "  </tbody>\n",
       "</table>\n",
       "</div>"
      ],
      "text/plain": [
       "   Unnamed: 0 SINGLE-FAMILY QUADRANT         CITY    PRICE  PRICE_reduced  \\\n",
       "0          34             y       NE  North Logan   699000         619000   \n",
       "1          35             y       NE  North Logan   699000         619000   \n",
       "2           0             y       NE        Logan   650000         570000   \n",
       "3          55             y       NE  North Logan  1100000        1020000   \n",
       "4          38             y       SE   Providence   410000         340000   \n",
       "\n",
       "   BEDS  BATHS  SQUARE FEET  LOT SIZE  YEAR BUILT  AGE  DAYS ON MARKET  \\\n",
       "0     7    4.5         8511   57934.0        1992   27             243   \n",
       "1     7    4.5         8511   57934.0        1992   27             243   \n",
       "2     4    1.5         2054   21780.0        1893  126             240   \n",
       "3     7    5.5         6827   60983.0        2001   18             240   \n",
       "4     5    3.5         4118   12632.0        1994   25             229   \n",
       "\n",
       "   $/SQUARE FEET  HOA/MONTH   LATITUDE   LONGITUDE    Beauty  reduced_amount  \n",
       "0             82          0  41.759955 -111.802758  3.333333           80000  \n",
       "1             82          0  41.759955 -111.802758  3.666667           80000  \n",
       "2            316          0  41.744230 -111.817663  4.666667           80000  \n",
       "3            161          0  41.790339 -111.785897  4.333333           80000  \n",
       "4            100          0  41.702689 -111.801081  5.666667           70000  "
      ]
     },
     "execution_count": 44,
     "metadata": {},
     "output_type": "execute_result"
    }
   ],
   "source": [
    "df['reduced_amount'] = df[\"PRICE\"] - df[\"PRICE_reduced\"]\n",
    "# create a reduced_amount from original price and reduced price\n",
    "df.head()"
   ]
  },
  {
   "cell_type": "code",
   "execution_count": 45,
   "metadata": {
    "id": "CC5G7vAhkQtf"
   },
   "outputs": [
    {
     "data": {
      "image/png": "[encoded data removed]",
      "text/plain": [
       "<Figure size 640x480 with 1 Axes>"
      ]
     },
     "metadata": {},
     "output_type": "display_data"
    }
   ],
   "source": [
    "# create a scatterplot of the relationship between reduced_amount and days on the market\n",
    "plt.scatter(df[\"DAYS ON MARKET\"], df[\"reduced_amount\"])\n",
    "plt.xlabel(\"Days on Market\")\n",
    "plt.ylabel(\"Price Reduction Amount\")\n",
    "plt.title(\"Price Reduction vs. Days on Market\")\n",
    "plt.show()"
   ]
  },
  {
   "cell_type": "markdown",
   "metadata": {
    "id": "N_ESU4_-kZ9C"
   },
   "source": [
    "**A) How would you describe the relationship between the amount the price has been reduced and how long a property has been on the market?**"
   ]
  },
  {
   "cell_type": "markdown",
   "metadata": {
    "id": "M9bMMly4kj_L"
   },
   "source": [
    "linear"
   ]
  },
  {
   "cell_type": "markdown",
   "metadata": {
    "id": "R_eQARw8pZki"
   },
   "source": [
    "## 6) Final Recommendations"
   ]
  },
  {
   "cell_type": "markdown",
   "metadata": {
    "id": "6di6-ZwXYUrh"
   },
   "source": [
    "### A)\n",
    "**Considering your correlation analysis, which variables would you recommend the Developers focus on when deciding which properties to purchase, why?**"
   ]
  },
  {
   "cell_type": "markdown",
   "metadata": {
    "id": "e-ygBpo3YbFp"
   },
   "source": [
    "I think size and single family vs non single family.  These are both clearly good options as they are highly correlated.  home type would be good as it could allow us to provide more flexibility."
   ]
  },
  {
   "cell_type": "markdown",
   "metadata": {
    "id": "9mOT7YrqYas2"
   },
   "source": [
    "### B)\n",
    "**Considering your T-Tests, what recommendations can you make regarding property types and/or when to purchase properties?**"
   ]
  },
  {
   "cell_type": "markdown",
   "metadata": {
    "id": "6-ypRlO5Ypu-"
   },
   "source": [
    "For buyers, properties that have been on the market longer are more likely to have price reductions, making them ideal targets for negotiation. Non-single-family homes tend to sell faster, suggesting they may be a better investment for quicker turnover. Sellers should price competitively early to avoid prolonged time on the market and potential price reductions."
   ]
  }
 ],
 "metadata": {
  "colab": {
   "authorship_tag": "ABX9TyPbuyMjHaCKnYPePUx2LMS9",
   "provenance": []
  },
  "kernelspec": {
   "display_name": "base",
   "language": "python",
   "name": "python3"
  },
  "language_info": {
   "codemirror_mode": {
    "name": "ipython",
    "version": 3
   },
   "file_extension": ".py",
   "mimetype": "text/x-python",
   "name": "python",
   "nbconvert_exporter": "python",
   "pygments_lexer": "ipython3",
   "version": "3.12.4"
  }
 },
 "nbformat": 4,
 "nbformat_minor": 0
}

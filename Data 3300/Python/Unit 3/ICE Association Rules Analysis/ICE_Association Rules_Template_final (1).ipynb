{
  "cells": [
    {
      "cell_type": "markdown",
      "metadata": {
        "id": "aMSfCCpPf-Ai"
      },
      "source": [
        "# ICE - Association Rules Analysis\n",
        "## *DATA 3300*"
      ]
    },
    {
      "cell_type": "markdown",
      "metadata": {
        "id": "-cgS37MEgG_c"
      },
      "source": [
        "## Student Name:"
      ]
    },
    {
      "cell_type": "markdown",
      "metadata": {
        "id": "XGBcfZ09gL1y"
      },
      "source": [
        "#**Q1**\n",
        "\n",
        "**Load the following libaries: Pandas, NumPy, Matplotlib.pyplot and mlxetend.frequent_patterns then import the skiut dataset**"
      ]
    },
    {
      "cell_type": "code",
      "execution_count": 13,
      "metadata": {},
      "outputs": [
        {
          "name": "stdout",
          "output_type": "stream",
          "text": [
            "Requirement already satisfied: mlxtend in c:\\users\\tucke\\anaconda3\\lib\\site-packages (0.23.4)\n",
            "Requirement already satisfied: scipy>=1.2.1 in c:\\users\\tucke\\anaconda3\\lib\\site-packages (from mlxtend) (1.13.1)\n",
            "Requirement already satisfied: numpy>=1.16.2 in c:\\users\\tucke\\anaconda3\\lib\\site-packages (from mlxtend) (1.26.4)\n",
            "Requirement already satisfied: pandas>=0.24.2 in c:\\users\\tucke\\anaconda3\\lib\\site-packages (from mlxtend) (2.2.2)\n",
            "Requirement already satisfied: scikit-learn>=1.3.1 in c:\\users\\tucke\\anaconda3\\lib\\site-packages (from mlxtend) (1.4.2)\n",
            "Requirement already satisfied: matplotlib>=3.0.0 in c:\\users\\tucke\\anaconda3\\lib\\site-packages (from mlxtend) (3.8.4)\n",
            "Requirement already satisfied: joblib>=0.13.2 in c:\\users\\tucke\\anaconda3\\lib\\site-packages (from mlxtend) (1.4.2)\n",
            "Requirement already satisfied: contourpy>=1.0.1 in c:\\users\\tucke\\anaconda3\\lib\\site-packages (from matplotlib>=3.0.0->mlxtend) (1.2.0)\n",
            "Requirement already satisfied: cycler>=0.10 in c:\\users\\tucke\\anaconda3\\lib\\site-packages (from matplotlib>=3.0.0->mlxtend) (0.11.0)\n",
            "Requirement already satisfied: fonttools>=4.22.0 in c:\\users\\tucke\\anaconda3\\lib\\site-packages (from matplotlib>=3.0.0->mlxtend) (4.51.0)\n",
            "Requirement already satisfied: kiwisolver>=1.3.1 in c:\\users\\tucke\\anaconda3\\lib\\site-packages (from matplotlib>=3.0.0->mlxtend) (1.4.4)\n",
            "Requirement already satisfied: packaging>=20.0 in c:\\users\\tucke\\anaconda3\\lib\\site-packages (from matplotlib>=3.0.0->mlxtend) (23.2)\n",
            "Requirement already satisfied: pillow>=8 in c:\\users\\tucke\\anaconda3\\lib\\site-packages (from matplotlib>=3.0.0->mlxtend) (10.3.0)\n",
            "Requirement already satisfied: pyparsing>=2.3.1 in c:\\users\\tucke\\anaconda3\\lib\\site-packages (from matplotlib>=3.0.0->mlxtend) (3.0.9)\n",
            "Requirement already satisfied: python-dateutil>=2.7 in c:\\users\\tucke\\anaconda3\\lib\\site-packages (from matplotlib>=3.0.0->mlxtend) (2.9.0.post0)\n",
            "Requirement already satisfied: pytz>=2020.1 in c:\\users\\tucke\\anaconda3\\lib\\site-packages (from pandas>=0.24.2->mlxtend) (2024.1)\n",
            "Requirement already satisfied: tzdata>=2022.7 in c:\\users\\tucke\\anaconda3\\lib\\site-packages (from pandas>=0.24.2->mlxtend) (2023.3)\n",
            "Requirement already satisfied: threadpoolctl>=2.0.0 in c:\\users\\tucke\\anaconda3\\lib\\site-packages (from scikit-learn>=1.3.1->mlxtend) (2.2.0)\n",
            "Requirement already satisfied: six>=1.5 in c:\\users\\tucke\\anaconda3\\lib\\site-packages (from python-dateutil>=2.7->matplotlib>=3.0.0->mlxtend) (1.16.0)\n"
          ]
        }
      ],
      "source": [
        "!pip install mlxtend"
      ]
    },
    {
      "cell_type": "code",
      "execution_count": 14,
      "metadata": {
        "id": "NMPkHgyNflRR"
      },
      "outputs": [],
      "source": [
        "import pandas as pd\n",
        "import numpy as np\n",
        "import matplotlib.pyplot as plt\n",
        "from mlxtend.frequent_patterns import apriori, association_rules"
      ]
    },
    {
      "cell_type": "code",
      "execution_count": 15,
      "metadata": {
        "id": "jr7LIZTNksGp"
      },
      "outputs": [
        {
          "data": {
            "text/html": [
              "<div>\n",
              "<style scoped>\n",
              "    .dataframe tbody tr th:only-of-type {\n",
              "        vertical-align: middle;\n",
              "    }\n",
              "\n",
              "    .dataframe tbody tr th {\n",
              "        vertical-align: top;\n",
              "    }\n",
              "\n",
              "    .dataframe thead th {\n",
              "        text-align: right;\n",
              "    }\n",
              "</style>\n",
              "<table border=\"1\" class=\"dataframe\">\n",
              "  <thead>\n",
              "    <tr style=\"text-align: right;\">\n",
              "      <th></th>\n",
              "      <th>SkierID</th>\n",
              "      <th>gender</th>\n",
              "      <th>Select_All_That_Apply</th>\n",
              "    </tr>\n",
              "  </thead>\n",
              "  <tbody>\n",
              "    <tr>\n",
              "      <th>0</th>\n",
              "      <td>1001</td>\n",
              "      <td>m</td>\n",
              "      <td>sbasn, solit, sbird, altax</td>\n",
              "    </tr>\n",
              "    <tr>\n",
              "      <th>1</th>\n",
              "      <td>1002</td>\n",
              "      <td>m</td>\n",
              "      <td>sbird, altax</td>\n",
              "    </tr>\n",
              "    <tr>\n",
              "      <th>2</th>\n",
              "      <td>1003</td>\n",
              "      <td>f</td>\n",
              "      <td>powmo, altax</td>\n",
              "    </tr>\n",
              "    <tr>\n",
              "      <th>3</th>\n",
              "      <td>1004</td>\n",
              "      <td>m</td>\n",
              "      <td>solit, sbird, altax</td>\n",
              "    </tr>\n",
              "    <tr>\n",
              "      <th>4</th>\n",
              "      <td>1005</td>\n",
              "      <td>m</td>\n",
              "      <td>beavm, sbasn, powmo, solit, brton, sbird, alta...</td>\n",
              "    </tr>\n",
              "  </tbody>\n",
              "</table>\n",
              "</div>"
            ],
            "text/plain": [
              "   SkierID gender                              Select_All_That_Apply\n",
              "0     1001      m                         sbasn, solit, sbird, altax\n",
              "1     1002      m                                       sbird, altax\n",
              "2     1003      f                                       powmo, altax\n",
              "3     1004      m                                solit, sbird, altax\n",
              "4     1005      m  beavm, sbasn, powmo, solit, brton, sbird, alta..."
            ]
          },
          "execution_count": 15,
          "metadata": {},
          "output_type": "execute_result"
        }
      ],
      "source": [
        "#import data set\n",
        "#view headers\n",
        "df = pd.read_csv(\"skiut_list.csv\")\n",
        "df.head()"
      ]
    },
    {
      "cell_type": "markdown",
      "metadata": {
        "id": "VPAsk2_Dr3c3"
      },
      "source": [
        "#Q2\n",
        "\n",
        "**You might notice that because the survey question related to ski resort visitation was in a \"select all that apply\" form, there is only one column that lists all of the ski resorts attended, deliminated by a comma.**\n",
        "\n",
        "**This is not in a usable format for data analysis, so we need to create a dummy variable column for each of the 10 ski resorts, to indicate which of the 10 resorts each skier visited.**\n",
        "\n",
        "## A\n",
        "**Create a series of lambda functions to search for the text string labels of each ski resort in each response, then create a new column for each resort containing \"True\" or \"False\" depending on whether the resort was listed in the response.**"
      ]
    },
    {
      "cell_type": "code",
      "execution_count": 16,
      "metadata": {
        "id": "7SQiw-XvmcM7"
      },
      "outputs": [],
      "source": [
        "df['Beavm'] = df.apply(lambda x: \"Beavm\" in x.Select_All_That_Apply, axis=1)\n",
        "df['Sbasn'] = df.apply(lambda x: \"sbasn\" in x.Select_All_That_Apply, axis=1)\n",
        "df['Powmo'] = df.apply(lambda x: \"powmo\" in x.Select_All_That_Apply, axis=1)\n",
        "df['Solit'] = df.apply(lambda x: \"solit\" in x.Select_All_That_Apply, axis=1)\n",
        "df['Brton'] = df.apply(lambda x: \"brton\" in x.Select_All_That_Apply, axis=1)\n",
        "df['Sbird'] = df.apply(lambda x: \"sbird\" in x.Select_All_That_Apply, axis=1)\n",
        "df['Altax'] = df.apply(lambda x: \"altax\" in x.Select_All_That_Apply, axis=1)\n",
        "df['ParkC'] = df.apply(lambda x: \"parkc\" in x.Select_All_That_Apply, axis=1)\n",
        "df['Deerv'] = df.apply(lambda x: \"deerv\" in x.Select_All_That_Apply, axis=1)\n",
        "df['Canyo'] = df.apply(lambda x: \"canyo\" in x.Select_All_That_Apply, axis=1)"
      ]
    },
    {
      "cell_type": "code",
      "execution_count": 17,
      "metadata": {
        "id": "-3bBSaN4QKlt"
      },
      "outputs": [
        {
          "data": {
            "text/html": [
              "<div>\n",
              "<style scoped>\n",
              "    .dataframe tbody tr th:only-of-type {\n",
              "        vertical-align: middle;\n",
              "    }\n",
              "\n",
              "    .dataframe tbody tr th {\n",
              "        vertical-align: top;\n",
              "    }\n",
              "\n",
              "    .dataframe thead th {\n",
              "        text-align: right;\n",
              "    }\n",
              "</style>\n",
              "<table border=\"1\" class=\"dataframe\">\n",
              "  <thead>\n",
              "    <tr style=\"text-align: right;\">\n",
              "      <th></th>\n",
              "      <th>SkierID</th>\n",
              "      <th>gender</th>\n",
              "      <th>Select_All_That_Apply</th>\n",
              "      <th>Beavm</th>\n",
              "      <th>Sbasn</th>\n",
              "      <th>Powmo</th>\n",
              "      <th>Solit</th>\n",
              "      <th>Brton</th>\n",
              "      <th>Sbird</th>\n",
              "      <th>Altax</th>\n",
              "      <th>ParkC</th>\n",
              "      <th>Deerv</th>\n",
              "      <th>Canyo</th>\n",
              "    </tr>\n",
              "  </thead>\n",
              "  <tbody>\n",
              "    <tr>\n",
              "      <th>0</th>\n",
              "      <td>1001</td>\n",
              "      <td>m</td>\n",
              "      <td>sbasn, solit, sbird, altax</td>\n",
              "      <td>False</td>\n",
              "      <td>True</td>\n",
              "      <td>False</td>\n",
              "      <td>True</td>\n",
              "      <td>False</td>\n",
              "      <td>True</td>\n",
              "      <td>True</td>\n",
              "      <td>False</td>\n",
              "      <td>False</td>\n",
              "      <td>False</td>\n",
              "    </tr>\n",
              "    <tr>\n",
              "      <th>1</th>\n",
              "      <td>1002</td>\n",
              "      <td>m</td>\n",
              "      <td>sbird, altax</td>\n",
              "      <td>False</td>\n",
              "      <td>False</td>\n",
              "      <td>False</td>\n",
              "      <td>False</td>\n",
              "      <td>False</td>\n",
              "      <td>True</td>\n",
              "      <td>True</td>\n",
              "      <td>False</td>\n",
              "      <td>False</td>\n",
              "      <td>False</td>\n",
              "    </tr>\n",
              "    <tr>\n",
              "      <th>2</th>\n",
              "      <td>1003</td>\n",
              "      <td>f</td>\n",
              "      <td>powmo, altax</td>\n",
              "      <td>False</td>\n",
              "      <td>False</td>\n",
              "      <td>True</td>\n",
              "      <td>False</td>\n",
              "      <td>False</td>\n",
              "      <td>False</td>\n",
              "      <td>True</td>\n",
              "      <td>False</td>\n",
              "      <td>False</td>\n",
              "      <td>False</td>\n",
              "    </tr>\n",
              "    <tr>\n",
              "      <th>3</th>\n",
              "      <td>1004</td>\n",
              "      <td>m</td>\n",
              "      <td>solit, sbird, altax</td>\n",
              "      <td>False</td>\n",
              "      <td>False</td>\n",
              "      <td>False</td>\n",
              "      <td>True</td>\n",
              "      <td>False</td>\n",
              "      <td>True</td>\n",
              "      <td>True</td>\n",
              "      <td>False</td>\n",
              "      <td>False</td>\n",
              "      <td>False</td>\n",
              "    </tr>\n",
              "    <tr>\n",
              "      <th>4</th>\n",
              "      <td>1005</td>\n",
              "      <td>m</td>\n",
              "      <td>beavm, sbasn, powmo, solit, brton, sbird, alta...</td>\n",
              "      <td>False</td>\n",
              "      <td>True</td>\n",
              "      <td>True</td>\n",
              "      <td>True</td>\n",
              "      <td>True</td>\n",
              "      <td>True</td>\n",
              "      <td>True</td>\n",
              "      <td>True</td>\n",
              "      <td>True</td>\n",
              "      <td>True</td>\n",
              "    </tr>\n",
              "  </tbody>\n",
              "</table>\n",
              "</div>"
            ],
            "text/plain": [
              "   SkierID gender                              Select_All_That_Apply  Beavm  \\\n",
              "0     1001      m                         sbasn, solit, sbird, altax  False   \n",
              "1     1002      m                                       sbird, altax  False   \n",
              "2     1003      f                                       powmo, altax  False   \n",
              "3     1004      m                                solit, sbird, altax  False   \n",
              "4     1005      m  beavm, sbasn, powmo, solit, brton, sbird, alta...  False   \n",
              "\n",
              "   Sbasn  Powmo  Solit  Brton  Sbird  Altax  ParkC  Deerv  Canyo  \n",
              "0   True  False   True  False   True   True  False  False  False  \n",
              "1  False  False  False  False   True   True  False  False  False  \n",
              "2  False   True  False  False  False   True  False  False  False  \n",
              "3  False  False   True  False   True   True  False  False  False  \n",
              "4   True   True   True   True   True   True   True   True   True  "
            ]
          },
          "execution_count": 17,
          "metadata": {},
          "output_type": "execute_result"
        }
      ],
      "source": [
        "#view headers\n",
        "df.head()"
      ]
    },
    {
      "cell_type": "markdown",
      "metadata": {
        "id": "DJbcc91cs_q6"
      },
      "source": [
        "## B\n",
        "\n",
        "**Now, convert the \"True\" and \"False\" label to a 1 or 0 for each column using the replace function. Do the same for gender, where m = 0, f = 1.**\n",
        "\n",
        "**Also, there's no need to keep in the 'Select_All_That_Apply' column, so let's drop that.**"
      ]
    },
    {
      "cell_type": "code",
      "execution_count": 18,
      "metadata": {
        "id": "_9hPO-1ppsXT"
      },
      "outputs": [
        {
          "name": "stderr",
          "output_type": "stream",
          "text": [
            "C:\\Users\\tucke\\AppData\\Local\\Temp\\ipykernel_8576\\17203458.py:2: FutureWarning: Downcasting behavior in `replace` is deprecated and will be removed in a future version. To retain the old behavior, explicitly call `result.infer_objects(copy=False)`. To opt-in to the future behavior, set `pd.set_option('future.no_silent_downcasting', True)`\n",
            "  df.replace({\"m\":0, \"f\":1}, inplace=True)\n",
            "C:\\Users\\tucke\\AppData\\Local\\Temp\\ipykernel_8576\\17203458.py:3: FutureWarning: Downcasting behavior in `replace` is deprecated and will be removed in a future version. To retain the old behavior, explicitly call `result.infer_objects(copy=False)`. To opt-in to the future behavior, set `pd.set_option('future.no_silent_downcasting', True)`\n",
            "  df.replace({True:1, False:0 }, inplace=True)\n"
          ]
        },
        {
          "data": {
            "text/html": [
              "<div>\n",
              "<style scoped>\n",
              "    .dataframe tbody tr th:only-of-type {\n",
              "        vertical-align: middle;\n",
              "    }\n",
              "\n",
              "    .dataframe tbody tr th {\n",
              "        vertical-align: top;\n",
              "    }\n",
              "\n",
              "    .dataframe thead th {\n",
              "        text-align: right;\n",
              "    }\n",
              "</style>\n",
              "<table border=\"1\" class=\"dataframe\">\n",
              "  <thead>\n",
              "    <tr style=\"text-align: right;\">\n",
              "      <th></th>\n",
              "      <th>SkierID</th>\n",
              "      <th>gender</th>\n",
              "      <th>Beavm</th>\n",
              "      <th>Sbasn</th>\n",
              "      <th>Powmo</th>\n",
              "      <th>Solit</th>\n",
              "      <th>Brton</th>\n",
              "      <th>Sbird</th>\n",
              "      <th>Altax</th>\n",
              "      <th>ParkC</th>\n",
              "      <th>Deerv</th>\n",
              "      <th>Canyo</th>\n",
              "    </tr>\n",
              "  </thead>\n",
              "  <tbody>\n",
              "    <tr>\n",
              "      <th>0</th>\n",
              "      <td>1001</td>\n",
              "      <td>0</td>\n",
              "      <td>0</td>\n",
              "      <td>1</td>\n",
              "      <td>0</td>\n",
              "      <td>1</td>\n",
              "      <td>0</td>\n",
              "      <td>1</td>\n",
              "      <td>1</td>\n",
              "      <td>0</td>\n",
              "      <td>0</td>\n",
              "      <td>0</td>\n",
              "    </tr>\n",
              "    <tr>\n",
              "      <th>1</th>\n",
              "      <td>1002</td>\n",
              "      <td>0</td>\n",
              "      <td>0</td>\n",
              "      <td>0</td>\n",
              "      <td>0</td>\n",
              "      <td>0</td>\n",
              "      <td>0</td>\n",
              "      <td>1</td>\n",
              "      <td>1</td>\n",
              "      <td>0</td>\n",
              "      <td>0</td>\n",
              "      <td>0</td>\n",
              "    </tr>\n",
              "    <tr>\n",
              "      <th>2</th>\n",
              "      <td>1003</td>\n",
              "      <td>1</td>\n",
              "      <td>0</td>\n",
              "      <td>0</td>\n",
              "      <td>1</td>\n",
              "      <td>0</td>\n",
              "      <td>0</td>\n",
              "      <td>0</td>\n",
              "      <td>1</td>\n",
              "      <td>0</td>\n",
              "      <td>0</td>\n",
              "      <td>0</td>\n",
              "    </tr>\n",
              "    <tr>\n",
              "      <th>3</th>\n",
              "      <td>1004</td>\n",
              "      <td>0</td>\n",
              "      <td>0</td>\n",
              "      <td>0</td>\n",
              "      <td>0</td>\n",
              "      <td>1</td>\n",
              "      <td>0</td>\n",
              "      <td>1</td>\n",
              "      <td>1</td>\n",
              "      <td>0</td>\n",
              "      <td>0</td>\n",
              "      <td>0</td>\n",
              "    </tr>\n",
              "    <tr>\n",
              "      <th>4</th>\n",
              "      <td>1005</td>\n",
              "      <td>0</td>\n",
              "      <td>0</td>\n",
              "      <td>1</td>\n",
              "      <td>1</td>\n",
              "      <td>1</td>\n",
              "      <td>1</td>\n",
              "      <td>1</td>\n",
              "      <td>1</td>\n",
              "      <td>1</td>\n",
              "      <td>1</td>\n",
              "      <td>1</td>\n",
              "    </tr>\n",
              "  </tbody>\n",
              "</table>\n",
              "</div>"
            ],
            "text/plain": [
              "   SkierID  gender  Beavm  Sbasn  Powmo  Solit  Brton  Sbird  Altax  ParkC  \\\n",
              "0     1001       0      0      1      0      1      0      1      1      0   \n",
              "1     1002       0      0      0      0      0      0      1      1      0   \n",
              "2     1003       1      0      0      1      0      0      0      1      0   \n",
              "3     1004       0      0      0      0      1      0      1      1      0   \n",
              "4     1005       0      0      1      1      1      1      1      1      1   \n",
              "\n",
              "   Deerv  Canyo  \n",
              "0      0      0  \n",
              "1      0      0  \n",
              "2      0      0  \n",
              "3      0      0  \n",
              "4      1      1  "
            ]
          },
          "execution_count": 18,
          "metadata": {},
          "output_type": "execute_result"
        }
      ],
      "source": [
        "df = df.drop('Select_All_That_Apply', axis=1)\n",
        "df.replace({\"m\":0, \"f\":1}, inplace=True)\n",
        "df.replace({True:1, False:0 }, inplace=True)\n",
        "\n",
        "# df = df.rename({'': ''}, axis=1)\n",
        "df.head()"
      ]
    },
    {
      "cell_type": "markdown",
      "metadata": {
        "id": "XxJrYM8gtRSD"
      },
      "source": [
        "## C\n",
        "\n",
        "**Before running any actual analysis, we should exclude the SkierID variable by setting it as our index. Do so below and then explain why.**"
      ]
    },
    {
      "cell_type": "markdown",
      "metadata": {
        "id": "yMau2LT4te3A"
      },
      "source": []
    },
    {
      "cell_type": "code",
      "execution_count": 37,
      "metadata": {
        "id": "OM74H6gptfLn"
      },
      "outputs": [
        {
          "data": {
            "text/html": [
              "<div>\n",
              "<style scoped>\n",
              "    .dataframe tbody tr th:only-of-type {\n",
              "        vertical-align: middle;\n",
              "    }\n",
              "\n",
              "    .dataframe tbody tr th {\n",
              "        vertical-align: top;\n",
              "    }\n",
              "\n",
              "    .dataframe thead th {\n",
              "        text-align: right;\n",
              "    }\n",
              "</style>\n",
              "<table border=\"1\" class=\"dataframe\">\n",
              "  <thead>\n",
              "    <tr style=\"text-align: right;\">\n",
              "      <th></th>\n",
              "      <th>gender</th>\n",
              "      <th>Beavm</th>\n",
              "      <th>Sbasn</th>\n",
              "      <th>Powmo</th>\n",
              "      <th>Solit</th>\n",
              "      <th>Brton</th>\n",
              "      <th>Sbird</th>\n",
              "      <th>Altax</th>\n",
              "      <th>ParkC</th>\n",
              "      <th>Deerv</th>\n",
              "      <th>Canyo</th>\n",
              "    </tr>\n",
              "    <tr>\n",
              "      <th>SkierID</th>\n",
              "      <th></th>\n",
              "      <th></th>\n",
              "      <th></th>\n",
              "      <th></th>\n",
              "      <th></th>\n",
              "      <th></th>\n",
              "      <th></th>\n",
              "      <th></th>\n",
              "      <th></th>\n",
              "      <th></th>\n",
              "      <th></th>\n",
              "    </tr>\n",
              "  </thead>\n",
              "  <tbody>\n",
              "    <tr>\n",
              "      <th>1001</th>\n",
              "      <td>0</td>\n",
              "      <td>0</td>\n",
              "      <td>1</td>\n",
              "      <td>0</td>\n",
              "      <td>1</td>\n",
              "      <td>0</td>\n",
              "      <td>1</td>\n",
              "      <td>1</td>\n",
              "      <td>0</td>\n",
              "      <td>0</td>\n",
              "      <td>0</td>\n",
              "    </tr>\n",
              "    <tr>\n",
              "      <th>1002</th>\n",
              "      <td>0</td>\n",
              "      <td>0</td>\n",
              "      <td>0</td>\n",
              "      <td>0</td>\n",
              "      <td>0</td>\n",
              "      <td>0</td>\n",
              "      <td>1</td>\n",
              "      <td>1</td>\n",
              "      <td>0</td>\n",
              "      <td>0</td>\n",
              "      <td>0</td>\n",
              "    </tr>\n",
              "    <tr>\n",
              "      <th>1003</th>\n",
              "      <td>1</td>\n",
              "      <td>0</td>\n",
              "      <td>0</td>\n",
              "      <td>1</td>\n",
              "      <td>0</td>\n",
              "      <td>0</td>\n",
              "      <td>0</td>\n",
              "      <td>1</td>\n",
              "      <td>0</td>\n",
              "      <td>0</td>\n",
              "      <td>0</td>\n",
              "    </tr>\n",
              "    <tr>\n",
              "      <th>1004</th>\n",
              "      <td>0</td>\n",
              "      <td>0</td>\n",
              "      <td>0</td>\n",
              "      <td>0</td>\n",
              "      <td>1</td>\n",
              "      <td>0</td>\n",
              "      <td>1</td>\n",
              "      <td>1</td>\n",
              "      <td>0</td>\n",
              "      <td>0</td>\n",
              "      <td>0</td>\n",
              "    </tr>\n",
              "    <tr>\n",
              "      <th>1005</th>\n",
              "      <td>0</td>\n",
              "      <td>0</td>\n",
              "      <td>1</td>\n",
              "      <td>1</td>\n",
              "      <td>1</td>\n",
              "      <td>1</td>\n",
              "      <td>1</td>\n",
              "      <td>1</td>\n",
              "      <td>1</td>\n",
              "      <td>1</td>\n",
              "      <td>1</td>\n",
              "    </tr>\n",
              "  </tbody>\n",
              "</table>\n",
              "</div>"
            ],
            "text/plain": [
              "         gender  Beavm  Sbasn  Powmo  Solit  Brton  Sbird  Altax  ParkC  \\\n",
              "SkierID                                                                   \n",
              "1001          0      0      1      0      1      0      1      1      0   \n",
              "1002          0      0      0      0      0      0      1      1      0   \n",
              "1003          1      0      0      1      0      0      0      1      0   \n",
              "1004          0      0      0      0      1      0      1      1      0   \n",
              "1005          0      0      1      1      1      1      1      1      1   \n",
              "\n",
              "         Deerv  Canyo  \n",
              "SkierID                \n",
              "1001         0      0  \n",
              "1002         0      0  \n",
              "1003         0      0  \n",
              "1004         0      0  \n",
              "1005         1      1  "
            ]
          },
          "execution_count": 37,
          "metadata": {},
          "output_type": "execute_result"
        }
      ],
      "source": [
        "#set SkierID as the index\n",
        "df = df.set_index(\"SkierID\")\n",
        "#view headers\n",
        "df.head()"
      ]
    },
    {
      "cell_type": "markdown",
      "metadata": {
        "id": "EO3b5CC4uA26"
      },
      "source": [
        "## D\n",
        "\n",
        "**Use the desribe() function to determine which resort in this dataset was visited most frequently. Identify the metric, its value, and its interpretation.**"
      ]
    },
    {
      "cell_type": "code",
      "execution_count": 28,
      "metadata": {
        "id": "Mz7IvBSduHqs"
      },
      "outputs": [
        {
          "name": "stdout",
          "output_type": "stream",
          "text": [
            "Alta is most visited\n"
          ]
        }
      ],
      "source": [
        "#produce descriptive stats for this dataset\n",
        "df.describe()\n",
        "df.mean()\n",
        "print(\"Alta is most visited\")"
      ]
    },
    {
      "cell_type": "markdown",
      "metadata": {
        "id": "0GaibsPEudyq"
      },
      "source": []
    },
    {
      "cell_type": "markdown",
      "metadata": {
        "id": "1zCNBKpm27EQ"
      },
      "source": [
        "# Q3\n",
        "\n",
        "**Generate frequent itemsets using the Apriori model in the mlxtend library. Set the minimum support threshold to 20%.**"
      ]
    },
    {
      "cell_type": "code",
      "execution_count": 38,
      "metadata": {
        "id": "iMaFGXQ9usrT"
      },
      "outputs": [
        {
          "name": "stderr",
          "output_type": "stream",
          "text": [
            "c:\\Users\\tucke\\anaconda3\\Lib\\site-packages\\mlxtend\\frequent_patterns\\fpcommon.py:161: DeprecationWarning: DataFrames with non-bool types result in worse computationalperformance and their support might be discontinued in the future.Please use a DataFrame with bool type\n",
            "  warnings.warn(\n"
          ]
        },
        {
          "data": {
            "text/html": [
              "<div>\n",
              "<style scoped>\n",
              "    .dataframe tbody tr th:only-of-type {\n",
              "        vertical-align: middle;\n",
              "    }\n",
              "\n",
              "    .dataframe tbody tr th {\n",
              "        vertical-align: top;\n",
              "    }\n",
              "\n",
              "    .dataframe thead th {\n",
              "        text-align: right;\n",
              "    }\n",
              "</style>\n",
              "<table border=\"1\" class=\"dataframe\">\n",
              "  <thead>\n",
              "    <tr style=\"text-align: right;\">\n",
              "      <th></th>\n",
              "      <th>support</th>\n",
              "      <th>itemsets</th>\n",
              "    </tr>\n",
              "  </thead>\n",
              "  <tbody>\n",
              "    <tr>\n",
              "      <th>0</th>\n",
              "      <td>0.467674</td>\n",
              "      <td>(gender)</td>\n",
              "    </tr>\n",
              "    <tr>\n",
              "      <th>1</th>\n",
              "      <td>0.375325</td>\n",
              "      <td>(Sbasn)</td>\n",
              "    </tr>\n",
              "    <tr>\n",
              "      <th>2</th>\n",
              "      <td>0.404354</td>\n",
              "      <td>(Powmo)</td>\n",
              "    </tr>\n",
              "    <tr>\n",
              "      <th>3</th>\n",
              "      <td>0.344837</td>\n",
              "      <td>(Solit)</td>\n",
              "    </tr>\n",
              "    <tr>\n",
              "      <th>4</th>\n",
              "      <td>0.205077</td>\n",
              "      <td>(Brton)</td>\n",
              "    </tr>\n",
              "    <tr>\n",
              "      <th>5</th>\n",
              "      <td>0.468974</td>\n",
              "      <td>(Sbird)</td>\n",
              "    </tr>\n",
              "    <tr>\n",
              "      <th>6</th>\n",
              "      <td>0.474425</td>\n",
              "      <td>(Altax)</td>\n",
              "    </tr>\n",
              "    <tr>\n",
              "      <th>7</th>\n",
              "      <td>0.319959</td>\n",
              "      <td>(ParkC)</td>\n",
              "    </tr>\n",
              "    <tr>\n",
              "      <th>8</th>\n",
              "      <td>0.306459</td>\n",
              "      <td>(Deerv)</td>\n",
              "    </tr>\n",
              "    <tr>\n",
              "      <th>9</th>\n",
              "      <td>0.289218</td>\n",
              "      <td>(Canyo)</td>\n",
              "    </tr>\n",
              "    <tr>\n",
              "      <th>10</th>\n",
              "      <td>0.218419</td>\n",
              "      <td>(gender, Sbird)</td>\n",
              "    </tr>\n",
              "    <tr>\n",
              "      <th>11</th>\n",
              "      <td>0.222888</td>\n",
              "      <td>(gender, Altax)</td>\n",
              "    </tr>\n",
              "    <tr>\n",
              "      <th>12</th>\n",
              "      <td>0.228465</td>\n",
              "      <td>(Powmo, Sbasn)</td>\n",
              "    </tr>\n",
              "    <tr>\n",
              "      <th>13</th>\n",
              "      <td>0.210813</td>\n",
              "      <td>(Powmo, Sbird)</td>\n",
              "    </tr>\n",
              "    <tr>\n",
              "      <th>14</th>\n",
              "      <td>0.210655</td>\n",
              "      <td>(Powmo, Altax)</td>\n",
              "    </tr>\n",
              "    <tr>\n",
              "      <th>15</th>\n",
              "      <td>0.215599</td>\n",
              "      <td>(Solit, Sbird)</td>\n",
              "    </tr>\n",
              "    <tr>\n",
              "      <th>16</th>\n",
              "      <td>0.218736</td>\n",
              "      <td>(Solit, Altax)</td>\n",
              "    </tr>\n",
              "    <tr>\n",
              "      <th>17</th>\n",
              "      <td>0.341383</td>\n",
              "      <td>(Altax, Sbird)</td>\n",
              "    </tr>\n",
              "    <tr>\n",
              "      <th>18</th>\n",
              "      <td>0.229860</td>\n",
              "      <td>(ParkC, Deerv)</td>\n",
              "    </tr>\n",
              "    <tr>\n",
              "      <th>19</th>\n",
              "      <td>0.221905</td>\n",
              "      <td>(ParkC, Canyo)</td>\n",
              "    </tr>\n",
              "    <tr>\n",
              "      <th>20</th>\n",
              "      <td>0.219845</td>\n",
              "      <td>(Canyo, Deerv)</td>\n",
              "    </tr>\n",
              "  </tbody>\n",
              "</table>\n",
              "</div>"
            ],
            "text/plain": [
              "     support         itemsets\n",
              "0   0.467674         (gender)\n",
              "1   0.375325          (Sbasn)\n",
              "2   0.404354          (Powmo)\n",
              "3   0.344837          (Solit)\n",
              "4   0.205077          (Brton)\n",
              "5   0.468974          (Sbird)\n",
              "6   0.474425          (Altax)\n",
              "7   0.319959          (ParkC)\n",
              "8   0.306459          (Deerv)\n",
              "9   0.289218          (Canyo)\n",
              "10  0.218419  (gender, Sbird)\n",
              "11  0.222888  (gender, Altax)\n",
              "12  0.228465   (Powmo, Sbasn)\n",
              "13  0.210813   (Powmo, Sbird)\n",
              "14  0.210655   (Powmo, Altax)\n",
              "15  0.215599   (Solit, Sbird)\n",
              "16  0.218736   (Solit, Altax)\n",
              "17  0.341383   (Altax, Sbird)\n",
              "18  0.229860   (ParkC, Deerv)\n",
              "19  0.221905   (ParkC, Canyo)\n",
              "20  0.219845   (Canyo, Deerv)"
            ]
          },
          "execution_count": 38,
          "metadata": {},
          "output_type": "execute_result"
        }
      ],
      "source": [
        "freq_rs = apriori(df, min_support = 0.2, use_colnames=True)\n",
        "freq_rs"
      ]
    },
    {
      "cell_type": "markdown",
      "metadata": {
        "id": "XO2l_N6o4uAH"
      },
      "source": [
        "## A\n",
        "\n",
        "**Which ski resort was visited by the highest percentage of survey respondents? What metric tells you this? In the code cell, write a formula to calculate support:**"
      ]
    },
    {
      "cell_type": "markdown",
      "metadata": {
        "id": "ZWYwn7XM44nD"
      },
      "source": [
        "Mean can tell us this by averaging the value of 1 and 0s, the highest value will be the most common visited"
      ]
    },
    {
      "cell_type": "code",
      "execution_count": 39,
      "metadata": {
        "id": "dvwIK78wiM-N"
      },
      "outputs": [
        {
          "name": "stdout",
          "output_type": "stream",
          "text": [
            "Support for Alta: 0.474\n"
          ]
        }
      ],
      "source": [
        "# calculate the support count for Alta\n",
        "support_count_alta = df['Altax'].sum()\n",
        "\n",
        "# calculate the support for Alta\n",
        "support_alta = support_count_alta / len(df)\n",
        "\n",
        "# view the support value\n",
        "print(f\"Support for Alta: {support_alta:.3f}\")"
      ]
    },
    {
      "cell_type": "markdown",
      "metadata": {
        "id": "k7_8uXYE49H7"
      },
      "source": [
        "## B\n",
        "\n",
        "**Is it suprising that this resort has the highest support value of all the resorts in the database? Explain.**"
      ]
    },
    {
      "cell_type": "markdown",
      "metadata": {
        "id": "y_z81mla5Cm3"
      },
      "source": [
        "I would say no, Alta is a popular resort.  I would say for a dataset today this is no longer accurate, Solutide would likely be the most accurate."
      ]
    },
    {
      "cell_type": "markdown",
      "metadata": {
        "id": "Dz4ApP567pmX"
      },
      "source": [
        "## C\n",
        "\n",
        "**What is the support value for {Alta, Snowbird}? What does this support value indicate?**"
      ]
    },
    {
      "cell_type": "markdown",
      "metadata": {
        "id": "0-1MvxTA7wxr"
      },
      "source": [
        "Alta snowbird will have a higher support value"
      ]
    },
    {
      "cell_type": "markdown",
      "metadata": {
        "id": "po0acTFK52mL"
      },
      "source": [
        "## D\n",
        "\n",
        "**Let's try to replicate these findings by writing our own formula for calculating support:**"
      ]
    },
    {
      "cell_type": "code",
      "execution_count": 40,
      "metadata": {
        "id": "pvsJQeKUzO6_"
      },
      "outputs": [
        {
          "data": {
            "text/plain": [
              "0.34138302592381314"
            ]
          },
          "execution_count": 40,
          "metadata": {},
          "output_type": "execute_result"
        }
      ],
      "source": [
        "itemset = df[(df['Altax'] == 1) & (df['Sbird'] == 1)] #calculate support count of itemset\n",
        "support = len(itemset)/len(df) #calculate support of itemset\n",
        "support"
      ]
    },
    {
      "cell_type": "markdown",
      "metadata": {
        "id": "-T9iHf-V_Rjb"
      },
      "source": [
        "## E\n",
        "\n",
        "What is the support of {Female, Snowbird}? What does this support value indicate?"
      ]
    },
    {
      "cell_type": "code",
      "execution_count": 41,
      "metadata": {},
      "outputs": [
        {
          "data": {
            "text/plain": [
              "0.2184192178487672"
            ]
          },
          "execution_count": 41,
          "metadata": {},
          "output_type": "execute_result"
        }
      ],
      "source": [
        "itemset = df[(df['gender'] == 1) & (df['Sbird'] == 1)]\n",
        "support = len(itemset) / len(df)\n",
        "support"
      ]
    },
    {
      "cell_type": "markdown",
      "metadata": {
        "id": "aifsmdSE_XbY"
      },
      "source": [
        "21 percent of indiduals are female and support snowbird."
      ]
    },
    {
      "cell_type": "markdown",
      "metadata": {
        "id": "tnXKyyBv8-Vy"
      },
      "source": [
        "#Q4\n",
        "\n",
        "**Now run an association rules analysis on your frequent rulesets object, set the minimum confidence threshold to 0.80.**\n",
        "##A\n",
        "**How many rules are there?**"
      ]
    },
    {
      "cell_type": "code",
      "execution_count": 45,
      "metadata": {
        "id": "n9m6UGk543c7"
      },
      "outputs": [
        {
          "name": "stderr",
          "output_type": "stream",
          "text": [
            "c:\\Users\\tucke\\anaconda3\\Lib\\site-packages\\mlxtend\\frequent_patterns\\fpcommon.py:161: DeprecationWarning: DataFrames with non-bool types result in worse computationalperformance and their support might be discontinued in the future.Please use a DataFrame with bool type\n",
            "  warnings.warn(\n"
          ]
        },
        {
          "data": {
            "text/plain": [
              "0"
            ]
          },
          "execution_count": 45,
          "metadata": {},
          "output_type": "execute_result"
        }
      ],
      "source": [
        "# run an association rules analysis, conf =/> 0.8\n",
        "rules = apriori(df, min_support = 0.8, use_colnames=True)\n",
        "len(rules)"
      ]
    },
    {
      "cell_type": "markdown",
      "metadata": {
        "id": "GLz_HmJS9wHc"
      },
      "source": [
        "No rules that are 80% confident"
      ]
    },
    {
      "cell_type": "markdown",
      "metadata": {
        "id": "bNUeaESP-An1"
      },
      "source": [
        "## B\n",
        "\n",
        "**Okay, looks like 80% confidence was too high. Let's re-generate our frequent itemsets to have a minimum support of 0.05 and then rerun the analysis with a mimum confidence of 0.**"
      ]
    },
    {
      "cell_type": "code",
      "execution_count": 48,
      "metadata": {
        "id": "FGvMM4bQ95LW"
      },
      "outputs": [
        {
          "name": "stderr",
          "output_type": "stream",
          "text": [
            "c:\\Users\\tucke\\anaconda3\\Lib\\site-packages\\mlxtend\\frequent_patterns\\fpcommon.py:161: DeprecationWarning: DataFrames with non-bool types result in worse computationalperformance and their support might be discontinued in the future.Please use a DataFrame with bool type\n",
            "  warnings.warn(\n"
          ]
        },
        {
          "data": {
            "text/plain": [
              "112"
            ]
          },
          "execution_count": 48,
          "metadata": {},
          "output_type": "execute_result"
        }
      ],
      "source": [
        "rules = apriori(df, min_support = 0.05, use_colnames=True)\n",
        "len(rules)"
      ]
    },
    {
      "cell_type": "code",
      "execution_count": 50,
      "metadata": {
        "id": "eWl155Oh9ydM"
      },
      "outputs": [
        {
          "name": "stderr",
          "output_type": "stream",
          "text": [
            "c:\\Users\\tucke\\anaconda3\\Lib\\site-packages\\mlxtend\\frequent_patterns\\fpcommon.py:161: DeprecationWarning: DataFrames with non-bool types result in worse computationalperformance and their support might be discontinued in the future.Please use a DataFrame with bool type\n",
            "  warnings.warn(\n"
          ]
        },
        {
          "data": {
            "text/plain": [
              "1023"
            ]
          },
          "execution_count": 50,
          "metadata": {},
          "output_type": "execute_result"
        }
      ],
      "source": [
        "rules = apriori(df, min_support = 0.00001, use_colnames=True)\n",
        "len(rules)"
      ]
    },
    {
      "cell_type": "markdown",
      "metadata": {
        "id": "KzDQwERB_2ws"
      },
      "source": [
        "## C\n",
        "\n",
        "**Which three resorts were most frequently visited by the same respondent? Report the support value that tells you this. *Hint: Sort support from high to low.***"
      ]
    },
    {
      "cell_type": "code",
      "execution_count": 54,
      "metadata": {},
      "outputs": [
        {
          "name": "stderr",
          "output_type": "stream",
          "text": [
            "c:\\Users\\tucke\\anaconda3\\Lib\\site-packages\\mlxtend\\frequent_patterns\\fpcommon.py:161: DeprecationWarning: DataFrames with non-bool types result in worse computationalperformance and their support might be discontinued in the future.Please use a DataFrame with bool type\n",
            "  warnings.warn(\n"
          ]
        },
        {
          "data": {
            "text/html": [
              "<div>\n",
              "<style scoped>\n",
              "    .dataframe tbody tr th:only-of-type {\n",
              "        vertical-align: middle;\n",
              "    }\n",
              "\n",
              "    .dataframe tbody tr th {\n",
              "        vertical-align: top;\n",
              "    }\n",
              "\n",
              "    .dataframe thead th {\n",
              "        text-align: right;\n",
              "    }\n",
              "</style>\n",
              "<table border=\"1\" class=\"dataframe\">\n",
              "  <thead>\n",
              "    <tr style=\"text-align: right;\">\n",
              "      <th></th>\n",
              "      <th>antecedents</th>\n",
              "      <th>consequents</th>\n",
              "      <th>antecedent support</th>\n",
              "      <th>consequent support</th>\n",
              "      <th>support</th>\n",
              "      <th>confidence</th>\n",
              "      <th>lift</th>\n",
              "      <th>representativity</th>\n",
              "      <th>leverage</th>\n",
              "      <th>conviction</th>\n",
              "      <th>zhangs_metric</th>\n",
              "      <th>jaccard</th>\n",
              "      <th>certainty</th>\n",
              "      <th>kulczynski</th>\n",
              "    </tr>\n",
              "  </thead>\n",
              "  <tbody>\n",
              "    <tr>\n",
              "      <th>236</th>\n",
              "      <td>(Canyo, Deerv)</td>\n",
              "      <td>(ParkC)</td>\n",
              "      <td>0.219845</td>\n",
              "      <td>0.319959</td>\n",
              "      <td>0.193985</td>\n",
              "      <td>0.88237</td>\n",
              "      <td>2.757756</td>\n",
              "      <td>1.0</td>\n",
              "      <td>0.123643</td>\n",
              "      <td>5.781178</td>\n",
              "      <td>0.817</td>\n",
              "      <td>0.560942</td>\n",
              "      <td>0.827025</td>\n",
              "      <td>0.744325</td>\n",
              "    </tr>\n",
              "  </tbody>\n",
              "</table>\n",
              "</div>"
            ],
            "text/plain": [
              "        antecedents consequents  antecedent support  consequent support  \\\n",
              "236  (Canyo, Deerv)     (ParkC)            0.219845            0.319959   \n",
              "\n",
              "      support  confidence      lift  representativity  leverage  conviction  \\\n",
              "236  0.193985     0.88237  2.757756               1.0  0.123643    5.781178   \n",
              "\n",
              "     zhangs_metric   jaccard  certainty  kulczynski  \n",
              "236          0.817  0.560942   0.827025    0.744325  "
            ]
          },
          "execution_count": 54,
          "metadata": {},
          "output_type": "execute_result"
        }
      ],
      "source": [
        "df_clean = df.drop(columns='gender') if 'gender' in df.columns else df\n",
        "\n",
        "freq_rs = apriori(df_clean, min_support=0.05, use_colnames=True)\n",
        "rules = association_rules(freq_rs, metric='confidence', min_threshold=0)\n",
        "\n",
        "# Now filter for 3-resort combinations (2 in antecedent, 1 in consequent)\n",
        "three_resort_combos = rules[(rules['antecedents'].apply(len) == 2) &\n",
        "                            (rules['consequents'].apply(len) == 1)]\n",
        "\n",
        "# Sort by support and show top result\n",
        "top_three_resorts = three_resort_combos.sort_values(by='support', ascending=False)\n",
        "top_three_resorts.head(1)"
      ]
    },
    {
      "cell_type": "markdown",
      "metadata": {
        "id": "kWHJZcxYA90p"
      },
      "source": [
        "## D\n",
        "\n",
        "**Does it make sense that those three would be frequently visted together? Explain.**"
      ]
    },
    {
      "cell_type": "markdown",
      "metadata": {
        "id": "8scYeUUuBDUP"
      },
      "source": [
        "Yes, it does make sense"
      ]
    },
    {
      "cell_type": "markdown",
      "metadata": {
        "id": "3-AY-5aCBHCS"
      },
      "source": [
        "## E\n",
        "\n",
        "**Among females who visited two or more resorts during the season, which two-resort combination was most frequently visited? Report the support value that tells you this. *Hint: search for antecedents containing gender=f then sort by support.***"
      ]
    },
    {
      "cell_type": "code",
      "execution_count": 58,
      "metadata": {},
      "outputs": [
        {
          "name": "stderr",
          "output_type": "stream",
          "text": [
            "c:\\Users\\tucke\\anaconda3\\Lib\\site-packages\\mlxtend\\frequent_patterns\\fpcommon.py:161: DeprecationWarning: DataFrames with non-bool types result in worse computationalperformance and their support might be discontinued in the future.Please use a DataFrame with bool type\n",
            "  warnings.warn(\n"
          ]
        },
        {
          "data": {
            "text/html": [
              "<div>\n",
              "<style scoped>\n",
              "    .dataframe tbody tr th:only-of-type {\n",
              "        vertical-align: middle;\n",
              "    }\n",
              "\n",
              "    .dataframe tbody tr th {\n",
              "        vertical-align: top;\n",
              "    }\n",
              "\n",
              "    .dataframe thead th {\n",
              "        text-align: right;\n",
              "    }\n",
              "</style>\n",
              "<table border=\"1\" class=\"dataframe\">\n",
              "  <thead>\n",
              "    <tr style=\"text-align: right;\">\n",
              "      <th></th>\n",
              "      <th>antecedents</th>\n",
              "      <th>consequents</th>\n",
              "      <th>antecedent support</th>\n",
              "      <th>consequent support</th>\n",
              "      <th>support</th>\n",
              "      <th>confidence</th>\n",
              "      <th>lift</th>\n",
              "      <th>representativity</th>\n",
              "      <th>leverage</th>\n",
              "      <th>conviction</th>\n",
              "      <th>zhangs_metric</th>\n",
              "      <th>jaccard</th>\n",
              "      <th>certainty</th>\n",
              "      <th>kulczynski</th>\n",
              "    </tr>\n",
              "  </thead>\n",
              "  <tbody>\n",
              "    <tr>\n",
              "      <th>10</th>\n",
              "      <td>(gender)</td>\n",
              "      <td>(Altax)</td>\n",
              "      <td>0.467674</td>\n",
              "      <td>0.474425</td>\n",
              "      <td>0.222888</td>\n",
              "      <td>0.476587</td>\n",
              "      <td>1.004558</td>\n",
              "      <td>1.0</td>\n",
              "      <td>0.001011</td>\n",
              "      <td>1.004132</td>\n",
              "      <td>0.008524</td>\n",
              "      <td>0.309906</td>\n",
              "      <td>0.004115</td>\n",
              "      <td>0.473197</td>\n",
              "    </tr>\n",
              "    <tr>\n",
              "      <th>8</th>\n",
              "      <td>(gender)</td>\n",
              "      <td>(Sbird)</td>\n",
              "      <td>0.467674</td>\n",
              "      <td>0.468974</td>\n",
              "      <td>0.218419</td>\n",
              "      <td>0.467033</td>\n",
              "      <td>0.995861</td>\n",
              "      <td>1.0</td>\n",
              "      <td>-0.000908</td>\n",
              "      <td>0.996358</td>\n",
              "      <td>-0.007748</td>\n",
              "      <td>0.304108</td>\n",
              "      <td>-0.003656</td>\n",
              "      <td>0.466386</td>\n",
              "    </tr>\n",
              "    <tr>\n",
              "      <th>2</th>\n",
              "      <td>(gender)</td>\n",
              "      <td>(Powmo)</td>\n",
              "      <td>0.467674</td>\n",
              "      <td>0.404354</td>\n",
              "      <td>0.177347</td>\n",
              "      <td>0.379210</td>\n",
              "      <td>0.937816</td>\n",
              "      <td>1.0</td>\n",
              "      <td>-0.011759</td>\n",
              "      <td>0.959496</td>\n",
              "      <td>-0.110765</td>\n",
              "      <td>0.255292</td>\n",
              "      <td>-0.042214</td>\n",
              "      <td>0.408901</td>\n",
              "    </tr>\n",
              "    <tr>\n",
              "      <th>0</th>\n",
              "      <td>(gender)</td>\n",
              "      <td>(Sbasn)</td>\n",
              "      <td>0.467674</td>\n",
              "      <td>0.375325</td>\n",
              "      <td>0.170755</td>\n",
              "      <td>0.365115</td>\n",
              "      <td>0.972797</td>\n",
              "      <td>1.0</td>\n",
              "      <td>-0.004775</td>\n",
              "      <td>0.983918</td>\n",
              "      <td>-0.049909</td>\n",
              "      <td>0.254007</td>\n",
              "      <td>-0.016344</td>\n",
              "      <td>0.410034</td>\n",
              "    </tr>\n",
              "    <tr>\n",
              "      <th>246</th>\n",
              "      <td>(gender, Altax)</td>\n",
              "      <td>(Sbird)</td>\n",
              "      <td>0.222888</td>\n",
              "      <td>0.468974</td>\n",
              "      <td>0.161247</td>\n",
              "      <td>0.723447</td>\n",
              "      <td>1.542616</td>\n",
              "      <td>1.0</td>\n",
              "      <td>0.056719</td>\n",
              "      <td>1.920158</td>\n",
              "      <td>0.452638</td>\n",
              "      <td>0.303888</td>\n",
              "      <td>0.479209</td>\n",
              "      <td>0.533638</td>\n",
              "    </tr>\n",
              "  </tbody>\n",
              "</table>\n",
              "</div>"
            ],
            "text/plain": [
              "         antecedents consequents  antecedent support  consequent support  \\\n",
              "10          (gender)     (Altax)            0.467674            0.474425   \n",
              "8           (gender)     (Sbird)            0.467674            0.468974   \n",
              "2           (gender)     (Powmo)            0.467674            0.404354   \n",
              "0           (gender)     (Sbasn)            0.467674            0.375325   \n",
              "246  (gender, Altax)     (Sbird)            0.222888            0.468974   \n",
              "\n",
              "      support  confidence      lift  representativity  leverage  conviction  \\\n",
              "10   0.222888    0.476587  1.004558               1.0  0.001011    1.004132   \n",
              "8    0.218419    0.467033  0.995861               1.0 -0.000908    0.996358   \n",
              "2    0.177347    0.379210  0.937816               1.0 -0.011759    0.959496   \n",
              "0    0.170755    0.365115  0.972797               1.0 -0.004775    0.983918   \n",
              "246  0.161247    0.723447  1.542616               1.0  0.056719    1.920158   \n",
              "\n",
              "     zhangs_metric   jaccard  certainty  kulczynski  \n",
              "10        0.008524  0.309906   0.004115    0.473197  \n",
              "8        -0.007748  0.304108  -0.003656    0.466386  \n",
              "2        -0.110765  0.255292  -0.042214    0.408901  \n",
              "0        -0.049909  0.254007  -0.016344    0.410034  \n",
              "246       0.452638  0.303888   0.479209    0.533638  "
            ]
          },
          "execution_count": 58,
          "metadata": {},
          "output_type": "execute_result"
        }
      ],
      "source": [
        "frequent_sets = apriori(df, min_support=0.01, use_colnames=True)\n",
        "\n",
        "rules = association_rules(frequent_sets, metric=\"support\", min_threshold=0)\n",
        "\n",
        "female_resort_rules = rules[\n",
        "    rules['antecedents'].apply(lambda x: 'gender' in x) &\n",
        "    rules['consequents'].apply(lambda x: len(x) == 1 and 'gender' not in x)\n",
        "]\n",
        "\n",
        "female_resort_rules.sort_values(by='support', ascending=False).head()"
      ]
    },
    {
      "cell_type": "markdown",
      "metadata": {
        "id": "X8tdKTSsBxKM"
      },
      "source": []
    },
    {
      "cell_type": "markdown",
      "metadata": {
        "id": "sUpVQkJ4B4ML"
      },
      "source": [
        "#Q5\n",
        "\n",
        "**Let's switch gears and focus on the confidence of rulesets.**\n",
        "\n",
        "##A\n",
        "\n",
        "**What is the confidence for {Snowbasin} → {Beaver Mountain}? What does this value tell you?**"
      ]
    },
    {
      "cell_type": "code",
      "execution_count": 64,
      "metadata": {},
      "outputs": [
        {
          "data": {
            "text/html": [
              "<div>\n",
              "<style scoped>\n",
              "    .dataframe tbody tr th:only-of-type {\n",
              "        vertical-align: middle;\n",
              "    }\n",
              "\n",
              "    .dataframe tbody tr th {\n",
              "        vertical-align: top;\n",
              "    }\n",
              "\n",
              "    .dataframe thead th {\n",
              "        text-align: right;\n",
              "    }\n",
              "</style>\n",
              "<table border=\"1\" class=\"dataframe\">\n",
              "  <thead>\n",
              "    <tr style=\"text-align: right;\">\n",
              "      <th></th>\n",
              "      <th>antecedents</th>\n",
              "      <th>consequents</th>\n",
              "      <th>antecedent support</th>\n",
              "      <th>consequent support</th>\n",
              "      <th>support</th>\n",
              "      <th>confidence</th>\n",
              "      <th>lift</th>\n",
              "      <th>representativity</th>\n",
              "      <th>leverage</th>\n",
              "      <th>conviction</th>\n",
              "      <th>zhangs_metric</th>\n",
              "      <th>jaccard</th>\n",
              "      <th>certainty</th>\n",
              "      <th>kulczynski</th>\n",
              "    </tr>\n",
              "  </thead>\n",
              "  <tbody>\n",
              "  </tbody>\n",
              "</table>\n",
              "</div>"
            ],
            "text/plain": [
              "Empty DataFrame\n",
              "Columns: [antecedents, consequents, antecedent support, consequent support, support, confidence, lift, representativity, leverage, conviction, zhangs_metric, jaccard, certainty, kulczynski]\n",
              "Index: []"
            ]
          },
          "execution_count": 64,
          "metadata": {},
          "output_type": "execute_result"
        }
      ],
      "source": [
        "df_apriori = df.astype(bool)\n",
        "frequent_itemsets = apriori(df_apriori, min_support=0.01, use_colnames=True)\n",
        "\n",
        "rules = association_rules(frequent_itemsets, metric=\"confidence\", min_threshold=0.01)\n",
        "\n",
        "rule_confidence = rules[(rules['antecedents'] == frozenset({'Sbasn'})) & (rules['consequents'] == frozenset({'BeavM'}))]\n",
        "\n",
        "rule_confidence"
      ]
    },
    {
      "cell_type": "markdown",
      "metadata": {
        "id": "TQoqARy2Cf4P"
      },
      "source": [
        "no one does this"
      ]
    },
    {
      "cell_type": "markdown",
      "metadata": {
        "id": "q-x1SwOk4_D2"
      },
      "source": [
        "## B\n",
        "\n",
        "**Let's see if we can replicate these findings writing our own formula for calculating confidence:**"
      ]
    },
    {
      "cell_type": "code",
      "execution_count": 65,
      "metadata": {
        "id": "dVQDC1Lq1tDm"
      },
      "outputs": [
        {
          "data": {
            "text/plain": [
              "0.0"
            ]
          },
          "execution_count": 65,
          "metadata": {},
          "output_type": "execute_result"
        }
      ],
      "source": [
        "sc_x = df['Sbasn'].sum() # calculate support count of Sbasn\n",
        "sc_xy = len(df[(df['Sbasn'] == 1) & (df['Beavm'] == 1)]) # calculate support count of {Sbasn, Beavm}\n",
        "\n",
        "confidence = sc_xy/sc_x #calculate confidence of {Sbasn --> Beavm}\n",
        "confidence"
      ]
    },
    {
      "cell_type": "markdown",
      "metadata": {
        "id": "vOu5VqV0Cjhk"
      },
      "source": [
        "##C\n",
        "\n",
        "**What is the confidence for {Beaver Mountain} → {Snowbasin}? What does this value tell you?**"
      ]
    },
    {
      "cell_type": "markdown",
      "metadata": {
        "id": "0BljJ_egC5xu"
      },
      "source": [
        "Its still going to be zero."
      ]
    },
    {
      "cell_type": "markdown",
      "metadata": {
        "id": "JJcJVNozC82U"
      },
      "source": [
        "##D\n",
        "\n",
        "**Knowing that Snowbasin is near Ogden and Beaver Mountain is near Logan, what explains the difference in confidence values reported in A and B.**"
      ]
    },
    {
      "cell_type": "markdown",
      "metadata": {
        "id": "78MFPkPpDNzt"
      },
      "source": [
        "I'm surprised its this low but it could be explained as they are not on the same pass."
      ]
    },
    {
      "cell_type": "markdown",
      "metadata": {
        "id": "6e0-B12gDUO7"
      },
      "source": [
        "## E\n",
        "\n",
        "**What is the confidence for {Alta, Snowbird, Snowbasin, Solitude} → {Powder Mountain}? What does this value tell you?**"
      ]
    },
    {
      "cell_type": "code",
      "execution_count": 69,
      "metadata": {},
      "outputs": [
        {
          "data": {
            "text/plain": [
              "0.18739713143663297"
            ]
          },
          "execution_count": 69,
          "metadata": {},
          "output_type": "execute_result"
        }
      ],
      "source": [
        "sc_x = df['Powmo'].sum() # calculate support count of Sbasn\n",
        "sc_xy = len(df[(df['Altax'] == 1) & (df['Sbasn'] == 1) & (df['Sbird'] == 1) & (df['Solit'] == 1)]) # calculate support count of {Sbasn, Beavm}\n",
        "\n",
        "confidence = sc_xy/sc_x\n",
        "confidence"
      ]
    },
    {
      "cell_type": "markdown",
      "metadata": {
        "id": "Zh-hRP5BDwPz"
      },
      "source": [
        "we have some users doing this combination of trips"
      ]
    },
    {
      "cell_type": "markdown",
      "metadata": {
        "id": "y7bbXkjnD0O-"
      },
      "source": [
        "## F\n",
        "\n",
        "**What is the Lift for {Alta, Snowbird, Snowbasin, Solitude} → {Powder Mountain}? What does this mean?**"
      ]
    },
    {
      "cell_type": "code",
      "execution_count": 70,
      "metadata": {},
      "outputs": [
        {
          "data": {
            "text/plain": [
              "0.46344769067728797"
            ]
          },
          "execution_count": 70,
          "metadata": {},
          "output_type": "execute_result"
        }
      ],
      "source": [
        "support_y = df['Powmo'].sum() / len(df)\n",
        "\n",
        "lift = confidence / support_y\n",
        "lift"
      ]
    },
    {
      "cell_type": "markdown",
      "metadata": {
        "id": "h5_RqfxGD_is"
      },
      "source": [
        "visiting alta, bird, basin and tude increases likely hood of visiting powmow"
      ]
    },
    {
      "cell_type": "markdown",
      "metadata": {
        "id": "hy8vncv05N1V"
      },
      "source": [
        "## G\n",
        "\n",
        "**Let's see if we can replicate this finding writing our own formula for calculating Lift:**"
      ]
    },
    {
      "cell_type": "code",
      "execution_count": 71,
      "metadata": {
        "id": "GKjOZyJ_2zk2"
      },
      "outputs": [
        {
          "data": {
            "text/plain": [
              "2.043831780415684"
            ]
          },
          "execution_count": 71,
          "metadata": {},
          "output_type": "execute_result"
        }
      ],
      "source": [
        "sc_y = df['Powmo'].sum() #calculate support count of Powmo\n",
        "s_y = sc_y/len(df) #calculate support of Powmo\n",
        "sc_x = len(df[(df['Altax'] == 1) & (df['Sbird'] == 1) & (df['Sbasn'] == 1) & (df['Solit'] == 1)]) #calculate support count of itemset x\n",
        "sc_xy = len(df[(df['Altax'] == 1) & (df['Sbird'] == 1) & (df['Sbasn'] == 1) & (df['Solit'] == 1) & (df['Powmo'] == 1)]) #calculate support count of x and y\n",
        "\n",
        "confidence = sc_xy/sc_x #calculate confidence of x --> y\n",
        "confidence\n",
        "\n",
        "Lift = confidence/s_y #calculate lift of x --> y\n",
        "Lift"
      ]
    },
    {
      "cell_type": "markdown",
      "metadata": {
        "id": "RQqSY8U6ELi_"
      },
      "source": [
        "#Q6\n",
        "\n",
        "**Explore the association rules table to find a surprising confidence or lift value in the dataset, then recommend something that could be done about it to the benefit of one or more of the ski resorts. In doing so:**\n",
        "\n",
        "## A\n",
        "\n",
        "**Report the surprising value and its association rule. Note, you may also find surprise in a comparison of values (e.g., one confidence is high and another low) — if so, report all relevant values in the comparison.**"
      ]
    },
    {
      "cell_type": "markdown",
      "metadata": {
        "id": "I3MoCeBPET5D"
      },
      "source": [
        "One surprising rule was:\n",
        "Snowbird to Deervalley with a low confidence of 0.07 and low lift of 0.14.\n",
        "\n",
        "In contrast, Snowbird to Alta had a confidence of 0.72 and lift of 1.52.\n",
        "\n",
        "This contrast between two resorts in the same general region is notable.\n"
      ]
    },
    {
      "cell_type": "markdown",
      "metadata": {
        "id": "zzdA8wONEWh3"
      },
      "source": [
        "## B\n",
        "\n",
        "**Why do you find it surprising?**"
      ]
    },
    {
      "cell_type": "markdown",
      "metadata": {
        "id": "lhvN4_UAEcC4"
      },
      "source": [
        "Snowbird and Deer Valley are both popular, high-end ski resorts in Utah and are located relatively close to each other. I expected that skiers who visit Snowbird would also consider skiing at Deer Valley, especially if they are tourists trying out multiple premium resorts. However, the data shows this is rarely the case, while visits to Alta (which is also close) occur frequently alongside Snowbird.\n"
      ]
    },
    {
      "cell_type": "markdown",
      "metadata": {
        "id": "vtLKxwCFEcWw"
      },
      "source": [
        "## C\n",
        "\n",
        "**What would you recommend be done about this (to the benefit of one or more ski resorts?)**"
      ]
    },
    {
      "cell_type": "markdown",
      "metadata": {
        "id": "daZ_6mTxEjUQ"
      },
      "source": [
        "This pattern may indicate limited overlap in target demographics or pass access (e.g., Epic vs. Ikon). Deer Valley could benefit from targeted cross-promotion with Snowbird (or similar resorts) — for instance, offering bundled lift ticket deals or transportation services between resorts. This might increase crossover traffic and bring in new skier types who currently overlook Deer Valley.\n"
      ]
    }
  ],
  "metadata": {
    "colab": {
      "provenance": []
    },
    "kernelspec": {
      "display_name": "base",
      "language": "python",
      "name": "python3"
    },
    "language_info": {
      "codemirror_mode": {
        "name": "ipython",
        "version": 3
      },
      "file_extension": ".py",
      "mimetype": "text/x-python",
      "name": "python",
      "nbconvert_exporter": "python",
      "pygments_lexer": "ipython3",
      "version": "3.12.4"
    }
  },
  "nbformat": 4,
  "nbformat_minor": 0
}

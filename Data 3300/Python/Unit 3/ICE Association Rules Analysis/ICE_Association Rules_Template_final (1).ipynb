{
  "cells": [
    {
      "cell_type": "markdown",
      "metadata": {
        "id": "aMSfCCpPf-Ai"
      },
      "source": [
        "# ICE - Association Rules Analysis\n",
        "## *DATA 3300*"
      ]
    },
    {
      "cell_type": "markdown",
      "metadata": {
        "id": "-cgS37MEgG_c"
      },
      "source": [
        "## Student Name:"
      ]
    },
    {
      "cell_type": "markdown",
      "metadata": {
        "id": "XGBcfZ09gL1y"
      },
      "source": [
        "#**Q1**\n",
        "\n",
        "**Load the following libaries: Pandas, NumPy, Matplotlib.pyplot and mlxetend.frequent_patterns then import the skiut dataset**"
      ]
    },
    {
      "cell_type": "code",
      "execution_count": 2,
      "metadata": {},
      "outputs": [
        {
          "name": "stdout",
          "output_type": "stream",
          "text": [
            "Collecting mlxtend\n",
            "  Downloading mlxtend-0.23.4-py3-none-any.whl.metadata (7.3 kB)\n",
            "Requirement already satisfied: scipy>=1.2.1 in c:\\users\\tucke\\anaconda3\\lib\\site-packages (from mlxtend) (1.13.1)\n",
            "Requirement already satisfied: numpy>=1.16.2 in c:\\users\\tucke\\anaconda3\\lib\\site-packages (from mlxtend) (1.26.4)\n",
            "Requirement already satisfied: pandas>=0.24.2 in c:\\users\\tucke\\anaconda3\\lib\\site-packages (from mlxtend) (2.2.2)\n",
            "Requirement already satisfied: scikit-learn>=1.3.1 in c:\\users\\tucke\\anaconda3\\lib\\site-packages (from mlxtend) (1.4.2)\n",
            "Requirement already satisfied: matplotlib>=3.0.0 in c:\\users\\tucke\\anaconda3\\lib\\site-packages (from mlxtend) (3.8.4)\n",
            "Requirement already satisfied: joblib>=0.13.2 in c:\\users\\tucke\\anaconda3\\lib\\site-packages (from mlxtend) (1.4.2)\n",
            "Requirement already satisfied: contourpy>=1.0.1 in c:\\users\\tucke\\anaconda3\\lib\\site-packages (from matplotlib>=3.0.0->mlxtend) (1.2.0)\n",
            "Requirement already satisfied: cycler>=0.10 in c:\\users\\tucke\\anaconda3\\lib\\site-packages (from matplotlib>=3.0.0->mlxtend) (0.11.0)\n",
            "Requirement already satisfied: fonttools>=4.22.0 in c:\\users\\tucke\\anaconda3\\lib\\site-packages (from matplotlib>=3.0.0->mlxtend) (4.51.0)\n",
            "Requirement already satisfied: kiwisolver>=1.3.1 in c:\\users\\tucke\\anaconda3\\lib\\site-packages (from matplotlib>=3.0.0->mlxtend) (1.4.4)\n",
            "Requirement already satisfied: packaging>=20.0 in c:\\users\\tucke\\anaconda3\\lib\\site-packages (from matplotlib>=3.0.0->mlxtend) (23.2)\n",
            "Requirement already satisfied: pillow>=8 in c:\\users\\tucke\\anaconda3\\lib\\site-packages (from matplotlib>=3.0.0->mlxtend) (10.3.0)\n",
            "Requirement already satisfied: pyparsing>=2.3.1 in c:\\users\\tucke\\anaconda3\\lib\\site-packages (from matplotlib>=3.0.0->mlxtend) (3.0.9)\n",
            "Requirement already satisfied: python-dateutil>=2.7 in c:\\users\\tucke\\anaconda3\\lib\\site-packages (from matplotlib>=3.0.0->mlxtend) (2.9.0.post0)\n",
            "Requirement already satisfied: pytz>=2020.1 in c:\\users\\tucke\\anaconda3\\lib\\site-packages (from pandas>=0.24.2->mlxtend) (2024.1)\n",
            "Requirement already satisfied: tzdata>=2022.7 in c:\\users\\tucke\\anaconda3\\lib\\site-packages (from pandas>=0.24.2->mlxtend) (2023.3)\n",
            "Requirement already satisfied: threadpoolctl>=2.0.0 in c:\\users\\tucke\\anaconda3\\lib\\site-packages (from scikit-learn>=1.3.1->mlxtend) (2.2.0)\n",
            "Requirement already satisfied: six>=1.5 in c:\\users\\tucke\\anaconda3\\lib\\site-packages (from python-dateutil>=2.7->matplotlib>=3.0.0->mlxtend) (1.16.0)\n",
            "Downloading mlxtend-0.23.4-py3-none-any.whl (1.4 MB)\n",
            "   ---------------------------------------- 0.0/1.4 MB ? eta -:--:--\n",
            "   ---------------------------------------- 0.0/1.4 MB ? eta -:--:--\n",
            "    --------------------------------------- 0.0/1.4 MB 435.7 kB/s eta 0:00:04\n",
            "   --- ------------------------------------ 0.1/1.4 MB 1.2 MB/s eta 0:00:02\n",
            "   ---------------- ----------------------- 0.6/1.4 MB 3.9 MB/s eta 0:00:01\n",
            "   ---------------------------------------- 1.4/1.4 MB 7.8 MB/s eta 0:00:00\n",
            "Installing collected packages: mlxtend\n",
            "Successfully installed mlxtend-0.23.4\n"
          ]
        }
      ],
      "source": [
        "!pip install mlxtend"
      ]
    },
    {
      "cell_type": "code",
      "execution_count": 1,
      "metadata": {
        "id": "NMPkHgyNflRR"
      },
      "outputs": [
        {
          "ename": "ModuleNotFoundError",
          "evalue": "No module named 'mlxtend'",
          "output_type": "error",
          "traceback": [
            "\u001b[1;31m---------------------------------------------------------------------------\u001b[0m",
            "\u001b[1;31mModuleNotFoundError\u001b[0m                       Traceback (most recent call last)",
            "Cell \u001b[1;32mIn[1], line 4\u001b[0m\n\u001b[0;32m      2\u001b[0m \u001b[38;5;28;01mimport\u001b[39;00m \u001b[38;5;21;01mnumpy\u001b[39;00m \u001b[38;5;28;01mas\u001b[39;00m \u001b[38;5;21;01mnp\u001b[39;00m\n\u001b[0;32m      3\u001b[0m \u001b[38;5;28;01mimport\u001b[39;00m \u001b[38;5;21;01mmatplotlib\u001b[39;00m\u001b[38;5;21;01m.\u001b[39;00m\u001b[38;5;21;01mpyplot\u001b[39;00m \u001b[38;5;28;01mas\u001b[39;00m \u001b[38;5;21;01mplt\u001b[39;00m\n\u001b[1;32m----> 4\u001b[0m \u001b[38;5;28;01mfrom\u001b[39;00m \u001b[38;5;21;01mmlxtend\u001b[39;00m\u001b[38;5;21;01m.\u001b[39;00m\u001b[38;5;21;01mfrequent_patterns\u001b[39;00m \u001b[38;5;28;01mimport\u001b[39;00m apriori, association_rules\n",
            "\u001b[1;31mModuleNotFoundError\u001b[0m: No module named 'mlxtend'"
          ]
        }
      ],
      "source": [
        "import pandas as pd\n",
        "import numpy as np\n",
        "import matplotlib.pyplot as plt\n",
        "from mlxtend.frequent_patterns import apriori, association_rules"
      ]
    },
    {
      "cell_type": "code",
      "execution_count": null,
      "metadata": {
        "id": "jr7LIZTNksGp"
      },
      "outputs": [],
      "source": [
        "#import data set\n",
        "#view headers\n",
        "df = pd.read_csv(\"skiut_list.csv\")\n",
        "df.head()"
      ]
    },
    {
      "cell_type": "markdown",
      "metadata": {
        "id": "VPAsk2_Dr3c3"
      },
      "source": [
        "#Q2\n",
        "\n",
        "**You might notice that because the survey question related to ski resort visitation was in a \"select all that apply\" form, there is only one column that lists all of the ski resorts attended, deliminated by a comma.**\n",
        "\n",
        "**This is not in a usable format for data analysis, so we need to create a dummy variable column for each of the 10 ski resorts, to indicate which of the 10 resorts each skier visited.**\n",
        "\n",
        "## A\n",
        "**Create a series of lambda functions to search for the text string labels of each ski resort in each response, then create a new column for each resort containing \"True\" or \"False\" depending on whether the resort was listed in the response.**"
      ]
    },
    {
      "cell_type": "code",
      "execution_count": null,
      "metadata": {
        "id": "7SQiw-XvmcM7"
      },
      "outputs": [],
      "source": [
        "df[''] = ( x: \"\" in x., axis=1)\n",
        "df['Sbasn'] = df.apply(lambda x: \"sbasn\" in x.Select_All_That_Apply, axis=1)\n",
        "df['Powmo'] = df.apply(lambda x: \"powmo\" in x.Select_All_That_Apply, axis=1)\n",
        "df['Solit'] = df.apply(lambda x: \"solit\" in x.Select_All_That_Apply, axis=1)\n",
        "df['Brton'] = df.apply(lambda x: \"brton\" in x.Select_All_That_Apply, axis=1)\n",
        "df['Sbird'] = df.apply(lambda x: \"sbird\" in x.Select_All_That_Apply, axis=1)\n",
        "df['Altax'] = df.apply(lambda x: \"altax\" in x.Select_All_That_Apply, axis=1)\n",
        "df['ParkC'] = df.apply(lambda x: \"parkc\" in x.Select_All_That_Apply, axis=1)\n",
        "df['Deerv'] = df.apply(lambda x: \"deerv\" in x.Select_All_That_Apply, axis=1)\n",
        "df['Canyo'] = df.apply(lambda x: \"canyo\" in x.Select_All_That_Apply, axis=1)"
      ]
    },
    {
      "cell_type": "code",
      "execution_count": null,
      "metadata": {
        "id": "-3bBSaN4QKlt"
      },
      "outputs": [],
      "source": [
        "#view headers"
      ]
    },
    {
      "cell_type": "markdown",
      "metadata": {
        "id": "DJbcc91cs_q6"
      },
      "source": [
        "## B\n",
        "\n",
        "**Now, convert the \"True\" and \"False\" label to a 1 or 0 for each column using the replace function. Do the same for gender, where m = 0, f = 1.**\n",
        "\n",
        "**Also, there's no need to keep in the 'Select_All_That_Apply' column, so let's drop that.**"
      ]
    },
    {
      "cell_type": "code",
      "execution_count": null,
      "metadata": {
        "id": "_9hPO-1ppsXT"
      },
      "outputs": [],
      "source": [
        "df = df.drop('', axis=1)\n",
        "df.replace({: , : }, inplace=True)\n",
        "df.replace({'' : , '': }, inplace=True)\n",
        "\n",
        "df = df.rename({'': ''}, axis=1)\n",
        "df.head()"
      ]
    },
    {
      "cell_type": "markdown",
      "metadata": {
        "id": "XxJrYM8gtRSD"
      },
      "source": [
        "## C\n",
        "\n",
        "**Before running any actual analysis, we should exclude the SkierID variable by setting it as our index. Do so below and then explain why.**"
      ]
    },
    {
      "cell_type": "markdown",
      "metadata": {
        "id": "yMau2LT4te3A"
      },
      "source": []
    },
    {
      "cell_type": "code",
      "execution_count": null,
      "metadata": {
        "id": "OM74H6gptfLn"
      },
      "outputs": [],
      "source": [
        "#set SkierID as the index\n",
        "#view headers"
      ]
    },
    {
      "cell_type": "markdown",
      "metadata": {
        "id": "EO3b5CC4uA26"
      },
      "source": [
        "## D\n",
        "\n",
        "**Use the desribe() function to determine which resort in this dataset was visited most frequently. Identify the metric, its value, and its interpretation.**"
      ]
    },
    {
      "cell_type": "code",
      "execution_count": null,
      "metadata": {
        "id": "Mz7IvBSduHqs"
      },
      "outputs": [],
      "source": [
        "#produce descriptive stats for this dataset"
      ]
    },
    {
      "cell_type": "markdown",
      "metadata": {
        "id": "0GaibsPEudyq"
      },
      "source": []
    },
    {
      "cell_type": "markdown",
      "metadata": {
        "id": "1zCNBKpm27EQ"
      },
      "source": [
        "# Q3\n",
        "\n",
        "**Generate frequent itemsets using the Apriori model in the mlxtend library. Set the minimum support threshold to 20%.**"
      ]
    },
    {
      "cell_type": "code",
      "execution_count": null,
      "metadata": {
        "id": "iMaFGXQ9usrT"
      },
      "outputs": [],
      "source": [
        "freq_rs = (df, min_support = , use_colnames=True)\n",
        "freq_rs"
      ]
    },
    {
      "cell_type": "markdown",
      "metadata": {
        "id": "XO2l_N6o4uAH"
      },
      "source": [
        "## A\n",
        "\n",
        "**Which ski resort was visited by the highest percentage of survey respondents? What metric tells you this? In the code cell, write a formula to calculate support:**"
      ]
    },
    {
      "cell_type": "markdown",
      "metadata": {
        "id": "ZWYwn7XM44nD"
      },
      "source": []
    },
    {
      "cell_type": "code",
      "execution_count": null,
      "metadata": {
        "id": "dvwIK78wiM-N"
      },
      "outputs": [],
      "source": [
        "# calculate the support count for Alta\n",
        "# calculate the support for Alta\n",
        "# view the support value"
      ]
    },
    {
      "cell_type": "markdown",
      "metadata": {
        "id": "k7_8uXYE49H7"
      },
      "source": [
        "## B\n",
        "\n",
        "**Is it suprising that this resort has the highest support value of all the resorts in the database? Explain.**"
      ]
    },
    {
      "cell_type": "markdown",
      "metadata": {
        "id": "y_z81mla5Cm3"
      },
      "source": []
    },
    {
      "cell_type": "markdown",
      "metadata": {
        "id": "Dz4ApP567pmX"
      },
      "source": [
        "## C\n",
        "\n",
        "**What is the support value for {Alta, Snowbird}? What does this support value indicate?**"
      ]
    },
    {
      "cell_type": "markdown",
      "metadata": {
        "id": "0-1MvxTA7wxr"
      },
      "source": []
    },
    {
      "cell_type": "markdown",
      "metadata": {
        "id": "po0acTFK52mL"
      },
      "source": [
        "## D\n",
        "\n",
        "**Let's try to replicate these findings by writing our own formula for calculating support:**"
      ]
    },
    {
      "cell_type": "code",
      "execution_count": null,
      "metadata": {
        "id": "pvsJQeKUzO6_"
      },
      "outputs": [],
      "source": [
        "itemset = df[(df['Altax'] == 1) & (df['Sbird'] == 1)] #calculate support count of itemset\n",
        "support = len(itemset)/len(df) #calculate support of itemset\n",
        "support"
      ]
    },
    {
      "cell_type": "markdown",
      "metadata": {
        "id": "-T9iHf-V_Rjb"
      },
      "source": [
        "## E\n",
        "\n",
        "What is the support of {Female, Snowbird}? What does this support value indicate?"
      ]
    },
    {
      "cell_type": "markdown",
      "metadata": {
        "id": "aifsmdSE_XbY"
      },
      "source": []
    },
    {
      "cell_type": "markdown",
      "metadata": {
        "id": "tnXKyyBv8-Vy"
      },
      "source": [
        "#Q4\n",
        "\n",
        "**Now run an association rules analysis on your frequent rulesets object, set the minimum confidence threshold to 0.80.**\n",
        "##A\n",
        "**How many rules are there?**"
      ]
    },
    {
      "cell_type": "code",
      "execution_count": null,
      "metadata": {
        "id": "n9m6UGk543c7"
      },
      "outputs": [],
      "source": [
        "# run an association rules analysis, conf =/> 0.8"
      ]
    },
    {
      "cell_type": "markdown",
      "metadata": {
        "id": "GLz_HmJS9wHc"
      },
      "source": []
    },
    {
      "cell_type": "markdown",
      "metadata": {
        "id": "bNUeaESP-An1"
      },
      "source": [
        "## B\n",
        "\n",
        "**Okay, looks like 80% confidence was too high. Let's re-generate our frequent itemsets to have a minimum support of 0.05 and then rerun the analysis with a mimum confidence of 0.**"
      ]
    },
    {
      "cell_type": "code",
      "execution_count": null,
      "metadata": {
        "id": "FGvMM4bQ95LW"
      },
      "outputs": [],
      "source": [
        " = apriori(df, min_support = , use_colnames=True)"
      ]
    },
    {
      "cell_type": "code",
      "execution_count": null,
      "metadata": {
        "id": "eWl155Oh9ydM"
      },
      "outputs": [],
      "source": [
        " = association_rules(freq_rs2, metric = \"confidence\", min_threshold = )\n",
        "ar_table"
      ]
    },
    {
      "cell_type": "markdown",
      "metadata": {
        "id": "KzDQwERB_2ws"
      },
      "source": [
        "## C\n",
        "\n",
        "**Which three resorts were most frequently visited by the same respondent? Report the support value that tells you this. *Hint: Sort support from high to low.***"
      ]
    },
    {
      "cell_type": "markdown",
      "metadata": {
        "id": "Hi_mnAuUA1IB"
      },
      "source": []
    },
    {
      "cell_type": "markdown",
      "metadata": {
        "id": "kWHJZcxYA90p"
      },
      "source": [
        "## D\n",
        "\n",
        "**Does it make sense that those three would be frequently visted together? Explain.**"
      ]
    },
    {
      "cell_type": "markdown",
      "metadata": {
        "id": "8scYeUUuBDUP"
      },
      "source": []
    },
    {
      "cell_type": "markdown",
      "metadata": {
        "id": "3-AY-5aCBHCS"
      },
      "source": [
        "## E\n",
        "\n",
        "**Among females who visited two or more resorts during the season, which two-resort combination was most frequently visited? Report the support value that tells you this. *Hint: search for antecedents containing gender=f then sort by support.***"
      ]
    },
    {
      "cell_type": "markdown",
      "metadata": {
        "id": "X8tdKTSsBxKM"
      },
      "source": []
    },
    {
      "cell_type": "markdown",
      "metadata": {
        "id": "sUpVQkJ4B4ML"
      },
      "source": [
        "#Q5\n",
        "\n",
        "**Let's switch gears and focus on the confidence of rulesets.**\n",
        "\n",
        "##A\n",
        "\n",
        "**What is the confidence for {Snowbasin} → {Beaver Mountain}? What does this value tell you?**"
      ]
    },
    {
      "cell_type": "markdown",
      "metadata": {
        "id": "TQoqARy2Cf4P"
      },
      "source": []
    },
    {
      "cell_type": "markdown",
      "metadata": {
        "id": "q-x1SwOk4_D2"
      },
      "source": [
        "## B\n",
        "\n",
        "**Let's see if we can replicate these findings writing our own formula for calculating confidence:**"
      ]
    },
    {
      "cell_type": "code",
      "execution_count": null,
      "metadata": {
        "id": "dVQDC1Lq1tDm"
      },
      "outputs": [],
      "source": [
        "sc_x = df['Sbasn'].sum() # calculate support count of Sbasn\n",
        "sc_xy = len(df[(df['Sbasn'] == 1) & (df['Beavm'] == 1)]) # calculate support count of {Sbasn, Beavm}\n",
        "\n",
        "confidence = sc_xy/sc_x #calculate confidence of {Sbasn --> Beavm}\n",
        "confidence"
      ]
    },
    {
      "cell_type": "markdown",
      "metadata": {
        "id": "vOu5VqV0Cjhk"
      },
      "source": [
        "##C\n",
        "\n",
        "**What is the confidence for {Beaver Mountain} → {Snowbasin}? What does this value tell you?**"
      ]
    },
    {
      "cell_type": "markdown",
      "metadata": {
        "id": "0BljJ_egC5xu"
      },
      "source": []
    },
    {
      "cell_type": "markdown",
      "metadata": {
        "id": "JJcJVNozC82U"
      },
      "source": [
        "##D\n",
        "\n",
        "**Knowing that Snowbasin is near Ogden and Beaver Mountain is near Logan, what explains the difference in confidence values reported in A and B.**"
      ]
    },
    {
      "cell_type": "markdown",
      "metadata": {
        "id": "78MFPkPpDNzt"
      },
      "source": [
        "   "
      ]
    },
    {
      "cell_type": "markdown",
      "metadata": {
        "id": "6e0-B12gDUO7"
      },
      "source": [
        "## E\n",
        "\n",
        "**What is the confidence for {Alta, Snowbird, Snowbasin, Solitude} → {Powder Mountain}? What does this value tell you?**"
      ]
    },
    {
      "cell_type": "markdown",
      "metadata": {
        "id": "Zh-hRP5BDwPz"
      },
      "source": []
    },
    {
      "cell_type": "markdown",
      "metadata": {
        "id": "y7bbXkjnD0O-"
      },
      "source": [
        "## F\n",
        "\n",
        "**What is the Lift for {Alta, Snowbird, Snowbasin, Solitude} → {Powder Mountain}? What does this mean?**"
      ]
    },
    {
      "cell_type": "markdown",
      "metadata": {
        "id": "h5_RqfxGD_is"
      },
      "source": []
    },
    {
      "cell_type": "markdown",
      "metadata": {
        "id": "hy8vncv05N1V"
      },
      "source": [
        "## G\n",
        "\n",
        "**Let's see if we can replicate this finding writing our own formula for calculating Lift:**"
      ]
    },
    {
      "cell_type": "code",
      "execution_count": null,
      "metadata": {
        "id": "GKjOZyJ_2zk2"
      },
      "outputs": [],
      "source": [
        "sc_y = df['Powmo'].sum() #calculate support count of Powmo\n",
        "s_y = sc_y/len(df) #calculate support of Powmo\n",
        "sc_x = len(df[(df['Altax'] == 1) & (df['Sbird'] == 1) & (df['Sbasn'] == 1) & (df['Solit'] == 1)]) #calculate support count of itemset x\n",
        "sc_xy = len(df[(df['Altax'] == 1) & (df['Sbird'] == 1) & (df['Sbasn'] == 1) & (df['Solit'] == 1) & (df['Powmo'] == 1)]) #calculate support count of x and y\n",
        "\n",
        "confidence = sc_xy/sc_x #calculate confidence of x --> y\n",
        "confidence\n",
        "\n",
        "Lift = confidence/s_y #calculate lift of x --> y\n",
        "Lift"
      ]
    },
    {
      "cell_type": "markdown",
      "metadata": {
        "id": "RQqSY8U6ELi_"
      },
      "source": [
        "#Q6\n",
        "\n",
        "**Explore the association rules table to find a surprising confidence or lift value in the dataset, then recommend something that could be done about it to the benefit of one or more of the ski resorts. In doing so:**\n",
        "\n",
        "## A\n",
        "\n",
        "**Report the surprising value and its association rule. Note, you may also find surprise in a comparison of values (e.g., one confidence is high and another low) — if so, report all relevant values in the comparison.**"
      ]
    },
    {
      "cell_type": "markdown",
      "metadata": {
        "id": "I3MoCeBPET5D"
      },
      "source": []
    },
    {
      "cell_type": "markdown",
      "metadata": {
        "id": "zzdA8wONEWh3"
      },
      "source": [
        "## B\n",
        "\n",
        "**Why do you find it surprising?**"
      ]
    },
    {
      "cell_type": "markdown",
      "metadata": {
        "id": "lhvN4_UAEcC4"
      },
      "source": []
    },
    {
      "cell_type": "markdown",
      "metadata": {
        "id": "vtLKxwCFEcWw"
      },
      "source": [
        "## C\n",
        "\n",
        "**What would you recommend be done about this (to the benefit of one or more ski resorts?)**"
      ]
    },
    {
      "cell_type": "markdown",
      "metadata": {
        "id": "daZ_6mTxEjUQ"
      },
      "source": []
    }
  ],
  "metadata": {
    "colab": {
      "provenance": []
    },
    "kernelspec": {
      "display_name": "base",
      "language": "python",
      "name": "python3"
    },
    "language_info": {
      "codemirror_mode": {
        "name": "ipython",
        "version": 3
      },
      "file_extension": ".py",
      "mimetype": "text/x-python",
      "name": "python",
      "nbconvert_exporter": "python",
      "pygments_lexer": "ipython3",
      "version": "3.12.4"
    }
  },
  "nbformat": 4,
  "nbformat_minor": 0
}

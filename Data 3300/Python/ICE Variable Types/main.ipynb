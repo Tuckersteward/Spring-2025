{
  "cells": [
    {
      "cell_type": "markdown",
      "id": "zIgqSC8pnIRi",
      "metadata": {
        "id": "zIgqSC8pnIRi"
      },
      "source": [
        "# **ICE: Understanding Variable \\& Data Types**\n",
        "## Name: Cabot Steward\n",
        "## *DATA 3300*\n",
        "\n",
        "In this demonstration, we will review our different types of variables, as well as the different data types in Python! In this exercise we will:\n",
        "\n",
        "1.   Define basic variable types\n",
        "2.   Examine Data types in python, string, integer, float, nans\n",
        "3.   Read in the dataset - ID primary key\n",
        "4.   View & explore nominal vars\n",
        "5.   View & explore ordinal vars, how could we create an ordinal variable from a continuous variable?\n",
        "6. Identify and visualize interval variable (what are the bounds? -- is the zero meaningful)\n",
        "7. Identify and visualize ratio variable (what are the bounds? is the zero meaningful?)\n",
        "8. Create a discrete variable\n",
        "9. View and visualize the discrete and the continuous variable\n",
        "10. Adding new data & a similarity analysis!\n",
        "\n",
        "### Business Scenario: University Student Performance and Well-being Analysis\n",
        "\n",
        "> **Scenario Overview**:\n",
        "\n",
        "> A university is conducting a comprehensive study to understand the factors influencing student performance and well-being. The goal is to identify key variables that impact academic success and personal satisfaction, allowing the university to implement targeted interventions to improve student outcomes. One intervention they're considering is called \"Study Buddy\" to ensure all students have at least one peer they can turn to to study with! Using the data provided, they are hoping to begin understanding what variables are important for matching student pairs.\n",
        "\n",
        "This study uses a dataset collected from a diverse group of students, capturing a wide range of information, from academic performance to personal habits and attitudes.\n",
        "\n",
        "> **Dataset Description:**\n",
        "\n",
        "> The dataset contains 235 entries with 21 variables, including demographic information, academic performance metrics, personal habits, and subjective ratings on various aspects of student life. The key variables include:\n",
        "\n",
        "* StudentID: Unique identifier for each student.\n",
        "* Certification Course: The course the student is enrolled in.\n",
        "* Gender: Gender of the student.\n",
        "* Department: Academic department of the student.\n",
        "* Weight(LBs): Weight of the student in pounds.\n",
        "* Height(in): Height of the student in inches.\n",
        "* 11.0th GPA: GPA in the 11th grade.\n",
        "* 12th GPA: GPA in the 12th grade.\n",
        "* College GPA: GPA in college.\n",
        "* Hobbies: Student's hobbies.\n",
        "* Daily Studying Time: Time spent studying daily.\n",
        "* Prefer to Study In: Preferred time of day for studying.\n",
        "* Salary Expectation: Expected salary after graduation.\n",
        "* Do you like your degree?: Whether the student likes their degree.\n",
        "* Willingness to Pursue a Career Based on Their Degree: Willingness to pursue a career related to their degree.\n",
        "* Social Media & Video Usage: Time spent on social media and watching videos daily.\n",
        "* Traveling Time: Time spent traveling daily.\n",
        "* Stress Level: Self-reported stress level.\n",
        "* Financial Status: Self-reported financial status.\n",
        "* Part-time Job: Whether the student has a part-time job.\n",
        "\n",
        "> **Objective:**\n",
        "\n",
        "> The primary objective is to explore the dataset to understand the variable types and data types in Python, investigating how different variables relate to student performance and well-being. By analyzing the relationships between these variables, the university aims to better understand what variables could matter in student matching."
      ]
    },
    {
      "cell_type": "markdown",
      "id": "LmvkWF7DsVQG",
      "metadata": {
        "id": "LmvkWF7DsVQG"
      },
      "source": [
        "## Import Dependencies"
      ]
    },
    {
      "cell_type": "code",
      "execution_count": 1,
      "id": "ff9f4644",
      "metadata": {
        "id": "ff9f4644"
      },
      "outputs": [],
      "source": [
        "import pandas as pd\n",
        "import numpy as np\n",
        "import matplotlib.pyplot as plt\n",
        "import seaborn as sns\n",
        "from sklearn.metrics.pairwise import cosine_similarity"
      ]
    },
    {
      "cell_type": "markdown",
      "id": "6f2c63a3",
      "metadata": {
        "id": "6f2c63a3"
      },
      "source": [
        "\n",
        "## Load the Dataset\n",
        "We'll start by loading the dataset and taking a preliminary look at its structure.\n"
      ]
    },
    {
      "cell_type": "code",
      "execution_count": 2,
      "id": "546834b7",
      "metadata": {
        "id": "546834b7"
      },
      "outputs": [
        {
          "data": {
            "text/html": [
              "<div>\n",
              "<style scoped>\n",
              "    .dataframe tbody tr th:only-of-type {\n",
              "        vertical-align: middle;\n",
              "    }\n",
              "\n",
              "    .dataframe tbody tr th {\n",
              "        vertical-align: top;\n",
              "    }\n",
              "\n",
              "    .dataframe thead th {\n",
              "        text-align: right;\n",
              "    }\n",
              "</style>\n",
              "<table border=\"1\" class=\"dataframe\">\n",
              "  <thead>\n",
              "    <tr style=\"text-align: right;\">\n",
              "      <th></th>\n",
              "      <th>StudentID</th>\n",
              "      <th>Certification Course</th>\n",
              "      <th>Gender</th>\n",
              "      <th>Department</th>\n",
              "      <th>Weight(LBs)</th>\n",
              "      <th>Height(in)</th>\n",
              "      <th>11.0th GPA</th>\n",
              "      <th>12th GPA</th>\n",
              "      <th>College GPA</th>\n",
              "      <th>hobbies</th>\n",
              "      <th>...</th>\n",
              "      <th>daily studing time</th>\n",
              "      <th>prefer to study in</th>\n",
              "      <th>salary expectation</th>\n",
              "      <th>Do you like your degree?</th>\n",
              "      <th>willingness to pursue a career based on their degree</th>\n",
              "      <th>social media &amp; video</th>\n",
              "      <th>Travelling Time</th>\n",
              "      <th>Stress Level</th>\n",
              "      <th>Financial Status</th>\n",
              "      <th>part-time job</th>\n",
              "    </tr>\n",
              "  </thead>\n",
              "  <tbody>\n",
              "    <tr>\n",
              "      <th>0</th>\n",
              "      <td>0</td>\n",
              "      <td>No</td>\n",
              "      <td>Male</td>\n",
              "      <td>BCA</td>\n",
              "      <td>127.86796</td>\n",
              "      <td>39.370100</td>\n",
              "      <td>3.7</td>\n",
              "      <td>2.7</td>\n",
              "      <td>4.0</td>\n",
              "      <td>Video Games</td>\n",
              "      <td>...</td>\n",
              "      <td>0 - 30 minute</td>\n",
              "      <td>Morning</td>\n",
              "      <td>40000</td>\n",
              "      <td>No</td>\n",
              "      <td>50%</td>\n",
              "      <td>1.30 - 2 hour</td>\n",
              "      <td>30 - 60 minutes</td>\n",
              "      <td>Bad</td>\n",
              "      <td>Bad</td>\n",
              "      <td>No</td>\n",
              "    </tr>\n",
              "    <tr>\n",
              "      <th>1</th>\n",
              "      <td>1</td>\n",
              "      <td>No</td>\n",
              "      <td>Female</td>\n",
              "      <td>BCA</td>\n",
              "      <td>88.18480</td>\n",
              "      <td>35.433090</td>\n",
              "      <td>3.3</td>\n",
              "      <td>4.0</td>\n",
              "      <td>3.3</td>\n",
              "      <td>Cinema</td>\n",
              "      <td>...</td>\n",
              "      <td>30 - 60 minute</td>\n",
              "      <td>Morning</td>\n",
              "      <td>15000</td>\n",
              "      <td>Yes</td>\n",
              "      <td>75%</td>\n",
              "      <td>1 - 1.30 hour</td>\n",
              "      <td>0 - 30 minutes</td>\n",
              "      <td>Bad</td>\n",
              "      <td>Bad</td>\n",
              "      <td>No</td>\n",
              "    </tr>\n",
              "    <tr>\n",
              "      <th>2</th>\n",
              "      <td>2</td>\n",
              "      <td>Yes</td>\n",
              "      <td>Male</td>\n",
              "      <td>BCA</td>\n",
              "      <td>171.96036</td>\n",
              "      <td>62.598459</td>\n",
              "      <td>3.3</td>\n",
              "      <td>2.7</td>\n",
              "      <td>2.3</td>\n",
              "      <td>Other</td>\n",
              "      <td>...</td>\n",
              "      <td>1 - 2 Hour</td>\n",
              "      <td>Anytime</td>\n",
              "      <td>13000</td>\n",
              "      <td>Yes</td>\n",
              "      <td>50%</td>\n",
              "      <td>More than 2 hour</td>\n",
              "      <td>30 - 60 minutes</td>\n",
              "      <td>Awful</td>\n",
              "      <td>Bad</td>\n",
              "      <td>No</td>\n",
              "    </tr>\n",
              "    <tr>\n",
              "      <th>3</th>\n",
              "      <td>3</td>\n",
              "      <td>Yes</td>\n",
              "      <td>Female</td>\n",
              "      <td>BCA</td>\n",
              "      <td>44.09240</td>\n",
              "      <td>57.874047</td>\n",
              "      <td>3.3</td>\n",
              "      <td>2.3</td>\n",
              "      <td>2.3</td>\n",
              "      <td>Reading books</td>\n",
              "      <td>...</td>\n",
              "      <td>1 - 2 Hour</td>\n",
              "      <td>Anytime</td>\n",
              "      <td>1500000</td>\n",
              "      <td>No</td>\n",
              "      <td>50%</td>\n",
              "      <td>1.30 - 2 hour</td>\n",
              "      <td>0 - 30 minutes</td>\n",
              "      <td>Bad</td>\n",
              "      <td>good</td>\n",
              "      <td>No</td>\n",
              "    </tr>\n",
              "    <tr>\n",
              "      <th>4</th>\n",
              "      <td>4</td>\n",
              "      <td>No</td>\n",
              "      <td>Male</td>\n",
              "      <td>BCA</td>\n",
              "      <td>119.04948</td>\n",
              "      <td>66.929170</td>\n",
              "      <td>1.0</td>\n",
              "      <td>3.0</td>\n",
              "      <td>1.0</td>\n",
              "      <td>Video Games</td>\n",
              "      <td>...</td>\n",
              "      <td>30 - 60 minute</td>\n",
              "      <td>Morning</td>\n",
              "      <td>50000</td>\n",
              "      <td>Yes</td>\n",
              "      <td>25%</td>\n",
              "      <td>1.30 - 2 hour</td>\n",
              "      <td>30 - 60 minutes</td>\n",
              "      <td>Good</td>\n",
              "      <td>good</td>\n",
              "      <td>No</td>\n",
              "    </tr>\n",
              "  </tbody>\n",
              "</table>\n",
              "<p>5 rows × 21 columns</p>\n",
              "</div>"
            ],
            "text/plain": [
              "   StudentID Certification Course  Gender Department  Weight(LBs)  Height(in)  \\\n",
              "0          0                   No    Male        BCA    127.86796   39.370100   \n",
              "1          1                   No  Female        BCA     88.18480   35.433090   \n",
              "2          2                  Yes    Male        BCA    171.96036   62.598459   \n",
              "3          3                  Yes  Female        BCA     44.09240   57.874047   \n",
              "4          4                   No    Male        BCA    119.04948   66.929170   \n",
              "\n",
              "   11.0th GPA  12th GPA  College GPA        hobbies  ... daily studing time  \\\n",
              "0         3.7       2.7          4.0    Video Games  ...      0 - 30 minute   \n",
              "1         3.3       4.0          3.3         Cinema  ...     30 - 60 minute   \n",
              "2         3.3       2.7          2.3          Other  ...         1 - 2 Hour   \n",
              "3         3.3       2.3          2.3  Reading books  ...         1 - 2 Hour   \n",
              "4         1.0       3.0          1.0    Video Games  ...     30 - 60 minute   \n",
              "\n",
              "  prefer to study in salary expectation  Do you like your degree?  \\\n",
              "0            Morning              40000                        No   \n",
              "1            Morning              15000                       Yes   \n",
              "2            Anytime              13000                       Yes   \n",
              "3            Anytime            1500000                        No   \n",
              "4            Morning              50000                       Yes   \n",
              "\n",
              "  willingness to pursue a career based on their degree   social media & video  \\\n",
              "0                                                50%            1.30 - 2 hour   \n",
              "1                                                75%            1 - 1.30 hour   \n",
              "2                                                50%         More than 2 hour   \n",
              "3                                                50%            1.30 - 2 hour   \n",
              "4                                                25%            1.30 - 2 hour   \n",
              "\n",
              "  Travelling Time  Stress Level  Financial Status part-time job  \n",
              "0  30 - 60 minutes           Bad              Bad            No  \n",
              "1   0 - 30 minutes           Bad              Bad            No  \n",
              "2  30 - 60 minutes         Awful              Bad            No  \n",
              "3   0 - 30 minutes           Bad             good            No  \n",
              "4  30 - 60 minutes          Good             good            No  \n",
              "\n",
              "[5 rows x 21 columns]"
            ]
          },
          "execution_count": 2,
          "metadata": {},
          "output_type": "execute_result"
        }
      ],
      "source": [
        "df = pd.read_csv('1.1_DATASET_Student_Attitudes_Behaviors-1.csv')\n",
        "\n",
        "# view dataset heading\n",
        "df.head()"
      ]
    },
    {
      "cell_type": "markdown",
      "id": "ieOZapOsNHhc",
      "metadata": {
        "id": "ieOZapOsNHhc"
      },
      "source": [
        "**What is our primary key, and what is the function of the primary key in a dataset?**"
      ]
    },
    {
      "cell_type": "markdown",
      "id": "8FNSJIj7NMOl",
      "metadata": {
        "id": "8FNSJIj7NMOl"
      },
      "source": [
        "studentID is our primary key, the function is to provide a unique identifier for every record."
      ]
    },
    {
      "cell_type": "markdown",
      "id": "R29MyF7zNfuG",
      "metadata": {
        "id": "R29MyF7zNfuG"
      },
      "source": [
        "## Part A) Exploring Data Types in Python"
      ]
    },
    {
      "cell_type": "code",
      "execution_count": 3,
      "id": "fOuDAw0vNjB4",
      "metadata": {
        "id": "fOuDAw0vNjB4"
      },
      "outputs": [
        {
          "name": "stdout",
          "output_type": "stream",
          "text": [
            "<class 'pandas.core.frame.DataFrame'>\n",
            "RangeIndex: 235 entries, 0 to 234\n",
            "Data columns (total 21 columns):\n",
            " #   Column                                                  Non-Null Count  Dtype  \n",
            "---  ------                                                  --------------  -----  \n",
            " 0   StudentID                                               235 non-null    int64  \n",
            " 1   Certification Course                                    235 non-null    object \n",
            " 2   Gender                                                  235 non-null    object \n",
            " 3   Department                                              235 non-null    object \n",
            " 4   Weight(LBs)                                             235 non-null    float64\n",
            " 5   Height(in)                                              235 non-null    float64\n",
            " 6   11.0th GPA                                              235 non-null    float64\n",
            " 7   12th GPA                                                235 non-null    float64\n",
            " 8   College GPA                                             235 non-null    float64\n",
            " 9   hobbies                                                 235 non-null    object \n",
            " 10  If Other, Please Specify                                6 non-null      object \n",
            " 11  daily studing time                                      235 non-null    object \n",
            " 12  prefer to study in                                      235 non-null    object \n",
            " 13  salary expectation                                      235 non-null    int64  \n",
            " 14  Do you like your degree?                                235 non-null    object \n",
            " 15  willingness to pursue a career based on their degree    235 non-null    object \n",
            " 16  social media & video                                    235 non-null    object \n",
            " 17  Travelling Time                                         235 non-null    object \n",
            " 18  Stress Level                                            235 non-null    object \n",
            " 19  Financial Status                                        235 non-null    object \n",
            " 20  part-time job                                           235 non-null    object \n",
            "dtypes: float64(5), int64(2), object(14)\n",
            "memory usage: 38.7+ KB\n"
          ]
        }
      ],
      "source": [
        "# pull up data info\n",
        "df.info()"
      ]
    },
    {
      "cell_type": "markdown",
      "id": "Xpn51DacNo01",
      "metadata": {
        "id": "Xpn51DacNo01"
      },
      "source": [
        "**1) Based on the variables listed, what do you think each of these three data types are?**\n",
        "* object: string\n",
        "* float64: number with decimals probably discrete\n",
        "* int64: integer aka whole number probably continuous\n"
      ]
    },
    {
      "cell_type": "markdown",
      "id": "ZiSDS4ImOCzl",
      "metadata": {
        "id": "ZiSDS4ImOCzl"
      },
      "source": [
        "**2) Why is it important we know the data type of a variable in Python?**"
      ]
    },
    {
      "cell_type": "markdown",
      "id": "GITQwm7ROG6I",
      "metadata": {
        "id": "GITQwm7ROG6I"
      },
      "source": [
        "Python needs to know what each data type is inorder to be able to store it properly, enforce quality and do computation or string manipulation on the object."
      ]
    },
    {
      "cell_type": "code",
      "execution_count": 4,
      "id": "sdS4ij57PfYY",
      "metadata": {
        "id": "sdS4ij57PfYY"
      },
      "outputs": [
        {
          "data": {
            "text/plain": [
              "0      1.370370\n",
              "1      0.825000\n",
              "2      1.222222\n",
              "3      1.434783\n",
              "4      0.333333\n",
              "         ...   \n",
              "230    1.100000\n",
              "231    1.000000\n",
              "232    1.081081\n",
              "233    1.212121\n",
              "234    1.000000\n",
              "Length: 235, dtype: float64"
            ]
          },
          "execution_count": 4,
          "metadata": {},
          "output_type": "execute_result"
        }
      ],
      "source": [
        "# divide two float variables\n",
        "df['11.0th GPA'] / df['12th GPA']\n",
        "# ans = 10.5 / 11.2\n",
        "\n",
        "# print(ans)\n",
        "# # yes we have encountered a floating-point error we can fix that below\n",
        "# from decimal import Decimal\n",
        "# dec = Decimal('10.5') / Decimal('11.2')\n",
        "# print(dec)\n",
        "\n",
        "# this website will explain this concept. https://0.30000000000000004.com/\n"
      ]
    },
    {
      "cell_type": "code",
      "execution_count": 5,
      "id": "fYkPTNqTPzug",
      "metadata": {
        "id": "fYkPTNqTPzug"
      },
      "outputs": [],
      "source": [
        "# divide two object variables\n",
        "# df['Stress Level '] / df['Financial Status']\n"
      ]
    },
    {
      "cell_type": "markdown",
      "id": "LQCtzoFRG4TG",
      "metadata": {
        "id": "LQCtzoFRG4TG"
      },
      "source": [
        "**3) This operation didn't work, why?**"
      ]
    },
    {
      "cell_type": "markdown",
      "id": "KURwW6RsG6hL",
      "metadata": {
        "id": "KURwW6RsG6hL"
      },
      "source": [
        "You can't divide a str by str even if the numbers within it are a string"
      ]
    },
    {
      "cell_type": "code",
      "execution_count": 6,
      "id": "7g1Ob3heOTrg",
      "metadata": {
        "id": "7g1Ob3heOTrg"
      },
      "outputs": [
        {
          "data": {
            "text/plain": [
              "0                             NaN\n",
              "1                             NaN\n",
              "2      Other: Painting, art stuff\n",
              "3                             NaN\n",
              "4                             NaN\n",
              "                  ...            \n",
              "230                           NaN\n",
              "231                           NaN\n",
              "232                           NaN\n",
              "233                           NaN\n",
              "234                           NaN\n",
              "Length: 235, dtype: object"
            ]
          },
          "execution_count": 6,
          "metadata": {},
          "output_type": "execute_result"
        }
      ],
      "source": [
        "# add two string variables\n",
        "df['hobbies'] + ': ' + df['If Other, Please Specify']"
      ]
    },
    {
      "cell_type": "markdown",
      "id": "-rqSSHOxP9Cq",
      "metadata": {
        "id": "-rqSSHOxP9Cq"
      },
      "source": [
        "**4) What does a NaN represent?**"
      ]
    },
    {
      "cell_type": "markdown",
      "id": "69qIC5tnQBHC",
      "metadata": {
        "id": "69qIC5tnQBHC"
      },
      "source": [
        "Not a number, commonly encountered by the following:\n",
        "\n",
        "1) dividing by zero\n",
        "2) taking the square root of a negative number \n",
        "3) pandas often uses NaN to represents nulls when you generate a dataframe."
      ]
    },
    {
      "cell_type": "markdown",
      "id": "66826245",
      "metadata": {
        "id": "66826245"
      },
      "source": [
        "\n",
        "# Part B) Variable Types in Data Analysis\n",
        "\n",
        "So far we have identified how python is treating our variables, but that doesn't completely align with how we want our variables to be treated.\n",
        "\n",
        "Let's now examine the different levels of measurement we have in our dataset.\n"
      ]
    },
    {
      "cell_type": "markdown",
      "id": "ESupoTm4Rgk2",
      "metadata": {
        "id": "ESupoTm4Rgk2"
      },
      "source": [
        "**1) What types of variables are considered qualitative (categorical)? What are some examples in the dataset of these types?**"
      ]
    },
    {
      "cell_type": "markdown",
      "id": "re8iLWUqRpKD",
      "metadata": {
        "id": "re8iLWUqRpKD"
      },
      "source": [
        "Gender, Department, Hobbies, Stress level, financial status\n",
        "\n",
        "* nominal: gender, department, hobbies, ....\n",
        "* dichotomous: certification cert, ....\n",
        "* ordinal: daily study time, ..."
      ]
    },
    {
      "cell_type": "code",
      "execution_count": 7,
      "id": "XNxDk7WUSNpl",
      "metadata": {
        "id": "XNxDk7WUSNpl"
      },
      "outputs": [
        {
          "data": {
            "text/plain": [
              "social media & video\n",
              "30 - 60 Minute      69\n",
              "1 - 1.30 hour       55\n",
              "1 - 30 Minute       47\n",
              "More than 2 hour    32\n",
              "1.30 - 2 hour       27\n",
              "0 Minute             5\n",
              "Name: count, dtype: int64"
            ]
          },
          "execution_count": 7,
          "metadata": {},
          "output_type": "execute_result"
        }
      ],
      "source": [
        "# view value_counts of the variable social media & video\n",
        "df['social media & video'].value_counts()"
      ]
    },
    {
      "cell_type": "code",
      "execution_count": 8,
      "id": "CbYKRT18SBBS",
      "metadata": {
        "id": "CbYKRT18SBBS"
      },
      "outputs": [
        {
          "data": {
            "text/plain": [
              "<Axes: >"
            ]
          },
          "execution_count": 8,
          "metadata": {},
          "output_type": "execute_result"
        },
        {
          "data": {
            "image/png": "[encoded data removed]",
            "text/plain": [
              "<Figure size 640x480 with 1 Axes>"
            ]
          },
          "metadata": {},
          "output_type": "display_data"
        }
      ],
      "source": [
        "# produce hist of ordinal variable (social media & video)\n",
        "df['social media & video'].hist(xlabelsize=7)"
      ]
    },
    {
      "cell_type": "code",
      "execution_count": 9,
      "id": "gOiWYhtXSR1s",
      "metadata": {
        "id": "gOiWYhtXSR1s"
      },
      "outputs": [
        {
          "data": {
            "text/plain": [
              "<Axes: >"
            ]
          },
          "execution_count": 9,
          "metadata": {},
          "output_type": "execute_result"
        },
        {
          "data": {
            "image/png": "[encoded data removed]",
            "text/plain": [
              "<Figure size 640x480 with 1 Axes>"
            ]
          },
          "metadata": {},
          "output_type": "display_data"
        }
      ],
      "source": [
        "# map oridnal var to numeric values\n",
        "df['social media & video'] = df['social media & video'].map({\n",
        "    '0 Minute': 0,\n",
        "    '1 - 30 Minute': 1,\n",
        "    '30 - 60 Minute': 2,\n",
        "    '1 - 1.30 hour': 3,\n",
        "    '1.30 - 2 hour': 4,\n",
        "    'More than 2 hour': 5\n",
        "})\n",
        "\n",
        "# replot histogram\n",
        "df['social media & video'].hist()"
      ]
    },
    {
      "cell_type": "markdown",
      "id": "OfFWSnn9TThd",
      "metadata": {
        "id": "OfFWSnn9TThd"
      },
      "source": [
        "**2) What types are variables are considered quantitative (Numerical)? What are some examples in the dataset?**"
      ]
    },
    {
      "cell_type": "markdown",
      "id": "90cb3196",
      "metadata": {},
      "source": [
        "* ratio: have a meaningful zero - weight and height\n",
        "* interval: does not have a meaningful zero - gpa"
      ]
    },
    {
      "cell_type": "code",
      "execution_count": 10,
      "id": "huQkTjH5UDUF",
      "metadata": {
        "id": "huQkTjH5UDUF"
      },
      "outputs": [
        {
          "data": {
            "text/plain": [
              "count    235.000000\n",
              "mean       3.104255\n",
              "std        0.703519\n",
              "min        1.000000\n",
              "25%        2.700000\n",
              "50%        3.000000\n",
              "75%        3.700000\n",
              "max        4.000000\n",
              "Name: 12th GPA, dtype: float64"
            ]
          },
          "execution_count": 10,
          "metadata": {},
          "output_type": "execute_result"
        }
      ],
      "source": [
        "# pull up descriptive statistics for interval var\n",
        "df['12th GPA'].describe()"
      ]
    },
    {
      "cell_type": "code",
      "execution_count": 11,
      "id": "RKtbbWsKULqB",
      "metadata": {
        "id": "RKtbbWsKULqB"
      },
      "outputs": [
        {
          "data": {
            "text/plain": [
              "<Axes: >"
            ]
          },
          "execution_count": 11,
          "metadata": {},
          "output_type": "execute_result"
        },
        {
          "data": {
            "image/png": "[encoded data removed]",
            "text/plain": [
              "<Figure size 640x480 with 1 Axes>"
            ]
          },
          "metadata": {},
          "output_type": "display_data"
        }
      ],
      "source": [
        "# make boxplot of interval var\n",
        "df['12th GPA'].plot(kind='box')"
      ]
    },
    {
      "cell_type": "markdown",
      "id": "cBLr0hw_UWW_",
      "metadata": {
        "id": "cBLr0hw_UWW_"
      },
      "source": []
    },
    {
      "cell_type": "code",
      "execution_count": 12,
      "id": "HzMfge4cUETk",
      "metadata": {
        "id": "HzMfge4cUETk"
      },
      "outputs": [],
      "source": [
        "# pull up descriptive stats of ratio var\n",
        "#SKIPPED"
      ]
    },
    {
      "cell_type": "code",
      "execution_count": 13,
      "id": "p8X2n7nOUq1-",
      "metadata": {
        "id": "p8X2n7nOUq1-"
      },
      "outputs": [],
      "source": [
        "# make boxplot of ratio var\n",
        "#SKIPPED"
      ]
    },
    {
      "cell_type": "markdown",
      "id": "Y68EdDeJVLSw",
      "metadata": {
        "id": "Y68EdDeJVLSw"
      },
      "source": [
        "**3) What is the difference between a continuous and discrete variable, are there examples of each in the dataset?**"
      ]
    },
    {
      "cell_type": "markdown",
      "id": "U0U0t2B7VZgS",
      "metadata": {
        "id": "U0U0t2B7VZgS"
      },
      "source": [
        "* discrete - a whole numbers - salary expectations - ints\n",
        "* continous - a number that can be a decimal - weight/height - floats"
      ]
    },
    {
      "cell_type": "code",
      "execution_count": 14,
      "id": "GCd4q3wiMoVF",
      "metadata": {
        "id": "GCd4q3wiMoVF"
      },
      "outputs": [],
      "source": [
        "# create a new variable, total absences and fill with random values between 0-6\n",
        "df['total_absences'] = np.random.randint(0, 7, size=len(df))"
      ]
    },
    {
      "cell_type": "code",
      "execution_count": 30,
      "id": "5IlqhnNMVhkC",
      "metadata": {
        "id": "5IlqhnNMVhkC"
      },
      "outputs": [
        {
          "data": {
            "text/plain": [
              "'seaborn.relational'"
            ]
          },
          "execution_count": 30,
          "metadata": {},
          "output_type": "execute_result"
        }
      ],
      "source": [
        "# create a scatterplot of two continuous vars\n",
        "# sns.scatterplot(x = df['Weight(LBs)'], y = df['Height(in)'])\n",
        "# plt.show()  # redudant as sns.scatterplot already has .show\n",
        "\n",
        "sns.scatterplot.__module__\n",
        "\n",
        "# could just use pandas instead of bringing in another library, they both use matplotlib to graph in the background\n",
        "# df.plot(x='Weight(LBs)', y='Height(in)', kind='scatter')"
      ]
    },
    {
      "cell_type": "code",
      "execution_count": 16,
      "id": "1KBGPfKDVsu7",
      "metadata": {
        "id": "1KBGPfKDVsu7"
      },
      "outputs": [
        {
          "data": {
            "image/png": "[encoded data removed]",
            "text/plain": [
              "<Figure size 640x480 with 1 Axes>"
            ]
          },
          "metadata": {},
          "output_type": "display_data"
        }
      ],
      "source": [
        "# create a scatterplot of a continous and discrete var\n",
        "\n",
        "sns.scatterplot(x = df['Weight(LBs)'], y = df['total_absences'])\n",
        "plt.show()"
      ]
    },
    {
      "cell_type": "markdown",
      "id": "nx8OLrxxYRUl",
      "metadata": {
        "id": "nx8OLrxxYRUl"
      },
      "source": [
        "**4) How do you fit in with these other students? Take 5 minutes and work with a partner to add in your own data -- remember to keep the variable type in mind when adding new data!**"
      ]
    },
    {
      "cell_type": "code",
      "execution_count": 17,
      "id": "1lKBSBISWg_m",
      "metadata": {
        "id": "1lKBSBISWg_m"
      },
      "outputs": [
        {
          "data": {
            "text/html": [
              "<div>\n",
              "<style scoped>\n",
              "    .dataframe tbody tr th:only-of-type {\n",
              "        vertical-align: middle;\n",
              "    }\n",
              "\n",
              "    .dataframe tbody tr th {\n",
              "        vertical-align: top;\n",
              "    }\n",
              "\n",
              "    .dataframe thead th {\n",
              "        text-align: right;\n",
              "    }\n",
              "</style>\n",
              "<table border=\"1\" class=\"dataframe\">\n",
              "  <thead>\n",
              "    <tr style=\"text-align: right;\">\n",
              "      <th></th>\n",
              "      <th>Weight(LBs)</th>\n",
              "      <th>Height(in)</th>\n",
              "      <th>11.0th GPA</th>\n",
              "      <th>12th GPA</th>\n",
              "      <th>College GPA</th>\n",
              "      <th>daily studing time</th>\n",
              "      <th>salary expectation</th>\n",
              "      <th>social media &amp; video</th>\n",
              "    </tr>\n",
              "  </thead>\n",
              "  <tbody>\n",
              "    <tr>\n",
              "      <th>0</th>\n",
              "      <td>127.86796</td>\n",
              "      <td>39.370100</td>\n",
              "      <td>3.7</td>\n",
              "      <td>2.7</td>\n",
              "      <td>4.0</td>\n",
              "      <td>0 - 30 minute</td>\n",
              "      <td>40000</td>\n",
              "      <td>4</td>\n",
              "    </tr>\n",
              "    <tr>\n",
              "      <th>1</th>\n",
              "      <td>88.18480</td>\n",
              "      <td>35.433090</td>\n",
              "      <td>3.3</td>\n",
              "      <td>4.0</td>\n",
              "      <td>3.3</td>\n",
              "      <td>30 - 60 minute</td>\n",
              "      <td>15000</td>\n",
              "      <td>3</td>\n",
              "    </tr>\n",
              "    <tr>\n",
              "      <th>2</th>\n",
              "      <td>171.96036</td>\n",
              "      <td>62.598459</td>\n",
              "      <td>3.3</td>\n",
              "      <td>2.7</td>\n",
              "      <td>2.3</td>\n",
              "      <td>1 - 2 Hour</td>\n",
              "      <td>13000</td>\n",
              "      <td>5</td>\n",
              "    </tr>\n",
              "    <tr>\n",
              "      <th>3</th>\n",
              "      <td>44.09240</td>\n",
              "      <td>57.874047</td>\n",
              "      <td>3.3</td>\n",
              "      <td>2.3</td>\n",
              "      <td>2.3</td>\n",
              "      <td>1 - 2 Hour</td>\n",
              "      <td>1500000</td>\n",
              "      <td>4</td>\n",
              "    </tr>\n",
              "    <tr>\n",
              "      <th>4</th>\n",
              "      <td>119.04948</td>\n",
              "      <td>66.929170</td>\n",
              "      <td>1.0</td>\n",
              "      <td>3.0</td>\n",
              "      <td>1.0</td>\n",
              "      <td>30 - 60 minute</td>\n",
              "      <td>50000</td>\n",
              "      <td>4</td>\n",
              "    </tr>\n",
              "    <tr>\n",
              "      <th>...</th>\n",
              "      <td>...</td>\n",
              "      <td>...</td>\n",
              "      <td>...</td>\n",
              "      <td>...</td>\n",
              "      <td>...</td>\n",
              "      <td>...</td>\n",
              "      <td>...</td>\n",
              "      <td>...</td>\n",
              "    </tr>\n",
              "    <tr>\n",
              "      <th>230</th>\n",
              "      <td>167.55112</td>\n",
              "      <td>66.929170</td>\n",
              "      <td>3.3</td>\n",
              "      <td>3.0</td>\n",
              "      <td>3.0</td>\n",
              "      <td>30 - 60 minute</td>\n",
              "      <td>7000</td>\n",
              "      <td>5</td>\n",
              "    </tr>\n",
              "    <tr>\n",
              "      <th>231</th>\n",
              "      <td>114.64024</td>\n",
              "      <td>67.716572</td>\n",
              "      <td>3.3</td>\n",
              "      <td>3.3</td>\n",
              "      <td>3.7</td>\n",
              "      <td>2 - 3 hour</td>\n",
              "      <td>25000</td>\n",
              "      <td>2</td>\n",
              "    </tr>\n",
              "    <tr>\n",
              "      <th>232</th>\n",
              "      <td>72.75246</td>\n",
              "      <td>54.724439</td>\n",
              "      <td>4.0</td>\n",
              "      <td>3.7</td>\n",
              "      <td>3.3</td>\n",
              "      <td>30 - 60 minute</td>\n",
              "      <td>20000</td>\n",
              "      <td>2</td>\n",
              "    </tr>\n",
              "    <tr>\n",
              "      <th>233</th>\n",
              "      <td>127.86796</td>\n",
              "      <td>60.236253</td>\n",
              "      <td>4.0</td>\n",
              "      <td>3.3</td>\n",
              "      <td>3.7</td>\n",
              "      <td>0 - 30 minute</td>\n",
              "      <td>20000</td>\n",
              "      <td>5</td>\n",
              "    </tr>\n",
              "    <tr>\n",
              "      <th>234</th>\n",
              "      <td>85.98018</td>\n",
              "      <td>61.023655</td>\n",
              "      <td>1.0</td>\n",
              "      <td>1.0</td>\n",
              "      <td>2.0</td>\n",
              "      <td>3 - 4 hour</td>\n",
              "      <td>10</td>\n",
              "      <td>2</td>\n",
              "    </tr>\n",
              "  </tbody>\n",
              "</table>\n",
              "<p>235 rows × 8 columns</p>\n",
              "</div>"
            ],
            "text/plain": [
              "     Weight(LBs)  Height(in)  11.0th GPA  12th GPA  College GPA  \\\n",
              "0      127.86796   39.370100         3.7       2.7          4.0   \n",
              "1       88.18480   35.433090         3.3       4.0          3.3   \n",
              "2      171.96036   62.598459         3.3       2.7          2.3   \n",
              "3       44.09240   57.874047         3.3       2.3          2.3   \n",
              "4      119.04948   66.929170         1.0       3.0          1.0   \n",
              "..           ...         ...         ...       ...          ...   \n",
              "230    167.55112   66.929170         3.3       3.0          3.0   \n",
              "231    114.64024   67.716572         3.3       3.3          3.7   \n",
              "232     72.75246   54.724439         4.0       3.7          3.3   \n",
              "233    127.86796   60.236253         4.0       3.3          3.7   \n",
              "234     85.98018   61.023655         1.0       1.0          2.0   \n",
              "\n",
              "    daily studing time  salary expectation  social media & video  \n",
              "0        0 - 30 minute               40000                     4  \n",
              "1       30 - 60 minute               15000                     3  \n",
              "2           1 - 2 Hour               13000                     5  \n",
              "3           1 - 2 Hour             1500000                     4  \n",
              "4       30 - 60 minute               50000                     4  \n",
              "..                 ...                 ...                   ...  \n",
              "230     30 - 60 minute                7000                     5  \n",
              "231         2 - 3 hour               25000                     2  \n",
              "232     30 - 60 minute               20000                     2  \n",
              "233      0 - 30 minute               20000                     5  \n",
              "234         3 - 4 hour                  10                     2  \n",
              "\n",
              "[235 rows x 8 columns]"
            ]
          },
          "execution_count": 17,
          "metadata": {},
          "output_type": "execute_result"
        }
      ],
      "source": [
        "# view all columns in df\n",
        "# df.head()\n",
        "# df['Stress Level '].value_counts()\n",
        "# df.value_counts()\n",
        "# df['Travelling Time ']\n",
        "# df['Stress Level ', 'Certification Course']\n",
        "numerical_cols = ['Weight(LBs)', 'Height(in)', '11.0th GPA', '12th GPA', 'College GPA', 'daily studing time', 'salary expectation', 'social media & video']\n",
        "df[numerical_cols]"
      ]
    },
    {
      "cell_type": "code",
      "execution_count": 18,
      "id": "FrkFQIjOWVi0",
      "metadata": {
        "id": "FrkFQIjOWVi0"
      },
      "outputs": [],
      "source": [
        "# 2365072\n",
        "# 2365073\n",
        "# 2365074\n",
        "\n",
        "new_row = {'StudentID': 2365072,\n",
        "            'Certification Course': 'No',\n",
        "            'Gender': 'Male',\n",
        "            'Department': 'HSB',\n",
        "            'Weight(LBs)': 165.7,\n",
        "            'Height(in)': 74.5,\n",
        "            '11.0th GPA': 3.1,\n",
        "            '12th GPA': 3.2,\n",
        "            'College GPA': 3.1,\n",
        "            'hobbies': 'skiing',\n",
        "            'daily studing time': '2 - 3 hour',\n",
        "            'prefer to study in': 'Morning',\n",
        "            'salary expectation': 10000000,\n",
        "            'Do you like your degree?': 'Yes',\n",
        "            'willingness to pursue a career based on their degree  ': '80%',\n",
        "            'social media & video': '2',\n",
        "            'Travelling Time ': '0 - 30 minutes',\n",
        "            'Stress Level ': 'Bad',\n",
        "            'Financial Status': 'good',\n",
        "            'part-time job': 'No',\n",
        "            'total_absences': 1}\n",
        "\n",
        "df = pd.concat([df, pd.DataFrame([new_row])], ignore_index=True) # add your new row to the dataframe"
      ]
    },
    {
      "cell_type": "markdown",
      "id": "x6Ic79yLueVY",
      "metadata": {
        "id": "x6Ic79yLueVY"
      },
      "source": [
        "## Part 3) Matching Students!"
      ]
    },
    {
      "cell_type": "code",
      "execution_count": 19,
      "id": "h6EpGIM9NFlf",
      "metadata": {
        "id": "h6EpGIM9NFlf"
      },
      "outputs": [
        {
          "name": "stdout",
          "output_type": "stream",
          "text": [
            "StudentID: 3 is your best match!\n"
          ]
        }
      ],
      "source": [
        "# prompt: create a function to match students with their most similar student, input is the StudentID, use cosine similarity to return a different student most similar to them using the applicable numerical columns in the dataset\n",
        "\n",
        "def find_most_similar_student(student_id, df):\n",
        "    # Select numerical features for similarity calculation\n",
        "    numerical_cols = ['Weight(LBs)', 'Height(in)', '11.0th GPA', '12th GPA', 'College GPA', 'salary expectation', 'social media & video']\n",
        "    df_numerical = df[numerical_cols].fillna(0)  # Fill NaN values with 0\n",
        "\n",
        "    # Calculate cosine similarity matrix\n",
        "    similarity_matrix = cosine_similarity(df_numerical)\n",
        "\n",
        "    # Find index of the input student\n",
        "    try:\n",
        "        student_index = df.index[df['StudentID'] == student_id][0]\n",
        "    except IndexError:\n",
        "        return None  # Student ID not found\n",
        "\n",
        "    # Get similarity scores for the input student\n",
        "    similarity_scores = similarity_matrix[student_index]\n",
        "\n",
        "    # Find the most similar student (excluding themselves)\n",
        "    most_similar_index = np.argsort(similarity_scores)[-2]  # Second-to-last because the highest similarity is always with itself\n",
        "    most_similar_student_id = df.loc[most_similar_index, 'StudentID']\n",
        "\n",
        "    return print(\"StudentID:\", most_similar_student_id, \"is your best match!\")\n",
        "\n",
        "find_most_similar_student(2365072, df) # enter your StudentID from the previous step"
      ]
    },
    {
      "cell_type": "code",
      "execution_count": 20,
      "id": "5tdrFWg1abfD",
      "metadata": {
        "id": "5tdrFWg1abfD"
      },
      "outputs": [
        {
          "data": {
            "text/plain": [
              "StudentID                                                              3\n",
              "Certification Course                                                 Yes\n",
              "Gender                                                            Female\n",
              "Department                                                           BCA\n",
              "Weight(LBs)                                                      44.0924\n",
              "Height(in)                                                     57.874047\n",
              "11.0th GPA                                                           3.3\n",
              "12th GPA                                                             2.3\n",
              "College GPA                                                          2.3\n",
              "hobbies                                                    Reading books\n",
              "If Other, Please Specify                                             NaN\n",
              "daily studing time                                            1 - 2 Hour\n",
              "prefer to study in                                               Anytime\n",
              "salary expectation                                               1500000\n",
              "Do you like your degree?                                              No\n",
              "willingness to pursue a career based on their degree                 50%\n",
              "social media & video                                                   4\n",
              "Travelling Time                                           0 - 30 minutes\n",
              "Stress Level                                                         Bad\n",
              "Financial Status                                                    good\n",
              "part-time job                                                         No\n",
              "total_absences                                                         2\n",
              "Name: 3, dtype: object"
            ]
          },
          "execution_count": 20,
          "metadata": {},
          "output_type": "execute_result"
        }
      ],
      "source": [
        "df.loc[3] # view the characteristics of your most similar student"
      ]
    },
    {
      "cell_type": "markdown",
      "id": "uCcpmWhYwyxg",
      "metadata": {
        "id": "uCcpmWhYwyxg"
      },
      "source": [
        "**1) How does your most similar student compare to you? What other information that wasn't included do you think should have been?**"
      ]
    },
    {
      "cell_type": "markdown",
      "id": "sTZoTfaqw6pp",
      "metadata": {
        "id": "sTZoTfaqw6pp"
      },
      "source": [
        "They compare but only for the numerical fields, not the text fields at all."
      ]
    },
    {
      "cell_type": "markdown",
      "id": "nqIlJVmbw7xp",
      "metadata": {
        "id": "nqIlJVmbw7xp"
      },
      "source": [
        "**2) What types of variables were used in matching students? What were excluded and how could we try including them?**"
      ]
    },
    {
      "cell_type": "markdown",
      "id": "HJASR7vrxGSF",
      "metadata": {
        "id": "HJASR7vrxGSF"
      },
      "source": [
        "only numerical datapoints were included.  Some that are text based we could split to contain upper and lower bounds to make the matching more accurate"
      ]
    },
    {
      "cell_type": "code",
      "execution_count": 21,
      "id": "2pmgfZw6xLum",
      "metadata": {
        "id": "2pmgfZw6xLum"
      },
      "outputs": [],
      "source": [
        "df = pd.get_dummies(df, columns=['part-time job'], drop_first = True, dtype = 'int')"
      ]
    },
    {
      "cell_type": "markdown",
      "id": "ymvzA3upy2Ht",
      "metadata": {
        "id": "ymvzA3upy2Ht"
      },
      "source": [
        "**3) Let's add in the new one(s)!**"
      ]
    },
    {
      "cell_type": "code",
      "execution_count": 22,
      "id": "cKEfY9KSxwnB",
      "metadata": {
        "id": "cKEfY9KSxwnB"
      },
      "outputs": [
        {
          "name": "stdout",
          "output_type": "stream",
          "text": [
            "StudentID: 3 is your best match!\n"
          ]
        }
      ],
      "source": [
        "def find_most_similar_student(student_id, df):\n",
        "    # Select numerical features for similarity calculation\n",
        "    numerical_cols = ['Weight(LBs)', 'Height(in)', '11.0th GPA', '12th GPA', 'College GPA', 'part-time job_Yes', 'salary expectation', 'social media & video']\n",
        "    df_numerical = df[numerical_cols].fillna(0)  # Fill NaN values with 0\n",
        "\n",
        "    # Calculate cosine similarity matrix\n",
        "    similarity_matrix = cosine_similarity(df_numerical)\n",
        "\n",
        "    # Find index of the input student\n",
        "    try:\n",
        "        student_index = df.index[df['StudentID'] == student_id][0]\n",
        "    except IndexError:\n",
        "        return None  # Student ID not found\n",
        "\n",
        "    # Get similarity scores for the input student\n",
        "    similarity_scores = similarity_matrix[student_index]\n",
        "\n",
        "    # Find the most similar student (excluding themselves)\n",
        "    most_similar_index = np.argsort(similarity_scores)[-2]  # Second-to-last because the highest similarity is always with itself\n",
        "    most_similar_student_id = df.loc[most_similar_index, 'StudentID']\n",
        "\n",
        "    return print(\"StudentID:\", most_similar_student_id, \"is your best match!\")\n",
        "\n",
        "\n",
        "\n",
        "find_most_similar_student(2365072, df) # enter your StudentID from the previous step"
      ]
    },
    {
      "cell_type": "markdown",
      "id": "XnHZ4EDtnA3-",
      "metadata": {
        "id": "XnHZ4EDtnA3-"
      },
      "source": [
        "**4) Consider the two versions of a student matcher we've created, how well do you think either version is performing, how could it be improved?**"
      ]
    },
    {
      "cell_type": "markdown",
      "id": "-wrrKeyOnGBg",
      "metadata": {
        "id": "-wrrKeyOnGBg"
      },
      "source": [
        "Same match!  I do think it is improved though!"
      ]
    }
  ],
  "metadata": {
    "colab": {
      "provenance": []
    },
    "kernelspec": {
      "display_name": "base",
      "language": "python",
      "name": "python3"
    },
    "language_info": {
      "codemirror_mode": {
        "name": "ipython",
        "version": 3
      },
      "file_extension": ".py",
      "mimetype": "text/x-python",
      "name": "python",
      "nbconvert_exporter": "python",
      "pygments_lexer": "ipython3",
      "version": "3.12.4"
    }
  },
  "nbformat": 4,
  "nbformat_minor": 5
}

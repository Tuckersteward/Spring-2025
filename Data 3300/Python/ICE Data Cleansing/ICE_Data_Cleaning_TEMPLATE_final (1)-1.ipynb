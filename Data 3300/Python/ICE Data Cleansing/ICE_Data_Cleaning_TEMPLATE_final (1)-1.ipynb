{
  "cells": [
    {
      "cell_type": "markdown",
      "id": "1e9253f3",
      "metadata": {
        "id": "1e9253f3"
      },
      "source": [
        "# **Data Cleaning - ICE**\n",
        "## Name: Cabot Steward\n",
        "## *DATA 3300*"
      ]
    },
    {
      "cell_type": "markdown",
      "id": "9222547e",
      "metadata": {
        "id": "9222547e"
      },
      "source": [
        "# Exercise\n",
        "\n",
        "**Import the *masonrybldg.xls* dataset into Notebooks, then complete the data cleaning activities noted below. Once complete, you’ll have a single Excel document that includes the scrubbed data. We will be performing all data cleaning activities using the pandas and numpy libraries!**"
      ]
    },
    {
      "cell_type": "code",
      "execution_count": 91,
      "id": "979d31d2",
      "metadata": {
        "id": "979d31d2"
      },
      "outputs": [],
      "source": [
        "# import required libraries - pandas and numpy\n",
        "import pandas as pd\n",
        "import numpy as np"
      ]
    },
    {
      "cell_type": "code",
      "execution_count": 92,
      "id": "be409972",
      "metadata": {
        "id": "be409972"
      },
      "outputs": [],
      "source": [
        "mason = pd.read_excel('masonrybldg.xlsx')"
      ]
    },
    {
      "cell_type": "code",
      "execution_count": 93,
      "id": "f08a7707",
      "metadata": {
        "id": "f08a7707"
      },
      "outputs": [
        {
          "data": {
            "text/html": [
              "<div>\n",
              "<style scoped>\n",
              "    .dataframe tbody tr th:only-of-type {\n",
              "        vertical-align: middle;\n",
              "    }\n",
              "\n",
              "    .dataframe tbody tr th {\n",
              "        vertical-align: top;\n",
              "    }\n",
              "\n",
              "    .dataframe thead th {\n",
              "        text-align: right;\n",
              "    }\n",
              "</style>\n",
              "<table border=\"1\" class=\"dataframe\">\n",
              "  <thead>\n",
              "    <tr style=\"text-align: right;\">\n",
              "      <th></th>\n",
              "      <th>Unnamed: 0</th>\n",
              "      <th>ObsID</th>\n",
              "      <th>Preliminary Risk Category</th>\n",
              "      <th>Neighborhood</th>\n",
              "      <th>Address</th>\n",
              "      <th>Year Built</th>\n",
              "      <th>No. Stories</th>\n",
              "      <th>Retrofit Level</th>\n",
              "      <th>Building Use</th>\n",
              "      <th>Estimated Number of Occupants</th>\n",
              "      <th>Confirmation Source</th>\n",
              "    </tr>\n",
              "  </thead>\n",
              "  <tbody>\n",
              "    <tr>\n",
              "      <th>0</th>\n",
              "      <td>NaN</td>\n",
              "      <td>19</td>\n",
              "      <td>High Risk</td>\n",
              "      <td>Capitol Hill</td>\n",
              "      <td>925 E Pike St</td>\n",
              "      <td>1916</td>\n",
              "      <td>1</td>\n",
              "      <td>Substantial Alteration</td>\n",
              "      <td>Public Assembly</td>\n",
              "      <td>101+</td>\n",
              "      <td>Permit Drawing Review</td>\n",
              "    </tr>\n",
              "    <tr>\n",
              "      <th>1</th>\n",
              "      <td>NaN</td>\n",
              "      <td>40</td>\n",
              "      <td>Medium Risk</td>\n",
              "      <td>Capitol Hill</td>\n",
              "      <td>1621 12th Ave</td>\n",
              "      <td>1917</td>\n",
              "      <td>1</td>\n",
              "      <td>Substantial Alteration</td>\n",
              "      <td>Commercial/Office</td>\n",
              "      <td>101+</td>\n",
              "      <td>Photos from Previous Surveys</td>\n",
              "    </tr>\n",
              "    <tr>\n",
              "      <th>2</th>\n",
              "      <td>NaN</td>\n",
              "      <td>265</td>\n",
              "      <td>Medium Risk</td>\n",
              "      <td>Capitol Hill</td>\n",
              "      <td>1510 Melrose Ave</td>\n",
              "      <td>1930</td>\n",
              "      <td>2</td>\n",
              "      <td>Substantial Alteration</td>\n",
              "      <td>Commercial/Residential</td>\n",
              "      <td>11-100</td>\n",
              "      <td>Google Street View</td>\n",
              "    </tr>\n",
              "    <tr>\n",
              "      <th>3</th>\n",
              "      <td>NaN</td>\n",
              "      <td>95</td>\n",
              "      <td>Medium Risk</td>\n",
              "      <td>Alki-Admiral</td>\n",
              "      <td>1321 Harbor Ave SW</td>\n",
              "      <td>1915</td>\n",
              "      <td>1</td>\n",
              "      <td>No visible retrofit</td>\n",
              "      <td>Commercial</td>\n",
              "      <td>11-100</td>\n",
              "      <td>Photos from Previous Surveys</td>\n",
              "    </tr>\n",
              "    <tr>\n",
              "      <th>4</th>\n",
              "      <td>NaN</td>\n",
              "      <td>49</td>\n",
              "      <td>Medium Risk</td>\n",
              "      <td>Alki/Admiral</td>\n",
              "      <td>2124 California Ave SW</td>\n",
              "      <td>1928</td>\n",
              "      <td>3</td>\n",
              "      <td>No visible retrofit</td>\n",
              "      <td>Residential</td>\n",
              "      <td>11-100</td>\n",
              "      <td>Google Street View</td>\n",
              "    </tr>\n",
              "  </tbody>\n",
              "</table>\n",
              "</div>"
            ],
            "text/plain": [
              "   Unnamed: 0  ObsID Preliminary Risk Category    Neighborhood  \\\n",
              "0         NaN     19                 High Risk    Capitol Hill   \n",
              "1         NaN     40               Medium Risk    Capitol Hill   \n",
              "2         NaN    265               Medium Risk    Capitol Hill   \n",
              "3         NaN     95               Medium Risk    Alki-Admiral   \n",
              "4         NaN     49               Medium Risk    Alki/Admiral   \n",
              "\n",
              "                  Address  Year Built  No. Stories          Retrofit Level  \\\n",
              "0           925 E Pike St        1916            1  Substantial Alteration   \n",
              "1           1621 12th Ave        1917            1  Substantial Alteration   \n",
              "2        1510 Melrose Ave        1930            2  Substantial Alteration   \n",
              "3      1321 Harbor Ave SW        1915            1     No visible retrofit   \n",
              "4  2124 California Ave SW        1928            3     No visible retrofit   \n",
              "\n",
              "             Building Use Estimated Number of Occupants  \\\n",
              "0         Public Assembly                          101+   \n",
              "1       Commercial/Office                          101+   \n",
              "2  Commercial/Residential                        11-100   \n",
              "3              Commercial                        11-100   \n",
              "4             Residential                        11-100   \n",
              "\n",
              "            Confirmation Source  \n",
              "0         Permit Drawing Review  \n",
              "1  Photos from Previous Surveys  \n",
              "2            Google Street View  \n",
              "3  Photos from Previous Surveys  \n",
              "4            Google Street View  "
            ]
          },
          "execution_count": 93,
          "metadata": {},
          "output_type": "execute_result"
        }
      ],
      "source": [
        "# produce a dataframe heading\n",
        "# pd.set_option('display.max_rows', None)\n",
        "mason.head()"
      ]
    },
    {
      "cell_type": "markdown",
      "id": "RuumZg75ORxk",
      "metadata": {
        "id": "RuumZg75ORxk"
      },
      "source": [
        "1. **Remove any leading and trailing spaces from all text columns. *Note: The trim feature does not remove additional spaces between two words.***"
      ]
    },
    {
      "cell_type": "code",
      "execution_count": 94,
      "id": "5368dbef",
      "metadata": {
        "id": "5368dbef"
      },
      "outputs": [
        {
          "data": {
            "text/html": [
              "<div>\n",
              "<style scoped>\n",
              "    .dataframe tbody tr th:only-of-type {\n",
              "        vertical-align: middle;\n",
              "    }\n",
              "\n",
              "    .dataframe tbody tr th {\n",
              "        vertical-align: top;\n",
              "    }\n",
              "\n",
              "    .dataframe thead th {\n",
              "        text-align: right;\n",
              "    }\n",
              "</style>\n",
              "<table border=\"1\" class=\"dataframe\">\n",
              "  <thead>\n",
              "    <tr style=\"text-align: right;\">\n",
              "      <th></th>\n",
              "      <th>Unnamed: 0</th>\n",
              "      <th>ObsID</th>\n",
              "      <th>Preliminary Risk Category</th>\n",
              "      <th>Neighborhood</th>\n",
              "      <th>Address</th>\n",
              "      <th>Year Built</th>\n",
              "      <th>No. Stories</th>\n",
              "      <th>Retrofit Level</th>\n",
              "      <th>Building Use</th>\n",
              "      <th>Estimated Number of Occupants</th>\n",
              "      <th>Confirmation Source</th>\n",
              "    </tr>\n",
              "  </thead>\n",
              "  <tbody>\n",
              "    <tr>\n",
              "      <th>0</th>\n",
              "      <td>NaN</td>\n",
              "      <td>19</td>\n",
              "      <td>High Risk</td>\n",
              "      <td>Capitol Hill</td>\n",
              "      <td>925 E Pike St</td>\n",
              "      <td>1916</td>\n",
              "      <td>1</td>\n",
              "      <td>Substantial Alteration</td>\n",
              "      <td>Public Assembly</td>\n",
              "      <td>101+</td>\n",
              "      <td>Permit Drawing Review</td>\n",
              "    </tr>\n",
              "    <tr>\n",
              "      <th>1</th>\n",
              "      <td>NaN</td>\n",
              "      <td>40</td>\n",
              "      <td>Medium Risk</td>\n",
              "      <td>Capitol Hill</td>\n",
              "      <td>1621 12th Ave</td>\n",
              "      <td>1917</td>\n",
              "      <td>1</td>\n",
              "      <td>Substantial Alteration</td>\n",
              "      <td>Commercial/Office</td>\n",
              "      <td>101+</td>\n",
              "      <td>Photos from Previous Surveys</td>\n",
              "    </tr>\n",
              "    <tr>\n",
              "      <th>2</th>\n",
              "      <td>NaN</td>\n",
              "      <td>265</td>\n",
              "      <td>Medium Risk</td>\n",
              "      <td>Capitol Hill</td>\n",
              "      <td>1510 Melrose Ave</td>\n",
              "      <td>1930</td>\n",
              "      <td>2</td>\n",
              "      <td>Substantial Alteration</td>\n",
              "      <td>Commercial/Residential</td>\n",
              "      <td>11-100</td>\n",
              "      <td>Google Street View</td>\n",
              "    </tr>\n",
              "    <tr>\n",
              "      <th>3</th>\n",
              "      <td>NaN</td>\n",
              "      <td>95</td>\n",
              "      <td>Medium Risk</td>\n",
              "      <td>Alki-Admiral</td>\n",
              "      <td>1321 Harbor Ave SW</td>\n",
              "      <td>1915</td>\n",
              "      <td>1</td>\n",
              "      <td>No visible retrofit</td>\n",
              "      <td>Commercial</td>\n",
              "      <td>11-100</td>\n",
              "      <td>Photos from Previous Surveys</td>\n",
              "    </tr>\n",
              "    <tr>\n",
              "      <th>4</th>\n",
              "      <td>NaN</td>\n",
              "      <td>49</td>\n",
              "      <td>Medium Risk</td>\n",
              "      <td>Alki/Admiral</td>\n",
              "      <td>2124 California Ave SW</td>\n",
              "      <td>1928</td>\n",
              "      <td>3</td>\n",
              "      <td>No visible retrofit</td>\n",
              "      <td>Residential</td>\n",
              "      <td>11-100</td>\n",
              "      <td>Google Street View</td>\n",
              "    </tr>\n",
              "  </tbody>\n",
              "</table>\n",
              "</div>"
            ],
            "text/plain": [
              "   Unnamed: 0  ObsID Preliminary Risk Category  Neighborhood  \\\n",
              "0         NaN     19                 High Risk  Capitol Hill   \n",
              "1         NaN     40               Medium Risk  Capitol Hill   \n",
              "2         NaN    265               Medium Risk  Capitol Hill   \n",
              "3         NaN     95               Medium Risk  Alki-Admiral   \n",
              "4         NaN     49               Medium Risk  Alki/Admiral   \n",
              "\n",
              "                  Address  Year Built  No. Stories          Retrofit Level  \\\n",
              "0           925 E Pike St        1916            1  Substantial Alteration   \n",
              "1           1621 12th Ave        1917            1  Substantial Alteration   \n",
              "2        1510 Melrose Ave        1930            2  Substantial Alteration   \n",
              "3      1321 Harbor Ave SW        1915            1     No visible retrofit   \n",
              "4  2124 California Ave SW        1928            3     No visible retrofit   \n",
              "\n",
              "             Building Use Estimated Number of Occupants  \\\n",
              "0         Public Assembly                          101+   \n",
              "1       Commercial/Office                          101+   \n",
              "2  Commercial/Residential                        11-100   \n",
              "3              Commercial                        11-100   \n",
              "4             Residential                        11-100   \n",
              "\n",
              "            Confirmation Source  \n",
              "0         Permit Drawing Review  \n",
              "1  Photos from Previous Surveys  \n",
              "2            Google Street View  \n",
              "3  Photos from Previous Surveys  \n",
              "4            Google Street View  "
            ]
          },
          "execution_count": 94,
          "metadata": {},
          "output_type": "execute_result"
        }
      ],
      "source": [
        "mason['Neighborhood'] = mason['Neighborhood'].str.strip()\n",
        "mason['Address'] = mason['Address'].str.strip()\n",
        "mason['Retrofit Level'] = mason['Retrofit Level'].str.strip()\n",
        "mason['Building Use'] = mason['Building Use'].str.strip()\n",
        "mason['Confirmation Source'] = mason['Confirmation Source'].str.strip()\n",
        "\n",
        "mason.head()"
      ]
    },
    {
      "cell_type": "markdown",
      "id": "KklMSqOcOZt2",
      "metadata": {
        "id": "KklMSqOcOZt2"
      },
      "source": [
        "2. **Eliminate any records that have no Address or Retrofit Level data.**"
      ]
    },
    {
      "cell_type": "code",
      "execution_count": 95,
      "id": "987433ef",
      "metadata": {},
      "outputs": [
        {
          "name": "stdout",
          "output_type": "stream",
          "text": [
            "<class 'pandas.core.frame.DataFrame'>\n",
            "RangeIndex: 710 entries, 0 to 709\n",
            "Data columns (total 11 columns):\n",
            " #   Column                         Non-Null Count  Dtype  \n",
            "---  ------                         --------------  -----  \n",
            " 0   Unnamed: 0                     0 non-null      float64\n",
            " 1   ObsID                          710 non-null    int64  \n",
            " 2   Preliminary Risk Category      710 non-null    object \n",
            " 3   Neighborhood                   710 non-null    object \n",
            " 4   Address                        707 non-null    object \n",
            " 5   Year Built                     710 non-null    int64  \n",
            " 6   No. Stories                    710 non-null    int64  \n",
            " 7   Retrofit Level                 706 non-null    object \n",
            " 8   Building Use                   710 non-null    object \n",
            " 9   Estimated Number of Occupants  708 non-null    object \n",
            " 10  Confirmation Source            707 non-null    object \n",
            "dtypes: float64(1), int64(3), object(7)\n",
            "memory usage: 61.1+ KB\n"
          ]
        }
      ],
      "source": [
        "mason.info()"
      ]
    },
    {
      "cell_type": "code",
      "execution_count": 96,
      "id": "6a12b168",
      "metadata": {
        "id": "6a12b168"
      },
      "outputs": [
        {
          "data": {
            "text/plain": [
              "703"
            ]
          },
          "execution_count": 96,
          "metadata": {},
          "output_type": "execute_result"
        }
      ],
      "source": [
        "mason_full = mason[mason['Address'].notna()]\n",
        "mason_full = mason_full[mason_full['Retrofit Level'].notna()]\n",
        "len(mason_full)"
      ]
    },
    {
      "cell_type": "markdown",
      "id": "TixhgonOOeMc",
      "metadata": {
        "id": "TixhgonOOeMc"
      },
      "source": [
        "3. **Ensure that the labels for Neighborhood and Retrofit Level are consistent (i.e., there’s shouldn’t be different spellings, abbreviations, or just multiple ways of saying the same thing).**"
      ]
    },
    {
      "cell_type": "code",
      "execution_count": 97,
      "id": "45d4baa2",
      "metadata": {
        "id": "45d4baa2"
      },
      "outputs": [
        {
          "data": {
            "text/plain": [
              "Neighborhood\n",
              "Capitol Hill                139\n",
              "Duwamish/SODO                79\n",
              "Cascade/Eastlake             71\n",
              "Belltown                     68\n",
              "Ballard                      66\n",
              "Downtown                     57\n",
              "First Hill                   45\n",
              "Greenwood/Phinney Ridge      29\n",
              "Columbia City                27\n",
              "Central Area/Squire Park     24\n",
              "Green Lake                   20\n",
              "Georgetown                   17\n",
              "Fremont                      13\n",
              "Judkins Park                 13\n",
              "Fauntleroy/Seaview           11\n",
              "Beacon Hill                   6\n",
              "Interbay                      5\n",
              "Cap Hill                      3\n",
              "Cedar Park/Meadowbrook        2\n",
              "Alki-Admiral                  2\n",
              "Broadview/Bitter Lake         2\n",
              "Alki/Admiral                  2\n",
              "Cascade/Eastlak               1\n",
              "Highland Park                 1\n",
              "Name: count, dtype: int64"
            ]
          },
          "execution_count": 97,
          "metadata": {},
          "output_type": "execute_result"
        }
      ],
      "source": [
        "# examine entries for neighborhood using .value_counts()\n",
        "\n",
        "mason_full[\"Retrofit Level\"].value_counts()\n",
        "mason_full[\"Neighborhood\"].value_counts()"
      ]
    },
    {
      "cell_type": "code",
      "execution_count": 98,
      "id": "55d5534c",
      "metadata": {
        "id": "55d5534c"
      },
      "outputs": [
        {
          "name": "stderr",
          "output_type": "stream",
          "text": [
            "C:\\Users\\tucke\\AppData\\Local\\Temp\\ipykernel_3552\\203858825.py:2: FutureWarning: A value is trying to be set on a copy of a DataFrame or Series through chained assignment using an inplace method.\n",
            "The behavior will change in pandas 3.0. This inplace method will never work because the intermediate object on which we are setting values always behaves as a copy.\n",
            "\n",
            "For example, when doing 'df[col].method(value, inplace=True)', try using 'df.method({col: value}, inplace=True)' or df[col] = df[col].method(value) instead, to perform the operation inplace on the original object.\n",
            "\n",
            "\n",
            "  mason_full[\"Neighborhood\"].replace({\"Cascade/Eastlak\": \"Cascade/Eastlake\",\n"
          ]
        },
        {
          "data": {
            "text/plain": [
              "Neighborhood\n",
              "Capitol Hill                142\n",
              "Duwamish/SODO                79\n",
              "Cascade/Eastlake             72\n",
              "Belltown                     68\n",
              "Ballard                      66\n",
              "Downtown                     57\n",
              "First Hill                   45\n",
              "Greenwood/Phinney Ridge      29\n",
              "Columbia City                27\n",
              "Central Area/Squire Park     24\n",
              "Green Lake                   20\n",
              "Georgetown                   17\n",
              "Fremont                      13\n",
              "Judkins Park                 13\n",
              "Fauntleroy/Seaview           11\n",
              "Beacon Hill                   6\n",
              "Interbay                      5\n",
              "Alki/Admiral                  4\n",
              "Broadview/Bitter Lake         2\n",
              "Cedar Park/Meadowbrook        2\n",
              "Highland Park                 1\n",
              "Name: count, dtype: int64"
            ]
          },
          "execution_count": 98,
          "metadata": {},
          "output_type": "execute_result"
        }
      ],
      "source": [
        "#replace redundant neighborhood values\n",
        "mason_full[\"Neighborhood\"].replace({\"Cascade/Eastlak\": \"Cascade/Eastlake\",\n",
        "                                \"Alki-Admiral\": \"Alki/Admiral\",\n",
        "                                \"Cap Hill\": \"Capitol Hill\"},\n",
        "                                inplace=True)\n",
        "mason_full[\"Neighborhood\"].value_counts()"
      ]
    },
    {
      "cell_type": "code",
      "execution_count": 99,
      "id": "0dc9d477",
      "metadata": {
        "id": "0dc9d477"
      },
      "outputs": [
        {
          "data": {
            "text/plain": [
              "Retrofit Level\n",
              "No visible retrofit       373\n",
              "Permitted Retrofit        126\n",
              "Substantial Alteration     89\n",
              "Visible retrofit           70\n",
              "None visible               45\n",
              "Name: count, dtype: int64"
            ]
          },
          "execution_count": 99,
          "metadata": {},
          "output_type": "execute_result"
        }
      ],
      "source": [
        "# examine entries of Retrofit Level using .value_counts()\n",
        "mason_full[\"Retrofit Level\"].value_counts()"
      ]
    },
    {
      "cell_type": "code",
      "execution_count": 100,
      "id": "a9eaeac1",
      "metadata": {
        "id": "a9eaeac1"
      },
      "outputs": [
        {
          "name": "stderr",
          "output_type": "stream",
          "text": [
            "C:\\Users\\tucke\\AppData\\Local\\Temp\\ipykernel_3552\\2354037165.py:3: FutureWarning: A value is trying to be set on a copy of a DataFrame or Series through chained assignment using an inplace method.\n",
            "The behavior will change in pandas 3.0. This inplace method will never work because the intermediate object on which we are setting values always behaves as a copy.\n",
            "\n",
            "For example, when doing 'df[col].method(value, inplace=True)', try using 'df.method({col: value}, inplace=True)' or df[col] = df[col].method(value) instead, to perform the operation inplace on the original object.\n",
            "\n",
            "\n",
            "  mason_full[\"Retrofit Level\"].replace({\"None visible\": \"No visible retrofit\"}, inplace=True)\n"
          ]
        },
        {
          "data": {
            "text/plain": [
              "Retrofit Level\n",
              "No visible retrofit       418\n",
              "Permitted Retrofit        126\n",
              "Substantial Alteration     89\n",
              "Visible retrofit           70\n",
              "Name: count, dtype: int64"
            ]
          },
          "execution_count": 100,
          "metadata": {},
          "output_type": "execute_result"
        }
      ],
      "source": [
        "# mason_full = mason_full.replace() #replace redundant retrofit levels\n",
        "#examine entries of Retrofit Level using .value_counts()\n",
        "mason_full[\"Retrofit Level\"].replace({\"None visible\": \"No visible retrofit\"}, inplace=True)\n",
        "mason_full[\"Retrofit Level\"].value_counts()"
      ]
    },
    {
      "cell_type": "markdown",
      "id": "xTXHMyZpOnb-",
      "metadata": {
        "id": "xTXHMyZpOnb-"
      },
      "source": [
        "4. **Many of the buildings are dual-use. This is indicated in the Building Use column. Create two separate columns from the Building Use column, one for the first use listed and the other for the second.**"
      ]
    },
    {
      "cell_type": "code",
      "execution_count": 101,
      "id": "DffbgwNTx2vR",
      "metadata": {
        "id": "DffbgwNTx2vR"
      },
      "outputs": [
        {
          "data": {
            "text/plain": [
              "Building Use\n",
              "Commercial                206\n",
              "Residential               125\n",
              "Commercial/Office          94\n",
              "Commercial/Residential     88\n",
              "Public Assembly            78\n",
              "Office                     36\n",
              "Schools                    30\n",
              "Industrial                 17\n",
              "Other Mixed Uses           17\n",
              "Government                 10\n",
              "Vacant                      1\n",
              "Emergency                   1\n",
              "Name: count, dtype: int64"
            ]
          },
          "execution_count": 101,
          "metadata": {},
          "output_type": "execute_result"
        }
      ],
      "source": [
        "mason_full['Building Use'].value_counts() # preview entries for Building Use\n",
        "# switching to value_counts as it is more helpful to see"
      ]
    },
    {
      "cell_type": "code",
      "execution_count": 102,
      "id": "20611f3c",
      "metadata": {
        "id": "20611f3c"
      },
      "outputs": [
        {
          "data": {
            "text/html": [
              "<div>\n",
              "<style scoped>\n",
              "    .dataframe tbody tr th:only-of-type {\n",
              "        vertical-align: middle;\n",
              "    }\n",
              "\n",
              "    .dataframe tbody tr th {\n",
              "        vertical-align: top;\n",
              "    }\n",
              "\n",
              "    .dataframe thead th {\n",
              "        text-align: right;\n",
              "    }\n",
              "</style>\n",
              "<table border=\"1\" class=\"dataframe\">\n",
              "  <thead>\n",
              "    <tr style=\"text-align: right;\">\n",
              "      <th></th>\n",
              "      <th>Unnamed: 0</th>\n",
              "      <th>ObsID</th>\n",
              "      <th>Preliminary Risk Category</th>\n",
              "      <th>Neighborhood</th>\n",
              "      <th>Address</th>\n",
              "      <th>Year Built</th>\n",
              "      <th>No. Stories</th>\n",
              "      <th>Retrofit Level</th>\n",
              "      <th>Building Use</th>\n",
              "      <th>Estimated Number of Occupants</th>\n",
              "      <th>Confirmation Source</th>\n",
              "      <th>Primary Use</th>\n",
              "      <th>Secondary Use</th>\n",
              "    </tr>\n",
              "  </thead>\n",
              "  <tbody>\n",
              "    <tr>\n",
              "      <th>0</th>\n",
              "      <td>NaN</td>\n",
              "      <td>19</td>\n",
              "      <td>High Risk</td>\n",
              "      <td>Capitol Hill</td>\n",
              "      <td>925 E Pike St</td>\n",
              "      <td>1916</td>\n",
              "      <td>1</td>\n",
              "      <td>Substantial Alteration</td>\n",
              "      <td>Public Assembly</td>\n",
              "      <td>101+</td>\n",
              "      <td>Permit Drawing Review</td>\n",
              "      <td>Public Assembly</td>\n",
              "      <td>None</td>\n",
              "    </tr>\n",
              "    <tr>\n",
              "      <th>1</th>\n",
              "      <td>NaN</td>\n",
              "      <td>40</td>\n",
              "      <td>Medium Risk</td>\n",
              "      <td>Capitol Hill</td>\n",
              "      <td>1621 12th Ave</td>\n",
              "      <td>1917</td>\n",
              "      <td>1</td>\n",
              "      <td>Substantial Alteration</td>\n",
              "      <td>Commercial/Office</td>\n",
              "      <td>101+</td>\n",
              "      <td>Photos from Previous Surveys</td>\n",
              "      <td>Commercial</td>\n",
              "      <td>Office</td>\n",
              "    </tr>\n",
              "    <tr>\n",
              "      <th>2</th>\n",
              "      <td>NaN</td>\n",
              "      <td>265</td>\n",
              "      <td>Medium Risk</td>\n",
              "      <td>Capitol Hill</td>\n",
              "      <td>1510 Melrose Ave</td>\n",
              "      <td>1930</td>\n",
              "      <td>2</td>\n",
              "      <td>Substantial Alteration</td>\n",
              "      <td>Commercial/Residential</td>\n",
              "      <td>11-100</td>\n",
              "      <td>Google Street View</td>\n",
              "      <td>Commercial</td>\n",
              "      <td>Residential</td>\n",
              "    </tr>\n",
              "    <tr>\n",
              "      <th>3</th>\n",
              "      <td>NaN</td>\n",
              "      <td>95</td>\n",
              "      <td>Medium Risk</td>\n",
              "      <td>Alki/Admiral</td>\n",
              "      <td>1321 Harbor Ave SW</td>\n",
              "      <td>1915</td>\n",
              "      <td>1</td>\n",
              "      <td>No visible retrofit</td>\n",
              "      <td>Commercial</td>\n",
              "      <td>11-100</td>\n",
              "      <td>Photos from Previous Surveys</td>\n",
              "      <td>Commercial</td>\n",
              "      <td>None</td>\n",
              "    </tr>\n",
              "    <tr>\n",
              "      <th>4</th>\n",
              "      <td>NaN</td>\n",
              "      <td>49</td>\n",
              "      <td>Medium Risk</td>\n",
              "      <td>Alki/Admiral</td>\n",
              "      <td>2124 California Ave SW</td>\n",
              "      <td>1928</td>\n",
              "      <td>3</td>\n",
              "      <td>No visible retrofit</td>\n",
              "      <td>Residential</td>\n",
              "      <td>11-100</td>\n",
              "      <td>Google Street View</td>\n",
              "      <td>Residential</td>\n",
              "      <td>None</td>\n",
              "    </tr>\n",
              "  </tbody>\n",
              "</table>\n",
              "</div>"
            ],
            "text/plain": [
              "   Unnamed: 0  ObsID Preliminary Risk Category  Neighborhood  \\\n",
              "0         NaN     19                 High Risk  Capitol Hill   \n",
              "1         NaN     40               Medium Risk  Capitol Hill   \n",
              "2         NaN    265               Medium Risk  Capitol Hill   \n",
              "3         NaN     95               Medium Risk  Alki/Admiral   \n",
              "4         NaN     49               Medium Risk  Alki/Admiral   \n",
              "\n",
              "                  Address  Year Built  No. Stories          Retrofit Level  \\\n",
              "0           925 E Pike St        1916            1  Substantial Alteration   \n",
              "1           1621 12th Ave        1917            1  Substantial Alteration   \n",
              "2        1510 Melrose Ave        1930            2  Substantial Alteration   \n",
              "3      1321 Harbor Ave SW        1915            1     No visible retrofit   \n",
              "4  2124 California Ave SW        1928            3     No visible retrofit   \n",
              "\n",
              "             Building Use Estimated Number of Occupants  \\\n",
              "0         Public Assembly                          101+   \n",
              "1       Commercial/Office                          101+   \n",
              "2  Commercial/Residential                        11-100   \n",
              "3              Commercial                        11-100   \n",
              "4             Residential                        11-100   \n",
              "\n",
              "            Confirmation Source      Primary Use Secondary Use  \n",
              "0         Permit Drawing Review  Public Assembly          None  \n",
              "1  Photos from Previous Surveys       Commercial        Office  \n",
              "2            Google Street View       Commercial   Residential  \n",
              "3  Photos from Previous Surveys       Commercial          None  \n",
              "4            Google Street View      Residential          None  "
            ]
          },
          "execution_count": 102,
          "metadata": {},
          "output_type": "execute_result"
        }
      ],
      "source": [
        "mason_full[['Primary Use', 'Secondary Use']] = mason_full['Building Use'].str.split('/', expand = True) # split building use into two new columns\n",
        "mason_full.head()"
      ]
    },
    {
      "cell_type": "markdown",
      "id": "rehOWyzJOuey",
      "metadata": {
        "id": "rehOWyzJOuey"
      },
      "source": [
        "5. **Create a new column called “IsCritical”. For those buildings shown with a preliminary risk value of “Critical Risk”, the value for “IsCritical” should be 1. For all others, the value should be 0.**"
      ]
    },
    {
      "cell_type": "code",
      "execution_count": 103,
      "id": "Anvt6hdBF4yV",
      "metadata": {
        "id": "Anvt6hdBF4yV"
      },
      "outputs": [
        {
          "data": {
            "text/plain": [
              "Preliminary Risk Category\n",
              "Medium Risk      563\n",
              "High Risk        109\n",
              "Critical Risk     31\n",
              "Name: count, dtype: int64"
            ]
          },
          "execution_count": 103,
          "metadata": {},
          "output_type": "execute_result"
        }
      ],
      "source": [
        "#view categories of Preliminary Risk Category using .value_counts()\n",
        "mason_full['Preliminary Risk Category'].value_counts()"
      ]
    },
    {
      "cell_type": "code",
      "execution_count": 104,
      "id": "340b0e13",
      "metadata": {
        "id": "340b0e13"
      },
      "outputs": [
        {
          "data": {
            "text/html": [
              "<div>\n",
              "<style scoped>\n",
              "    .dataframe tbody tr th:only-of-type {\n",
              "        vertical-align: middle;\n",
              "    }\n",
              "\n",
              "    .dataframe tbody tr th {\n",
              "        vertical-align: top;\n",
              "    }\n",
              "\n",
              "    .dataframe thead th {\n",
              "        text-align: right;\n",
              "    }\n",
              "</style>\n",
              "<table border=\"1\" class=\"dataframe\">\n",
              "  <thead>\n",
              "    <tr style=\"text-align: right;\">\n",
              "      <th></th>\n",
              "      <th>Unnamed: 0</th>\n",
              "      <th>ObsID</th>\n",
              "      <th>Preliminary Risk Category</th>\n",
              "      <th>Neighborhood</th>\n",
              "      <th>Address</th>\n",
              "      <th>Year Built</th>\n",
              "      <th>No. Stories</th>\n",
              "      <th>Retrofit Level</th>\n",
              "      <th>Building Use</th>\n",
              "      <th>Estimated Number of Occupants</th>\n",
              "      <th>Confirmation Source</th>\n",
              "      <th>Primary Use</th>\n",
              "      <th>Secondary Use</th>\n",
              "      <th>IsCritical</th>\n",
              "    </tr>\n",
              "  </thead>\n",
              "  <tbody>\n",
              "    <tr>\n",
              "      <th>0</th>\n",
              "      <td>NaN</td>\n",
              "      <td>19</td>\n",
              "      <td>High Risk</td>\n",
              "      <td>Capitol Hill</td>\n",
              "      <td>925 E Pike St</td>\n",
              "      <td>1916</td>\n",
              "      <td>1</td>\n",
              "      <td>Substantial Alteration</td>\n",
              "      <td>Public Assembly</td>\n",
              "      <td>101+</td>\n",
              "      <td>Permit Drawing Review</td>\n",
              "      <td>Public Assembly</td>\n",
              "      <td>None</td>\n",
              "      <td>0</td>\n",
              "    </tr>\n",
              "    <tr>\n",
              "      <th>1</th>\n",
              "      <td>NaN</td>\n",
              "      <td>40</td>\n",
              "      <td>Medium Risk</td>\n",
              "      <td>Capitol Hill</td>\n",
              "      <td>1621 12th Ave</td>\n",
              "      <td>1917</td>\n",
              "      <td>1</td>\n",
              "      <td>Substantial Alteration</td>\n",
              "      <td>Commercial/Office</td>\n",
              "      <td>101+</td>\n",
              "      <td>Photos from Previous Surveys</td>\n",
              "      <td>Commercial</td>\n",
              "      <td>Office</td>\n",
              "      <td>0</td>\n",
              "    </tr>\n",
              "    <tr>\n",
              "      <th>2</th>\n",
              "      <td>NaN</td>\n",
              "      <td>265</td>\n",
              "      <td>Medium Risk</td>\n",
              "      <td>Capitol Hill</td>\n",
              "      <td>1510 Melrose Ave</td>\n",
              "      <td>1930</td>\n",
              "      <td>2</td>\n",
              "      <td>Substantial Alteration</td>\n",
              "      <td>Commercial/Residential</td>\n",
              "      <td>11-100</td>\n",
              "      <td>Google Street View</td>\n",
              "      <td>Commercial</td>\n",
              "      <td>Residential</td>\n",
              "      <td>0</td>\n",
              "    </tr>\n",
              "    <tr>\n",
              "      <th>3</th>\n",
              "      <td>NaN</td>\n",
              "      <td>95</td>\n",
              "      <td>Medium Risk</td>\n",
              "      <td>Alki/Admiral</td>\n",
              "      <td>1321 Harbor Ave SW</td>\n",
              "      <td>1915</td>\n",
              "      <td>1</td>\n",
              "      <td>No visible retrofit</td>\n",
              "      <td>Commercial</td>\n",
              "      <td>11-100</td>\n",
              "      <td>Photos from Previous Surveys</td>\n",
              "      <td>Commercial</td>\n",
              "      <td>None</td>\n",
              "      <td>0</td>\n",
              "    </tr>\n",
              "    <tr>\n",
              "      <th>4</th>\n",
              "      <td>NaN</td>\n",
              "      <td>49</td>\n",
              "      <td>Medium Risk</td>\n",
              "      <td>Alki/Admiral</td>\n",
              "      <td>2124 California Ave SW</td>\n",
              "      <td>1928</td>\n",
              "      <td>3</td>\n",
              "      <td>No visible retrofit</td>\n",
              "      <td>Residential</td>\n",
              "      <td>11-100</td>\n",
              "      <td>Google Street View</td>\n",
              "      <td>Residential</td>\n",
              "      <td>None</td>\n",
              "      <td>0</td>\n",
              "    </tr>\n",
              "  </tbody>\n",
              "</table>\n",
              "</div>"
            ],
            "text/plain": [
              "   Unnamed: 0  ObsID Preliminary Risk Category  Neighborhood  \\\n",
              "0         NaN     19                 High Risk  Capitol Hill   \n",
              "1         NaN     40               Medium Risk  Capitol Hill   \n",
              "2         NaN    265               Medium Risk  Capitol Hill   \n",
              "3         NaN     95               Medium Risk  Alki/Admiral   \n",
              "4         NaN     49               Medium Risk  Alki/Admiral   \n",
              "\n",
              "                  Address  Year Built  No. Stories          Retrofit Level  \\\n",
              "0           925 E Pike St        1916            1  Substantial Alteration   \n",
              "1           1621 12th Ave        1917            1  Substantial Alteration   \n",
              "2        1510 Melrose Ave        1930            2  Substantial Alteration   \n",
              "3      1321 Harbor Ave SW        1915            1     No visible retrofit   \n",
              "4  2124 California Ave SW        1928            3     No visible retrofit   \n",
              "\n",
              "             Building Use Estimated Number of Occupants  \\\n",
              "0         Public Assembly                          101+   \n",
              "1       Commercial/Office                          101+   \n",
              "2  Commercial/Residential                        11-100   \n",
              "3              Commercial                        11-100   \n",
              "4             Residential                        11-100   \n",
              "\n",
              "            Confirmation Source      Primary Use Secondary Use  IsCritical  \n",
              "0         Permit Drawing Review  Public Assembly          None           0  \n",
              "1  Photos from Previous Surveys       Commercial        Office           0  \n",
              "2            Google Street View       Commercial   Residential           0  \n",
              "3  Photos from Previous Surveys       Commercial          None           0  \n",
              "4            Google Street View      Residential          None           0  "
            ]
          },
          "execution_count": 104,
          "metadata": {},
          "output_type": "execute_result"
        }
      ],
      "source": [
        "mason_full[\"IsCritical\"] = np.where(mason_full['Preliminary Risk Category'] == 'Critical Risk', 1, 0)\n",
        "mason_full.head()"
      ]
    },
    {
      "cell_type": "markdown",
      "id": "oXjpuPrjOzZ-",
      "metadata": {
        "id": "oXjpuPrjOzZ-"
      },
      "source": [
        "6. **We'd like to be able to categorize the buildings' age. Create a new column and name it Era. Populate this column with information reflecting to which of the following 'eras' each building belongs: \"before 1920\", \"1920-1939\", \"1940-1959\", \"1960-1979\", or \"after 1979\".**"
      ]
    },
    {
      "cell_type": "code",
      "execution_count": 109,
      "id": "5fa2ee8d",
      "metadata": {
        "id": "5fa2ee8d"
      },
      "outputs": [
        {
          "data": {
            "text/html": [
              "<div>\n",
              "<style scoped>\n",
              "    .dataframe tbody tr th:only-of-type {\n",
              "        vertical-align: middle;\n",
              "    }\n",
              "\n",
              "    .dataframe tbody tr th {\n",
              "        vertical-align: top;\n",
              "    }\n",
              "\n",
              "    .dataframe thead th {\n",
              "        text-align: right;\n",
              "    }\n",
              "</style>\n",
              "<table border=\"1\" class=\"dataframe\">\n",
              "  <thead>\n",
              "    <tr style=\"text-align: right;\">\n",
              "      <th></th>\n",
              "      <th>Unnamed: 0</th>\n",
              "      <th>ObsID</th>\n",
              "      <th>Preliminary Risk Category</th>\n",
              "      <th>Neighborhood</th>\n",
              "      <th>Address</th>\n",
              "      <th>Year Built</th>\n",
              "      <th>No. Stories</th>\n",
              "      <th>Retrofit Level</th>\n",
              "      <th>Building Use</th>\n",
              "      <th>Estimated Number of Occupants</th>\n",
              "      <th>Confirmation Source</th>\n",
              "      <th>Primary Use</th>\n",
              "      <th>Secondary Use</th>\n",
              "      <th>IsCritical</th>\n",
              "      <th>Era</th>\n",
              "    </tr>\n",
              "  </thead>\n",
              "  <tbody>\n",
              "    <tr>\n",
              "      <th>0</th>\n",
              "      <td>NaN</td>\n",
              "      <td>19</td>\n",
              "      <td>High Risk</td>\n",
              "      <td>Capitol Hill</td>\n",
              "      <td>925 E Pike St</td>\n",
              "      <td>1916</td>\n",
              "      <td>1</td>\n",
              "      <td>Substantial Alteration</td>\n",
              "      <td>Public Assembly</td>\n",
              "      <td>101+</td>\n",
              "      <td>Permit Drawing Review</td>\n",
              "      <td>Public Assembly</td>\n",
              "      <td>None</td>\n",
              "      <td>0</td>\n",
              "      <td>before 1920</td>\n",
              "    </tr>\n",
              "    <tr>\n",
              "      <th>1</th>\n",
              "      <td>NaN</td>\n",
              "      <td>40</td>\n",
              "      <td>Medium Risk</td>\n",
              "      <td>Capitol Hill</td>\n",
              "      <td>1621 12th Ave</td>\n",
              "      <td>1917</td>\n",
              "      <td>1</td>\n",
              "      <td>Substantial Alteration</td>\n",
              "      <td>Commercial/Office</td>\n",
              "      <td>101+</td>\n",
              "      <td>Photos from Previous Surveys</td>\n",
              "      <td>Commercial</td>\n",
              "      <td>Office</td>\n",
              "      <td>0</td>\n",
              "      <td>before 1920</td>\n",
              "    </tr>\n",
              "    <tr>\n",
              "      <th>2</th>\n",
              "      <td>NaN</td>\n",
              "      <td>265</td>\n",
              "      <td>Medium Risk</td>\n",
              "      <td>Capitol Hill</td>\n",
              "      <td>1510 Melrose Ave</td>\n",
              "      <td>1930</td>\n",
              "      <td>2</td>\n",
              "      <td>Substantial Alteration</td>\n",
              "      <td>Commercial/Residential</td>\n",
              "      <td>11-100</td>\n",
              "      <td>Google Street View</td>\n",
              "      <td>Commercial</td>\n",
              "      <td>Residential</td>\n",
              "      <td>0</td>\n",
              "      <td>1920-1939</td>\n",
              "    </tr>\n",
              "    <tr>\n",
              "      <th>3</th>\n",
              "      <td>NaN</td>\n",
              "      <td>95</td>\n",
              "      <td>Medium Risk</td>\n",
              "      <td>Alki/Admiral</td>\n",
              "      <td>1321 Harbor Ave SW</td>\n",
              "      <td>1915</td>\n",
              "      <td>1</td>\n",
              "      <td>No visible retrofit</td>\n",
              "      <td>Commercial</td>\n",
              "      <td>11-100</td>\n",
              "      <td>Photos from Previous Surveys</td>\n",
              "      <td>Commercial</td>\n",
              "      <td>None</td>\n",
              "      <td>0</td>\n",
              "      <td>before 1920</td>\n",
              "    </tr>\n",
              "    <tr>\n",
              "      <th>4</th>\n",
              "      <td>NaN</td>\n",
              "      <td>49</td>\n",
              "      <td>Medium Risk</td>\n",
              "      <td>Alki/Admiral</td>\n",
              "      <td>2124 California Ave SW</td>\n",
              "      <td>1928</td>\n",
              "      <td>3</td>\n",
              "      <td>No visible retrofit</td>\n",
              "      <td>Residential</td>\n",
              "      <td>11-100</td>\n",
              "      <td>Google Street View</td>\n",
              "      <td>Residential</td>\n",
              "      <td>None</td>\n",
              "      <td>0</td>\n",
              "      <td>1920-1939</td>\n",
              "    </tr>\n",
              "  </tbody>\n",
              "</table>\n",
              "</div>"
            ],
            "text/plain": [
              "   Unnamed: 0  ObsID Preliminary Risk Category  Neighborhood  \\\n",
              "0         NaN     19                 High Risk  Capitol Hill   \n",
              "1         NaN     40               Medium Risk  Capitol Hill   \n",
              "2         NaN    265               Medium Risk  Capitol Hill   \n",
              "3         NaN     95               Medium Risk  Alki/Admiral   \n",
              "4         NaN     49               Medium Risk  Alki/Admiral   \n",
              "\n",
              "                  Address  Year Built  No. Stories          Retrofit Level  \\\n",
              "0           925 E Pike St        1916            1  Substantial Alteration   \n",
              "1           1621 12th Ave        1917            1  Substantial Alteration   \n",
              "2        1510 Melrose Ave        1930            2  Substantial Alteration   \n",
              "3      1321 Harbor Ave SW        1915            1     No visible retrofit   \n",
              "4  2124 California Ave SW        1928            3     No visible retrofit   \n",
              "\n",
              "             Building Use Estimated Number of Occupants  \\\n",
              "0         Public Assembly                          101+   \n",
              "1       Commercial/Office                          101+   \n",
              "2  Commercial/Residential                        11-100   \n",
              "3              Commercial                        11-100   \n",
              "4             Residential                        11-100   \n",
              "\n",
              "            Confirmation Source      Primary Use Secondary Use  IsCritical  \\\n",
              "0         Permit Drawing Review  Public Assembly          None           0   \n",
              "1  Photos from Previous Surveys       Commercial        Office           0   \n",
              "2            Google Street View       Commercial   Residential           0   \n",
              "3  Photos from Previous Surveys       Commercial          None           0   \n",
              "4            Google Street View      Residential          None           0   \n",
              "\n",
              "           Era  \n",
              "0  before 1920  \n",
              "1  before 1920  \n",
              "2    1920-1939  \n",
              "3  before 1920  \n",
              "4    1920-1939  "
            ]
          },
          "execution_count": 109,
          "metadata": {},
          "output_type": "execute_result"
        }
      ],
      "source": [
        "conditions = [\n",
        "    (mason_full['Year Built'] < 1920),\n",
        "    (mason_full['Year Built'] <= 1939),\n",
        "    (mason_full['Year Built'] <= 1959),\n",
        "    (mason_full['Year Built'] <= 1979),\n",
        "    (mason_full['Year Built'] > 1979)\n",
        "]\n",
        "# you must add <= or you get incorrect values\n",
        "\n",
        "values = ['before 1920', '1920-1939', '1940-1959', '1960-1979', 'after 1979']\n",
        "mason_full['Era'] = np.select(conditions, values) # create new era variable\n",
        "mason_full.head()"
      ]
    },
    {
      "cell_type": "markdown",
      "id": "8xAjA9j3O9rW",
      "metadata": {
        "id": "8xAjA9j3O9rW"
      },
      "source": [
        "7. **Delete any unnecessary columns.**"
      ]
    },
    {
      "cell_type": "code",
      "execution_count": 110,
      "id": "qkSVxvBaOuCe",
      "metadata": {
        "id": "qkSVxvBaOuCe"
      },
      "outputs": [],
      "source": [
        "mason_full = mason_full.drop(columns=[\"Unnamed: 0\", \"Building Use\"])"
      ]
    },
    {
      "cell_type": "markdown",
      "id": "vLYo6UcUO4v4",
      "metadata": {
        "id": "vLYo6UcUO4v4"
      },
      "source": [
        "8. **Sort the data.**"
      ]
    },
    {
      "cell_type": "code",
      "execution_count": 111,
      "id": "3d460c2c",
      "metadata": {
        "id": "3d460c2c"
      },
      "outputs": [
        {
          "data": {
            "text/html": [
              "<div>\n",
              "<style scoped>\n",
              "    .dataframe tbody tr th:only-of-type {\n",
              "        vertical-align: middle;\n",
              "    }\n",
              "\n",
              "    .dataframe tbody tr th {\n",
              "        vertical-align: top;\n",
              "    }\n",
              "\n",
              "    .dataframe thead th {\n",
              "        text-align: right;\n",
              "    }\n",
              "</style>\n",
              "<table border=\"1\" class=\"dataframe\">\n",
              "  <thead>\n",
              "    <tr style=\"text-align: right;\">\n",
              "      <th></th>\n",
              "      <th>Preliminary Risk Category</th>\n",
              "      <th>Neighborhood</th>\n",
              "      <th>Address</th>\n",
              "      <th>Year Built</th>\n",
              "      <th>No. Stories</th>\n",
              "      <th>Retrofit Level</th>\n",
              "      <th>Estimated Number of Occupants</th>\n",
              "      <th>Confirmation Source</th>\n",
              "      <th>Primary Use</th>\n",
              "      <th>Secondary Use</th>\n",
              "      <th>IsCritical</th>\n",
              "      <th>Era</th>\n",
              "    </tr>\n",
              "    <tr>\n",
              "      <th>ObsID</th>\n",
              "      <th></th>\n",
              "      <th></th>\n",
              "      <th></th>\n",
              "      <th></th>\n",
              "      <th></th>\n",
              "      <th></th>\n",
              "      <th></th>\n",
              "      <th></th>\n",
              "      <th></th>\n",
              "      <th></th>\n",
              "      <th></th>\n",
              "      <th></th>\n",
              "    </tr>\n",
              "  </thead>\n",
              "  <tbody>\n",
              "    <tr>\n",
              "      <th>1</th>\n",
              "      <td>Medium Risk</td>\n",
              "      <td>Cascade/Eastlake</td>\n",
              "      <td>305 Bell St</td>\n",
              "      <td>1925</td>\n",
              "      <td>1</td>\n",
              "      <td>No visible retrofit</td>\n",
              "      <td>11-100</td>\n",
              "      <td>Google Street View</td>\n",
              "      <td>Commercial</td>\n",
              "      <td>None</td>\n",
              "      <td>0</td>\n",
              "      <td>1920-1939</td>\n",
              "    </tr>\n",
              "    <tr>\n",
              "      <th>2</th>\n",
              "      <td>Medium Risk</td>\n",
              "      <td>Ballard</td>\n",
              "      <td>2016 NW Market St</td>\n",
              "      <td>1906</td>\n",
              "      <td>2</td>\n",
              "      <td>No visible retrofit</td>\n",
              "      <td>11-100</td>\n",
              "      <td>Field Visit</td>\n",
              "      <td>Commercial</td>\n",
              "      <td>Office</td>\n",
              "      <td>0</td>\n",
              "      <td>before 1920</td>\n",
              "    </tr>\n",
              "    <tr>\n",
              "      <th>3</th>\n",
              "      <td>Medium Risk</td>\n",
              "      <td>Capitol Hill</td>\n",
              "      <td>225 Broadway E</td>\n",
              "      <td>1940</td>\n",
              "      <td>2</td>\n",
              "      <td>No visible retrofit</td>\n",
              "      <td>11-100</td>\n",
              "      <td>Field Visit</td>\n",
              "      <td>Commercial</td>\n",
              "      <td>None</td>\n",
              "      <td>0</td>\n",
              "      <td>1940-1959</td>\n",
              "    </tr>\n",
              "    <tr>\n",
              "      <th>4</th>\n",
              "      <td>Medium Risk</td>\n",
              "      <td>Cascade/Eastlake</td>\n",
              "      <td>2132 5th Ave</td>\n",
              "      <td>1922</td>\n",
              "      <td>4</td>\n",
              "      <td>No visible retrofit</td>\n",
              "      <td>11-100</td>\n",
              "      <td>Google Street View</td>\n",
              "      <td>Residential</td>\n",
              "      <td>None</td>\n",
              "      <td>0</td>\n",
              "      <td>1920-1939</td>\n",
              "    </tr>\n",
              "    <tr>\n",
              "      <th>5</th>\n",
              "      <td>Medium Risk</td>\n",
              "      <td>Cascade/Eastlake</td>\n",
              "      <td>1814 Minor Ave</td>\n",
              "      <td>1905</td>\n",
              "      <td>3</td>\n",
              "      <td>Permitted Retrofit</td>\n",
              "      <td>11-100</td>\n",
              "      <td>Permit Drawing Review</td>\n",
              "      <td>Residential</td>\n",
              "      <td>None</td>\n",
              "      <td>0</td>\n",
              "      <td>before 1920</td>\n",
              "    </tr>\n",
              "  </tbody>\n",
              "</table>\n",
              "</div>"
            ],
            "text/plain": [
              "      Preliminary Risk Category      Neighborhood            Address  \\\n",
              "ObsID                                                                  \n",
              "1                   Medium Risk  Cascade/Eastlake        305 Bell St   \n",
              "2                   Medium Risk           Ballard  2016 NW Market St   \n",
              "3                   Medium Risk      Capitol Hill     225 Broadway E   \n",
              "4                   Medium Risk  Cascade/Eastlake       2132 5th Ave   \n",
              "5                   Medium Risk  Cascade/Eastlake     1814 Minor Ave   \n",
              "\n",
              "       Year Built  No. Stories       Retrofit Level  \\\n",
              "ObsID                                                 \n",
              "1            1925            1  No visible retrofit   \n",
              "2            1906            2  No visible retrofit   \n",
              "3            1940            2  No visible retrofit   \n",
              "4            1922            4  No visible retrofit   \n",
              "5            1905            3   Permitted Retrofit   \n",
              "\n",
              "      Estimated Number of Occupants    Confirmation Source  Primary Use  \\\n",
              "ObsID                                                                     \n",
              "1                            11-100     Google Street View   Commercial   \n",
              "2                            11-100            Field Visit   Commercial   \n",
              "3                            11-100            Field Visit   Commercial   \n",
              "4                            11-100     Google Street View  Residential   \n",
              "5                            11-100  Permit Drawing Review  Residential   \n",
              "\n",
              "      Secondary Use  IsCritical          Era  \n",
              "ObsID                                         \n",
              "1              None           0    1920-1939  \n",
              "2            Office           0  before 1920  \n",
              "3              None           0    1940-1959  \n",
              "4              None           0    1920-1939  \n",
              "5              None           0  before 1920  "
            ]
          },
          "execution_count": 111,
          "metadata": {},
          "output_type": "execute_result"
        }
      ],
      "source": [
        "mason_full = mason_full.set_index('ObsID') # set index to ObsID\n",
        "mason_full = mason_full.sort_index() # sort by index\n",
        "mason_full.head()"
      ]
    },
    {
      "cell_type": "markdown",
      "id": "UhCsOS1VPaKh",
      "metadata": {
        "id": "UhCsOS1VPaKh"
      },
      "source": [
        "9. **Export the cleaned data as an Excel file. Save this .ipynb file, print it to a PDF, and download the Excel file; you'll upload all three files to this Canvas assignment!**"
      ]
    },
    {
      "cell_type": "code",
      "execution_count": 112,
      "id": "b772fcfe",
      "metadata": {
        "id": "b772fcfe"
      },
      "outputs": [],
      "source": [
        "mason_full.to_excel('cleaned dataset.xlsx') #export cleaned data to excel"
      ]
    }
  ],
  "metadata": {
    "colab": {
      "provenance": []
    },
    "kernelspec": {
      "display_name": "base",
      "language": "python",
      "name": "python3"
    },
    "language_info": {
      "codemirror_mode": {
        "name": "ipython",
        "version": 3
      },
      "file_extension": ".py",
      "mimetype": "text/x-python",
      "name": "python",
      "nbconvert_exporter": "python",
      "pygments_lexer": "ipython3",
      "version": "3.12.4"
    }
  },
  "nbformat": 4,
  "nbformat_minor": 5
}

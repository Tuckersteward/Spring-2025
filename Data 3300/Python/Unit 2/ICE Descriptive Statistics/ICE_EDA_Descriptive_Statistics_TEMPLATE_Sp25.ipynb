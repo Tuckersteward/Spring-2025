{
  "cells": [
    {
      "cell_type": "markdown",
      "id": "d2d72dc1",
      "metadata": {
        "id": "d2d72dc1"
      },
      "source": [
        "# **ICE: Exploratory Data Analysis (EDA) through Descriptive Statistics**\n",
        "\n",
        "## Name:\n",
        "\n",
        "## *DATA 3300*\n",
        "\n",
        "In this assignment on exploratory data analysis (EDA) through descriptive statistics, we will start by examining the normal distribution using histogram plots and comparing it to non-normal distributions. Additionally, we'll cover descriptive statistics, including measures of central tendency, shape, and spread. Finally, we'll form hypotheses based on these descriptive statistics to compare different groups and draw meaningful insights from the data\n",
        "\n",
        "\n"
      ]
    },
    {
      "cell_type": "markdown",
      "id": "02e2b04d",
      "metadata": {
        "id": "02e2b04d"
      },
      "source": [
        "## **Company Scenario**\n",
        "\n",
        "> GridX, a Greentech firm, focuses on large-scale decarbonization by providing analytics on clean energy options to utility and energy companies. They create models for various transitions to clean energy and offer insights and advice on pricing. This helps companies understand the financial impact of adopting greener technologies. GridX's software suite includes programs for billing analytics, customer service, and bundling clean energy options. Currently GridX operates in the US, but is looking to expand to other countries.\n",
        "\n",
        "> Your task is to assist GridX in identifying which countries' utility and energy companies they should prioritize for marketing (beyond the US). Use descriptive statistics to explore the dataset, identify patterns, and develop hypotheses that can inform recommendations for GridX's sales team.\n",
        "\n",
        "\n",
        "**Dataset variables**\n",
        "* Country: Name of the country\n",
        "* Region: Geographic region to which the country belongs\n",
        "* SDGi (Sustainable Development Goals Index): The SDG Index evaluates countries based on indicators such as poverty, education, health, and environmental sustainability, providing a comprehensive overview of their efforts and achievements in sustainable development\n",
        "* Life Expectancy:  Average life expectancy in years\n",
        "* HDI (Human Development Index): Human Development Index, a composite index measuring life expectancy, education, and per capita income\n",
        "* Per Capita GDP: Gross Domestic Product (GDP) per capita.\n",
        "* Income Group: Income group classification (e.g., LI for Low Income, UM for Upper Middle Income)\n",
        "* Population: Country population\n",
        "* Carbon Footprint: Ecological footprint of carbon emissions, measured in global hectares per person\n",
        "* Total Ecological Footprint (Consumption): Total ecological footprint of consumption, measured in global hectares per person\n",
        "* Ecological (Deficit) or Reserve: The difference between total ecological footprint and total biocapacity, indicating whether the country has an ecological deficit (negative value) or reserve (positive value)\n",
        "* Number of Earths Required: The number of Earths that would be required if everyone lived like the average person in the country.\n",
        "* Total Biocapacity: Total biocapacity, measured in global hectares per person\n",
        "\n"
      ]
    },
    {
      "cell_type": "code",
      "execution_count": null,
      "id": "e35fc20a",
      "metadata": {
        "id": "e35fc20a"
      },
      "outputs": [],
      "source": [
        "import pandas as pd\n",
        "import numpy as np\n",
        "import matplotlib.pyplot as plt\n",
        "import seaborn as sns\n",
        "import scipy.stats as stats"
      ]
    },
    {
      "cell_type": "code",
      "source": [
        "df = pd.read_csv('', encoding = 'latin-1')\n",
        "df.head()"
      ],
      "metadata": {
        "id": "XhMHM1cAih9k"
      },
      "id": "XhMHM1cAih9k",
      "execution_count": null,
      "outputs": []
    },
    {
      "cell_type": "markdown",
      "id": "0d8173a1",
      "metadata": {
        "id": "0d8173a1"
      },
      "source": [
        "**1. If our main goal is to identify countries which should be prioritized by GridX, what should be some particular variables of interest for us to prioritize? Why?**"
      ]
    },
    {
      "cell_type": "markdown",
      "id": "f5839f2a",
      "metadata": {
        "id": "f5839f2a"
      },
      "source": [
        "* Var 1\n",
        "* Var 2\n",
        "* Add as needed\n"
      ]
    },
    {
      "cell_type": "markdown",
      "id": "a37b08fd",
      "metadata": {
        "id": "a37b08fd"
      },
      "source": [
        "**2. Take a minute - come up with a question (or two) you'd be interested in investigating related to any of these variables of interest we've just listed above -- in the context of identifying countries that should be prioritized by GridX**"
      ]
    },
    {
      "cell_type": "markdown",
      "id": "f672bfd3",
      "metadata": {
        "id": "f672bfd3"
      },
      "source": [
        "\n",
        "\n",
        "1.   \n",
        "2.   \n",
        "\n"
      ]
    },
    {
      "cell_type": "markdown",
      "id": "444bf961",
      "metadata": {
        "id": "444bf961"
      },
      "source": [
        "**We can begin to explore these types of questions by performing EDA through descriptive statistics. But before we know which descriptive stats to prioritize, it can be helpful to examine the distribution of a variable to know whether our observations follow a normal distribution (or not).**"
      ]
    },
    {
      "cell_type": "markdown",
      "id": "c7299d0b",
      "metadata": {
        "id": "c7299d0b"
      },
      "source": [
        "### Begin by checking which variables can be evaluated"
      ]
    },
    {
      "cell_type": "code",
      "source": [
        "# check info and vars"
      ],
      "metadata": {
        "id": "BBqy2qookOfG"
      },
      "id": "BBqy2qookOfG",
      "execution_count": null,
      "outputs": []
    },
    {
      "cell_type": "markdown",
      "id": "40a56a63",
      "metadata": {
        "id": "40a56a63"
      },
      "source": [
        "### Convert variables that should be floats!"
      ]
    },
    {
      "cell_type": "code",
      "source": [
        "# convert as necessary\n",
        "for col in []:\n",
        "    df[col] = pd.to_numeric(df[col], errors='coerce') # add comment\n",
        "\n",
        "# Print some info\n",
        "df.info(), df.head()"
      ],
      "metadata": {
        "id": "RiTk-gf-kiDY"
      },
      "id": "RiTk-gf-kiDY",
      "execution_count": null,
      "outputs": []
    },
    {
      "cell_type": "markdown",
      "id": "f12c9afb",
      "metadata": {
        "id": "f12c9afb"
      },
      "source": [
        "### Visualize the Distributions"
      ]
    },
    {
      "cell_type": "code",
      "execution_count": null,
      "id": "7b609af9",
      "metadata": {
        "id": "7b609af9"
      },
      "outputs": [],
      "source": [
        "df2 = # Remove observations with NaN values\n",
        "df2.hist(layout=(), figsize=(), bins=) #generate histograms of remaining numerical vars\n",
        "plt.show()"
      ]
    },
    {
      "cell_type": "markdown",
      "id": "3dcffc25",
      "metadata": {
        "id": "3dcffc25"
      },
      "source": [
        "**3. How would we describe the shape of the following distributions?**\n",
        "\n",
        "* SDGi:\n",
        "* HDI:\n",
        "* Carbon Footprint:\n",
        "* Ecological Deficit:"
      ]
    },
    {
      "cell_type": "markdown",
      "id": "e8f2d6c5",
      "metadata": {
        "id": "e8f2d6c5"
      },
      "source": [
        "**4. What implications do the shape of these distributions have for interpreting descriptive statistics? What measure of central tendency should NOT be relied on?**"
      ]
    },
    {
      "cell_type": "markdown",
      "id": "b7196ac1",
      "metadata": {
        "id": "b7196ac1"
      },
      "source": []
    },
    {
      "cell_type": "markdown",
      "id": "cb480ef5",
      "metadata": {
        "id": "cb480ef5"
      },
      "source": [
        "## Descriptive Statistics\n",
        "\n",
        "**Next, let's start examining some descriptive statistics. We'll begin by grouping our descriptive stats by Region, then we can also drill down to specific countries!**"
      ]
    },
    {
      "cell_type": "markdown",
      "id": "c886f1b0",
      "metadata": {
        "id": "c886f1b0"
      },
      "source": [
        "**5. Return to your posed question(s) above. What information can you gather from this descriptive statistics table to address your question(s)?**"
      ]
    },
    {
      "cell_type": "markdown",
      "id": "8b82b984",
      "metadata": {
        "id": "8b82b984"
      },
      "source": []
    },
    {
      "cell_type": "code",
      "execution_count": null,
      "id": "10616f20",
      "metadata": {
        "id": "10616f20"
      },
      "outputs": [],
      "source": [
        "pd.set_option('display.max_columns', None) # display all columns in dataframe\n",
        "df2.groupby('Region')[''].().sort_values()"
      ]
    },
    {
      "cell_type": "markdown",
      "id": "a225b24a",
      "metadata": {
        "id": "a225b24a"
      },
      "source": [
        "**6. Which region has the most spread in Carbon Footprint? What measure(s) indicate this?**"
      ]
    },
    {
      "cell_type": "code",
      "source": [
        "df2.groupby('Region')[''].().sort_values(ascending=False)"
      ],
      "metadata": {
        "id": "e56uoCYCl7Ev"
      },
      "id": "e56uoCYCl7Ev",
      "execution_count": null,
      "outputs": []
    },
    {
      "cell_type": "markdown",
      "id": "0dad7c4c",
      "metadata": {
        "id": "0dad7c4c"
      },
      "source": []
    },
    {
      "cell_type": "markdown",
      "id": "357dad75",
      "metadata": {
        "id": "357dad75"
      },
      "source": [
        "**7. Take a few minutes to explore the full descriptive stats table grouped by Region. Note any interesting pattern in your descriptive statistics table, and create a hypothesis as to the cause of this finding.**"
      ]
    },
    {
      "cell_type": "code",
      "source": [
        "df2.groupby('Region')"
      ],
      "metadata": {
        "id": "j1SMo4qSmAQe"
      },
      "id": "j1SMo4qSmAQe",
      "execution_count": null,
      "outputs": []
    },
    {
      "cell_type": "markdown",
      "id": "2dbb5c11",
      "metadata": {
        "id": "2dbb5c11"
      },
      "source": []
    },
    {
      "cell_type": "markdown",
      "id": "912f1a11",
      "metadata": {
        "id": "912f1a11"
      },
      "source": [
        "### Let's Examine the Descriptive Stats of Two Regions we'd like to Compare..."
      ]
    },
    {
      "cell_type": "markdown",
      "id": "37bde240",
      "metadata": {
        "id": "37bde240"
      },
      "source": [
        "**8. What region would you recommend targeting and why? What descriptive stats are you basing this on and what variables?**"
      ]
    },
    {
      "cell_type": "code",
      "execution_count": null,
      "id": "f371df92",
      "metadata": {
        "id": "f371df92"
      },
      "outputs": [],
      "source": [
        "# compare two regions of interest\n",
        "df2.groupby('Region')[['','']].describe().loc[['', '']]\n"
      ]
    },
    {
      "cell_type": "markdown",
      "id": "9a2708ac",
      "metadata": {
        "id": "9a2708ac"
      },
      "source": []
    },
    {
      "cell_type": "markdown",
      "id": "4123f099",
      "metadata": {
        "id": "4123f099"
      },
      "source": [
        "### Next, Let's drill down more into one specific region and identify the countries that we might target..."
      ]
    },
    {
      "cell_type": "code",
      "execution_count": null,
      "id": "6c03927c",
      "metadata": {
        "id": "6c03927c"
      },
      "outputs": [],
      "source": [
        "df3 = df2[df2['Region'] == '']\n",
        "df3.head()"
      ]
    },
    {
      "cell_type": "code",
      "execution_count": null,
      "id": "c7143c72",
      "metadata": {
        "id": "c7143c72"
      },
      "outputs": [],
      "source": [
        "numeric_cols = df3.select_dtypes(include=np.number).columns\n",
        "num_cols = len(numeric_cols)\n",
        "num_rows = (num_cols + 2) // 3  # Add comments\n",
        "\n",
        "plt.figure(figsize=(15, 5 * num_rows))  # Add comments\n",
        "\n",
        "for i, col in enumerate(numeric_cols):\n",
        "    plt.subplot(num_rows, 3, i + 1)  # Add comments\n",
        "    sns.boxplot(y=df3[col])\n",
        "    plt.title(col)\n",
        "\n",
        "plt.tight_layout()  # Add comments\n",
        "plt.show()\n"
      ]
    },
    {
      "cell_type": "markdown",
      "id": "740898f5",
      "metadata": {
        "id": "740898f5"
      },
      "source": [
        "**9. What observations can we make from these distributions of just this region's countries that might help us narrow down on countries of interest?**\n",
        "\n",
        "\n"
      ]
    },
    {
      "cell_type": "code",
      "source": [],
      "metadata": {
        "id": "Aypv_JFYrPb5"
      },
      "id": "Aypv_JFYrPb5",
      "execution_count": null,
      "outputs": []
    },
    {
      "cell_type": "markdown",
      "id": "e6f6f6e6",
      "metadata": {
        "id": "e6f6f6e6"
      },
      "source": [
        "**10. Visualize a relationship between two variables that investigates your hypothesis, originally posed questions, or that you'd like to explore based on observations above.**"
      ]
    },
    {
      "cell_type": "code",
      "execution_count": null,
      "id": "85697b6f",
      "metadata": {
        "id": "85697b6f"
      },
      "outputs": [],
      "source": [
        "plt.figure(figsize=(12, 10))\n",
        "\n",
        "# Use a colormap for the scatter plot\n",
        "scatter = plt.scatter(df3[''], df3[''],\n",
        "                      c=df3[''], cmap='viridis', s=100)\n",
        "\n",
        "# Add labels for each point\n",
        "for i, row in df3.iterrows():\n",
        "    plt.text(row[''], row[''], row[''], fontsize=9, ha='right')\n",
        "\n",
        "# Add colorbar\n",
        "colorbar = plt.colorbar(scatter)\n",
        "colorbar.set_label('colorbar label')\n",
        "\n",
        "plt.title('')\n",
        "plt.xlabel('')\n",
        "plt.ylabel('')\n",
        "plt.grid(True)\n",
        "plt.show()\n"
      ]
    },
    {
      "cell_type": "markdown",
      "id": "5893c515",
      "metadata": {
        "id": "5893c515"
      },
      "source": [
        "**11. Based on your findings, which countries would you recommend GridX sales team focus on, and why?**"
      ]
    },
    {
      "cell_type": "markdown",
      "id": "d32bc280",
      "metadata": {
        "id": "d32bc280"
      },
      "source": []
    }
  ],
  "metadata": {
    "colab": {
      "provenance": []
    },
    "language_info": {
      "name": "python"
    },
    "kernelspec": {
      "name": "python3",
      "display_name": "Python 3"
    }
  },
  "nbformat": 4,
  "nbformat_minor": 5
}
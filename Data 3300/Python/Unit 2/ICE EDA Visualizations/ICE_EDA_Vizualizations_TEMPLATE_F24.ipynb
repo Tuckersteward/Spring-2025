{
  "cells": [
    {
      "cell_type": "markdown",
      "id": "dcff7ca2",
      "metadata": {
        "id": "dcff7ca2"
      },
      "source": [
        "#**ICE - EDA: Data Visualizations**"
      ]
    },
    {
      "cell_type": "markdown",
      "id": "a67e6aa2",
      "metadata": {
        "id": "a67e6aa2"
      },
      "source": [
        "## Student Name: Cabot Steward"
      ]
    },
    {
      "cell_type": "markdown",
      "id": "702aa7bf",
      "metadata": {
        "id": "702aa7bf"
      },
      "source": [
        "## Exercise\n",
        "\n",
        "For this assignment, students will use the dataset globalsuperstore.xlsx.\n",
        "\n",
        "This is a dataset pulled from the online orders for SuperStore. This store sells items that are divided into three categories: technology, furniture, and office supplies. We'll explore this dataset through exploratory data analysis using data visualizations to help us determine which category should be invested in.\n",
        "\n",
        "This data should be considered cleaned and prepped. Several data points are recorded for each visit, including:\n",
        "\n",
        "* Row ID: A unique identifier for each row.\n",
        "* Order ID: A unique identifier for each order.\n",
        "* Order Date: The month, day, and year the order was placed.\n",
        "* Ship Date: The month, day, and year the order was shipped.\n",
        "* Segment: The market segment the order is coming from: Consumer, Corporate, or Home Office\n",
        "* State: The state in which the order was placed.\n",
        "* Country: The country in which the order was placed.\n",
        "* Region: The region in which the order was placed.\n",
        "* Product ID: The unique identification of the product sold.\n",
        "* Category: The category the product falls under. (Technology, Furniture, Office Supplies)\n",
        "* Sub-Category: The subcategory the product falls under.\n",
        "* Product Name: The name of the product sold.\n",
        "* Sales: The total amount of sales in dollars.\n",
        "* Quantity: The amount of products sold in the order.\n",
        "* Discount: The discount given on the order.\n",
        "* Discount Category: Categories for discount used to create a histogram.\n",
        "* Profit: The profit created from the order.\n",
        "* Profit %: The amount of the sale that is the profit.\n",
        "* Profit % Category: The profit for each product category.\n",
        "\n",
        "##**1.**\n",
        "**Import the globalsuperstore.xlsx and load the pandas, numPy and matplotlib libraries. For each variable listed below, indicate whether the variable is nominal, ordinal, or quantitative continuous. Hint: Dates are de facto continuous variables.**"
      ]
    },
    {
      "cell_type": "code",
      "execution_count": 1,
      "id": "1zsN8fo13Uo8",
      "metadata": {
        "id": "1zsN8fo13Uo8"
      },
      "outputs": [],
      "source": [
        "import warnings\n",
        "warnings.filterwarnings(\"ignore\") #this can be removed but will help the code be a little cleaner by ignoring warnings"
      ]
    },
    {
      "cell_type": "code",
      "execution_count": 2,
      "id": "6149d203",
      "metadata": {
        "id": "6149d203"
      },
      "outputs": [
        {
          "data": {
            "text/html": [
              "<div>\n",
              "<style scoped>\n",
              "    .dataframe tbody tr th:only-of-type {\n",
              "        vertical-align: middle;\n",
              "    }\n",
              "\n",
              "    .dataframe tbody tr th {\n",
              "        vertical-align: top;\n",
              "    }\n",
              "\n",
              "    .dataframe thead th {\n",
              "        text-align: right;\n",
              "    }\n",
              "</style>\n",
              "<table border=\"1\" class=\"dataframe\">\n",
              "  <thead>\n",
              "    <tr style=\"text-align: right;\">\n",
              "      <th></th>\n",
              "      <th>Row ID</th>\n",
              "      <th>Order ID</th>\n",
              "      <th>Order Date</th>\n",
              "      <th>Ship Date</th>\n",
              "      <th>Segment</th>\n",
              "      <th>State</th>\n",
              "      <th>Country</th>\n",
              "      <th>Region</th>\n",
              "      <th>Product ID</th>\n",
              "      <th>Category</th>\n",
              "      <th>Sub-Category</th>\n",
              "      <th>Product Name</th>\n",
              "      <th>Sales</th>\n",
              "      <th>Sales Category</th>\n",
              "      <th>Quantity</th>\n",
              "      <th>Discount</th>\n",
              "      <th>Discount Category</th>\n",
              "      <th>Profit</th>\n",
              "      <th>Profit %</th>\n",
              "      <th>Profit % Category</th>\n",
              "    </tr>\n",
              "  </thead>\n",
              "  <tbody>\n",
              "    <tr>\n",
              "      <th>0</th>\n",
              "      <td>34559</td>\n",
              "      <td>CA-2011-140662</td>\n",
              "      <td>Thursday, November 17, 2011</td>\n",
              "      <td>Saturday, November 19, 2011</td>\n",
              "      <td>Corporate</td>\n",
              "      <td>California</td>\n",
              "      <td>United States</td>\n",
              "      <td>West</td>\n",
              "      <td>OFF-PA-10003395</td>\n",
              "      <td>Office Supplies</td>\n",
              "      <td>Paper</td>\n",
              "      <td>Xerox 1941</td>\n",
              "      <td>733.95</td>\n",
              "      <td>$500-$1000</td>\n",
              "      <td>7</td>\n",
              "      <td>0.0</td>\n",
              "      <td>0</td>\n",
              "      <td>352.2960</td>\n",
              "      <td>0.48</td>\n",
              "      <td>40%-50%</td>\n",
              "    </tr>\n",
              "    <tr>\n",
              "      <th>1</th>\n",
              "      <td>41207</td>\n",
              "      <td>US-2012-129007</td>\n",
              "      <td>Thursday, September 13, 2012</td>\n",
              "      <td>Saturday, September 15, 2012</td>\n",
              "      <td>Corporate</td>\n",
              "      <td>California</td>\n",
              "      <td>United States</td>\n",
              "      <td>West</td>\n",
              "      <td>OFF-PA-10000994</td>\n",
              "      <td>Office Supplies</td>\n",
              "      <td>Paper</td>\n",
              "      <td>Xerox 1915</td>\n",
              "      <td>209.70</td>\n",
              "      <td>$100- $250</td>\n",
              "      <td>2</td>\n",
              "      <td>0.0</td>\n",
              "      <td>0</td>\n",
              "      <td>100.6560</td>\n",
              "      <td>0.48</td>\n",
              "      <td>40%-50%</td>\n",
              "    </tr>\n",
              "    <tr>\n",
              "      <th>2</th>\n",
              "      <td>33971</td>\n",
              "      <td>CA-2014-136875</td>\n",
              "      <td>Thursday, December 4, 2014</td>\n",
              "      <td>Thursday, December 4, 2014</td>\n",
              "      <td>Consumer</td>\n",
              "      <td>California</td>\n",
              "      <td>United States</td>\n",
              "      <td>West</td>\n",
              "      <td>OFF-PA-10000357</td>\n",
              "      <td>Office Supplies</td>\n",
              "      <td>Paper</td>\n",
              "      <td>Xerox 1888</td>\n",
              "      <td>166.44</td>\n",
              "      <td>$100- $250</td>\n",
              "      <td>3</td>\n",
              "      <td>0.0</td>\n",
              "      <td>0</td>\n",
              "      <td>79.8912</td>\n",
              "      <td>0.48</td>\n",
              "      <td>40%-50%</td>\n",
              "    </tr>\n",
              "    <tr>\n",
              "      <th>3</th>\n",
              "      <td>33459</td>\n",
              "      <td>CA-2014-166296</td>\n",
              "      <td>Friday, March 14, 2014</td>\n",
              "      <td>Thursday, March 20, 2014</td>\n",
              "      <td>Home Office</td>\n",
              "      <td>California</td>\n",
              "      <td>United States</td>\n",
              "      <td>West</td>\n",
              "      <td>OFF-PA-10004359</td>\n",
              "      <td>Office Supplies</td>\n",
              "      <td>Paper</td>\n",
              "      <td>Multicolor Computer Printout Paper</td>\n",
              "      <td>314.55</td>\n",
              "      <td>$250-$500</td>\n",
              "      <td>3</td>\n",
              "      <td>0.0</td>\n",
              "      <td>0</td>\n",
              "      <td>150.9840</td>\n",
              "      <td>0.48</td>\n",
              "      <td>40%-50%</td>\n",
              "    </tr>\n",
              "    <tr>\n",
              "      <th>4</th>\n",
              "      <td>31773</td>\n",
              "      <td>CA-2011-144666</td>\n",
              "      <td>Wednesday, November 9, 2011</td>\n",
              "      <td>Friday, November 11, 2011</td>\n",
              "      <td>Consumer</td>\n",
              "      <td>California</td>\n",
              "      <td>United States</td>\n",
              "      <td>West</td>\n",
              "      <td>OFF-PA-10003465</td>\n",
              "      <td>Office Supplies</td>\n",
              "      <td>Paper</td>\n",
              "      <td>Xerox 1912</td>\n",
              "      <td>94.85</td>\n",
              "      <td>$80-$100</td>\n",
              "      <td>5</td>\n",
              "      <td>0.0</td>\n",
              "      <td>0</td>\n",
              "      <td>45.5280</td>\n",
              "      <td>0.48</td>\n",
              "      <td>40%-50%</td>\n",
              "    </tr>\n",
              "  </tbody>\n",
              "</table>\n",
              "</div>"
            ],
            "text/plain": [
              "   Row ID        Order ID                    Order Date  \\\n",
              "0   34559  CA-2011-140662   Thursday, November 17, 2011   \n",
              "1   41207  US-2012-129007  Thursday, September 13, 2012   \n",
              "2   33971  CA-2014-136875    Thursday, December 4, 2014   \n",
              "3   33459  CA-2014-166296        Friday, March 14, 2014   \n",
              "4   31773  CA-2011-144666   Wednesday, November 9, 2011   \n",
              "\n",
              "                      Ship Date      Segment       State        Country  \\\n",
              "0   Saturday, November 19, 2011    Corporate  California  United States   \n",
              "1  Saturday, September 15, 2012    Corporate  California  United States   \n",
              "2    Thursday, December 4, 2014     Consumer  California  United States   \n",
              "3      Thursday, March 20, 2014  Home Office  California  United States   \n",
              "4     Friday, November 11, 2011     Consumer  California  United States   \n",
              "\n",
              "  Region       Product ID         Category Sub-Category  \\\n",
              "0   West  OFF-PA-10003395  Office Supplies        Paper   \n",
              "1   West  OFF-PA-10000994  Office Supplies        Paper   \n",
              "2   West  OFF-PA-10000357  Office Supplies        Paper   \n",
              "3   West  OFF-PA-10004359  Office Supplies        Paper   \n",
              "4   West  OFF-PA-10003465  Office Supplies        Paper   \n",
              "\n",
              "                         Product Name   Sales Sales Category  Quantity  \\\n",
              "0                          Xerox 1941  733.95     $500-$1000         7   \n",
              "1                          Xerox 1915  209.70     $100- $250         2   \n",
              "2                          Xerox 1888  166.44     $100- $250         3   \n",
              "3  Multicolor Computer Printout Paper  314.55      $250-$500         3   \n",
              "4                          Xerox 1912   94.85       $80-$100         5   \n",
              "\n",
              "   Discount Discount Category    Profit  Profit % Profit % Category  \n",
              "0       0.0                 0  352.2960      0.48           40%-50%  \n",
              "1       0.0                 0  100.6560      0.48           40%-50%  \n",
              "2       0.0                 0   79.8912      0.48           40%-50%  \n",
              "3       0.0                 0  150.9840      0.48           40%-50%  \n",
              "4       0.0                 0   45.5280      0.48           40%-50%  "
            ]
          },
          "execution_count": 2,
          "metadata": {},
          "output_type": "execute_result"
        }
      ],
      "source": [
        "import pandas as pd\n",
        "import numpy as np\n",
        "import matplotlib.pyplot as plt\n",
        "\n",
        "df = pd.read_excel(\"globalsuperstore.xlsx\")\n",
        "df.head()"
      ]
    },
    {
      "cell_type": "markdown",
      "id": "f679bcbc",
      "metadata": {
        "id": "f679bcbc"
      },
      "source": [
        "* **Category:** - nominal qualitative (category)\n",
        "* **Sales:** - ratio quantitative (sales amount in $)\n",
        "* **Sales Category:** - ordinal qualitative (categorical for examples $500-$1000) \n",
        "* **Order Date:** - interval quantitative"
      ]
    },
    {
      "cell_type": "markdown",
      "id": "d35a751e",
      "metadata": {
        "id": "d35a751e"
      },
      "source": [
        "##**2**\n",
        "\n",
        "**The histogram below was created using the Profit% Category attribute. It shows the amount of the sale that is profit in each category.**\n",
        "\n",
        "\n",
        "\n",
        "\n"
      ]
    },
    {
      "cell_type": "code",
      "execution_count": 3,
      "id": "U_b_k68rwiYu",
      "metadata": {
        "id": "U_b_k68rwiYu"
      },
      "outputs": [
        {
          "data": {
            "image/png": "[encoded data removed]",
            "text/plain": [
              "<Figure size 640x480 with 1 Axes>"
            ]
          },
          "metadata": {},
          "output_type": "display_data"
        }
      ],
      "source": [
        "df['Profit % Category'].hist()\n",
        "plt.show()"
      ]
    },
    {
      "cell_type": "markdown",
      "id": "8b73243f",
      "metadata": {
        "id": "8b73243f"
      },
      "source": [
        "## **A**\n",
        "\n",
        "**What is wrong with this visualization and how do we fix it?**"
      ]
    },
    {
      "cell_type": "markdown",
      "id": "YeXsBmsPxPCh",
      "metadata": {
        "id": "YeXsBmsPxPCh"
      },
      "source": [
        "your x axis is not in order."
      ]
    },
    {
      "cell_type": "code",
      "execution_count": 4,
      "id": "rGVXkS1_PLhe",
      "metadata": {
        "id": "rGVXkS1_PLhe"
      },
      "outputs": [],
      "source": [
        "df.replace({ '<0%': 0,\n",
        "            '0%-10%': 10,\n",
        "            '10%-20%': 20,\n",
        "            '20%-30%': 30,\n",
        "            '30%-40%': 40,\n",
        "            '40%-50%': 50,\n",
        "            '>50%': 51}, inplace=True)"
      ]
    },
    {
      "cell_type": "code",
      "execution_count": 5,
      "id": "vL5FCTHkPNJs",
      "metadata": {
        "id": "vL5FCTHkPNJs"
      },
      "outputs": [
        {
          "data": {
            "image/png": "[encoded data removed]",
            "text/plain": [
              "<Figure size 640x480 with 1 Axes>"
            ]
          },
          "metadata": {},
          "output_type": "display_data"
        }
      ],
      "source": [
        "df['Profit % Category'].hist()\n",
        "plt.show()"
      ]
    },
    {
      "cell_type": "markdown",
      "id": "3IQjoFWLOCJT",
      "metadata": {
        "id": "3IQjoFWLOCJT"
      },
      "source": [
        "## **B**\n",
        "\n",
        "**Create a second hisogram of Profit, what impact does the number of bins have on the information conveyed?**"
      ]
    },
    {
      "cell_type": "code",
      "execution_count": 6,
      "id": "f02cee9f",
      "metadata": {
        "id": "f02cee9f"
      },
      "outputs": [
        {
          "data": {
            "text/plain": [
              "[]"
            ]
          },
          "execution_count": 6,
          "metadata": {},
          "output_type": "execute_result"
        },
        {
          "data": {
            "image/png": "[encoded data removed]",
            "text/plain": [
              "<Figure size 640x480 with 1 Axes>"
            ]
          },
          "metadata": {},
          "output_type": "display_data"
        }
      ],
      "source": [
        "plt.hist(df['Profit'], bins = 6, range=[0,1000])\n",
        "plt.xlabel(\"Sales (USD)\")\n",
        "plt.ylabel(\"Frquency\")\n",
        "plt.plot()"
      ]
    },
    {
      "cell_type": "markdown",
      "id": "pcQ2JCkaDI1h",
      "metadata": {
        "id": "pcQ2JCkaDI1h"
      },
      "source": [
        "The number of bins effects how detailed the visual is going to be, to many and it wont communicate the data effectively, to little and it will also fall short."
      ]
    },
    {
      "cell_type": "markdown",
      "id": "f941f27e",
      "metadata": {
        "id": "f941f27e"
      },
      "source": [
        "## **C**\n",
        "\n",
        "**In this case, would it be better to report the median and or the mean of Profit? Explain.**"
      ]
    },
    {
      "cell_type": "markdown",
      "id": "91vF7TM5G3j4",
      "metadata": {
        "id": "91vF7TM5G3j4"
      },
      "source": [
        "median - this is due to the fact the data contains some outliers"
      ]
    },
    {
      "cell_type": "markdown",
      "id": "f990d5b3",
      "metadata": {
        "id": "f990d5b3"
      },
      "source": [
        "## **3.**\n",
        "\n",
        "**Produce the descriptive statistics for another attribute, Quantity.**"
      ]
    },
    {
      "cell_type": "code",
      "execution_count": 7,
      "id": "k6wwVSbg1dIL",
      "metadata": {
        "id": "k6wwVSbg1dIL"
      },
      "outputs": [
        {
          "data": {
            "text/plain": [
              "count    51290.000000\n",
              "mean         3.476545\n",
              "std          2.278766\n",
              "min          1.000000\n",
              "25%          2.000000\n",
              "50%          3.000000\n",
              "75%          5.000000\n",
              "max         14.000000\n",
              "Name: Quantity, dtype: float64"
            ]
          },
          "execution_count": 7,
          "metadata": {},
          "output_type": "execute_result"
        }
      ],
      "source": [
        "# describe the quantity column\n",
        "df['Quantity'].describe()\n"
      ]
    },
    {
      "cell_type": "markdown",
      "id": "XiN1XjWb0A4P",
      "metadata": {
        "id": "XiN1XjWb0A4P"
      },
      "source": [
        "**Quantity appears to have a similar mean and median value, but does it have any outliers that could be leading the mean to be larger than the median? Use a boxplot to identify whether there are outliers in Quantity of products in orders by Category.**"
      ]
    },
    {
      "cell_type": "code",
      "execution_count": 8,
      "id": "75c5d04c",
      "metadata": {
        "id": "75c5d04c"
      },
      "outputs": [
        {
          "data": {
            "image/png": "[encoded data removed]",
            "text/plain": [
              "<Figure size 640x480 with 1 Axes>"
            ]
          },
          "metadata": {},
          "output_type": "display_data"
        }
      ],
      "source": [
        "df.boxplot(column=['Quantity'], by=['Category'])\n",
        "plt.show()"
      ]
    },
    {
      "cell_type": "markdown",
      "id": "m7tLkvqYz33z",
      "metadata": {
        "id": "m7tLkvqYz33z"
      },
      "source": [
        "Are there outliers? - Yes there are outliers"
      ]
    },
    {
      "cell_type": "markdown",
      "id": "f57895bd",
      "metadata": {
        "id": "f57895bd"
      },
      "source": [
        "## **4.**\n",
        "\n",
        "**Create a stacked column chart that shows the count of Sales in each category. Add a descriptive title.**"
      ]
    },
    {
      "cell_type": "code",
      "execution_count": 9,
      "id": "1a5777ec",
      "metadata": {
        "id": "1a5777ec"
      },
      "outputs": [
        {
          "data": {
            "text/plain": [
              "Category\n",
              "Office Supplies    31273\n",
              "Technology         10141\n",
              "Furniture           9876\n",
              "Name: count, dtype: int64"
            ]
          },
          "execution_count": 9,
          "metadata": {},
          "output_type": "execute_result"
        }
      ],
      "source": [
        "category_counts = df['Category'].value_counts() # store the value_counts\n",
        "category_counts"
      ]
    },
    {
      "cell_type": "code",
      "execution_count": 10,
      "id": "7e14ecfb",
      "metadata": {
        "id": "7e14ecfb"
      },
      "outputs": [
        {
          "data": {
            "image/png": "[encoded data removed]",
            "text/plain": [
              "<Figure size 640x480 with 1 Axes>"
            ]
          },
          "metadata": {},
          "output_type": "display_data"
        }
      ],
      "source": [
        "plt.bar(x = category_counts.index.values, height = category_counts)\n",
        "plt.title(\"Number of Sales by Category\")\n",
        "plt.ylabel(\"Count of Sales\")\n",
        "plt.xlabel(\"Office Supplies Category\")\n",
        "plt.show()"
      ]
    },
    {
      "cell_type": "markdown",
      "id": "7f50d1ba",
      "metadata": {
        "id": "7f50d1ba"
      },
      "source": [
        "###**A.**\n",
        "\n",
        "**Which category has the highest count of sales? Include the category and sales amount in your answer.**"
      ]
    },
    {
      "cell_type": "markdown",
      "id": "ks23LiR26cyU",
      "metadata": {
        "id": "ks23LiR26cyU"
      },
      "source": [
        "Office Supplies - 31273 "
      ]
    },
    {
      "cell_type": "markdown",
      "id": "6b188bc8",
      "metadata": {
        "id": "6b188bc8"
      },
      "source": [
        "###**B.**\n",
        "\n",
        "**Does it make sense that this category has the most sales? Explain.**"
      ]
    },
    {
      "cell_type": "markdown",
      "id": "HT5J3C2AHQBt",
      "metadata": {
        "id": "HT5J3C2AHQBt"
      },
      "source": [
        "I would say yes, this category likely contains cheap high volume items.  A category such as technology likely has more sales in terms of $$$ but less in terms of quantity."
      ]
    },
    {
      "cell_type": "markdown",
      "id": "a91b77ea",
      "metadata": {
        "id": "a91b77ea"
      },
      "source": [
        "## **5**\n",
        "\n",
        "**Starting with your visualization from Q4, change the aggregation method to Average to show the Average sales amount for each category. Be sure to include a descriptive title.**"
      ]
    },
    {
      "cell_type": "code",
      "execution_count": 11,
      "id": "1572a217",
      "metadata": {
        "id": "1572a217"
      },
      "outputs": [
        {
          "data": {
            "text/plain": [
              "Category\n",
              "Furniture          416.248905\n",
              "Office Supplies    121.097120\n",
              "Technology         467.858939\n",
              "Name: mean, dtype: float64"
            ]
          },
          "execution_count": 11,
          "metadata": {},
          "output_type": "execute_result"
        }
      ],
      "source": [
        "group = df.groupby(by = \"Category\")[\"Sales\"].describe() # get descriptive stats for specific column\n",
        "group_averages = group['mean'] # extract the mean\n",
        "# display group averages\n",
        "group_averages"
      ]
    },
    {
      "cell_type": "code",
      "execution_count": 12,
      "id": "064dfef2",
      "metadata": {
        "id": "064dfef2"
      },
      "outputs": [
        {
          "data": {
            "image/png": "[encoded data removed]",
            "text/plain": [
              "<Figure size 640x480 with 1 Axes>"
            ]
          },
          "metadata": {},
          "output_type": "display_data"
        }
      ],
      "source": [
        "plt.bar(x = group_averages.index.values, height = group_averages)\n",
        "plt.title(\"Average Sales Amount by Office Supply Category\")\n",
        "plt.ylabel(\"Average Sales Amount (USD)\")\n",
        "plt.xlabel(\"Office Supply Category\")\n",
        "plt.show()"
      ]
    },
    {
      "cell_type": "markdown",
      "id": "e1fdd91a",
      "metadata": {
        "id": "e1fdd91a"
      },
      "source": [
        "###**A.**\n",
        "\n",
        "**What category has the highest average Sales? Include the category and the average sales amount in your answer.**"
      ]
    },
    {
      "cell_type": "markdown",
      "id": "xzCndcuz7KgF",
      "metadata": {
        "id": "xzCndcuz7KgF"
      },
      "source": [
        "Technology - 467.858939"
      ]
    },
    {
      "cell_type": "markdown",
      "id": "819f2f69",
      "metadata": {
        "id": "819f2f69"
      },
      "source": [
        "###**B.**\n",
        "\n",
        "**Provide a hypothesis as to why the category with the highest average sales has the lowest total sales.**"
      ]
    },
    {
      "cell_type": "markdown",
      "id": "bZHKVLXz7Ly3",
      "metadata": {
        "id": "bZHKVLXz7Ly3"
      },
      "source": [
        "Items in Technology are more expensive than any other categories.  Companies will spend a premium on these items due to their ability to increase speed."
      ]
    },
    {
      "cell_type": "markdown",
      "id": "1f54c05e",
      "metadata": {
        "id": "1f54c05e"
      },
      "source": [
        "## **6**\n",
        "\n",
        "**Create a clustered column chart showing the Average Profit % by Category. Add a descriptive title.**"
      ]
    },
    {
      "cell_type": "code",
      "execution_count": 29,
      "id": "dNFoIGNzPBOQ",
      "metadata": {
        "id": "dNFoIGNzPBOQ"
      },
      "outputs": [
        {
          "data": {
            "text/plain": [
              "Category\n",
              "Furniture          0.1142\n",
              "Office Supplies    0.1983\n",
              "Technology         0.1444\n",
              "Name: 50%, dtype: float64"
            ]
          },
          "execution_count": 29,
          "metadata": {},
          "output_type": "execute_result"
        }
      ],
      "source": [
        "group  = df.groupby(by = \"Category\")[\"Profit %\"].describe() # choose how to group the data\n",
        "# group_averages = group[''] # take the mean of a specific column\n",
        "group_averages = group['50%']\n",
        "# display group averages\n",
        "group_averages"
      ]
    },
    {
      "cell_type": "code",
      "execution_count": 30,
      "id": "1df62a65",
      "metadata": {
        "id": "1df62a65"
      },
      "outputs": [
        {
          "data": {
            "image/png": "[encoded data removed]",
            "text/plain": [
              "<Figure size 640x480 with 1 Axes>"
            ]
          },
          "metadata": {},
          "output_type": "display_data"
        }
      ],
      "source": [
        "plt.bar(group_averages.index, height=group_averages, color='skyblue')\n",
        "\n",
        "plt.xlabel(\"Category\")\n",
        "plt.ylabel(\"Average Profit %\")\n",
        "plt.title(\"Average Profit % by Category\")\n",
        "plt.show()"
      ]
    },
    {
      "cell_type": "markdown",
      "id": "080db8bb",
      "metadata": {
        "id": "080db8bb"
      },
      "source": [
        "###**A.**\n",
        "\n",
        "**Which category earns the highest profit percentage on average? What is that percentage?**"
      ]
    },
    {
      "cell_type": "markdown",
      "id": "mVzTMqrN7rmQ",
      "metadata": {
        "id": "mVzTMqrN7rmQ"
      },
      "source": [
        "Technology"
      ]
    },
    {
      "cell_type": "markdown",
      "id": "af97dd2d",
      "metadata": {
        "id": "af97dd2d"
      },
      "source": [
        "###**B.**\n",
        "\n",
        "**Does it makes sense that this category has the highest average profit percentage?**"
      ]
    },
    {
      "cell_type": "markdown",
      "id": "QbO-1mMK7wrU",
      "metadata": {
        "id": "QbO-1mMK7wrU"
      },
      "source": []
    },
    {
      "cell_type": "markdown",
      "id": "fe3e9d25",
      "metadata": {
        "id": "fe3e9d25"
      },
      "source": [
        "## **7**\n",
        "\n",
        "**Create a line chart showing the Average Profit % over time (use the Order Date) by Categories. Provide a descriptive title.**"
      ]
    },
    {
      "cell_type": "code",
      "execution_count": 15,
      "id": "a7ab25e1",
      "metadata": {
        "id": "a7ab25e1"
      },
      "outputs": [
        {
          "data": {
            "text/html": [
              "<div>\n",
              "<style scoped>\n",
              "    .dataframe tbody tr th:only-of-type {\n",
              "        vertical-align: middle;\n",
              "    }\n",
              "\n",
              "    .dataframe tbody tr th {\n",
              "        vertical-align: top;\n",
              "    }\n",
              "\n",
              "    .dataframe thead th {\n",
              "        text-align: right;\n",
              "    }\n",
              "</style>\n",
              "<table border=\"1\" class=\"dataframe\">\n",
              "  <thead>\n",
              "    <tr style=\"text-align: right;\">\n",
              "      <th></th>\n",
              "      <th>Row ID</th>\n",
              "      <th>Order ID</th>\n",
              "      <th>Order Date</th>\n",
              "      <th>Ship Date</th>\n",
              "      <th>Segment</th>\n",
              "      <th>State</th>\n",
              "      <th>Country</th>\n",
              "      <th>Region</th>\n",
              "      <th>Product ID</th>\n",
              "      <th>Category</th>\n",
              "      <th>...</th>\n",
              "      <th>Product Name</th>\n",
              "      <th>Sales</th>\n",
              "      <th>Sales Category</th>\n",
              "      <th>Quantity</th>\n",
              "      <th>Discount</th>\n",
              "      <th>Discount Category</th>\n",
              "      <th>Profit</th>\n",
              "      <th>Profit %</th>\n",
              "      <th>Profit % Category</th>\n",
              "      <th>Year</th>\n",
              "    </tr>\n",
              "  </thead>\n",
              "  <tbody>\n",
              "    <tr>\n",
              "      <th>0</th>\n",
              "      <td>34559</td>\n",
              "      <td>CA-2011-140662</td>\n",
              "      <td>2011-11-17</td>\n",
              "      <td>Saturday, November 19, 2011</td>\n",
              "      <td>Corporate</td>\n",
              "      <td>California</td>\n",
              "      <td>United States</td>\n",
              "      <td>West</td>\n",
              "      <td>OFF-PA-10003395</td>\n",
              "      <td>Office Supplies</td>\n",
              "      <td>...</td>\n",
              "      <td>Xerox 1941</td>\n",
              "      <td>733.95</td>\n",
              "      <td>$500-$1000</td>\n",
              "      <td>7</td>\n",
              "      <td>0.0</td>\n",
              "      <td>0</td>\n",
              "      <td>352.2960</td>\n",
              "      <td>0.48</td>\n",
              "      <td>50</td>\n",
              "      <td>2011</td>\n",
              "    </tr>\n",
              "    <tr>\n",
              "      <th>1</th>\n",
              "      <td>41207</td>\n",
              "      <td>US-2012-129007</td>\n",
              "      <td>2012-09-13</td>\n",
              "      <td>Saturday, September 15, 2012</td>\n",
              "      <td>Corporate</td>\n",
              "      <td>California</td>\n",
              "      <td>United States</td>\n",
              "      <td>West</td>\n",
              "      <td>OFF-PA-10000994</td>\n",
              "      <td>Office Supplies</td>\n",
              "      <td>...</td>\n",
              "      <td>Xerox 1915</td>\n",
              "      <td>209.70</td>\n",
              "      <td>$100- $250</td>\n",
              "      <td>2</td>\n",
              "      <td>0.0</td>\n",
              "      <td>0</td>\n",
              "      <td>100.6560</td>\n",
              "      <td>0.48</td>\n",
              "      <td>50</td>\n",
              "      <td>2012</td>\n",
              "    </tr>\n",
              "    <tr>\n",
              "      <th>2</th>\n",
              "      <td>33971</td>\n",
              "      <td>CA-2014-136875</td>\n",
              "      <td>2014-12-04</td>\n",
              "      <td>Thursday, December 4, 2014</td>\n",
              "      <td>Consumer</td>\n",
              "      <td>California</td>\n",
              "      <td>United States</td>\n",
              "      <td>West</td>\n",
              "      <td>OFF-PA-10000357</td>\n",
              "      <td>Office Supplies</td>\n",
              "      <td>...</td>\n",
              "      <td>Xerox 1888</td>\n",
              "      <td>166.44</td>\n",
              "      <td>$100- $250</td>\n",
              "      <td>3</td>\n",
              "      <td>0.0</td>\n",
              "      <td>0</td>\n",
              "      <td>79.8912</td>\n",
              "      <td>0.48</td>\n",
              "      <td>50</td>\n",
              "      <td>2014</td>\n",
              "    </tr>\n",
              "    <tr>\n",
              "      <th>3</th>\n",
              "      <td>33459</td>\n",
              "      <td>CA-2014-166296</td>\n",
              "      <td>2014-03-14</td>\n",
              "      <td>Thursday, March 20, 2014</td>\n",
              "      <td>Home Office</td>\n",
              "      <td>California</td>\n",
              "      <td>United States</td>\n",
              "      <td>West</td>\n",
              "      <td>OFF-PA-10004359</td>\n",
              "      <td>Office Supplies</td>\n",
              "      <td>...</td>\n",
              "      <td>Multicolor Computer Printout Paper</td>\n",
              "      <td>314.55</td>\n",
              "      <td>$250-$500</td>\n",
              "      <td>3</td>\n",
              "      <td>0.0</td>\n",
              "      <td>0</td>\n",
              "      <td>150.9840</td>\n",
              "      <td>0.48</td>\n",
              "      <td>50</td>\n",
              "      <td>2014</td>\n",
              "    </tr>\n",
              "    <tr>\n",
              "      <th>4</th>\n",
              "      <td>31773</td>\n",
              "      <td>CA-2011-144666</td>\n",
              "      <td>2011-11-09</td>\n",
              "      <td>Friday, November 11, 2011</td>\n",
              "      <td>Consumer</td>\n",
              "      <td>California</td>\n",
              "      <td>United States</td>\n",
              "      <td>West</td>\n",
              "      <td>OFF-PA-10003465</td>\n",
              "      <td>Office Supplies</td>\n",
              "      <td>...</td>\n",
              "      <td>Xerox 1912</td>\n",
              "      <td>94.85</td>\n",
              "      <td>$80-$100</td>\n",
              "      <td>5</td>\n",
              "      <td>0.0</td>\n",
              "      <td>0</td>\n",
              "      <td>45.5280</td>\n",
              "      <td>0.48</td>\n",
              "      <td>50</td>\n",
              "      <td>2011</td>\n",
              "    </tr>\n",
              "  </tbody>\n",
              "</table>\n",
              "<p>5 rows × 21 columns</p>\n",
              "</div>"
            ],
            "text/plain": [
              "   Row ID        Order ID Order Date                     Ship Date  \\\n",
              "0   34559  CA-2011-140662 2011-11-17   Saturday, November 19, 2011   \n",
              "1   41207  US-2012-129007 2012-09-13  Saturday, September 15, 2012   \n",
              "2   33971  CA-2014-136875 2014-12-04    Thursday, December 4, 2014   \n",
              "3   33459  CA-2014-166296 2014-03-14      Thursday, March 20, 2014   \n",
              "4   31773  CA-2011-144666 2011-11-09     Friday, November 11, 2011   \n",
              "\n",
              "       Segment       State        Country Region       Product ID  \\\n",
              "0    Corporate  California  United States   West  OFF-PA-10003395   \n",
              "1    Corporate  California  United States   West  OFF-PA-10000994   \n",
              "2     Consumer  California  United States   West  OFF-PA-10000357   \n",
              "3  Home Office  California  United States   West  OFF-PA-10004359   \n",
              "4     Consumer  California  United States   West  OFF-PA-10003465   \n",
              "\n",
              "          Category  ...                        Product Name   Sales  \\\n",
              "0  Office Supplies  ...                          Xerox 1941  733.95   \n",
              "1  Office Supplies  ...                          Xerox 1915  209.70   \n",
              "2  Office Supplies  ...                          Xerox 1888  166.44   \n",
              "3  Office Supplies  ...  Multicolor Computer Printout Paper  314.55   \n",
              "4  Office Supplies  ...                          Xerox 1912   94.85   \n",
              "\n",
              "   Sales Category Quantity  Discount  Discount Category    Profit  Profit %  \\\n",
              "0      $500-$1000        7       0.0                  0  352.2960      0.48   \n",
              "1      $100- $250        2       0.0                  0  100.6560      0.48   \n",
              "2      $100- $250        3       0.0                  0   79.8912      0.48   \n",
              "3       $250-$500        3       0.0                  0  150.9840      0.48   \n",
              "4        $80-$100        5       0.0                  0   45.5280      0.48   \n",
              "\n",
              "   Profit % Category  Year  \n",
              "0                 50  2011  \n",
              "1                 50  2012  \n",
              "2                 50  2014  \n",
              "3                 50  2014  \n",
              "4                 50  2011  \n",
              "\n",
              "[5 rows x 21 columns]"
            ]
          },
          "execution_count": 15,
          "metadata": {},
          "output_type": "execute_result"
        }
      ],
      "source": [
        "df['Order Date'] = pd.to_datetime(df['Order Date']) #convert order date to date-time format\n",
        "df['Year'] = df['Order Date'].dt.year\n",
        "#display df headers\n",
        "df.head()"
      ]
    },
    {
      "cell_type": "code",
      "execution_count": 23,
      "id": "6c011267",
      "metadata": {
        "id": "6c011267"
      },
      "outputs": [
        {
          "data": {
            "text/html": [
              "<div>\n",
              "<style scoped>\n",
              "    .dataframe tbody tr th:only-of-type {\n",
              "        vertical-align: middle;\n",
              "    }\n",
              "\n",
              "    .dataframe tbody tr th {\n",
              "        vertical-align: top;\n",
              "    }\n",
              "\n",
              "    .dataframe thead tr th {\n",
              "        text-align: left;\n",
              "    }\n",
              "\n",
              "    .dataframe thead tr:last-of-type th {\n",
              "        text-align: right;\n",
              "    }\n",
              "</style>\n",
              "<table border=\"1\" class=\"dataframe\">\n",
              "  <thead>\n",
              "    <tr>\n",
              "      <th></th>\n",
              "      <th></th>\n",
              "      <th colspan=\"8\" halign=\"left\">Row ID</th>\n",
              "      <th colspan=\"2\" halign=\"left\">Order Date</th>\n",
              "      <th>...</th>\n",
              "      <th colspan=\"2\" halign=\"left\">Profit %</th>\n",
              "      <th colspan=\"8\" halign=\"left\">Profit % Category</th>\n",
              "    </tr>\n",
              "    <tr>\n",
              "      <th></th>\n",
              "      <th></th>\n",
              "      <th>count</th>\n",
              "      <th>mean</th>\n",
              "      <th>min</th>\n",
              "      <th>25%</th>\n",
              "      <th>50%</th>\n",
              "      <th>75%</th>\n",
              "      <th>max</th>\n",
              "      <th>std</th>\n",
              "      <th>count</th>\n",
              "      <th>mean</th>\n",
              "      <th>...</th>\n",
              "      <th>max</th>\n",
              "      <th>std</th>\n",
              "      <th>count</th>\n",
              "      <th>mean</th>\n",
              "      <th>min</th>\n",
              "      <th>25%</th>\n",
              "      <th>50%</th>\n",
              "      <th>75%</th>\n",
              "      <th>max</th>\n",
              "      <th>std</th>\n",
              "    </tr>\n",
              "    <tr>\n",
              "      <th>Category</th>\n",
              "      <th>Year</th>\n",
              "      <th></th>\n",
              "      <th></th>\n",
              "      <th></th>\n",
              "      <th></th>\n",
              "      <th></th>\n",
              "      <th></th>\n",
              "      <th></th>\n",
              "      <th></th>\n",
              "      <th></th>\n",
              "      <th></th>\n",
              "      <th></th>\n",
              "      <th></th>\n",
              "      <th></th>\n",
              "      <th></th>\n",
              "      <th></th>\n",
              "      <th></th>\n",
              "      <th></th>\n",
              "      <th></th>\n",
              "      <th></th>\n",
              "      <th></th>\n",
              "      <th></th>\n",
              "    </tr>\n",
              "  </thead>\n",
              "  <tbody>\n",
              "    <tr>\n",
              "      <th rowspan=\"4\" valign=\"top\">Furniture</th>\n",
              "      <th>2011</th>\n",
              "      <td>1762.0</td>\n",
              "      <td>25284.450057</td>\n",
              "      <td>49.0</td>\n",
              "      <td>12513.50</td>\n",
              "      <td>26440.0</td>\n",
              "      <td>36784.50</td>\n",
              "      <td>51193.0</td>\n",
              "      <td>14466.512197</td>\n",
              "      <td>1762</td>\n",
              "      <td>2011-08-08 20:41:24.449489152</td>\n",
              "      <td>...</td>\n",
              "      <td>0.5</td>\n",
              "      <td>0.468485</td>\n",
              "      <td>1762.0</td>\n",
              "      <td>19.061294</td>\n",
              "      <td>0.0</td>\n",
              "      <td>0.0</td>\n",
              "      <td>20.0</td>\n",
              "      <td>30.0</td>\n",
              "      <td>51.0</td>\n",
              "      <td>17.197344</td>\n",
              "    </tr>\n",
              "    <tr>\n",
              "      <th>2012</th>\n",
              "      <td>2045.0</td>\n",
              "      <td>23862.745721</td>\n",
              "      <td>2.0</td>\n",
              "      <td>10161.00</td>\n",
              "      <td>24000.0</td>\n",
              "      <td>35633.00</td>\n",
              "      <td>51251.0</td>\n",
              "      <td>14502.389576</td>\n",
              "      <td>2045</td>\n",
              "      <td>2012-08-03 05:50:40.195599104</td>\n",
              "      <td>...</td>\n",
              "      <td>0.5</td>\n",
              "      <td>0.454950</td>\n",
              "      <td>2045.0</td>\n",
              "      <td>18.943765</td>\n",
              "      <td>0.0</td>\n",
              "      <td>0.0</td>\n",
              "      <td>20.0</td>\n",
              "      <td>30.0</td>\n",
              "      <td>51.0</td>\n",
              "      <td>16.874530</td>\n",
              "    </tr>\n",
              "    <tr>\n",
              "      <th>2013</th>\n",
              "      <td>2722.0</td>\n",
              "      <td>23714.965834</td>\n",
              "      <td>13.0</td>\n",
              "      <td>10024.00</td>\n",
              "      <td>24102.0</td>\n",
              "      <td>36082.50</td>\n",
              "      <td>51280.0</td>\n",
              "      <td>14612.750870</td>\n",
              "      <td>2722</td>\n",
              "      <td>2013-07-31 08:41:36.987509248</td>\n",
              "      <td>...</td>\n",
              "      <td>0.5</td>\n",
              "      <td>0.437131</td>\n",
              "      <td>2722.0</td>\n",
              "      <td>19.238428</td>\n",
              "      <td>0.0</td>\n",
              "      <td>0.0</td>\n",
              "      <td>20.0</td>\n",
              "      <td>30.0</td>\n",
              "      <td>51.0</td>\n",
              "      <td>17.340211</td>\n",
              "    </tr>\n",
              "    <tr>\n",
              "      <th>2014</th>\n",
              "      <td>3347.0</td>\n",
              "      <td>24973.190021</td>\n",
              "      <td>38.0</td>\n",
              "      <td>11867.00</td>\n",
              "      <td>25707.0</td>\n",
              "      <td>37279.00</td>\n",
              "      <td>51284.0</td>\n",
              "      <td>14650.845250</td>\n",
              "      <td>3347</td>\n",
              "      <td>2014-08-03 11:52:28.252166144</td>\n",
              "      <td>...</td>\n",
              "      <td>0.5</td>\n",
              "      <td>0.438414</td>\n",
              "      <td>3347.0</td>\n",
              "      <td>18.973110</td>\n",
              "      <td>0.0</td>\n",
              "      <td>0.0</td>\n",
              "      <td>20.0</td>\n",
              "      <td>30.0</td>\n",
              "      <td>51.0</td>\n",
              "      <td>17.145030</td>\n",
              "    </tr>\n",
              "    <tr>\n",
              "      <th rowspan=\"4\" valign=\"top\">Office Supplies</th>\n",
              "      <th>2011</th>\n",
              "      <td>5446.0</td>\n",
              "      <td>26671.408924</td>\n",
              "      <td>51.0</td>\n",
              "      <td>14350.00</td>\n",
              "      <td>27066.5</td>\n",
              "      <td>39291.50</td>\n",
              "      <td>51290.0</td>\n",
              "      <td>14605.397799</td>\n",
              "      <td>5446</td>\n",
              "      <td>2011-08-03 17:35:00.771208192</td>\n",
              "      <td>...</td>\n",
              "      <td>0.5</td>\n",
              "      <td>0.502171</td>\n",
              "      <td>5446.0</td>\n",
              "      <td>24.359346</td>\n",
              "      <td>0.0</td>\n",
              "      <td>10.0</td>\n",
              "      <td>20.0</td>\n",
              "      <td>40.0</td>\n",
              "      <td>51.0</td>\n",
              "      <td>18.036366</td>\n",
              "    </tr>\n",
              "    <tr>\n",
              "      <th>2012</th>\n",
              "      <td>6707.0</td>\n",
              "      <td>25668.455047</td>\n",
              "      <td>4.0</td>\n",
              "      <td>12981.50</td>\n",
              "      <td>25062.0</td>\n",
              "      <td>38922.00</td>\n",
              "      <td>51289.0</td>\n",
              "      <td>14781.160285</td>\n",
              "      <td>6707</td>\n",
              "      <td>2012-08-02 04:08:24.547487744</td>\n",
              "      <td>...</td>\n",
              "      <td>0.5</td>\n",
              "      <td>0.486065</td>\n",
              "      <td>6707.0</td>\n",
              "      <td>23.783659</td>\n",
              "      <td>0.0</td>\n",
              "      <td>10.0</td>\n",
              "      <td>20.0</td>\n",
              "      <td>40.0</td>\n",
              "      <td>51.0</td>\n",
              "      <td>18.119377</td>\n",
              "    </tr>\n",
              "    <tr>\n",
              "      <th>2013</th>\n",
              "      <td>8391.0</td>\n",
              "      <td>25672.643427</td>\n",
              "      <td>7.0</td>\n",
              "      <td>12326.50</td>\n",
              "      <td>25771.0</td>\n",
              "      <td>39221.50</td>\n",
              "      <td>51279.0</td>\n",
              "      <td>15225.441969</td>\n",
              "      <td>8391</td>\n",
              "      <td>2013-07-29 07:52:06.349660672</td>\n",
              "      <td>...</td>\n",
              "      <td>0.5</td>\n",
              "      <td>0.463819</td>\n",
              "      <td>8391.0</td>\n",
              "      <td>24.128590</td>\n",
              "      <td>0.0</td>\n",
              "      <td>10.0</td>\n",
              "      <td>20.0</td>\n",
              "      <td>40.0</td>\n",
              "      <td>51.0</td>\n",
              "      <td>17.956796</td>\n",
              "    </tr>\n",
              "    <tr>\n",
              "      <th>2014</th>\n",
              "      <td>10729.0</td>\n",
              "      <td>26335.795694</td>\n",
              "      <td>1.0</td>\n",
              "      <td>13506.00</td>\n",
              "      <td>26097.0</td>\n",
              "      <td>39590.00</td>\n",
              "      <td>51283.0</td>\n",
              "      <td>14801.440791</td>\n",
              "      <td>10729</td>\n",
              "      <td>2014-07-31 00:23:21.211669248</td>\n",
              "      <td>...</td>\n",
              "      <td>0.5</td>\n",
              "      <td>0.482971</td>\n",
              "      <td>10729.0</td>\n",
              "      <td>24.014447</td>\n",
              "      <td>0.0</td>\n",
              "      <td>10.0</td>\n",
              "      <td>20.0</td>\n",
              "      <td>40.0</td>\n",
              "      <td>51.0</td>\n",
              "      <td>17.982599</td>\n",
              "    </tr>\n",
              "    <tr>\n",
              "      <th rowspan=\"4\" valign=\"top\">Technology</th>\n",
              "      <th>2011</th>\n",
              "      <td>1790.0</td>\n",
              "      <td>25466.106704</td>\n",
              "      <td>52.0</td>\n",
              "      <td>12800.25</td>\n",
              "      <td>25614.0</td>\n",
              "      <td>37443.75</td>\n",
              "      <td>51202.0</td>\n",
              "      <td>14675.163280</td>\n",
              "      <td>1790</td>\n",
              "      <td>2011-08-05 04:56:50.949720832</td>\n",
              "      <td>...</td>\n",
              "      <td>0.5</td>\n",
              "      <td>0.453910</td>\n",
              "      <td>1790.0</td>\n",
              "      <td>21.121229</td>\n",
              "      <td>0.0</td>\n",
              "      <td>0.0</td>\n",
              "      <td>20.0</td>\n",
              "      <td>40.0</td>\n",
              "      <td>51.0</td>\n",
              "      <td>17.005847</td>\n",
              "    </tr>\n",
              "    <tr>\n",
              "      <th>2012</th>\n",
              "      <td>2210.0</td>\n",
              "      <td>25671.684163</td>\n",
              "      <td>48.0</td>\n",
              "      <td>13049.25</td>\n",
              "      <td>25670.5</td>\n",
              "      <td>37744.50</td>\n",
              "      <td>51287.0</td>\n",
              "      <td>14610.701406</td>\n",
              "      <td>2210</td>\n",
              "      <td>2012-07-30 21:18:24.434389248</td>\n",
              "      <td>...</td>\n",
              "      <td>0.5</td>\n",
              "      <td>0.435034</td>\n",
              "      <td>2210.0</td>\n",
              "      <td>21.929864</td>\n",
              "      <td>0.0</td>\n",
              "      <td>10.0</td>\n",
              "      <td>20.0</td>\n",
              "      <td>40.0</td>\n",
              "      <td>51.0</td>\n",
              "      <td>17.249456</td>\n",
              "    </tr>\n",
              "    <tr>\n",
              "      <th>2013</th>\n",
              "      <td>2686.0</td>\n",
              "      <td>25189.081162</td>\n",
              "      <td>8.0</td>\n",
              "      <td>12278.75</td>\n",
              "      <td>24882.5</td>\n",
              "      <td>38420.50</td>\n",
              "      <td>51276.0</td>\n",
              "      <td>15022.523382</td>\n",
              "      <td>2686</td>\n",
              "      <td>2013-07-31 01:06:28.682055168</td>\n",
              "      <td>...</td>\n",
              "      <td>0.5</td>\n",
              "      <td>0.429035</td>\n",
              "      <td>2686.0</td>\n",
              "      <td>20.920328</td>\n",
              "      <td>0.0</td>\n",
              "      <td>10.0</td>\n",
              "      <td>20.0</td>\n",
              "      <td>30.0</td>\n",
              "      <td>51.0</td>\n",
              "      <td>16.833691</td>\n",
              "    </tr>\n",
              "    <tr>\n",
              "      <th>2014</th>\n",
              "      <td>3455.0</td>\n",
              "      <td>25616.910564</td>\n",
              "      <td>26.0</td>\n",
              "      <td>13155.00</td>\n",
              "      <td>25273.0</td>\n",
              "      <td>38184.50</td>\n",
              "      <td>51260.0</td>\n",
              "      <td>14554.655289</td>\n",
              "      <td>3455</td>\n",
              "      <td>2014-08-01 17:52:48.625180928</td>\n",
              "      <td>...</td>\n",
              "      <td>0.5</td>\n",
              "      <td>0.410589</td>\n",
              "      <td>3455.0</td>\n",
              "      <td>21.309986</td>\n",
              "      <td>0.0</td>\n",
              "      <td>10.0</td>\n",
              "      <td>20.0</td>\n",
              "      <td>40.0</td>\n",
              "      <td>51.0</td>\n",
              "      <td>16.899487</td>\n",
              "    </tr>\n",
              "  </tbody>\n",
              "</table>\n",
              "<p>12 rows × 64 columns</p>\n",
              "</div>"
            ],
            "text/plain": [
              "                       Row ID                                         \\\n",
              "                        count          mean   min       25%      50%   \n",
              "Category        Year                                                   \n",
              "Furniture       2011   1762.0  25284.450057  49.0  12513.50  26440.0   \n",
              "                2012   2045.0  23862.745721   2.0  10161.00  24000.0   \n",
              "                2013   2722.0  23714.965834  13.0  10024.00  24102.0   \n",
              "                2014   3347.0  24973.190021  38.0  11867.00  25707.0   \n",
              "Office Supplies 2011   5446.0  26671.408924  51.0  14350.00  27066.5   \n",
              "                2012   6707.0  25668.455047   4.0  12981.50  25062.0   \n",
              "                2013   8391.0  25672.643427   7.0  12326.50  25771.0   \n",
              "                2014  10729.0  26335.795694   1.0  13506.00  26097.0   \n",
              "Technology      2011   1790.0  25466.106704  52.0  12800.25  25614.0   \n",
              "                2012   2210.0  25671.684163  48.0  13049.25  25670.5   \n",
              "                2013   2686.0  25189.081162   8.0  12278.75  24882.5   \n",
              "                2014   3455.0  25616.910564  26.0  13155.00  25273.0   \n",
              "\n",
              "                                                      Order Date  \\\n",
              "                           75%      max           std      count   \n",
              "Category        Year                                               \n",
              "Furniture       2011  36784.50  51193.0  14466.512197       1762   \n",
              "                2012  35633.00  51251.0  14502.389576       2045   \n",
              "                2013  36082.50  51280.0  14612.750870       2722   \n",
              "                2014  37279.00  51284.0  14650.845250       3347   \n",
              "Office Supplies 2011  39291.50  51290.0  14605.397799       5446   \n",
              "                2012  38922.00  51289.0  14781.160285       6707   \n",
              "                2013  39221.50  51279.0  15225.441969       8391   \n",
              "                2014  39590.00  51283.0  14801.440791      10729   \n",
              "Technology      2011  37443.75  51202.0  14675.163280       1790   \n",
              "                2012  37744.50  51287.0  14610.701406       2210   \n",
              "                2013  38420.50  51276.0  15022.523382       2686   \n",
              "                2014  38184.50  51260.0  14554.655289       3455   \n",
              "\n",
              "                                                     ... Profit %            \\\n",
              "                                               mean  ...      max       std   \n",
              "Category        Year                                 ...                      \n",
              "Furniture       2011  2011-08-08 20:41:24.449489152  ...      0.5  0.468485   \n",
              "                2012  2012-08-03 05:50:40.195599104  ...      0.5  0.454950   \n",
              "                2013  2013-07-31 08:41:36.987509248  ...      0.5  0.437131   \n",
              "                2014  2014-08-03 11:52:28.252166144  ...      0.5  0.438414   \n",
              "Office Supplies 2011  2011-08-03 17:35:00.771208192  ...      0.5  0.502171   \n",
              "                2012  2012-08-02 04:08:24.547487744  ...      0.5  0.486065   \n",
              "                2013  2013-07-29 07:52:06.349660672  ...      0.5  0.463819   \n",
              "                2014  2014-07-31 00:23:21.211669248  ...      0.5  0.482971   \n",
              "Technology      2011  2011-08-05 04:56:50.949720832  ...      0.5  0.453910   \n",
              "                2012  2012-07-30 21:18:24.434389248  ...      0.5  0.435034   \n",
              "                2013  2013-07-31 01:06:28.682055168  ...      0.5  0.429035   \n",
              "                2014  2014-08-01 17:52:48.625180928  ...      0.5  0.410589   \n",
              "\n",
              "                     Profit % Category                                    \\\n",
              "                                 count       mean  min   25%   50%   75%   \n",
              "Category        Year                                                       \n",
              "Furniture       2011            1762.0  19.061294  0.0   0.0  20.0  30.0   \n",
              "                2012            2045.0  18.943765  0.0   0.0  20.0  30.0   \n",
              "                2013            2722.0  19.238428  0.0   0.0  20.0  30.0   \n",
              "                2014            3347.0  18.973110  0.0   0.0  20.0  30.0   \n",
              "Office Supplies 2011            5446.0  24.359346  0.0  10.0  20.0  40.0   \n",
              "                2012            6707.0  23.783659  0.0  10.0  20.0  40.0   \n",
              "                2013            8391.0  24.128590  0.0  10.0  20.0  40.0   \n",
              "                2014           10729.0  24.014447  0.0  10.0  20.0  40.0   \n",
              "Technology      2011            1790.0  21.121229  0.0   0.0  20.0  40.0   \n",
              "                2012            2210.0  21.929864  0.0  10.0  20.0  40.0   \n",
              "                2013            2686.0  20.920328  0.0  10.0  20.0  30.0   \n",
              "                2014            3455.0  21.309986  0.0  10.0  20.0  40.0   \n",
              "\n",
              "                                       \n",
              "                       max        std  \n",
              "Category        Year                   \n",
              "Furniture       2011  51.0  17.197344  \n",
              "                2012  51.0  16.874530  \n",
              "                2013  51.0  17.340211  \n",
              "                2014  51.0  17.145030  \n",
              "Office Supplies 2011  51.0  18.036366  \n",
              "                2012  51.0  18.119377  \n",
              "                2013  51.0  17.956796  \n",
              "                2014  51.0  17.982599  \n",
              "Technology      2011  51.0  17.005847  \n",
              "                2012  51.0  17.249456  \n",
              "                2013  51.0  16.833691  \n",
              "                2014  51.0  16.899487  \n",
              "\n",
              "[12 rows x 64 columns]"
            ]
          },
          "execution_count": 23,
          "metadata": {},
          "output_type": "execute_result"
        }
      ],
      "source": [
        "df_year = df.groupby(['Category', 'Year'])\n",
        "#create pivot table of descriptive statistics organized \n",
        "# by category and year\n",
        "# produce descriptive stats\n",
        "df_year.describe()"
      ]
    },
    {
      "cell_type": "code",
      "execution_count": 24,
      "id": "e5ac505d",
      "metadata": {
        "id": "e5ac505d"
      },
      "outputs": [
        {
          "data": {
            "text/html": [
              "<div>\n",
              "<style scoped>\n",
              "    .dataframe tbody tr th:only-of-type {\n",
              "        vertical-align: middle;\n",
              "    }\n",
              "\n",
              "    .dataframe tbody tr th {\n",
              "        vertical-align: top;\n",
              "    }\n",
              "\n",
              "    .dataframe thead th {\n",
              "        text-align: right;\n",
              "    }\n",
              "</style>\n",
              "<table border=\"1\" class=\"dataframe\">\n",
              "  <thead>\n",
              "    <tr style=\"text-align: right;\">\n",
              "      <th>Category</th>\n",
              "      <th>Furniture</th>\n",
              "      <th>Office Supplies</th>\n",
              "      <th>Technology</th>\n",
              "    </tr>\n",
              "    <tr>\n",
              "      <th>Year</th>\n",
              "      <th></th>\n",
              "      <th></th>\n",
              "      <th></th>\n",
              "    </tr>\n",
              "  </thead>\n",
              "  <tbody>\n",
              "    <tr>\n",
              "      <th>2011</th>\n",
              "      <td>-0.001608</td>\n",
              "      <td>0.054405</td>\n",
              "      <td>0.035249</td>\n",
              "    </tr>\n",
              "    <tr>\n",
              "      <th>2012</th>\n",
              "      <td>0.011851</td>\n",
              "      <td>0.053909</td>\n",
              "      <td>0.056671</td>\n",
              "    </tr>\n",
              "    <tr>\n",
              "      <th>2013</th>\n",
              "      <td>0.012962</td>\n",
              "      <td>0.067916</td>\n",
              "      <td>0.042526</td>\n",
              "    </tr>\n",
              "    <tr>\n",
              "      <th>2014</th>\n",
              "      <td>0.008425</td>\n",
              "      <td>0.057440</td>\n",
              "      <td>0.058248</td>\n",
              "    </tr>\n",
              "  </tbody>\n",
              "</table>\n",
              "</div>"
            ],
            "text/plain": [
              "Category  Furniture  Office Supplies  Technology\n",
              "Year                                            \n",
              "2011      -0.001608         0.054405    0.035249\n",
              "2012       0.011851         0.053909    0.056671\n",
              "2013       0.012962         0.067916    0.042526\n",
              "2014       0.008425         0.057440    0.058248"
            ]
          },
          "execution_count": 24,
          "metadata": {},
          "output_type": "execute_result"
        }
      ],
      "source": [
        "average = df_year.describe()['Profit %']\n",
        "#examine just average profit % grouped by year and category\n",
        "average = average['mean'] # grab just the mean\n",
        "average = average.unstack(level=0) # unstack the table\n",
        "average.head()"
      ]
    },
    {
      "cell_type": "code",
      "execution_count": 25,
      "id": "f107b628",
      "metadata": {
        "id": "f107b628"
      },
      "outputs": [
        {
          "data": {
            "image/png": "[encoded data removed]",
            "text/plain": [
              "<Figure size 1200x600 with 1 Axes>"
            ]
          },
          "metadata": {},
          "output_type": "display_data"
        }
      ],
      "source": [
        "fig, ax = plt.subplots(1, figsize=(12,6))\n",
        "for year in average.columns:\n",
        "    plt.plot(average[year].index, average[year].values)\n",
        "\n",
        "plt.legend(average.columns)\n",
        "plt.title(\"Average % Profit (USD)\")\n",
        "plt.locator_params(nbins=4)\n",
        "plt.show()"
      ]
    },
    {
      "cell_type": "markdown",
      "id": "e66c5623",
      "metadata": {
        "id": "e66c5623"
      },
      "source": [
        "### **A.**\n",
        "\n",
        "**Which category has the most constant Average Profit % between 2011 and 2014? Does this make sense?**"
      ]
    },
    {
      "cell_type": "markdown",
      "id": "Wg6qv651ICyH",
      "metadata": {
        "id": "Wg6qv651ICyH"
      },
      "source": [
        "Furniture - I would say it makes sense, I would expect office supplies to change the least.  Technology will flucuate very heavily due to the need for capital expenditure. "
      ]
    },
    {
      "cell_type": "markdown",
      "id": "21bac9cd",
      "metadata": {
        "id": "21bac9cd"
      },
      "source": [
        "## **8**\n",
        "\n",
        "**Create a Pie chart showing the number of sales per market segment.**"
      ]
    },
    {
      "cell_type": "code",
      "execution_count": 27,
      "id": "d4e4a837",
      "metadata": {
        "id": "d4e4a837"
      },
      "outputs": [
        {
          "data": {
            "image/png": "[encoded data removed]",
            "text/plain": [
              "<Figure size 640x480 with 1 Axes>"
            ]
          },
          "metadata": {},
          "output_type": "display_data"
        }
      ],
      "source": [
        "segment_counts = df['Segment'].value_counts()\n",
        "\n",
        "plt.pie(segment_counts.values, labels = segment_counts.index.values, autopct='%1.1f%%')\n",
        "plt.show()"
      ]
    },
    {
      "cell_type": "markdown",
      "id": "21b62e04",
      "metadata": {
        "id": "21b62e04"
      },
      "source": [
        "### **A.**\n",
        "\n",
        "**Which Category (Technology, Furniture, or Office Supplies) would you recommend investing in and why?**"
      ]
    },
    {
      "cell_type": "markdown",
      "id": "GODaM1vdAhZV",
      "metadata": {
        "id": "GODaM1vdAhZV"
      },
      "source": [
        "I would invest in Technology.  Furniture would be a terrible investment, we see that above with the percent profit being near non-existent.  Technology is much better for profit margin while being a lower volume shipped."
      ]
    }
  ],
  "metadata": {
    "colab": {
      "provenance": []
    },
    "kernelspec": {
      "display_name": "base",
      "language": "python",
      "name": "python3"
    },
    "language_info": {
      "codemirror_mode": {
        "name": "ipython",
        "version": 3
      },
      "file_extension": ".py",
      "mimetype": "text/x-python",
      "name": "python",
      "nbconvert_exporter": "python",
      "pygments_lexer": "ipython3",
      "version": "3.12.4"
    }
  },
  "nbformat": 4,
  "nbformat_minor": 5
}

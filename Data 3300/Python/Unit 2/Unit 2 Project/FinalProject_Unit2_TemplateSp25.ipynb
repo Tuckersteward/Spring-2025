{
  "cells": [
    {
      "cell_type": "markdown",
      "metadata": {
        "id": "DBsBbrbjwayQ"
      },
      "source": [
        "# **Final Project - Unit 2: Data Understanding**\n",
        "\n",
        "## Name: Cabot Steward\n",
        "## *DATA 3300*\n",
        "\n",
        "## Introduction\n",
        "\n",
        "For this final project, we will take on the role of consultants for Aggie Investments, a Real Estate Investment Firm. In recent years, there has been a significant trend among investment firms to acquire properties for use as rental assets. While various geographies have been proposed, our focus is to assess the opportunities within a specific, rapidly growing market—Nashville, Tennessee.\n",
        "\n",
        "Our task is to analyze a provided dataset containing information on current Airbnb listings in the Nashville area. The objective is to explore the data comprehensively and provide informed recommendations to Aggie Investments regarding the potential of entering this market, the types of listings they should acquire, and how they should manage those listings. The project will involve data preparation, exploration, and the application of unsupervised machine learning models to uncover deeper insights and patterns within the data. These findings will guide our final recommendations to the firm.\n",
        "\n",
        "---\n",
        "\n",
        "### **Unit 2: Data Understanding**\n",
        "\n",
        "**Unit 2** covers how to describe and visualize data for the purpose of exploratory data analysis (EDA), as well as how to identify and handle missing data and outliers. **In this next portion of the final project, you will apply these concepts to `data3300_airbnb_data_clean_nashville.csv`, a cleaned version of our original dataset to begin exploring patterns in the dataset as well as address any issues related to missing data or outliers.** These steps will get you prepared for the Unit 3 portion, where you will begin modeling the data!"
      ]
    },
    {
      "cell_type": "markdown",
      "metadata": {
        "id": "gvM5MdGI34NO"
      },
      "source": [
        "\n",
        "**1 - Begin by loading in the necessary dependencies and reading in the cleaned airbnb nashville dataset**"
      ]
    },
    {
      "cell_type": "code",
      "execution_count": 1,
      "metadata": {
        "id": "9oKXuNyhL8fD"
      },
      "outputs": [],
      "source": [
        "# replace with code to import the libraries and packages required to import data, manipulate dataframes, and produce plots (visualize data)\n",
        "import warnings\n",
        "import pandas as pd\n",
        "import numpy as np\n",
        "import seaborn as sns\n",
        "import matplotlib.pyplot as plt\n",
        "warnings.filterwarnings(\"ignore\")"
      ]
    },
    {
      "cell_type": "code",
      "execution_count": null,
      "metadata": {
        "id": "_b2MRsIBb6h-"
      },
      "outputs": [
        {
          "data": {
            "text/html": [
              "<div>\n",
              "<style scoped>\n",
              "    .dataframe tbody tr th:only-of-type {\n",
              "        vertical-align: middle;\n",
              "    }\n",
              "\n",
              "    .dataframe tbody tr th {\n",
              "        vertical-align: top;\n",
              "    }\n",
              "\n",
              "    .dataframe thead th {\n",
              "        text-align: right;\n",
              "    }\n",
              "</style>\n",
              "<table border=\"1\" class=\"dataframe\">\n",
              "  <thead>\n",
              "    <tr style=\"text-align: right;\">\n",
              "      <th></th>\n",
              "      <th>id</th>\n",
              "      <th>host_id</th>\n",
              "      <th>host_is_superhost</th>\n",
              "      <th>calculated_host_listings_count</th>\n",
              "      <th>host_has_profile_pic</th>\n",
              "      <th>host_identity_verified</th>\n",
              "      <th>host_listings_count</th>\n",
              "      <th>neighbourhood_cleansed</th>\n",
              "      <th>availability_365</th>\n",
              "      <th>minimum_nights</th>\n",
              "      <th>room_type</th>\n",
              "      <th>accommodates</th>\n",
              "      <th>bedrooms</th>\n",
              "      <th>beds</th>\n",
              "      <th>price</th>\n",
              "      <th>number_of_reviews</th>\n",
              "      <th>reviews_per_month</th>\n",
              "      <th>review_scores_rating</th>\n",
              "      <th>review_scores_accuracy</th>\n",
              "      <th>review_scores_cleanliness</th>\n",
              "      <th>review_scores_checkin</th>\n",
              "      <th>review_scores_communication</th>\n",
              "      <th>review_scores_location</th>\n",
              "      <th>review_scores_value</th>\n",
              "      <th>avg_air_quality</th>\n",
              "      <th>days_as_host</th>\n",
              "      <th>bathrooms</th>\n",
              "      <th>short_term</th>\n",
              "    </tr>\n",
              "  </thead>\n",
              "  <tbody>\n",
              "    <tr>\n",
              "      <th>0</th>\n",
              "      <td>6422.0</td>\n",
              "      <td>12172</td>\n",
              "      <td>0</td>\n",
              "      <td>1</td>\n",
              "      <td>1</td>\n",
              "      <td>1</td>\n",
              "      <td>1</td>\n",
              "      <td>District 6</td>\n",
              "      <td>172</td>\n",
              "      <td>30</td>\n",
              "      <td>Private room</td>\n",
              "      <td>1</td>\n",
              "      <td>1.0</td>\n",
              "      <td>1.0</td>\n",
              "      <td>43.0</td>\n",
              "      <td>670</td>\n",
              "      <td>3.63</td>\n",
              "      <td>4.95</td>\n",
              "      <td>4.94</td>\n",
              "      <td>4.96</td>\n",
              "      <td>4.97</td>\n",
              "      <td>4.96</td>\n",
              "      <td>4.92</td>\n",
              "      <td>4.98</td>\n",
              "      <td>1.732078</td>\n",
              "      <td>5606</td>\n",
              "      <td>1.0</td>\n",
              "      <td>0</td>\n",
              "    </tr>\n",
              "    <tr>\n",
              "      <th>1</th>\n",
              "      <td>39870.0</td>\n",
              "      <td>171184</td>\n",
              "      <td>1</td>\n",
              "      <td>1</td>\n",
              "      <td>1</td>\n",
              "      <td>1</td>\n",
              "      <td>1</td>\n",
              "      <td>District 25</td>\n",
              "      <td>186</td>\n",
              "      <td>1</td>\n",
              "      <td>Private room</td>\n",
              "      <td>2</td>\n",
              "      <td>1.0</td>\n",
              "      <td>1.0</td>\n",
              "      <td>70.0</td>\n",
              "      <td>478</td>\n",
              "      <td>5.05</td>\n",
              "      <td>4.94</td>\n",
              "      <td>4.94</td>\n",
              "      <td>4.92</td>\n",
              "      <td>4.98</td>\n",
              "      <td>4.97</td>\n",
              "      <td>4.93</td>\n",
              "      <td>4.92</td>\n",
              "      <td>1.732078</td>\n",
              "      <td>5135</td>\n",
              "      <td>1.0</td>\n",
              "      <td>1</td>\n",
              "    </tr>\n",
              "    <tr>\n",
              "      <th>2</th>\n",
              "      <td>59576.0</td>\n",
              "      <td>812128</td>\n",
              "      <td>1</td>\n",
              "      <td>9</td>\n",
              "      <td>1</td>\n",
              "      <td>1</td>\n",
              "      <td>19</td>\n",
              "      <td>District 12</td>\n",
              "      <td>178</td>\n",
              "      <td>30</td>\n",
              "      <td>Private room</td>\n",
              "      <td>1</td>\n",
              "      <td>1.0</td>\n",
              "      <td>1.0</td>\n",
              "      <td>43.0</td>\n",
              "      <td>2</td>\n",
              "      <td>0.08</td>\n",
              "      <td>4.50</td>\n",
              "      <td>5.00</td>\n",
              "      <td>3.50</td>\n",
              "      <td>5.00</td>\n",
              "      <td>5.00</td>\n",
              "      <td>5.00</td>\n",
              "      <td>5.00</td>\n",
              "      <td>1.720434</td>\n",
              "      <td>4776</td>\n",
              "      <td>1.0</td>\n",
              "      <td>0</td>\n",
              "    </tr>\n",
              "    <tr>\n",
              "      <th>3</th>\n",
              "      <td>72906.0</td>\n",
              "      <td>176117</td>\n",
              "      <td>1</td>\n",
              "      <td>1</td>\n",
              "      <td>1</td>\n",
              "      <td>1</td>\n",
              "      <td>1</td>\n",
              "      <td>District 18</td>\n",
              "      <td>49</td>\n",
              "      <td>2</td>\n",
              "      <td>Entire home/apt</td>\n",
              "      <td>2</td>\n",
              "      <td>2.0</td>\n",
              "      <td>2.0</td>\n",
              "      <td>107.0</td>\n",
              "      <td>731</td>\n",
              "      <td>4.60</td>\n",
              "      <td>4.92</td>\n",
              "      <td>4.90</td>\n",
              "      <td>4.83</td>\n",
              "      <td>4.98</td>\n",
              "      <td>4.99</td>\n",
              "      <td>4.97</td>\n",
              "      <td>4.90</td>\n",
              "      <td>1.732078</td>\n",
              "      <td>5132</td>\n",
              "      <td>1.0</td>\n",
              "      <td>1</td>\n",
              "    </tr>\n",
              "    <tr>\n",
              "      <th>4</th>\n",
              "      <td>258817.0</td>\n",
              "      <td>22296</td>\n",
              "      <td>1</td>\n",
              "      <td>6</td>\n",
              "      <td>1</td>\n",
              "      <td>1</td>\n",
              "      <td>15</td>\n",
              "      <td>District 12</td>\n",
              "      <td>301</td>\n",
              "      <td>30</td>\n",
              "      <td>Private room</td>\n",
              "      <td>2</td>\n",
              "      <td>1.0</td>\n",
              "      <td>2.0</td>\n",
              "      <td>39.0</td>\n",
              "      <td>97</td>\n",
              "      <td>0.64</td>\n",
              "      <td>4.78</td>\n",
              "      <td>4.81</td>\n",
              "      <td>4.41</td>\n",
              "      <td>4.92</td>\n",
              "      <td>4.91</td>\n",
              "      <td>4.74</td>\n",
              "      <td>4.73</td>\n",
              "      <td>1.720434</td>\n",
              "      <td>5529</td>\n",
              "      <td>1.0</td>\n",
              "      <td>0</td>\n",
              "    </tr>\n",
              "  </tbody>\n",
              "</table>\n",
              "</div>"
            ],
            "text/plain": [
              "         id  host_id  host_is_superhost  calculated_host_listings_count  \\\n",
              "0    6422.0    12172                  0                               1   \n",
              "1   39870.0   171184                  1                               1   \n",
              "2   59576.0   812128                  1                               9   \n",
              "3   72906.0   176117                  1                               1   \n",
              "4  258817.0    22296                  1                               6   \n",
              "\n",
              "   host_has_profile_pic  host_identity_verified  host_listings_count  \\\n",
              "0                     1                       1                    1   \n",
              "1                     1                       1                    1   \n",
              "2                     1                       1                   19   \n",
              "3                     1                       1                    1   \n",
              "4                     1                       1                   15   \n",
              "\n",
              "  neighbourhood_cleansed  availability_365  minimum_nights        room_type  \\\n",
              "0             District 6               172              30     Private room   \n",
              "1            District 25               186               1     Private room   \n",
              "2            District 12               178              30     Private room   \n",
              "3            District 18                49               2  Entire home/apt   \n",
              "4            District 12               301              30     Private room   \n",
              "\n",
              "   accommodates  bedrooms  beds  price  number_of_reviews  reviews_per_month  \\\n",
              "0             1       1.0   1.0   43.0                670               3.63   \n",
              "1             2       1.0   1.0   70.0                478               5.05   \n",
              "2             1       1.0   1.0   43.0                  2               0.08   \n",
              "3             2       2.0   2.0  107.0                731               4.60   \n",
              "4             2       1.0   2.0   39.0                 97               0.64   \n",
              "\n",
              "   review_scores_rating  review_scores_accuracy  review_scores_cleanliness  \\\n",
              "0                  4.95                    4.94                       4.96   \n",
              "1                  4.94                    4.94                       4.92   \n",
              "2                  4.50                    5.00                       3.50   \n",
              "3                  4.92                    4.90                       4.83   \n",
              "4                  4.78                    4.81                       4.41   \n",
              "\n",
              "   review_scores_checkin  review_scores_communication  review_scores_location  \\\n",
              "0                   4.97                         4.96                    4.92   \n",
              "1                   4.98                         4.97                    4.93   \n",
              "2                   5.00                         5.00                    5.00   \n",
              "3                   4.98                         4.99                    4.97   \n",
              "4                   4.92                         4.91                    4.74   \n",
              "\n",
              "   review_scores_value  avg_air_quality  days_as_host  bathrooms  short_term  \n",
              "0                 4.98         1.732078          5606        1.0           0  \n",
              "1                 4.92         1.732078          5135        1.0           1  \n",
              "2                 5.00         1.720434          4776        1.0           0  \n",
              "3                 4.90         1.732078          5132        1.0           1  \n",
              "4                 4.73         1.720434          5529        1.0           0  "
            ]
          },
          "execution_count": 3,
          "metadata": {},
          "output_type": "execute_result"
        }
      ],
      "source": [
        "# replace with code to import cleaned Airbnb Dataset, call your dataset df2\n",
        "pd.set_option('display.max_columns', None) \n",
        "df2 = pd.read_csv('data3300_airbnb_data_clean_nashville.csv')\n",
        "df2.head()"
      ]
    },
    {
      "cell_type": "markdown",
      "metadata": {
        "id": "dt4NKTwICj-I"
      },
      "source": [
        "### 2) **Review your variables**\n",
        "\n",
        "Consider the objective of Aggie Investments, then list the top three variables you believe will be most important in the analysis, briefly explaining why each of these three could be particularly important **(there are no wrong answers, but make sure you explain your logic for full points).**"
      ]
    },
    {
      "cell_type": "markdown",
      "metadata": {
        "id": "EbhYA8y0Ckt8"
      },
      "source": [
        "1.   minimum_nights - try to identify if longer or shorter stay requirements is better.\n",
        "2.   avg_air_quality - this is due to their requirements of trying to find a trend around air quality.  I don't agree with including this one but due to the requirements feel the  needs to put it.\n",
        "3.  bedrooms - adding a 4th to make up for the last, try to see what size of property has the best chance of being successful.\n"
      ]
    },
    {
      "cell_type": "markdown",
      "metadata": {
        "id": "G9Nyy7B2qXl7"
      },
      "source": [
        "## **Part 1: Descriptive Statistics**\n",
        "\n",
        "\n",
        "### **Observation of Descriptive Statistics**\n",
        "\n",
        "In order for us to be able to understand our dataset, and begin to build recommendations for the firm we need to understand our data.\n",
        "\n",
        "Explore the descriptive statistics from our dataset. Compare and describe three different observations made from your exploration of the descriptive statistics. Why could these be of interest to Aggie Investments? **Provide the specific descriptive statistic (e.g., the mean 365_availability is 50 days) you are using in your observation and be clear why this statistic could be of importance.** Some of these observations could potentially be used in your recommendations to the firm.\n",
        "\n",
        "**Hint:** Consider the variables you listed as important above, if they are quantitative you can describe them, if they are qualitative, you can use them as a grouping variables on other quantitative variables!\n",
        "\n",
        "*If you need some reminders about how to do this, revisit the descriptive statistics module!*\n"
      ]
    },
    {
      "cell_type": "markdown",
      "metadata": {
        "id": "ibu7OsDjdOuj"
      },
      "source": [
        "### **3 - Observation 1**"
      ]
    },
    {
      "cell_type": "code",
      "execution_count": 25,
      "metadata": {
        "id": "_Tg0JQiHdOP1"
      },
      "outputs": [
        {
          "data": {
            "text/html": [
              "<div>\n",
              "<style scoped>\n",
              "    .dataframe tbody tr th:only-of-type {\n",
              "        vertical-align: middle;\n",
              "    }\n",
              "\n",
              "    .dataframe tbody tr th {\n",
              "        vertical-align: top;\n",
              "    }\n",
              "\n",
              "    .dataframe thead th {\n",
              "        text-align: right;\n",
              "    }\n",
              "</style>\n",
              "<table border=\"1\" class=\"dataframe\">\n",
              "  <thead>\n",
              "    <tr style=\"text-align: right;\">\n",
              "      <th></th>\n",
              "      <th>count</th>\n",
              "      <th>mean</th>\n",
              "      <th>std</th>\n",
              "      <th>min</th>\n",
              "      <th>25%</th>\n",
              "      <th>50%</th>\n",
              "      <th>75%</th>\n",
              "      <th>max</th>\n",
              "    </tr>\n",
              "    <tr>\n",
              "      <th>minimum_nights</th>\n",
              "      <th></th>\n",
              "      <th></th>\n",
              "      <th></th>\n",
              "      <th></th>\n",
              "      <th></th>\n",
              "      <th></th>\n",
              "      <th></th>\n",
              "      <th></th>\n",
              "    </tr>\n",
              "  </thead>\n",
              "  <tbody>\n",
              "    <tr>\n",
              "      <th>100</th>\n",
              "      <td>1.0</td>\n",
              "      <td>4.140000</td>\n",
              "      <td>NaN</td>\n",
              "      <td>4.14</td>\n",
              "      <td>4.1400</td>\n",
              "      <td>4.140</td>\n",
              "      <td>4.1400</td>\n",
              "      <td>4.14</td>\n",
              "    </tr>\n",
              "    <tr>\n",
              "      <th>28</th>\n",
              "      <td>16.0</td>\n",
              "      <td>4.685000</td>\n",
              "      <td>0.540728</td>\n",
              "      <td>3.00</td>\n",
              "      <td>4.4825</td>\n",
              "      <td>4.960</td>\n",
              "      <td>5.0000</td>\n",
              "      <td>5.00</td>\n",
              "    </tr>\n",
              "    <tr>\n",
              "      <th>10</th>\n",
              "      <td>4.0</td>\n",
              "      <td>4.687500</td>\n",
              "      <td>0.462556</td>\n",
              "      <td>4.00</td>\n",
              "      <td>4.6375</td>\n",
              "      <td>4.875</td>\n",
              "      <td>4.9250</td>\n",
              "      <td>5.00</td>\n",
              "    </tr>\n",
              "    <tr>\n",
              "      <th>7</th>\n",
              "      <td>16.0</td>\n",
              "      <td>4.761875</td>\n",
              "      <td>0.488047</td>\n",
              "      <td>3.00</td>\n",
              "      <td>4.7150</td>\n",
              "      <td>4.920</td>\n",
              "      <td>5.0000</td>\n",
              "      <td>5.00</td>\n",
              "    </tr>\n",
              "    <tr>\n",
              "      <th>1</th>\n",
              "      <td>3095.0</td>\n",
              "      <td>4.784701</td>\n",
              "      <td>0.340741</td>\n",
              "      <td>1.00</td>\n",
              "      <td>4.7500</td>\n",
              "      <td>4.880</td>\n",
              "      <td>4.9600</td>\n",
              "      <td>5.00</td>\n",
              "    </tr>\n",
              "    <tr>\n",
              "      <th>31</th>\n",
              "      <td>66.0</td>\n",
              "      <td>4.795606</td>\n",
              "      <td>0.340796</td>\n",
              "      <td>3.00</td>\n",
              "      <td>4.6850</td>\n",
              "      <td>4.965</td>\n",
              "      <td>5.0000</td>\n",
              "      <td>5.00</td>\n",
              "    </tr>\n",
              "    <tr>\n",
              "      <th>32</th>\n",
              "      <td>2.0</td>\n",
              "      <td>4.800000</td>\n",
              "      <td>0.098995</td>\n",
              "      <td>4.73</td>\n",
              "      <td>4.7650</td>\n",
              "      <td>4.800</td>\n",
              "      <td>4.8350</td>\n",
              "      <td>4.87</td>\n",
              "    </tr>\n",
              "    <tr>\n",
              "      <th>14</th>\n",
              "      <td>12.0</td>\n",
              "      <td>4.806667</td>\n",
              "      <td>0.322189</td>\n",
              "      <td>4.00</td>\n",
              "      <td>4.6000</td>\n",
              "      <td>5.000</td>\n",
              "      <td>5.0000</td>\n",
              "      <td>5.00</td>\n",
              "    </tr>\n",
              "    <tr>\n",
              "      <th>30</th>\n",
              "      <td>758.0</td>\n",
              "      <td>4.818127</td>\n",
              "      <td>0.402667</td>\n",
              "      <td>1.00</td>\n",
              "      <td>4.8000</td>\n",
              "      <td>5.000</td>\n",
              "      <td>5.0000</td>\n",
              "      <td>5.00</td>\n",
              "    </tr>\n",
              "    <tr>\n",
              "      <th>26</th>\n",
              "      <td>1.0</td>\n",
              "      <td>4.820000</td>\n",
              "      <td>NaN</td>\n",
              "      <td>4.82</td>\n",
              "      <td>4.8200</td>\n",
              "      <td>4.820</td>\n",
              "      <td>4.8200</td>\n",
              "      <td>4.82</td>\n",
              "    </tr>\n",
              "    <tr>\n",
              "      <th>2</th>\n",
              "      <td>3094.0</td>\n",
              "      <td>4.841677</td>\n",
              "      <td>0.244727</td>\n",
              "      <td>1.00</td>\n",
              "      <td>4.8000</td>\n",
              "      <td>4.900</td>\n",
              "      <td>4.9700</td>\n",
              "      <td>5.00</td>\n",
              "    </tr>\n",
              "    <tr>\n",
              "      <th>3</th>\n",
              "      <td>728.0</td>\n",
              "      <td>4.877500</td>\n",
              "      <td>0.188681</td>\n",
              "      <td>3.00</td>\n",
              "      <td>4.8500</td>\n",
              "      <td>4.940</td>\n",
              "      <td>4.9900</td>\n",
              "      <td>5.00</td>\n",
              "    </tr>\n",
              "    <tr>\n",
              "      <th>5</th>\n",
              "      <td>27.0</td>\n",
              "      <td>4.890741</td>\n",
              "      <td>0.119869</td>\n",
              "      <td>4.55</td>\n",
              "      <td>4.8400</td>\n",
              "      <td>4.920</td>\n",
              "      <td>4.9900</td>\n",
              "      <td>5.00</td>\n",
              "    </tr>\n",
              "    <tr>\n",
              "      <th>27</th>\n",
              "      <td>2.0</td>\n",
              "      <td>4.905000</td>\n",
              "      <td>0.035355</td>\n",
              "      <td>4.88</td>\n",
              "      <td>4.8925</td>\n",
              "      <td>4.905</td>\n",
              "      <td>4.9175</td>\n",
              "      <td>4.93</td>\n",
              "    </tr>\n",
              "    <tr>\n",
              "      <th>24</th>\n",
              "      <td>1.0</td>\n",
              "      <td>4.910000</td>\n",
              "      <td>NaN</td>\n",
              "      <td>4.91</td>\n",
              "      <td>4.9100</td>\n",
              "      <td>4.910</td>\n",
              "      <td>4.9100</td>\n",
              "      <td>4.91</td>\n",
              "    </tr>\n",
              "    <tr>\n",
              "      <th>60</th>\n",
              "      <td>5.0</td>\n",
              "      <td>4.916000</td>\n",
              "      <td>0.118448</td>\n",
              "      <td>4.75</td>\n",
              "      <td>4.8300</td>\n",
              "      <td>5.000</td>\n",
              "      <td>5.0000</td>\n",
              "      <td>5.00</td>\n",
              "    </tr>\n",
              "    <tr>\n",
              "      <th>4</th>\n",
              "      <td>42.0</td>\n",
              "      <td>4.918095</td>\n",
              "      <td>0.098284</td>\n",
              "      <td>4.66</td>\n",
              "      <td>4.8600</td>\n",
              "      <td>4.960</td>\n",
              "      <td>5.0000</td>\n",
              "      <td>5.00</td>\n",
              "    </tr>\n",
              "    <tr>\n",
              "      <th>15</th>\n",
              "      <td>2.0</td>\n",
              "      <td>4.935000</td>\n",
              "      <td>0.049497</td>\n",
              "      <td>4.90</td>\n",
              "      <td>4.9175</td>\n",
              "      <td>4.935</td>\n",
              "      <td>4.9525</td>\n",
              "      <td>4.97</td>\n",
              "    </tr>\n",
              "    <tr>\n",
              "      <th>90</th>\n",
              "      <td>9.0</td>\n",
              "      <td>4.981111</td>\n",
              "      <td>0.046488</td>\n",
              "      <td>4.86</td>\n",
              "      <td>5.0000</td>\n",
              "      <td>5.000</td>\n",
              "      <td>5.0000</td>\n",
              "      <td>5.00</td>\n",
              "    </tr>\n",
              "    <tr>\n",
              "      <th>20</th>\n",
              "      <td>1.0</td>\n",
              "      <td>5.000000</td>\n",
              "      <td>NaN</td>\n",
              "      <td>5.00</td>\n",
              "      <td>5.0000</td>\n",
              "      <td>5.000</td>\n",
              "      <td>5.0000</td>\n",
              "      <td>5.00</td>\n",
              "    </tr>\n",
              "    <tr>\n",
              "      <th>180</th>\n",
              "      <td>2.0</td>\n",
              "      <td>5.000000</td>\n",
              "      <td>0.000000</td>\n",
              "      <td>5.00</td>\n",
              "      <td>5.0000</td>\n",
              "      <td>5.000</td>\n",
              "      <td>5.0000</td>\n",
              "      <td>5.00</td>\n",
              "    </tr>\n",
              "    <tr>\n",
              "      <th>12</th>\n",
              "      <td>1.0</td>\n",
              "      <td>5.000000</td>\n",
              "      <td>NaN</td>\n",
              "      <td>5.00</td>\n",
              "      <td>5.0000</td>\n",
              "      <td>5.000</td>\n",
              "      <td>5.0000</td>\n",
              "      <td>5.00</td>\n",
              "    </tr>\n",
              "    <tr>\n",
              "      <th>29</th>\n",
              "      <td>2.0</td>\n",
              "      <td>5.000000</td>\n",
              "      <td>0.000000</td>\n",
              "      <td>5.00</td>\n",
              "      <td>5.0000</td>\n",
              "      <td>5.000</td>\n",
              "      <td>5.0000</td>\n",
              "      <td>5.00</td>\n",
              "    </tr>\n",
              "    <tr>\n",
              "      <th>45</th>\n",
              "      <td>1.0</td>\n",
              "      <td>5.000000</td>\n",
              "      <td>NaN</td>\n",
              "      <td>5.00</td>\n",
              "      <td>5.0000</td>\n",
              "      <td>5.000</td>\n",
              "      <td>5.0000</td>\n",
              "      <td>5.00</td>\n",
              "    </tr>\n",
              "    <tr>\n",
              "      <th>365</th>\n",
              "      <td>1.0</td>\n",
              "      <td>5.000000</td>\n",
              "      <td>NaN</td>\n",
              "      <td>5.00</td>\n",
              "      <td>5.0000</td>\n",
              "      <td>5.000</td>\n",
              "      <td>5.0000</td>\n",
              "      <td>5.00</td>\n",
              "    </tr>\n",
              "    <tr>\n",
              "      <th>9</th>\n",
              "      <td>0.0</td>\n",
              "      <td>NaN</td>\n",
              "      <td>NaN</td>\n",
              "      <td>NaN</td>\n",
              "      <td>NaN</td>\n",
              "      <td>NaN</td>\n",
              "      <td>NaN</td>\n",
              "      <td>NaN</td>\n",
              "    </tr>\n",
              "    <tr>\n",
              "      <th>21</th>\n",
              "      <td>0.0</td>\n",
              "      <td>NaN</td>\n",
              "      <td>NaN</td>\n",
              "      <td>NaN</td>\n",
              "      <td>NaN</td>\n",
              "      <td>NaN</td>\n",
              "      <td>NaN</td>\n",
              "      <td>NaN</td>\n",
              "    </tr>\n",
              "    <tr>\n",
              "      <th>85</th>\n",
              "      <td>0.0</td>\n",
              "      <td>NaN</td>\n",
              "      <td>NaN</td>\n",
              "      <td>NaN</td>\n",
              "      <td>NaN</td>\n",
              "      <td>NaN</td>\n",
              "      <td>NaN</td>\n",
              "      <td>NaN</td>\n",
              "    </tr>\n",
              "    <tr>\n",
              "      <th>89</th>\n",
              "      <td>0.0</td>\n",
              "      <td>NaN</td>\n",
              "      <td>NaN</td>\n",
              "      <td>NaN</td>\n",
              "      <td>NaN</td>\n",
              "      <td>NaN</td>\n",
              "      <td>NaN</td>\n",
              "      <td>NaN</td>\n",
              "    </tr>\n",
              "    <tr>\n",
              "      <th>192</th>\n",
              "      <td>0.0</td>\n",
              "      <td>NaN</td>\n",
              "      <td>NaN</td>\n",
              "      <td>NaN</td>\n",
              "      <td>NaN</td>\n",
              "      <td>NaN</td>\n",
              "      <td>NaN</td>\n",
              "      <td>NaN</td>\n",
              "    </tr>\n",
              "  </tbody>\n",
              "</table>\n",
              "</div>"
            ],
            "text/plain": [
              "                 count      mean       std   min     25%    50%     75%   max\n",
              "minimum_nights                                                               \n",
              "100                1.0  4.140000       NaN  4.14  4.1400  4.140  4.1400  4.14\n",
              "28                16.0  4.685000  0.540728  3.00  4.4825  4.960  5.0000  5.00\n",
              "10                 4.0  4.687500  0.462556  4.00  4.6375  4.875  4.9250  5.00\n",
              "7                 16.0  4.761875  0.488047  3.00  4.7150  4.920  5.0000  5.00\n",
              "1               3095.0  4.784701  0.340741  1.00  4.7500  4.880  4.9600  5.00\n",
              "31                66.0  4.795606  0.340796  3.00  4.6850  4.965  5.0000  5.00\n",
              "32                 2.0  4.800000  0.098995  4.73  4.7650  4.800  4.8350  4.87\n",
              "14                12.0  4.806667  0.322189  4.00  4.6000  5.000  5.0000  5.00\n",
              "30               758.0  4.818127  0.402667  1.00  4.8000  5.000  5.0000  5.00\n",
              "26                 1.0  4.820000       NaN  4.82  4.8200  4.820  4.8200  4.82\n",
              "2               3094.0  4.841677  0.244727  1.00  4.8000  4.900  4.9700  5.00\n",
              "3                728.0  4.877500  0.188681  3.00  4.8500  4.940  4.9900  5.00\n",
              "5                 27.0  4.890741  0.119869  4.55  4.8400  4.920  4.9900  5.00\n",
              "27                 2.0  4.905000  0.035355  4.88  4.8925  4.905  4.9175  4.93\n",
              "24                 1.0  4.910000       NaN  4.91  4.9100  4.910  4.9100  4.91\n",
              "60                 5.0  4.916000  0.118448  4.75  4.8300  5.000  5.0000  5.00\n",
              "4                 42.0  4.918095  0.098284  4.66  4.8600  4.960  5.0000  5.00\n",
              "15                 2.0  4.935000  0.049497  4.90  4.9175  4.935  4.9525  4.97\n",
              "90                 9.0  4.981111  0.046488  4.86  5.0000  5.000  5.0000  5.00\n",
              "20                 1.0  5.000000       NaN  5.00  5.0000  5.000  5.0000  5.00\n",
              "180                2.0  5.000000  0.000000  5.00  5.0000  5.000  5.0000  5.00\n",
              "12                 1.0  5.000000       NaN  5.00  5.0000  5.000  5.0000  5.00\n",
              "29                 2.0  5.000000  0.000000  5.00  5.0000  5.000  5.0000  5.00\n",
              "45                 1.0  5.000000       NaN  5.00  5.0000  5.000  5.0000  5.00\n",
              "365                1.0  5.000000       NaN  5.00  5.0000  5.000  5.0000  5.00\n",
              "9                  0.0       NaN       NaN   NaN     NaN    NaN     NaN   NaN\n",
              "21                 0.0       NaN       NaN   NaN     NaN    NaN     NaN   NaN\n",
              "85                 0.0       NaN       NaN   NaN     NaN    NaN     NaN   NaN\n",
              "89                 0.0       NaN       NaN   NaN     NaN    NaN     NaN   NaN\n",
              "192                0.0       NaN       NaN   NaN     NaN    NaN     NaN   NaN"
            ]
          },
          "execution_count": 25,
          "metadata": {},
          "output_type": "execute_result"
        }
      ],
      "source": [
        "# replace with the code to examine descriptive statistics (.describe), hint: it may be particularly insightful to group the descriptive stats by different qualitative variables\n",
        "df2.groupby('minimum_nights')['review_scores_rating'].describe().sort_values(by='mean', ascending=True)\n",
        "# df2.head()"
      ]
    },
    {
      "cell_type": "markdown",
      "metadata": {
        "id": "GyDW8wlxfypB"
      },
      "source": [
        "List the specific descriptive statistic you're observing, and indicate why Aggie Investments would find that observation interesting:\n"
      ]
    },
    {
      "cell_type": "markdown",
      "metadata": {
        "id": "etw88mTSdceb"
      },
      "source": [
        "### **4 - Observation 2**"
      ]
    },
    {
      "cell_type": "code",
      "execution_count": 32,
      "metadata": {
        "id": "PW8vNny-dcec"
      },
      "outputs": [
        {
          "data": {
            "text/html": [
              "<div>\n",
              "<style scoped>\n",
              "    .dataframe tbody tr th:only-of-type {\n",
              "        vertical-align: middle;\n",
              "    }\n",
              "\n",
              "    .dataframe tbody tr th {\n",
              "        vertical-align: top;\n",
              "    }\n",
              "\n",
              "    .dataframe thead th {\n",
              "        text-align: right;\n",
              "    }\n",
              "</style>\n",
              "<table border=\"1\" class=\"dataframe\">\n",
              "  <thead>\n",
              "    <tr style=\"text-align: right;\">\n",
              "      <th></th>\n",
              "      <th>count</th>\n",
              "      <th>mean</th>\n",
              "      <th>std</th>\n",
              "      <th>min</th>\n",
              "      <th>25%</th>\n",
              "      <th>50%</th>\n",
              "      <th>75%</th>\n",
              "      <th>max</th>\n",
              "    </tr>\n",
              "    <tr>\n",
              "      <th>neighbourhood_cleansed</th>\n",
              "      <th></th>\n",
              "      <th></th>\n",
              "      <th></th>\n",
              "      <th></th>\n",
              "      <th></th>\n",
              "      <th></th>\n",
              "      <th></th>\n",
              "      <th></th>\n",
              "    </tr>\n",
              "  </thead>\n",
              "  <tbody>\n",
              "    <tr>\n",
              "      <th>District 35</th>\n",
              "      <td>23.0</td>\n",
              "      <td>1.671640</td>\n",
              "      <td>9.738102e-03</td>\n",
              "      <td>1.665982</td>\n",
              "      <td>1.665982</td>\n",
              "      <td>1.665982</td>\n",
              "      <td>1.676826</td>\n",
              "      <td>1.687671</td>\n",
              "    </tr>\n",
              "    <tr>\n",
              "      <th>District 22</th>\n",
              "      <td>20.0</td>\n",
              "      <td>1.670320</td>\n",
              "      <td>8.901182e-03</td>\n",
              "      <td>1.665982</td>\n",
              "      <td>1.665982</td>\n",
              "      <td>1.665982</td>\n",
              "      <td>1.665982</td>\n",
              "      <td>1.687671</td>\n",
              "    </tr>\n",
              "    <tr>\n",
              "      <th>District 10</th>\n",
              "      <td>32.0</td>\n",
              "      <td>1.699308</td>\n",
              "      <td>1.847550e-02</td>\n",
              "      <td>1.688699</td>\n",
              "      <td>1.688699</td>\n",
              "      <td>1.688699</td>\n",
              "      <td>1.697403</td>\n",
              "      <td>1.732078</td>\n",
              "    </tr>\n",
              "    <tr>\n",
              "      <th>District 27</th>\n",
              "      <td>41.0</td>\n",
              "      <td>1.694064</td>\n",
              "      <td>8.992121e-16</td>\n",
              "      <td>1.694064</td>\n",
              "      <td>1.694064</td>\n",
              "      <td>1.694064</td>\n",
              "      <td>1.694064</td>\n",
              "      <td>1.694064</td>\n",
              "    </tr>\n",
              "    <tr>\n",
              "      <th>District 26</th>\n",
              "      <td>65.0</td>\n",
              "      <td>1.695234</td>\n",
              "      <td>6.615745e-03</td>\n",
              "      <td>1.694064</td>\n",
              "      <td>1.694064</td>\n",
              "      <td>1.694064</td>\n",
              "      <td>1.694064</td>\n",
              "      <td>1.732078</td>\n",
              "    </tr>\n",
              "    <tr>\n",
              "      <th>District 30</th>\n",
              "      <td>30.0</td>\n",
              "      <td>1.696084</td>\n",
              "      <td>3.139201e-03</td>\n",
              "      <td>1.694064</td>\n",
              "      <td>1.694064</td>\n",
              "      <td>1.694064</td>\n",
              "      <td>1.700799</td>\n",
              "      <td>1.700799</td>\n",
              "    </tr>\n",
              "    <tr>\n",
              "      <th>District 23</th>\n",
              "      <td>21.0</td>\n",
              "      <td>1.707377</td>\n",
              "      <td>2.334704e-02</td>\n",
              "      <td>1.665982</td>\n",
              "      <td>1.694064</td>\n",
              "      <td>1.694064</td>\n",
              "      <td>1.732078</td>\n",
              "      <td>1.732078</td>\n",
              "    </tr>\n",
              "    <tr>\n",
              "      <th>District 4</th>\n",
              "      <td>32.0</td>\n",
              "      <td>1.694064</td>\n",
              "      <td>1.127988e-15</td>\n",
              "      <td>1.694064</td>\n",
              "      <td>1.694064</td>\n",
              "      <td>1.694064</td>\n",
              "      <td>1.694064</td>\n",
              "      <td>1.694064</td>\n",
              "    </tr>\n",
              "    <tr>\n",
              "      <th>District 34</th>\n",
              "      <td>17.0</td>\n",
              "      <td>1.698536</td>\n",
              "      <td>1.262456e-02</td>\n",
              "      <td>1.694064</td>\n",
              "      <td>1.694064</td>\n",
              "      <td>1.694064</td>\n",
              "      <td>1.694064</td>\n",
              "      <td>1.732078</td>\n",
              "    </tr>\n",
              "    <tr>\n",
              "      <th>District 31</th>\n",
              "      <td>24.0</td>\n",
              "      <td>1.699115</td>\n",
              "      <td>2.979135e-03</td>\n",
              "      <td>1.694064</td>\n",
              "      <td>1.699115</td>\n",
              "      <td>1.700799</td>\n",
              "      <td>1.700799</td>\n",
              "      <td>1.700799</td>\n",
              "    </tr>\n",
              "    <tr>\n",
              "      <th>District 32</th>\n",
              "      <td>5.0</td>\n",
              "      <td>1.700799</td>\n",
              "      <td>0.000000e+00</td>\n",
              "      <td>1.700799</td>\n",
              "      <td>1.700799</td>\n",
              "      <td>1.700799</td>\n",
              "      <td>1.700799</td>\n",
              "      <td>1.700799</td>\n",
              "    </tr>\n",
              "    <tr>\n",
              "      <th>District 33</th>\n",
              "      <td>21.0</td>\n",
              "      <td>1.702669</td>\n",
              "      <td>5.905973e-03</td>\n",
              "      <td>1.700799</td>\n",
              "      <td>1.700799</td>\n",
              "      <td>1.700799</td>\n",
              "      <td>1.700799</td>\n",
              "      <td>1.720434</td>\n",
              "    </tr>\n",
              "    <tr>\n",
              "      <th>District 29</th>\n",
              "      <td>54.0</td>\n",
              "      <td>1.702981</td>\n",
              "      <td>6.228533e-03</td>\n",
              "      <td>1.700799</td>\n",
              "      <td>1.700799</td>\n",
              "      <td>1.700799</td>\n",
              "      <td>1.700799</td>\n",
              "      <td>1.720434</td>\n",
              "    </tr>\n",
              "    <tr>\n",
              "      <th>District 28</th>\n",
              "      <td>24.0</td>\n",
              "      <td>1.700799</td>\n",
              "      <td>9.072812e-16</td>\n",
              "      <td>1.700799</td>\n",
              "      <td>1.700799</td>\n",
              "      <td>1.700799</td>\n",
              "      <td>1.700799</td>\n",
              "      <td>1.700799</td>\n",
              "    </tr>\n",
              "    <tr>\n",
              "      <th>District 14</th>\n",
              "      <td>61.0</td>\n",
              "      <td>1.720434</td>\n",
              "      <td>6.716620e-16</td>\n",
              "      <td>1.720434</td>\n",
              "      <td>1.720434</td>\n",
              "      <td>1.720434</td>\n",
              "      <td>1.720434</td>\n",
              "      <td>1.720434</td>\n",
              "    </tr>\n",
              "    <tr>\n",
              "      <th>District 13</th>\n",
              "      <td>105.0</td>\n",
              "      <td>1.724793</td>\n",
              "      <td>6.161742e-03</td>\n",
              "      <td>1.700799</td>\n",
              "      <td>1.720434</td>\n",
              "      <td>1.720434</td>\n",
              "      <td>1.732078</td>\n",
              "      <td>1.732078</td>\n",
              "    </tr>\n",
              "    <tr>\n",
              "      <th>District 12</th>\n",
              "      <td>51.0</td>\n",
              "      <td>1.720434</td>\n",
              "      <td>0.000000e+00</td>\n",
              "      <td>1.720434</td>\n",
              "      <td>1.720434</td>\n",
              "      <td>1.720434</td>\n",
              "      <td>1.720434</td>\n",
              "      <td>1.720434</td>\n",
              "    </tr>\n",
              "    <tr>\n",
              "      <th>District 11</th>\n",
              "      <td>61.0</td>\n",
              "      <td>1.720434</td>\n",
              "      <td>6.716620e-16</td>\n",
              "      <td>1.720434</td>\n",
              "      <td>1.720434</td>\n",
              "      <td>1.720434</td>\n",
              "      <td>1.720434</td>\n",
              "      <td>1.720434</td>\n",
              "    </tr>\n",
              "    <tr>\n",
              "      <th>District 9</th>\n",
              "      <td>50.0</td>\n",
              "      <td>1.723927</td>\n",
              "      <td>5.390049e-03</td>\n",
              "      <td>1.720434</td>\n",
              "      <td>1.720434</td>\n",
              "      <td>1.720434</td>\n",
              "      <td>1.732078</td>\n",
              "      <td>1.732078</td>\n",
              "    </tr>\n",
              "    <tr>\n",
              "      <th>District 5</th>\n",
              "      <td>817.0</td>\n",
              "      <td>1.732078</td>\n",
              "      <td>1.777445e-14</td>\n",
              "      <td>1.732078</td>\n",
              "      <td>1.732078</td>\n",
              "      <td>1.732078</td>\n",
              "      <td>1.732078</td>\n",
              "      <td>1.732078</td>\n",
              "    </tr>\n",
              "    <tr>\n",
              "      <th>District 6</th>\n",
              "      <td>575.0</td>\n",
              "      <td>1.732078</td>\n",
              "      <td>1.111190e-14</td>\n",
              "      <td>1.732078</td>\n",
              "      <td>1.732078</td>\n",
              "      <td>1.732078</td>\n",
              "      <td>1.732078</td>\n",
              "      <td>1.732078</td>\n",
              "    </tr>\n",
              "    <tr>\n",
              "      <th>District 7</th>\n",
              "      <td>266.0</td>\n",
              "      <td>1.731903</td>\n",
              "      <td>1.419754e-03</td>\n",
              "      <td>1.720434</td>\n",
              "      <td>1.732078</td>\n",
              "      <td>1.732078</td>\n",
              "      <td>1.732078</td>\n",
              "      <td>1.732078</td>\n",
              "    </tr>\n",
              "    <tr>\n",
              "      <th>District 1</th>\n",
              "      <td>73.0</td>\n",
              "      <td>1.712571</td>\n",
              "      <td>2.226133e-02</td>\n",
              "      <td>1.683790</td>\n",
              "      <td>1.688699</td>\n",
              "      <td>1.732078</td>\n",
              "      <td>1.732078</td>\n",
              "      <td>1.732078</td>\n",
              "    </tr>\n",
              "    <tr>\n",
              "      <th>District 8</th>\n",
              "      <td>176.0</td>\n",
              "      <td>1.732078</td>\n",
              "      <td>6.680343e-16</td>\n",
              "      <td>1.732078</td>\n",
              "      <td>1.732078</td>\n",
              "      <td>1.732078</td>\n",
              "      <td>1.732078</td>\n",
              "      <td>1.732078</td>\n",
              "    </tr>\n",
              "    <tr>\n",
              "      <th>District 24</th>\n",
              "      <td>126.0</td>\n",
              "      <td>1.732078</td>\n",
              "      <td>3.343965e-15</td>\n",
              "      <td>1.732078</td>\n",
              "      <td>1.732078</td>\n",
              "      <td>1.732078</td>\n",
              "      <td>1.732078</td>\n",
              "      <td>1.732078</td>\n",
              "    </tr>\n",
              "    <tr>\n",
              "      <th>District 21</th>\n",
              "      <td>921.0</td>\n",
              "      <td>1.732078</td>\n",
              "      <td>1.955054e-14</td>\n",
              "      <td>1.732078</td>\n",
              "      <td>1.732078</td>\n",
              "      <td>1.732078</td>\n",
              "      <td>1.732078</td>\n",
              "      <td>1.732078</td>\n",
              "    </tr>\n",
              "    <tr>\n",
              "      <th>District 20</th>\n",
              "      <td>208.0</td>\n",
              "      <td>1.732078</td>\n",
              "      <td>4.229026e-15</td>\n",
              "      <td>1.732078</td>\n",
              "      <td>1.732078</td>\n",
              "      <td>1.732078</td>\n",
              "      <td>1.732078</td>\n",
              "      <td>1.732078</td>\n",
              "    </tr>\n",
              "    <tr>\n",
              "      <th>District 2</th>\n",
              "      <td>364.0</td>\n",
              "      <td>1.732078</td>\n",
              "      <td>1.778802e-15</td>\n",
              "      <td>1.732078</td>\n",
              "      <td>1.732078</td>\n",
              "      <td>1.732078</td>\n",
              "      <td>1.732078</td>\n",
              "      <td>1.732078</td>\n",
              "    </tr>\n",
              "    <tr>\n",
              "      <th>District 19</th>\n",
              "      <td>1991.0</td>\n",
              "      <td>1.732078</td>\n",
              "      <td>6.529751e-14</td>\n",
              "      <td>1.732078</td>\n",
              "      <td>1.732078</td>\n",
              "      <td>1.732078</td>\n",
              "      <td>1.732078</td>\n",
              "      <td>1.732078</td>\n",
              "    </tr>\n",
              "    <tr>\n",
              "      <th>District 18</th>\n",
              "      <td>243.0</td>\n",
              "      <td>1.732078</td>\n",
              "      <td>6.897590e-15</td>\n",
              "      <td>1.732078</td>\n",
              "      <td>1.732078</td>\n",
              "      <td>1.732078</td>\n",
              "      <td>1.732078</td>\n",
              "      <td>1.732078</td>\n",
              "    </tr>\n",
              "    <tr>\n",
              "      <th>District 17</th>\n",
              "      <td>945.0</td>\n",
              "      <td>1.732078</td>\n",
              "      <td>1.977243e-14</td>\n",
              "      <td>1.732078</td>\n",
              "      <td>1.732078</td>\n",
              "      <td>1.732078</td>\n",
              "      <td>1.732078</td>\n",
              "      <td>1.732078</td>\n",
              "    </tr>\n",
              "    <tr>\n",
              "      <th>District 16</th>\n",
              "      <td>185.0</td>\n",
              "      <td>1.726324</td>\n",
              "      <td>1.366074e-02</td>\n",
              "      <td>1.694064</td>\n",
              "      <td>1.732078</td>\n",
              "      <td>1.732078</td>\n",
              "      <td>1.732078</td>\n",
              "      <td>1.732078</td>\n",
              "    </tr>\n",
              "    <tr>\n",
              "      <th>District 15</th>\n",
              "      <td>631.0</td>\n",
              "      <td>1.728147</td>\n",
              "      <td>5.510475e-03</td>\n",
              "      <td>1.720434</td>\n",
              "      <td>1.720434</td>\n",
              "      <td>1.732078</td>\n",
              "      <td>1.732078</td>\n",
              "      <td>1.732078</td>\n",
              "    </tr>\n",
              "    <tr>\n",
              "      <th>District 3</th>\n",
              "      <td>68.0</td>\n",
              "      <td>1.728250</td>\n",
              "      <td>1.239536e-02</td>\n",
              "      <td>1.688699</td>\n",
              "      <td>1.732078</td>\n",
              "      <td>1.732078</td>\n",
              "      <td>1.732078</td>\n",
              "      <td>1.732078</td>\n",
              "    </tr>\n",
              "    <tr>\n",
              "      <th>District 25</th>\n",
              "      <td>57.0</td>\n",
              "      <td>1.724742</td>\n",
              "      <td>1.513505e-02</td>\n",
              "      <td>1.694064</td>\n",
              "      <td>1.732078</td>\n",
              "      <td>1.732078</td>\n",
              "      <td>1.732078</td>\n",
              "      <td>1.732078</td>\n",
              "    </tr>\n",
              "  </tbody>\n",
              "</table>\n",
              "</div>"
            ],
            "text/plain": [
              "                         count      mean           std       min       25%  \\\n",
              "neighbourhood_cleansed                                                       \n",
              "District 35               23.0  1.671640  9.738102e-03  1.665982  1.665982   \n",
              "District 22               20.0  1.670320  8.901182e-03  1.665982  1.665982   \n",
              "District 10               32.0  1.699308  1.847550e-02  1.688699  1.688699   \n",
              "District 27               41.0  1.694064  8.992121e-16  1.694064  1.694064   \n",
              "District 26               65.0  1.695234  6.615745e-03  1.694064  1.694064   \n",
              "District 30               30.0  1.696084  3.139201e-03  1.694064  1.694064   \n",
              "District 23               21.0  1.707377  2.334704e-02  1.665982  1.694064   \n",
              "District 4                32.0  1.694064  1.127988e-15  1.694064  1.694064   \n",
              "District 34               17.0  1.698536  1.262456e-02  1.694064  1.694064   \n",
              "District 31               24.0  1.699115  2.979135e-03  1.694064  1.699115   \n",
              "District 32                5.0  1.700799  0.000000e+00  1.700799  1.700799   \n",
              "District 33               21.0  1.702669  5.905973e-03  1.700799  1.700799   \n",
              "District 29               54.0  1.702981  6.228533e-03  1.700799  1.700799   \n",
              "District 28               24.0  1.700799  9.072812e-16  1.700799  1.700799   \n",
              "District 14               61.0  1.720434  6.716620e-16  1.720434  1.720434   \n",
              "District 13              105.0  1.724793  6.161742e-03  1.700799  1.720434   \n",
              "District 12               51.0  1.720434  0.000000e+00  1.720434  1.720434   \n",
              "District 11               61.0  1.720434  6.716620e-16  1.720434  1.720434   \n",
              "District 9                50.0  1.723927  5.390049e-03  1.720434  1.720434   \n",
              "District 5               817.0  1.732078  1.777445e-14  1.732078  1.732078   \n",
              "District 6               575.0  1.732078  1.111190e-14  1.732078  1.732078   \n",
              "District 7               266.0  1.731903  1.419754e-03  1.720434  1.732078   \n",
              "District 1                73.0  1.712571  2.226133e-02  1.683790  1.688699   \n",
              "District 8               176.0  1.732078  6.680343e-16  1.732078  1.732078   \n",
              "District 24              126.0  1.732078  3.343965e-15  1.732078  1.732078   \n",
              "District 21              921.0  1.732078  1.955054e-14  1.732078  1.732078   \n",
              "District 20              208.0  1.732078  4.229026e-15  1.732078  1.732078   \n",
              "District 2               364.0  1.732078  1.778802e-15  1.732078  1.732078   \n",
              "District 19             1991.0  1.732078  6.529751e-14  1.732078  1.732078   \n",
              "District 18              243.0  1.732078  6.897590e-15  1.732078  1.732078   \n",
              "District 17              945.0  1.732078  1.977243e-14  1.732078  1.732078   \n",
              "District 16              185.0  1.726324  1.366074e-02  1.694064  1.732078   \n",
              "District 15              631.0  1.728147  5.510475e-03  1.720434  1.720434   \n",
              "District 3                68.0  1.728250  1.239536e-02  1.688699  1.732078   \n",
              "District 25               57.0  1.724742  1.513505e-02  1.694064  1.732078   \n",
              "\n",
              "                             50%       75%       max  \n",
              "neighbourhood_cleansed                                \n",
              "District 35             1.665982  1.676826  1.687671  \n",
              "District 22             1.665982  1.665982  1.687671  \n",
              "District 10             1.688699  1.697403  1.732078  \n",
              "District 27             1.694064  1.694064  1.694064  \n",
              "District 26             1.694064  1.694064  1.732078  \n",
              "District 30             1.694064  1.700799  1.700799  \n",
              "District 23             1.694064  1.732078  1.732078  \n",
              "District 4              1.694064  1.694064  1.694064  \n",
              "District 34             1.694064  1.694064  1.732078  \n",
              "District 31             1.700799  1.700799  1.700799  \n",
              "District 32             1.700799  1.700799  1.700799  \n",
              "District 33             1.700799  1.700799  1.720434  \n",
              "District 29             1.700799  1.700799  1.720434  \n",
              "District 28             1.700799  1.700799  1.700799  \n",
              "District 14             1.720434  1.720434  1.720434  \n",
              "District 13             1.720434  1.732078  1.732078  \n",
              "District 12             1.720434  1.720434  1.720434  \n",
              "District 11             1.720434  1.720434  1.720434  \n",
              "District 9              1.720434  1.732078  1.732078  \n",
              "District 5              1.732078  1.732078  1.732078  \n",
              "District 6              1.732078  1.732078  1.732078  \n",
              "District 7              1.732078  1.732078  1.732078  \n",
              "District 1              1.732078  1.732078  1.732078  \n",
              "District 8              1.732078  1.732078  1.732078  \n",
              "District 24             1.732078  1.732078  1.732078  \n",
              "District 21             1.732078  1.732078  1.732078  \n",
              "District 20             1.732078  1.732078  1.732078  \n",
              "District 2              1.732078  1.732078  1.732078  \n",
              "District 19             1.732078  1.732078  1.732078  \n",
              "District 18             1.732078  1.732078  1.732078  \n",
              "District 17             1.732078  1.732078  1.732078  \n",
              "District 16             1.732078  1.732078  1.732078  \n",
              "District 15             1.732078  1.732078  1.732078  \n",
              "District 3              1.732078  1.732078  1.732078  \n",
              "District 25             1.732078  1.732078  1.732078  "
            ]
          },
          "execution_count": 32,
          "metadata": {},
          "output_type": "execute_result"
        }
      ],
      "source": [
        "# replace with the code to examine a different descriptive stat for observation 2\n",
        "df2.groupby('neighbourhood_cleansed')['avg_air_quality'].describe().sort_values(by='50%', ascending=True)\n",
        "# df2.head()"
      ]
    },
    {
      "cell_type": "markdown",
      "metadata": {
        "id": "7dWw73QSf1mH"
      },
      "source": [
        "List the specific descriptive statistic you're observing, and indicate why Aggie Investments would find that observation interesting:\n"
      ]
    },
    {
      "cell_type": "markdown",
      "metadata": {
        "id": "cb47UX5Ndcn0"
      },
      "source": [
        "### **5 - Observation 3**"
      ]
    },
    {
      "cell_type": "code",
      "execution_count": 27,
      "metadata": {
        "id": "gsj36yVJdcn1"
      },
      "outputs": [
        {
          "data": {
            "text/html": [
              "<div>\n",
              "<style scoped>\n",
              "    .dataframe tbody tr th:only-of-type {\n",
              "        vertical-align: middle;\n",
              "    }\n",
              "\n",
              "    .dataframe tbody tr th {\n",
              "        vertical-align: top;\n",
              "    }\n",
              "\n",
              "    .dataframe thead th {\n",
              "        text-align: right;\n",
              "    }\n",
              "</style>\n",
              "<table border=\"1\" class=\"dataframe\">\n",
              "  <thead>\n",
              "    <tr style=\"text-align: right;\">\n",
              "      <th></th>\n",
              "      <th>count</th>\n",
              "      <th>mean</th>\n",
              "      <th>std</th>\n",
              "      <th>min</th>\n",
              "      <th>25%</th>\n",
              "      <th>50%</th>\n",
              "      <th>75%</th>\n",
              "      <th>max</th>\n",
              "    </tr>\n",
              "    <tr>\n",
              "      <th>bedrooms</th>\n",
              "      <th></th>\n",
              "      <th></th>\n",
              "      <th></th>\n",
              "      <th></th>\n",
              "      <th></th>\n",
              "      <th></th>\n",
              "      <th></th>\n",
              "      <th></th>\n",
              "    </tr>\n",
              "  </thead>\n",
              "  <tbody>\n",
              "    <tr>\n",
              "      <th>0.0</th>\n",
              "      <td>342.0</td>\n",
              "      <td>4.787222</td>\n",
              "      <td>0.294229</td>\n",
              "      <td>3.00</td>\n",
              "      <td>4.7000</td>\n",
              "      <td>4.875</td>\n",
              "      <td>4.9800</td>\n",
              "      <td>5.00</td>\n",
              "    </tr>\n",
              "    <tr>\n",
              "      <th>1.0</th>\n",
              "      <td>2456.0</td>\n",
              "      <td>4.787997</td>\n",
              "      <td>0.395796</td>\n",
              "      <td>1.00</td>\n",
              "      <td>4.7600</td>\n",
              "      <td>4.900</td>\n",
              "      <td>4.9800</td>\n",
              "      <td>5.00</td>\n",
              "    </tr>\n",
              "    <tr>\n",
              "      <th>2.0</th>\n",
              "      <td>1837.0</td>\n",
              "      <td>4.815084</td>\n",
              "      <td>0.269954</td>\n",
              "      <td>1.00</td>\n",
              "      <td>4.7600</td>\n",
              "      <td>4.890</td>\n",
              "      <td>4.9700</td>\n",
              "      <td>5.00</td>\n",
              "    </tr>\n",
              "    <tr>\n",
              "      <th>3.0</th>\n",
              "      <td>1593.0</td>\n",
              "      <td>4.844350</td>\n",
              "      <td>0.229596</td>\n",
              "      <td>3.00</td>\n",
              "      <td>4.8000</td>\n",
              "      <td>4.910</td>\n",
              "      <td>4.9800</td>\n",
              "      <td>5.00</td>\n",
              "    </tr>\n",
              "    <tr>\n",
              "      <th>4.0</th>\n",
              "      <td>1482.0</td>\n",
              "      <td>4.856255</td>\n",
              "      <td>0.225653</td>\n",
              "      <td>2.00</td>\n",
              "      <td>4.8100</td>\n",
              "      <td>4.910</td>\n",
              "      <td>4.9900</td>\n",
              "      <td>5.00</td>\n",
              "    </tr>\n",
              "    <tr>\n",
              "      <th>5.0</th>\n",
              "      <td>68.0</td>\n",
              "      <td>4.860147</td>\n",
              "      <td>0.261068</td>\n",
              "      <td>3.00</td>\n",
              "      <td>4.8500</td>\n",
              "      <td>4.900</td>\n",
              "      <td>5.0000</td>\n",
              "      <td>5.00</td>\n",
              "    </tr>\n",
              "    <tr>\n",
              "      <th>6.0</th>\n",
              "      <td>53.0</td>\n",
              "      <td>4.860189</td>\n",
              "      <td>0.188634</td>\n",
              "      <td>4.09</td>\n",
              "      <td>4.8000</td>\n",
              "      <td>4.920</td>\n",
              "      <td>5.0000</td>\n",
              "      <td>5.00</td>\n",
              "    </tr>\n",
              "    <tr>\n",
              "      <th>7.0</th>\n",
              "      <td>6.0</td>\n",
              "      <td>4.895000</td>\n",
              "      <td>0.124056</td>\n",
              "      <td>4.67</td>\n",
              "      <td>4.8625</td>\n",
              "      <td>4.930</td>\n",
              "      <td>4.9825</td>\n",
              "      <td>5.00</td>\n",
              "    </tr>\n",
              "    <tr>\n",
              "      <th>8.0</th>\n",
              "      <td>35.0</td>\n",
              "      <td>4.868000</td>\n",
              "      <td>0.124730</td>\n",
              "      <td>4.57</td>\n",
              "      <td>4.8000</td>\n",
              "      <td>4.890</td>\n",
              "      <td>4.9750</td>\n",
              "      <td>5.00</td>\n",
              "    </tr>\n",
              "    <tr>\n",
              "      <th>9.0</th>\n",
              "      <td>2.0</td>\n",
              "      <td>4.610000</td>\n",
              "      <td>0.084853</td>\n",
              "      <td>4.55</td>\n",
              "      <td>4.5800</td>\n",
              "      <td>4.610</td>\n",
              "      <td>4.6400</td>\n",
              "      <td>4.67</td>\n",
              "    </tr>\n",
              "    <tr>\n",
              "      <th>10.0</th>\n",
              "      <td>0.0</td>\n",
              "      <td>NaN</td>\n",
              "      <td>NaN</td>\n",
              "      <td>NaN</td>\n",
              "      <td>NaN</td>\n",
              "      <td>NaN</td>\n",
              "      <td>NaN</td>\n",
              "      <td>NaN</td>\n",
              "    </tr>\n",
              "    <tr>\n",
              "      <th>11.0</th>\n",
              "      <td>1.0</td>\n",
              "      <td>5.000000</td>\n",
              "      <td>NaN</td>\n",
              "      <td>5.00</td>\n",
              "      <td>5.0000</td>\n",
              "      <td>5.000</td>\n",
              "      <td>5.0000</td>\n",
              "      <td>5.00</td>\n",
              "    </tr>\n",
              "    <tr>\n",
              "      <th>12.0</th>\n",
              "      <td>4.0</td>\n",
              "      <td>4.897500</td>\n",
              "      <td>0.156285</td>\n",
              "      <td>4.67</td>\n",
              "      <td>4.8575</td>\n",
              "      <td>4.960</td>\n",
              "      <td>5.0000</td>\n",
              "      <td>5.00</td>\n",
              "    </tr>\n",
              "    <tr>\n",
              "      <th>13.0</th>\n",
              "      <td>1.0</td>\n",
              "      <td>5.000000</td>\n",
              "      <td>NaN</td>\n",
              "      <td>5.00</td>\n",
              "      <td>5.0000</td>\n",
              "      <td>5.000</td>\n",
              "      <td>5.0000</td>\n",
              "      <td>5.00</td>\n",
              "    </tr>\n",
              "    <tr>\n",
              "      <th>14.0</th>\n",
              "      <td>2.0</td>\n",
              "      <td>5.000000</td>\n",
              "      <td>0.000000</td>\n",
              "      <td>5.00</td>\n",
              "      <td>5.0000</td>\n",
              "      <td>5.000</td>\n",
              "      <td>5.0000</td>\n",
              "      <td>5.00</td>\n",
              "    </tr>\n",
              "    <tr>\n",
              "      <th>15.0</th>\n",
              "      <td>1.0</td>\n",
              "      <td>5.000000</td>\n",
              "      <td>NaN</td>\n",
              "      <td>5.00</td>\n",
              "      <td>5.0000</td>\n",
              "      <td>5.000</td>\n",
              "      <td>5.0000</td>\n",
              "      <td>5.00</td>\n",
              "    </tr>\n",
              "    <tr>\n",
              "      <th>16.0</th>\n",
              "      <td>5.0</td>\n",
              "      <td>4.900000</td>\n",
              "      <td>0.223607</td>\n",
              "      <td>4.50</td>\n",
              "      <td>5.0000</td>\n",
              "      <td>5.000</td>\n",
              "      <td>5.0000</td>\n",
              "      <td>5.00</td>\n",
              "    </tr>\n",
              "    <tr>\n",
              "      <th>18.0</th>\n",
              "      <td>1.0</td>\n",
              "      <td>5.000000</td>\n",
              "      <td>NaN</td>\n",
              "      <td>5.00</td>\n",
              "      <td>5.0000</td>\n",
              "      <td>5.000</td>\n",
              "      <td>5.0000</td>\n",
              "      <td>5.00</td>\n",
              "    </tr>\n",
              "  </tbody>\n",
              "</table>\n",
              "</div>"
            ],
            "text/plain": [
              "           count      mean       std   min     25%    50%     75%   max\n",
              "bedrooms                                                               \n",
              "0.0        342.0  4.787222  0.294229  3.00  4.7000  4.875  4.9800  5.00\n",
              "1.0       2456.0  4.787997  0.395796  1.00  4.7600  4.900  4.9800  5.00\n",
              "2.0       1837.0  4.815084  0.269954  1.00  4.7600  4.890  4.9700  5.00\n",
              "3.0       1593.0  4.844350  0.229596  3.00  4.8000  4.910  4.9800  5.00\n",
              "4.0       1482.0  4.856255  0.225653  2.00  4.8100  4.910  4.9900  5.00\n",
              "5.0         68.0  4.860147  0.261068  3.00  4.8500  4.900  5.0000  5.00\n",
              "6.0         53.0  4.860189  0.188634  4.09  4.8000  4.920  5.0000  5.00\n",
              "7.0          6.0  4.895000  0.124056  4.67  4.8625  4.930  4.9825  5.00\n",
              "8.0         35.0  4.868000  0.124730  4.57  4.8000  4.890  4.9750  5.00\n",
              "9.0          2.0  4.610000  0.084853  4.55  4.5800  4.610  4.6400  4.67\n",
              "10.0         0.0       NaN       NaN   NaN     NaN    NaN     NaN   NaN\n",
              "11.0         1.0  5.000000       NaN  5.00  5.0000  5.000  5.0000  5.00\n",
              "12.0         4.0  4.897500  0.156285  4.67  4.8575  4.960  5.0000  5.00\n",
              "13.0         1.0  5.000000       NaN  5.00  5.0000  5.000  5.0000  5.00\n",
              "14.0         2.0  5.000000  0.000000  5.00  5.0000  5.000  5.0000  5.00\n",
              "15.0         1.0  5.000000       NaN  5.00  5.0000  5.000  5.0000  5.00\n",
              "16.0         5.0  4.900000  0.223607  4.50  5.0000  5.000  5.0000  5.00\n",
              "18.0         1.0  5.000000       NaN  5.00  5.0000  5.000  5.0000  5.00"
            ]
          },
          "execution_count": 27,
          "metadata": {},
          "output_type": "execute_result"
        }
      ],
      "source": [
        "# replace with the code to examine a different descriptive stat for observation 3\n",
        "df2.groupby('bedrooms')['review_scores_rating'].describe()\n",
        "# do see some bad data in this dataset still below... needs further investigation.\n",
        "# df2.head()"
      ]
    },
    {
      "cell_type": "markdown",
      "metadata": {
        "id": "ebVOQ0bff2A_"
      },
      "source": [
        "List the specific descriptive statistic you're observing, and indicate why Aggie Investments would find that observation interesting:\n"
      ]
    },
    {
      "cell_type": "markdown",
      "metadata": {},
      "source": [
        "Shorter term rentals (under 2 days) have substantially more reviews and stays than longer term properties.  There is a significant fall off after just 2 days, with after the 3 accounting for very few reviews.\n",
        "\n",
        "\n",
        "Air quality\n",
        "district 22, 35, 4, 27, 26, and 10 have the worst air quality\n",
        "\n",
        "Larger properties have higher reviews but have a smaller sample, it is likely that there is not a correlation between bedrooms and customer reviews.\n",
        "\n",
        "For neighborhoods:\n",
        "    avoid districts 32, 13, 30, 21, 19, 12 by median\n",
        "    avoid districts 32, 13, 15, 22, 2, 21 by mean\n",
        "    Lets avoid 32, 13, and 21"
      ]
    },
    {
      "cell_type": "markdown",
      "metadata": {
        "id": "NsluLSbuC4VA"
      },
      "source": [
        "### **6) Hypothesis**\n",
        "\n",
        "Take two observations from above and provide a hypothesis for each as to the reason these patterns may exist. Note which observations you are referring to and provide a logical hypothesis for each."
      ]
    },
    {
      "cell_type": "markdown",
      "metadata": {
        "id": "cnuwUnCiDKHw"
      },
      "source": [
        "* **Hypothesis 1:**  Observation 1 - Individuals want more shorter term rentals and are more likely to provide a review.  This likely could be due to the platform that they are booked on, if these are booked on a platform based around short term rentals it could be the cause for the higher quantity of reviews. \n",
        "* **Hypothesis 2:** Observation 3 - Buildings with a lower quantity of rooms are booked more often.  After 4 bedrooms there is a significant fall off in reviews and bookings.  This is likely due to individuals not needing that many rooms."
      ]
    },
    {
      "cell_type": "markdown",
      "metadata": {
        "id": "i7WoY-wEeRwC"
      },
      "source": [
        "## **Part 2: Data Visualizations**\n",
        "\n",
        "The next phase in our data analysis involves constructing data visualizations to deepen our understanding of the dataset. You are required to create three distinct data visualizations, ensuring that each one represents a different type of visualization.\n",
        "\n",
        "**These visualizations should reflect either the above observations or hypotheses you provided.** Use this as an opportunity to produce a visual story that sheds light on/communicates a critical observation for Aggie Investments or highlights a hypothesis that is worth exploring further (in a subsequent analysis).\n",
        "\n",
        "You may use existing categories within the dataset or generate new categories from numerical variables. **After each visualization, provide a detailed interpretation of the insights it reveals and discuss how these insights could be leveraged in formulating our recommendations to Aggie Investments.**"
      ]
    },
    {
      "cell_type": "markdown",
      "metadata": {
        "id": "ts7V0p_-eRwD"
      },
      "source": [
        "### **7 - Visualization 1** - should support above observations or hypothesis"
      ]
    },
    {
      "cell_type": "code",
      "execution_count": null,
      "metadata": {
        "id": "XpJFHZVqeRwD"
      },
      "outputs": [
        {
          "data": {
            "text/plain": [
              "<Axes: title={'center': 'Quantity of Bedrooms'}>"
            ]
          },
          "execution_count": 33,
          "metadata": {},
          "output_type": "execute_result"
        },
        {
          "data": {
            "image/png": "[encoded data removed]",
            "text/plain": [
              "<Figure size 640x480 with 1 Axes>"
            ]
          },
          "metadata": {},
          "output_type": "display_data"
        }
      ],
      "source": [
        "# replace with the code used for visualization 1\n",
        "df2['bedrooms'].plot(kind='box', color='skyblue', title=\"Quantity of Bedrooms\")"
      ]
    },
    {
      "cell_type": "markdown",
      "metadata": {
        "id": "J56iaNfefoix"
      },
      "source": [
        "**Insights:**\n"
      ]
    },
    {
      "cell_type": "markdown",
      "metadata": {
        "id": "OBMgnHcTeRwE"
      },
      "source": [
        "### **8 - Visualization 2** - should support above observations or hypothesis"
      ]
    },
    {
      "cell_type": "code",
      "execution_count": null,
      "metadata": {
        "id": "jfl8kKg4eRwE"
      },
      "outputs": [
        {
          "data": {
            "text/plain": [
              "<Axes: title={'center': 'bedrooms to reviews rating'}, xlabel='review_scores_rating', ylabel='minimum_nights'>"
            ]
          },
          "execution_count": 35,
          "metadata": {},
          "output_type": "execute_result"
        },
        {
          "data": {
            "image/png": "[encoded data removed]",
            "text/plain": [
              "<Figure size 800x600 with 1 Axes>"
            ]
          },
          "metadata": {},
          "output_type": "display_data"
        }
      ],
      "source": [
        "# replace with the code used for visualization 2\n",
        "df2.plot(kind='scatter', \n",
        "        x='review_scores_rating',\n",
        "         y='minimum_nights', \n",
        "         color='skyblue', \n",
        "         figsize=(8, 6),\n",
        "         title=\"bedrooms to reviews rating\"\n",
        "         )"
      ]
    },
    {
      "cell_type": "markdown",
      "metadata": {
        "id": "XhEPMduBfv8V"
      },
      "source": [
        "**Insights:**"
      ]
    },
    {
      "cell_type": "markdown",
      "metadata": {
        "id": "FRv73WcneRwE"
      },
      "source": [
        "### **9 - Visualization 3** - should support above observations or hypothesis"
      ]
    },
    {
      "cell_type": "code",
      "execution_count": 36,
      "metadata": {},
      "outputs": [
        {
          "data": {
            "text/plain": [
              "Index(['id', 'host_id', 'host_is_superhost', 'calculated_host_listings_count',\n",
              "       'host_has_profile_pic', 'host_identity_verified', 'host_listings_count',\n",
              "       'neighbourhood_cleansed', 'availability_365', 'minimum_nights',\n",
              "       'room_type', 'accommodates', 'bedrooms', 'beds', 'price',\n",
              "       'number_of_reviews', 'reviews_per_month', 'review_scores_rating',\n",
              "       'review_scores_accuracy', 'review_scores_cleanliness',\n",
              "       'review_scores_checkin', 'review_scores_communication',\n",
              "       'review_scores_location', 'review_scores_value', 'avg_air_quality',\n",
              "       'days_as_host', 'bathrooms', 'short_term'],\n",
              "      dtype='object')"
            ]
          },
          "execution_count": 36,
          "metadata": {},
          "output_type": "execute_result"
        }
      ],
      "source": [
        "df2.columns"
      ]
    },
    {
      "cell_type": "code",
      "execution_count": 41,
      "metadata": {
        "id": "P1yM_-4leRwE"
      },
      "outputs": [
        {
          "data": {
            "text/plain": [
              "<Axes: title={'center': 'bedrooms to accommodates'}, ylabel='Frequency'>"
            ]
          },
          "execution_count": 41,
          "metadata": {},
          "output_type": "execute_result"
        },
        {
          "data": {
            "image/png": "[encoded data removed]",
            "text/plain": [
              "<Figure size 800x600 with 1 Axes>"
            ]
          },
          "metadata": {},
          "output_type": "display_data"
        }
      ],
      "source": [
        "# replace with the code used for visualization 3\n",
        "df2.plot(kind='hist', \n",
        "        x='bedrooms',\n",
        "         y='accommodates', \n",
        "         color='skyblue', \n",
        "         figsize=(8, 6),\n",
        "         title=\"bedrooms to accommodates\"\n",
        "         )\n"
      ]
    },
    {
      "cell_type": "markdown",
      "metadata": {
        "id": "fUZq0DpFfwd3"
      },
      "source": [
        "**Insights:**"
      ]
    },
    {
      "cell_type": "markdown",
      "metadata": {
        "id": "BL09S2Qtf7U3"
      },
      "source": [
        "## **Part 3: Outliers \\& Missing Data**\n",
        "\n",
        "\n",
        "\n"
      ]
    },
    {
      "cell_type": "markdown",
      "metadata": {
        "id": "EvjpTzw50Kfh"
      },
      "source": [
        "\n",
        "### **Addressing Missing Data**\n",
        "\n",
        "In this section you will focus on identifying and addressing missing data within our Airbnb listing dataset. Begin by conducting a thorough analysis to identify any missing values across the dataset. Once identified, discuss the potential impact of these missing values on our analysis and the validity of our findings.\n",
        "\n",
        "Next, apply appropriate techniques to handle the missing data. You may choose methods such as imputation, deletion, or any other technique that best suits the nature of the data and the context of the analysis. Justify your chosen approach, explaining why it is the most suitable for this dataset. Finally, document the steps taken and reflect on how your handling of missing data will influence the overall analysis and recommendations to Aggie Investments.\n",
        "\n",
        "*If you need a reminder on approaches for identifying and handling missing values and outliers, revisit the Outliers and Missing Data module*"
      ]
    },
    {
      "cell_type": "markdown",
      "metadata": {
        "id": "OSOuJAikgtgO"
      },
      "source": [
        "**10) First, create a Heatmap of Missing Values within the Dataset:**"
      ]
    },
    {
      "cell_type": "code",
      "execution_count": null,
      "metadata": {
        "id": "ay6xep_Vgz05"
      },
      "outputs": [],
      "source": [
        "# replace with code to produce heatmap of missing (and non missing) data\n"
      ]
    },
    {
      "cell_type": "markdown",
      "metadata": {
        "id": "EnAQ9kqehEFg"
      },
      "source": [
        "**11) List which variables within the dataset contain missing values, as well as the percentage of data that is missing for that variable. *Hint: If there are any groupings of similar missing variables that share the same proportion of misisng data, you can list them as one group, instead of all individually*.**\n",
        "\n"
      ]
    },
    {
      "cell_type": "code",
      "execution_count": null,
      "metadata": {
        "id": "XCxu78Gd-CWi"
      },
      "outputs": [],
      "source": [
        "# fill in the variable(s) you want to examine the missing values of\n",
        "percent_missing = df2['insert var'].isnull().sum() * 100 / len(df2['insert same var'])\n",
        "print(f'{percent_missing:.2f}%')"
      ]
    },
    {
      "cell_type": "markdown",
      "metadata": {
        "id": "BtFhwsl6oFis"
      },
      "source": [
        "* Missing var name and percent missing\n",
        "* Missing var name and percent missing\n",
        "* Missing var name and percent missing\n",
        "\n",
        "\n"
      ]
    },
    {
      "cell_type": "markdown",
      "metadata": {
        "id": "EwEP15gmoNtZ"
      },
      "source": [
        "**12) Are there any variables with complete data (no missing values) that could be related to the missingness seen in the multitude of *review* variables with missing data? If so, what does this indicate about the type of missing data these variables have?**"
      ]
    },
    {
      "cell_type": "markdown",
      "metadata": {
        "id": "6lY51VTwoRdZ"
      },
      "source": []
    },
    {
      "cell_type": "code",
      "execution_count": null,
      "metadata": {
        "id": "87njlHbPpEYs"
      },
      "outputs": [],
      "source": [
        "# replace with code to compare the complete variable against one or more missing variables to confirm your above statement"
      ]
    },
    {
      "cell_type": "markdown",
      "metadata": {
        "id": "GplQTm6SoXbj"
      },
      "source": [
        "**13) Proposed Type of Missing Data:**\n",
        "\n",
        "**Fill in the variables you believe fall under each type of missing data (it's fine if some missing data categories have no variables listed), and then briefly explain below why you think those variables are structurally missing, MCAR, MAR, or MNAR.**\n",
        "\n"
      ]
    },
    {
      "cell_type": "markdown",
      "metadata": {
        "id": "TWakSJeWBhmL"
      },
      "source": [
        "* Structurally Missing Variables:\n",
        "* Missing Completely at Random Variables:\n",
        "* Missing at Random Variables:\n",
        "* Missing not at Random Variables:\n",
        "\n",
        "**Explanation**:"
      ]
    },
    {
      "cell_type": "markdown",
      "metadata": {
        "id": "2MBEpSYjhe-T"
      },
      "source": [
        "**14) Replacing Missing Values:**\n",
        "\n",
        "**Start with the variables that have structurally missing data. What is an acceptable value (or set of values) to fill in for these observations, given that the data are structurally missing?**\n",
        "\n"
      ]
    },
    {
      "cell_type": "markdown",
      "metadata": {
        "id": "uJmJ30lYp5iG"
      },
      "source": []
    },
    {
      "cell_type": "markdown",
      "metadata": {
        "id": "2YpUOEnJHc0E"
      },
      "source": [
        "**15) Based on your explanation above, proceed with filling the missing values for your structurally missing variables below:**"
      ]
    },
    {
      "cell_type": "code",
      "execution_count": null,
      "metadata": {
        "id": "uqCVLl6rjUXD"
      },
      "outputs": [],
      "source": [
        "# replace with code to fill in the missing values in the reviews_per_month column with 0, then check for missing data in that column"
      ]
    },
    {
      "cell_type": "code",
      "execution_count": null,
      "metadata": {
        "id": "CGqwZluNEy6s"
      },
      "outputs": [],
      "source": [
        "# this code can be used to fill in NaNs in all the columns starting with 'review_scores'\n",
        "\n",
        "review_scores_cols = [col for col in df2.columns if col.startswith('review_scores_')]\n",
        "for col in review_scores_cols:\n",
        "  df2[col].fillna('insert value or text label here', inplace=True) # insert the value or text label you'd like to replace NaNs with here"
      ]
    },
    {
      "cell_type": "markdown",
      "metadata": {
        "id": "PT_lDBRqjhOv"
      },
      "source": [
        "**16) Next, address any variables that have data that are MCAR or MAR. What differentiates variables that are missing *completely* at random (MCAR) from those missing at random?**"
      ]
    },
    {
      "cell_type": "markdown",
      "metadata": {
        "id": "WRapvCqFqMcW"
      },
      "source": []
    },
    {
      "cell_type": "markdown",
      "metadata": {
        "id": "zsv6tLxJxZyF"
      },
      "source": [
        "**17) Use the code cells below to investigate any patterns of missingness for variables you think are MAR. *Hint: try plotting the relationship between missingness of the given variables against complete variables you think could influence missingness.***"
      ]
    },
    {
      "cell_type": "code",
      "execution_count": null,
      "metadata": {
        "id": "jpWjpVgOqNPA"
      },
      "outputs": [],
      "source": [
        "\"\"\"replace with code used for plotting missingness of one variable against the values of different complete variables\n",
        "   Here is one example for `price` against `host_has_profile_pic`, you can copy this code into additional code cells to check multiple variables!\"\"\"\n",
        "\n",
        "# Calculate the percentage of missing values in 'price' for each 'host_has_profile_pic' category\n",
        "percentage_missing = df2.groupby('host_has_profile_pic')['price'].apply(lambda x: x.isnull().sum() / len(x) * 100)\n",
        "\n",
        "# Create a bar plot\n",
        "plt.figure(figsize=(10, 6))\n",
        "percentage_missing.plot(kind='bar')\n",
        "plt.xlabel('Does the Host have a Profile Pic?')\n",
        "plt.ylabel('Percentage of Missing Prices')\n",
        "plt.title('Relationship between Host Profile Pic and Missing Prices')\n",
        "plt.xticks(rotation=0)\n",
        "plt.tight_layout()\n",
        "plt.show()"
      ]
    },
    {
      "cell_type": "markdown",
      "metadata": {
        "id": "AW1DVGizyVRW"
      },
      "source": [
        "**18) Can you note any patterns to the missingness of these variables that could further indicate they are MAR?**"
      ]
    },
    {
      "cell_type": "markdown",
      "metadata": {
        "id": "s1oX53z1ykCh"
      },
      "source": [
        "* Notes about Price\n",
        "* Notes about air quality"
      ]
    },
    {
      "cell_type": "markdown",
      "metadata": {
        "id": "6sVeguKVyni4"
      },
      "source": [
        "**19) How should MAR observations be handled? How will you proceed based on your findings above?**"
      ]
    },
    {
      "cell_type": "markdown",
      "metadata": {
        "id": "Kch7NN6tyzqR"
      },
      "source": []
    },
    {
      "cell_type": "markdown",
      "metadata": {
        "id": "roBEv8Ej0_0u"
      },
      "source": [
        "### **Identifying \\& Addressing Outliers for Handling Missing Data**\n",
        "\n",
        "**20) Before we can peform any imputation, let's make sure we don't have outliers first. Note down any variables we will be imputing that also containing outliers below...**\n",
        "\n"
      ]
    },
    {
      "cell_type": "markdown",
      "metadata": {
        "id": "v5_l_Cd491eM"
      },
      "source": [
        "* Var 1...\n",
        "* Var 2..."
      ]
    },
    {
      "cell_type": "code",
      "execution_count": null,
      "metadata": {
        "id": "C0J1Ae2zT-qD"
      },
      "outputs": [],
      "source": [
        "# replace with code to check variables for outliers (via a boxplot)"
      ]
    },
    {
      "cell_type": "markdown",
      "metadata": {
        "id": "F0aDJV9m1fEX"
      },
      "source": [
        "**21) How can you address these outliers before proceeding with handling your missing data values?**"
      ]
    },
    {
      "cell_type": "markdown",
      "metadata": {
        "id": "iwI9e5VI1sl0"
      },
      "source": []
    },
    {
      "cell_type": "code",
      "execution_count": null,
      "metadata": {
        "id": "1dA4VbH51txT"
      },
      "outputs": [],
      "source": [
        "# replace with code to log transform outliers for first variable\n",
        "# replace with code to recheck for outliers via a boxplot"
      ]
    },
    {
      "cell_type": "markdown",
      "metadata": {
        "id": "28TOnU773_v8"
      },
      "source": [
        "**22) Did transforming the variable change the distribution? Is it roughly normal (yes or no), and what does that mean in terms of performing a simple imputation?**"
      ]
    },
    {
      "cell_type": "markdown",
      "metadata": {
        "id": "TLw9SH1T4NYC"
      },
      "source": []
    },
    {
      "cell_type": "markdown",
      "metadata": {
        "id": "9yfiUWsVII6u"
      },
      "source": [
        "**23) Perform Imputation (simple or multiple) for the first variable below:**"
      ]
    },
    {
      "cell_type": "code",
      "execution_count": null,
      "metadata": {
        "id": "_Lx4cIMxy0GG"
      },
      "outputs": [],
      "source": [
        "# replace with code to remove or impute first variable observations with missing data"
      ]
    },
    {
      "cell_type": "markdown",
      "metadata": {
        "id": "bZGJIueLIL0t"
      },
      "source": [
        "**24) Perform Imputation (simple or multiple) for the second variable below:**"
      ]
    },
    {
      "cell_type": "code",
      "execution_count": null,
      "metadata": {
        "id": "TuZWQfm54USH"
      },
      "outputs": [],
      "source": [
        "# repeat with additional variables, consider what type of imputation is appropriate given the data distribution AND patterns of missingness"
      ]
    },
    {
      "cell_type": "markdown",
      "metadata": {
        "id": "EYekDp5rqSeU"
      },
      "source": [
        "**25) Are there any variables that could potentially be MNAR? When data are MNAR, what can be done about it?**"
      ]
    },
    {
      "cell_type": "markdown",
      "metadata": {
        "id": "aKOg83SSqbET"
      },
      "source": []
    },
    {
      "cell_type": "markdown",
      "metadata": {
        "id": "FLOo7yJhjt8w"
      },
      "source": [
        "\n",
        "### **Additional Outliers**\n",
        "\n",
        "**Identify any remaining outliers by using a grid of boxplots. Then, choose two variables with outliers to either transform or discretize. For each variable, explain what step you took and whether the step was successful in addressing the presence (of at least extreme) outliers.**"
      ]
    },
    {
      "cell_type": "markdown",
      "metadata": {
        "id": "m1fPH_Lb9m3i"
      },
      "source": [
        "**26) List the two variables you identified as having outliers that you want to transform/discretize here:**\n",
        "\n",
        "* Var 1\n",
        "* Var 2"
      ]
    },
    {
      "cell_type": "code",
      "execution_count": null,
      "metadata": {
        "id": "rZzTAT0uYqgu"
      },
      "outputs": [],
      "source": [
        "# this code creates a grid of boxplots for the int and float variables\n",
        "\n",
        "# Select numerical columns\n",
        "numerical_cols = df2.select_dtypes(include=['int64', 'float64']).columns\n",
        "\n",
        "# Create a grid of boxplots\n",
        "plt.figure(figsize=(20, 15))\n",
        "for i, col in enumerate(numerical_cols):\n",
        "  plt.subplot(5, 5, i+1)\n",
        "  sns.boxplot(x=df2[col])\n",
        "  plt.title(col)\n",
        "plt.tight_layout()\n",
        "plt.show()"
      ]
    },
    {
      "cell_type": "markdown",
      "metadata": {
        "id": "dVnGmcLb_ikb"
      },
      "source": [
        "**27) Perform a transformation/discretization on your first selected variable below, explain what step you took and whether it has reduced/fixed your outliers for this variable (hint: you can check with a boxplot or histogram to confirm).**"
      ]
    },
    {
      "cell_type": "code",
      "execution_count": null,
      "metadata": {
        "id": "p39u70QAkwX8"
      },
      "outputs": [],
      "source": [
        "# replace with code needed for addressing variable 1 with outliers"
      ]
    },
    {
      "cell_type": "markdown",
      "metadata": {
        "id": "plAno2H9kzow"
      },
      "source": [
        "**Explanation of steps taken and whether the steps worked**:"
      ]
    },
    {
      "cell_type": "markdown",
      "metadata": {
        "id": "KtGOHe1s_n8T"
      },
      "source": [
        "**28) Perform a transformation or discretization on your second selected variable. Explain what step you took and whether it has reduced/fixed your outliers for this variable (hint: you can check with a boxplot or histogram to confirm).**"
      ]
    },
    {
      "cell_type": "code",
      "execution_count": null,
      "metadata": {
        "id": "OiJ__fxVYnWP"
      },
      "outputs": [],
      "source": [
        "# replace with code needed for addressing variable 2 with outliers"
      ]
    },
    {
      "cell_type": "markdown",
      "metadata": {
        "id": "wYtshWPRYp-3"
      },
      "source": [
        "**Explanation of steps taken and whether the steps worked**:"
      ]
    },
    {
      "cell_type": "markdown",
      "metadata": {
        "id": "XhTNtdY_4yYs"
      },
      "source": [
        "### **29) Guiding Next Steps**\n",
        "\n",
        "**You are about to pass off this data for its next steps in modeling. 1) What should the data team know about problems you encountered in the dataset, and how you handled these issues? 2) Are there any unresolved issues they should be aware of? 3) Finally, provide a brief explanation from Parts 1 and 2 regarding interesting observations or hypotheses you noted, that they should continue to explore as they begin modeling.**"
      ]
    },
    {
      "cell_type": "markdown",
      "metadata": {
        "id": "6tBZig065CY_"
      },
      "source": [
        "\n",
        "\n",
        "* 1)   \n",
        "* 2)   \n",
        "* 3)\n",
        "\n"
      ]
    },
    {
      "cell_type": "code",
      "execution_count": null,
      "metadata": {
        "id": "6yXE4YVJ6Rvb"
      },
      "outputs": [],
      "source": [
        "# export your finalized dataset and turn in with your submission!"
      ]
    }
  ],
  "metadata": {
    "colab": {
      "provenance": []
    },
    "kernelspec": {
      "display_name": "base",
      "language": "python",
      "name": "python3"
    },
    "language_info": {
      "codemirror_mode": {
        "name": "ipython",
        "version": 3
      },
      "file_extension": ".py",
      "mimetype": "text/x-python",
      "name": "python",
      "nbconvert_exporter": "python",
      "pygments_lexer": "ipython3",
      "version": "3.12.4"
    }
  },
  "nbformat": 4,
  "nbformat_minor": 0
}

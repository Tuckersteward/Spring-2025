{
  "cells": [
    {
      "cell_type": "markdown",
      "metadata": {
        "id": "Sd5-WFo3rqiV"
      },
      "source": [
        "# ICE: Sources of Data\n",
        "## Name: Cabot Steward\n",
        "## *DATA 3300*\n",
        "\n",
        "In this in-class exercise we will examine different ways that we can source data, beginning with precompiled datasets, followed by web APIs, and then finally we will produce our own dataset from a class survey."
      ]
    },
    {
      "cell_type": "markdown",
      "metadata": {
        "id": "VzLh2EgCrAHH"
      },
      "source": [
        "Whenever I am working on putting together a dataset, I do so with the intention of solving a particular problem or answering a particular question. This will guide what data I need to source!\n",
        "\n",
        "**So, let's say we're starting a Travel Agency business to help individuals plan optimal trips to National Parks, what sort of data might we want to make data-driven recommendations?**"
      ]
    },
    {
      "cell_type": "markdown",
      "metadata": {
        "id": "CU8Pat_zrtnD"
      },
      "source": [
        "*  customer level data - primary data collection - survey\n",
        "*  park level data - secondary data\n",
        "\n"
      ]
    },
    {
      "cell_type": "markdown",
      "metadata": {
        "id": "YxvQIKh15r9x"
      },
      "source": [
        "## **Part A) Primary Data Collection**\n",
        "\n",
        "Surveys are one common way of collecting data, and it can be a helpful way for gathering information from specific individuals. Let's [create a survey](https://docs.google.com/forms/u/0/) with five or so questions we think will help us plan a National Parks Holiday trip!\n",
        "\n",
        "These questions should help us narrow down their preferences around:\n",
        "\n",
        "\n",
        "\n",
        "*   Region of the country to visit\n",
        "*   Preference around traffic\n",
        "*   Type of sites preferred\n",
        "*   Trail activity type preference\n",
        "*   Weather preferences\n",
        "\n"
      ]
    },
    {
      "cell_type": "code",
      "execution_count": 1,
      "metadata": {
        "id": "zDspybiYEPHq"
      },
      "outputs": [],
      "source": [
        "import pandas as pd\n",
        "import requests\n",
        "import matplotlib.pyplot as plt\n",
        "from datetime import datetime, timedelta"
      ]
    },
    {
      "cell_type": "code",
      "execution_count": 2,
      "metadata": {
        "id": "h4uEQurQ6pYL"
      },
      "outputs": [
        {
          "data": {
            "text/html": [
              "<div>\n",
              "<style scoped>\n",
              "    .dataframe tbody tr th:only-of-type {\n",
              "        vertical-align: middle;\n",
              "    }\n",
              "\n",
              "    .dataframe tbody tr th {\n",
              "        vertical-align: top;\n",
              "    }\n",
              "\n",
              "    .dataframe thead th {\n",
              "        text-align: right;\n",
              "    }\n",
              "</style>\n",
              "<table border=\"1\" class=\"dataframe\">\n",
              "  <thead>\n",
              "    <tr style=\"text-align: right;\">\n",
              "      <th></th>\n",
              "      <th>OBJECTID</th>\n",
              "      <th>TRLNAME</th>\n",
              "      <th>TRLALTNAME</th>\n",
              "      <th>MAPLABEL</th>\n",
              "      <th>TRLSTATUS</th>\n",
              "      <th>TRLSURFACE</th>\n",
              "      <th>TRLTYPE</th>\n",
              "      <th>TRLCLASS</th>\n",
              "      <th>TRLUSE</th>\n",
              "      <th>PUBLICDISPLAY</th>\n",
              "      <th>...</th>\n",
              "      <th>ISEXTANT</th>\n",
              "      <th>OPENTOPUBLIC</th>\n",
              "      <th>ALTLANGNAME</th>\n",
              "      <th>ALTLANG</th>\n",
              "      <th>SEASONAL</th>\n",
              "      <th>SEASDESC</th>\n",
              "      <th>MAINTAINER</th>\n",
              "      <th>NOTES</th>\n",
              "      <th>StagingTable</th>\n",
              "      <th>ShapeSTLength</th>\n",
              "    </tr>\n",
              "  </thead>\n",
              "  <tbody>\n",
              "    <tr>\n",
              "      <th>0</th>\n",
              "      <td>1</td>\n",
              "      <td>Jumbo Mine Trail</td>\n",
              "      <td>NaN</td>\n",
              "      <td>Jumbo Mine Trail</td>\n",
              "      <td>Existing</td>\n",
              "      <td>Unknown</td>\n",
              "      <td>Standard Terra Trail</td>\n",
              "      <td>Class 2: Moderately Developed</td>\n",
              "      <td>Hiker/Pedestrian</td>\n",
              "      <td>Public Map Display</td>\n",
              "      <td>...</td>\n",
              "      <td>True</td>\n",
              "      <td>Unknown</td>\n",
              "      <td>NaN</td>\n",
              "      <td>NaN</td>\n",
              "      <td>Unknown</td>\n",
              "      <td>NaN</td>\n",
              "      <td>National Park Service</td>\n",
              "      <td>Multiple  Routes</td>\n",
              "      <td>STAGING_AKR_TRAILS_ALL_20240213004113</td>\n",
              "      <td>0.000682</td>\n",
              "    </tr>\n",
              "    <tr>\n",
              "      <th>1</th>\n",
              "      <td>2</td>\n",
              "      <td>Jumbo Mine Trail</td>\n",
              "      <td>NaN</td>\n",
              "      <td>Jumbo Mine Trail</td>\n",
              "      <td>Existing</td>\n",
              "      <td>Unknown</td>\n",
              "      <td>Standard Terra Trail</td>\n",
              "      <td>Class 2: Moderately Developed</td>\n",
              "      <td>Hiker/Pedestrian</td>\n",
              "      <td>Public Map Display</td>\n",
              "      <td>...</td>\n",
              "      <td>True</td>\n",
              "      <td>Unknown</td>\n",
              "      <td>NaN</td>\n",
              "      <td>NaN</td>\n",
              "      <td>Unknown</td>\n",
              "      <td>NaN</td>\n",
              "      <td>National Park Service</td>\n",
              "      <td>Multiple  Routes</td>\n",
              "      <td>STAGING_AKR_TRAILS_ALL_20240213004113</td>\n",
              "      <td>0.000259</td>\n",
              "    </tr>\n",
              "    <tr>\n",
              "      <th>2</th>\n",
              "      <td>3</td>\n",
              "      <td>Jumbo Mine Trail</td>\n",
              "      <td>NaN</td>\n",
              "      <td>Jumbo Mine Trail</td>\n",
              "      <td>Existing</td>\n",
              "      <td>Unknown</td>\n",
              "      <td>Standard Terra Trail</td>\n",
              "      <td>Class 2: Moderately Developed</td>\n",
              "      <td>Hiker/Pedestrian</td>\n",
              "      <td>Public Map Display</td>\n",
              "      <td>...</td>\n",
              "      <td>True</td>\n",
              "      <td>Unknown</td>\n",
              "      <td>NaN</td>\n",
              "      <td>NaN</td>\n",
              "      <td>Unknown</td>\n",
              "      <td>NaN</td>\n",
              "      <td>National Park Service</td>\n",
              "      <td>Multiple  Routes</td>\n",
              "      <td>STAGING_AKR_TRAILS_ALL_20240213004113</td>\n",
              "      <td>0.000264</td>\n",
              "    </tr>\n",
              "    <tr>\n",
              "      <th>3</th>\n",
              "      <td>4</td>\n",
              "      <td>Jumbo Mine Trail</td>\n",
              "      <td>NaN</td>\n",
              "      <td>Jumbo Mine Trail</td>\n",
              "      <td>Existing</td>\n",
              "      <td>Unknown</td>\n",
              "      <td>Standard Terra Trail</td>\n",
              "      <td>Class 2: Moderately Developed</td>\n",
              "      <td>Hiker/Pedestrian</td>\n",
              "      <td>Public Map Display</td>\n",
              "      <td>...</td>\n",
              "      <td>True</td>\n",
              "      <td>Unknown</td>\n",
              "      <td>NaN</td>\n",
              "      <td>NaN</td>\n",
              "      <td>Unknown</td>\n",
              "      <td>NaN</td>\n",
              "      <td>National Park Service</td>\n",
              "      <td>Multiple  Routes</td>\n",
              "      <td>STAGING_AKR_TRAILS_ALL_20240213004113</td>\n",
              "      <td>0.000934</td>\n",
              "    </tr>\n",
              "    <tr>\n",
              "      <th>4</th>\n",
              "      <td>5</td>\n",
              "      <td>Jumbo Mine Trail</td>\n",
              "      <td>NaN</td>\n",
              "      <td>Jumbo Mine Trail</td>\n",
              "      <td>Existing</td>\n",
              "      <td>Unknown</td>\n",
              "      <td>Standard Terra Trail</td>\n",
              "      <td>Class 2: Moderately Developed</td>\n",
              "      <td>Hiker/Pedestrian</td>\n",
              "      <td>Public Map Display</td>\n",
              "      <td>...</td>\n",
              "      <td>True</td>\n",
              "      <td>Unknown</td>\n",
              "      <td>NaN</td>\n",
              "      <td>NaN</td>\n",
              "      <td>Unknown</td>\n",
              "      <td>NaN</td>\n",
              "      <td>National Park Service</td>\n",
              "      <td>Multiple  Routes</td>\n",
              "      <td>STAGING_AKR_TRAILS_ALL_20240213004113</td>\n",
              "      <td>0.000281</td>\n",
              "    </tr>\n",
              "  </tbody>\n",
              "</table>\n",
              "<p>5 rows × 42 columns</p>\n",
              "</div>"
            ],
            "text/plain": [
              "   OBJECTID           TRLNAME TRLALTNAME          MAPLABEL TRLSTATUS  \\\n",
              "0         1  Jumbo Mine Trail        NaN  Jumbo Mine Trail  Existing   \n",
              "1         2  Jumbo Mine Trail        NaN  Jumbo Mine Trail  Existing   \n",
              "2         3  Jumbo Mine Trail        NaN  Jumbo Mine Trail  Existing   \n",
              "3         4  Jumbo Mine Trail        NaN  Jumbo Mine Trail  Existing   \n",
              "4         5  Jumbo Mine Trail        NaN  Jumbo Mine Trail  Existing   \n",
              "\n",
              "  TRLSURFACE               TRLTYPE                       TRLCLASS  \\\n",
              "0    Unknown  Standard Terra Trail  Class 2: Moderately Developed   \n",
              "1    Unknown  Standard Terra Trail  Class 2: Moderately Developed   \n",
              "2    Unknown  Standard Terra Trail  Class 2: Moderately Developed   \n",
              "3    Unknown  Standard Terra Trail  Class 2: Moderately Developed   \n",
              "4    Unknown  Standard Terra Trail  Class 2: Moderately Developed   \n",
              "\n",
              "             TRLUSE       PUBLICDISPLAY  ... ISEXTANT  OPENTOPUBLIC  \\\n",
              "0  Hiker/Pedestrian  Public Map Display  ...     True       Unknown   \n",
              "1  Hiker/Pedestrian  Public Map Display  ...     True       Unknown   \n",
              "2  Hiker/Pedestrian  Public Map Display  ...     True       Unknown   \n",
              "3  Hiker/Pedestrian  Public Map Display  ...     True       Unknown   \n",
              "4  Hiker/Pedestrian  Public Map Display  ...     True       Unknown   \n",
              "\n",
              "  ALTLANGNAME ALTLANG SEASONAL SEASDESC             MAINTAINER  \\\n",
              "0         NaN     NaN  Unknown      NaN  National Park Service   \n",
              "1         NaN     NaN  Unknown      NaN  National Park Service   \n",
              "2         NaN     NaN  Unknown      NaN  National Park Service   \n",
              "3         NaN     NaN  Unknown      NaN  National Park Service   \n",
              "4         NaN     NaN  Unknown      NaN  National Park Service   \n",
              "\n",
              "              NOTES                           StagingTable ShapeSTLength  \n",
              "0  Multiple  Routes  STAGING_AKR_TRAILS_ALL_20240213004113      0.000682  \n",
              "1  Multiple  Routes  STAGING_AKR_TRAILS_ALL_20240213004113      0.000259  \n",
              "2  Multiple  Routes  STAGING_AKR_TRAILS_ALL_20240213004113      0.000264  \n",
              "3  Multiple  Routes  STAGING_AKR_TRAILS_ALL_20240213004113      0.000934  \n",
              "4  Multiple  Routes  STAGING_AKR_TRAILS_ALL_20240213004113      0.000281  \n",
              "\n",
              "[5 rows x 42 columns]"
            ]
          },
          "execution_count": 2,
          "metadata": {},
          "output_type": "execute_result"
        }
      ],
      "source": [
        "df_1 = pd.read_csv ('NPS_-_Trails_-_Geographic_Coordinate_System.csv') # import sheets data\n",
        "df_1.head()"
      ]
    },
    {
      "cell_type": "markdown",
      "metadata": {
        "id": "EqRLsiPnnNQg"
      },
      "source": [
        "<!-- \n",
        "\n",
        "## **Part B) Secondary Data Collection**\n",
        "\n",
        "Let's begin with examining some sources of precompiled datasets. Websites I often use for sourcing datasets include:\n",
        "\n",
        "*   Government websites, like [Transparent Utah](https://transparent.utah.gov/job_title_search.php)\n",
        "*   [Kaggle](https://www.kaggle.com/datasets)\n",
        "*   [Data is Plural](https://www.data-is-plural.com/archive/)\n",
        "\n",
        "Let's see what precompiled data is out there that might be useful related to finding info on national parks! -->"
      ]
    },
    {
      "cell_type": "markdown",
      "metadata": {
        "id": "jiU9e6VPusL1"
      },
      "source": [
        "[National Parks Dataset](https://www.kaggle.com/datasets/thedevastator/the-united-states-national-parks?select=df_2.csv)\n",
        "\n",
        "[National Park Trails](https://www.data-is-plural.com/archive/2020-08-26-edition/)"
      ]
    },
    {
      "cell_type": "code",
      "execution_count": 3,
      "metadata": {
        "id": "ih2dW5ncurqm"
      },
      "outputs": [
        {
          "data": {
            "text/html": [
              "<div>\n",
              "<style scoped>\n",
              "    .dataframe tbody tr th:only-of-type {\n",
              "        vertical-align: middle;\n",
              "    }\n",
              "\n",
              "    .dataframe tbody tr th {\n",
              "        vertical-align: top;\n",
              "    }\n",
              "\n",
              "    .dataframe thead th {\n",
              "        text-align: right;\n",
              "    }\n",
              "</style>\n",
              "<table border=\"1\" class=\"dataframe\">\n",
              "  <thead>\n",
              "    <tr style=\"text-align: right;\">\n",
              "      <th></th>\n",
              "      <th>Unnamed: 0</th>\n",
              "      <th>Name</th>\n",
              "      <th>Image</th>\n",
              "      <th>Location</th>\n",
              "      <th>Date established as park[7][12]</th>\n",
              "      <th>Area (2021)[13]</th>\n",
              "      <th>Recreation visitors (2021)[11]</th>\n",
              "      <th>Description</th>\n",
              "    </tr>\n",
              "  </thead>\n",
              "  <tbody>\n",
              "    <tr>\n",
              "      <th>0</th>\n",
              "      <td>0</td>\n",
              "      <td>Acadia</td>\n",
              "      <td>NaN</td>\n",
              "      <td>Maine.mw-parser-output .geo-default,.mw-parser...</td>\n",
              "      <td>February 26, 1919</td>\n",
              "      <td>49,071.40 acres (198.6 km2)</td>\n",
              "      <td>4069098</td>\n",
              "      <td>Covering most of Mount Desert Island and other...</td>\n",
              "    </tr>\n",
              "    <tr>\n",
              "      <th>1</th>\n",
              "      <td>1</td>\n",
              "      <td>American Samoa</td>\n",
              "      <td>NaN</td>\n",
              "      <td>American Samoa14°15′S 170°41′W﻿ / ﻿14.25°S 170...</td>\n",
              "      <td>October 31, 1988</td>\n",
              "      <td>8,256.67 acres (33.4 km2)</td>\n",
              "      <td>8495</td>\n",
              "      <td>The southernmost national park is on three Sam...</td>\n",
              "    </tr>\n",
              "    <tr>\n",
              "      <th>2</th>\n",
              "      <td>2</td>\n",
              "      <td>Arches</td>\n",
              "      <td>NaN</td>\n",
              "      <td>Utah38°41′N 109°34′W﻿ / ﻿38.68°N 109.57°W</td>\n",
              "      <td>November 12, 1971</td>\n",
              "      <td>76,678.98 acres (310.3 km2)</td>\n",
              "      <td>1806865</td>\n",
              "      <td>This site features more than 2,000 natural san...</td>\n",
              "    </tr>\n",
              "    <tr>\n",
              "      <th>3</th>\n",
              "      <td>3</td>\n",
              "      <td>Badlands</td>\n",
              "      <td>NaN</td>\n",
              "      <td>South Dakota43°45′N 102°30′W﻿ / ﻿43.75°N 102.50°W</td>\n",
              "      <td>November 10, 1978</td>\n",
              "      <td>242,755.94 acres (982.4 km2)</td>\n",
              "      <td>1224226</td>\n",
              "      <td>The Badlands are a collection of buttes, pinna...</td>\n",
              "    </tr>\n",
              "    <tr>\n",
              "      <th>4</th>\n",
              "      <td>4</td>\n",
              "      <td>Big Bend</td>\n",
              "      <td>NaN</td>\n",
              "      <td>Texas29°15′N 103°15′W﻿ / ﻿29.25°N 103.25°W</td>\n",
              "      <td>June 12, 1944</td>\n",
              "      <td>801,163.21 acres (3,242.2 km2)</td>\n",
              "      <td>581220</td>\n",
              "      <td>Named for the prominent bend in the Rio Grande...</td>\n",
              "    </tr>\n",
              "  </tbody>\n",
              "</table>\n",
              "</div>"
            ],
            "text/plain": [
              "   Unnamed: 0            Name  Image  \\\n",
              "0           0          Acadia    NaN   \n",
              "1           1  American Samoa    NaN   \n",
              "2           2          Arches    NaN   \n",
              "3           3        Badlands    NaN   \n",
              "4           4        Big Bend    NaN   \n",
              "\n",
              "                                            Location  \\\n",
              "0  Maine.mw-parser-output .geo-default,.mw-parser...   \n",
              "1  American Samoa14°15′S 170°41′W﻿ / ﻿14.25°S 170...   \n",
              "2          Utah38°41′N 109°34′W﻿ / ﻿38.68°N 109.57°W   \n",
              "3  South Dakota43°45′N 102°30′W﻿ / ﻿43.75°N 102.50°W   \n",
              "4         Texas29°15′N 103°15′W﻿ / ﻿29.25°N 103.25°W   \n",
              "\n",
              "  Date established as park[7][12]                 Area (2021)[13]  \\\n",
              "0               February 26, 1919     49,071.40 acres (198.6 km2)   \n",
              "1                October 31, 1988       8,256.67 acres (33.4 km2)   \n",
              "2               November 12, 1971     76,678.98 acres (310.3 km2)   \n",
              "3               November 10, 1978    242,755.94 acres (982.4 km2)   \n",
              "4                   June 12, 1944  801,163.21 acres (3,242.2 km2)   \n",
              "\n",
              "   Recreation visitors (2021)[11]  \\\n",
              "0                         4069098   \n",
              "1                            8495   \n",
              "2                         1806865   \n",
              "3                         1224226   \n",
              "4                          581220   \n",
              "\n",
              "                                         Description  \n",
              "0  Covering most of Mount Desert Island and other...  \n",
              "1  The southernmost national park is on three Sam...  \n",
              "2  This site features more than 2,000 natural san...  \n",
              "3  The Badlands are a collection of buttes, pinna...  \n",
              "4  Named for the prominent bend in the Rio Grande...  "
            ]
          },
          "execution_count": 3,
          "metadata": {},
          "output_type": "execute_result"
        }
      ],
      "source": [
        "parks = pd.read_csv('df_2.csv') # load in data set\n",
        "parks.head()"
      ]
    },
    {
      "cell_type": "markdown",
      "metadata": {
        "id": "7LPaIYJi0LKS"
      },
      "source": [
        "**1) Narrow Down the Dataset: Let's filter down this dataset some to parks of interest based on their Location -- Assume we want to stick to locations in the Intermountain West. How can we use the Location columns to narrow down our list?**"
      ]
    },
    {
      "cell_type": "markdown",
      "metadata": {
        "id": "QVLHMDPe3mI8"
      },
      "source": [
        "see the lst variable below"
      ]
    },
    {
      "cell_type": "code",
      "execution_count": 4,
      "metadata": {
        "id": "XZnHMkukza5G"
      },
      "outputs": [
        {
          "data": {
            "text/html": [
              "<div>\n",
              "<style scoped>\n",
              "    .dataframe tbody tr th:only-of-type {\n",
              "        vertical-align: middle;\n",
              "    }\n",
              "\n",
              "    .dataframe tbody tr th {\n",
              "        vertical-align: top;\n",
              "    }\n",
              "\n",
              "    .dataframe thead th {\n",
              "        text-align: right;\n",
              "    }\n",
              "</style>\n",
              "<table border=\"1\" class=\"dataframe\">\n",
              "  <thead>\n",
              "    <tr style=\"text-align: right;\">\n",
              "      <th></th>\n",
              "      <th>Unnamed: 0</th>\n",
              "      <th>Name</th>\n",
              "      <th>Image</th>\n",
              "      <th>Location</th>\n",
              "      <th>Date established as park[7][12]</th>\n",
              "      <th>Area (2021)[13]</th>\n",
              "      <th>Recreation visitors (2021)[11]</th>\n",
              "      <th>Description</th>\n",
              "    </tr>\n",
              "  </thead>\n",
              "  <tbody>\n",
              "    <tr>\n",
              "      <th>2</th>\n",
              "      <td>2</td>\n",
              "      <td>Arches</td>\n",
              "      <td>NaN</td>\n",
              "      <td>Utah38°41′N 109°34′W﻿ / ﻿38.68°N 109.57°W</td>\n",
              "      <td>November 12, 1971</td>\n",
              "      <td>76,678.98 acres (310.3 km2)</td>\n",
              "      <td>1806865</td>\n",
              "      <td>This site features more than 2,000 natural san...</td>\n",
              "    </tr>\n",
              "    <tr>\n",
              "      <th>6</th>\n",
              "      <td>6</td>\n",
              "      <td>Black Canyon of the Gunnison</td>\n",
              "      <td>NaN</td>\n",
              "      <td>Colorado38°34′N 107°43′W﻿ / ﻿38.57°N 107.72°W</td>\n",
              "      <td>October 21, 1999</td>\n",
              "      <td>30,779.83 acres (124.6 km2)</td>\n",
              "      <td>308910</td>\n",
              "      <td>The park protects a quarter of the Gunnison Ri...</td>\n",
              "    </tr>\n",
              "    <tr>\n",
              "      <th>7</th>\n",
              "      <td>7</td>\n",
              "      <td>Bryce Canyon</td>\n",
              "      <td>NaN</td>\n",
              "      <td>Utah37°34′N 112°11′W﻿ / ﻿37.57°N 112.18°W</td>\n",
              "      <td>February 25, 1928</td>\n",
              "      <td>35,835.08 acres (145.0 km2)</td>\n",
              "      <td>2104600</td>\n",
              "      <td>Bryce Canyon is a geological amphitheater on s...</td>\n",
              "    </tr>\n",
              "    <tr>\n",
              "      <th>8</th>\n",
              "      <td>8</td>\n",
              "      <td>Canyonlands</td>\n",
              "      <td>NaN</td>\n",
              "      <td>Utah38°12′N 109°56′W﻿ / ﻿38.2°N 109.93°W</td>\n",
              "      <td>September 12, 1964</td>\n",
              "      <td>337,597.83 acres (1,366.2 km2)</td>\n",
              "      <td>911594</td>\n",
              "      <td>This landscape was eroded into a maze of canyo...</td>\n",
              "    </tr>\n",
              "    <tr>\n",
              "      <th>9</th>\n",
              "      <td>9</td>\n",
              "      <td>Capitol Reef</td>\n",
              "      <td>NaN</td>\n",
              "      <td>Utah38°12′N 111°10′W﻿ / ﻿38.20°N 111.17°W</td>\n",
              "      <td>December 18, 1971</td>\n",
              "      <td>241,904.50 acres (979.0 km2)</td>\n",
              "      <td>1405353</td>\n",
              "      <td>The park's Waterpocket Fold is a 100-mile (160...</td>\n",
              "    </tr>\n",
              "  </tbody>\n",
              "</table>\n",
              "</div>"
            ],
            "text/plain": [
              "   Unnamed: 0                          Name  Image  \\\n",
              "2           2                        Arches    NaN   \n",
              "6           6  Black Canyon of the Gunnison    NaN   \n",
              "7           7                  Bryce Canyon    NaN   \n",
              "8           8                   Canyonlands    NaN   \n",
              "9           9                  Capitol Reef    NaN   \n",
              "\n",
              "                                        Location  \\\n",
              "2      Utah38°41′N 109°34′W﻿ / ﻿38.68°N 109.57°W   \n",
              "6  Colorado38°34′N 107°43′W﻿ / ﻿38.57°N 107.72°W   \n",
              "7      Utah37°34′N 112°11′W﻿ / ﻿37.57°N 112.18°W   \n",
              "8       Utah38°12′N 109°56′W﻿ / ﻿38.2°N 109.93°W   \n",
              "9      Utah38°12′N 111°10′W﻿ / ﻿38.20°N 111.17°W   \n",
              "\n",
              "  Date established as park[7][12]                 Area (2021)[13]  \\\n",
              "2               November 12, 1971     76,678.98 acres (310.3 km2)   \n",
              "6                October 21, 1999     30,779.83 acres (124.6 km2)   \n",
              "7               February 25, 1928     35,835.08 acres (145.0 km2)   \n",
              "8              September 12, 1964  337,597.83 acres (1,366.2 km2)   \n",
              "9               December 18, 1971    241,904.50 acres (979.0 km2)   \n",
              "\n",
              "   Recreation visitors (2021)[11]  \\\n",
              "2                         1806865   \n",
              "6                          308910   \n",
              "7                         2104600   \n",
              "8                          911594   \n",
              "9                         1405353   \n",
              "\n",
              "                                         Description  \n",
              "2  This site features more than 2,000 natural san...  \n",
              "6  The park protects a quarter of the Gunnison Ri...  \n",
              "7  Bryce Canyon is a geological amphitheater on s...  \n",
              "8  This landscape was eroded into a maze of canyo...  \n",
              "9  The park's Waterpocket Fold is a 100-mile (160...  "
            ]
          },
          "execution_count": 4,
          "metadata": {},
          "output_type": "execute_result"
        }
      ],
      "source": [
        "lst = 'Utah', 'Colorado', 'Wyoming', 'Montana', 'Idaho', 'Arizona'\n",
        "filtered_parks = parks[parks['Location'].str.startswith(lst)] # add in strings to filter down location\n",
        "filtered_parks.head()"
      ]
    },
    {
      "cell_type": "code",
      "execution_count": 5,
      "metadata": {
        "id": "nXJDUHuaz5fy"
      },
      "outputs": [
        {
          "data": {
            "text/plain": [
              "2                           Arches\n",
              "6     Black Canyon of the Gunnison\n",
              "7                     Bryce Canyon\n",
              "8                      Canyonlands\n",
              "9                     Capitol Reef\n",
              "21                         Glacier\n",
              "23                  Grand Canyon *\n",
              "24                     Grand Teton\n",
              "26                Great Sand Dunes\n",
              "42                    Mesa Verde *\n",
              "47                Petrified Forest\n",
              "50                  Rocky Mountain\n",
              "51                         Saguaro\n",
              "60                     Yellowstone\n",
              "62                            Zion\n",
              "Name: Name, dtype: object"
            ]
          },
          "execution_count": 5,
          "metadata": {},
          "output_type": "execute_result"
        }
      ],
      "source": [
        "# view the parks within those locations\n",
        "filtered_parks['Name']"
      ]
    },
    {
      "cell_type": "markdown",
      "metadata": {
        "id": "5Dhcb18k0JTF"
      },
      "source": [
        "**2) If we know our customer is interested in specific geographic sites or types of sites, how can we further filter down parks?**"
      ]
    },
    {
      "cell_type": "markdown",
      "metadata": {
        "id": "hulPF0-234IU"
      },
      "source": [
        "see below"
      ]
    },
    {
      "cell_type": "code",
      "execution_count": 6,
      "metadata": {
        "id": "UirilB6m0dqJ"
      },
      "outputs": [
        {
          "data": {
            "text/html": [
              "<div>\n",
              "<style scoped>\n",
              "    .dataframe tbody tr th:only-of-type {\n",
              "        vertical-align: middle;\n",
              "    }\n",
              "\n",
              "    .dataframe tbody tr th {\n",
              "        vertical-align: top;\n",
              "    }\n",
              "\n",
              "    .dataframe thead th {\n",
              "        text-align: right;\n",
              "    }\n",
              "</style>\n",
              "<table border=\"1\" class=\"dataframe\">\n",
              "  <thead>\n",
              "    <tr style=\"text-align: right;\">\n",
              "      <th></th>\n",
              "      <th>Unnamed: 0</th>\n",
              "      <th>Name</th>\n",
              "      <th>Image</th>\n",
              "      <th>Location</th>\n",
              "      <th>Date established as park[7][12]</th>\n",
              "      <th>Area (2021)[13]</th>\n",
              "      <th>Recreation visitors (2021)[11]</th>\n",
              "      <th>Description</th>\n",
              "    </tr>\n",
              "  </thead>\n",
              "  <tbody>\n",
              "    <tr>\n",
              "      <th>21</th>\n",
              "      <td>21</td>\n",
              "      <td>Glacier</td>\n",
              "      <td>NaN</td>\n",
              "      <td>Montana48°48′N 114°00′W﻿ / ﻿48.80°N 114.00°W</td>\n",
              "      <td>May 11, 1910</td>\n",
              "      <td>1,013,126.39 acres (4,100.0 km2)</td>\n",
              "      <td>3081656</td>\n",
              "      <td>The U.S. half of Waterton-Glacier Internationa...</td>\n",
              "    </tr>\n",
              "    <tr>\n",
              "      <th>24</th>\n",
              "      <td>24</td>\n",
              "      <td>Grand Teton</td>\n",
              "      <td>NaN</td>\n",
              "      <td>Wyoming43°44′N 110°48′W﻿ / ﻿43.73°N 110.80°W</td>\n",
              "      <td>February 26, 1929</td>\n",
              "      <td>310,044.36 acres (1,254.7 km2)</td>\n",
              "      <td>3885230</td>\n",
              "      <td>Grand Teton is the tallest mountain in the sce...</td>\n",
              "    </tr>\n",
              "    <tr>\n",
              "      <th>26</th>\n",
              "      <td>26</td>\n",
              "      <td>Great Sand Dunes</td>\n",
              "      <td>NaN</td>\n",
              "      <td>Colorado37°44′N 105°31′W﻿ / ﻿37.73°N 105.51°W</td>\n",
              "      <td>September 24, 2004</td>\n",
              "      <td>107,345.73 acres (434.4 km2)</td>\n",
              "      <td>602613</td>\n",
              "      <td>The tallest sand dunes in North America, up to...</td>\n",
              "    </tr>\n",
              "    <tr>\n",
              "      <th>50</th>\n",
              "      <td>50</td>\n",
              "      <td>Rocky Mountain</td>\n",
              "      <td>NaN</td>\n",
              "      <td>Colorado40°24′N 105°35′W﻿ / ﻿40.40°N 105.58°W</td>\n",
              "      <td>January 26, 1915</td>\n",
              "      <td>265,807.24 acres (1,075.7 km2)</td>\n",
              "      <td>4434848</td>\n",
              "      <td>Bisected north to south by the Continental Div...</td>\n",
              "    </tr>\n",
              "  </tbody>\n",
              "</table>\n",
              "</div>"
            ],
            "text/plain": [
              "    Unnamed: 0              Name  Image  \\\n",
              "21          21           Glacier    NaN   \n",
              "24          24       Grand Teton    NaN   \n",
              "26          26  Great Sand Dunes    NaN   \n",
              "50          50    Rocky Mountain    NaN   \n",
              "\n",
              "                                         Location  \\\n",
              "21   Montana48°48′N 114°00′W﻿ / ﻿48.80°N 114.00°W   \n",
              "24   Wyoming43°44′N 110°48′W﻿ / ﻿43.73°N 110.80°W   \n",
              "26  Colorado37°44′N 105°31′W﻿ / ﻿37.73°N 105.51°W   \n",
              "50  Colorado40°24′N 105°35′W﻿ / ﻿40.40°N 105.58°W   \n",
              "\n",
              "   Date established as park[7][12]                   Area (2021)[13]  \\\n",
              "21                    May 11, 1910  1,013,126.39 acres (4,100.0 km2)   \n",
              "24               February 26, 1929    310,044.36 acres (1,254.7 km2)   \n",
              "26              September 24, 2004      107,345.73 acres (434.4 km2)   \n",
              "50                January 26, 1915    265,807.24 acres (1,075.7 km2)   \n",
              "\n",
              "    Recreation visitors (2021)[11]  \\\n",
              "21                         3081656   \n",
              "24                         3885230   \n",
              "26                          602613   \n",
              "50                         4434848   \n",
              "\n",
              "                                          Description  \n",
              "21  The U.S. half of Waterton-Glacier Internationa...  \n",
              "24  Grand Teton is the tallest mountain in the sce...  \n",
              "26  The tallest sand dunes in North America, up to...  \n",
              "50  Bisected north to south by the Continental Div...  "
            ]
          },
          "execution_count": 6,
          "metadata": {},
          "output_type": "execute_result"
        }
      ],
      "source": [
        "desc_filter = 'mountains'\n",
        "mountain_parks = filtered_parks[filtered_parks['Description'].str.contains(desc_filter, case=False)] # add in description, why are we using contains here instead of startsiwth?\n",
        "mountain_parks.head()"
      ]
    },
    {
      "cell_type": "code",
      "execution_count": 7,
      "metadata": {
        "id": "GCGgCdci0rSB"
      },
      "outputs": [
        {
          "data": {
            "text/plain": [
              "Name\n",
              "Glacier             1\n",
              "Grand Teton         1\n",
              "Great Sand Dunes    1\n",
              "Rocky Mountain      1\n",
              "Name: count, dtype: int64"
            ]
          },
          "execution_count": 7,
          "metadata": {},
          "output_type": "execute_result"
        }
      ],
      "source": [
        "mountain_parks['Name'].value_counts() # check the parks count"
      ]
    },
    {
      "cell_type": "markdown",
      "metadata": {
        "id": "SMrHhyCj5R4A"
      },
      "source": [
        "**3) Now let's Incorporate our Trail Data! What pieces of information tie together these two datasets?**"
      ]
    },
    {
      "cell_type": "code",
      "execution_count": 45,
      "metadata": {
        "id": "yvssAvKUvZAK"
      },
      "outputs": [
        {
          "data": {
            "text/html": [
              "<div>\n",
              "<style scoped>\n",
              "    .dataframe tbody tr th:only-of-type {\n",
              "        vertical-align: middle;\n",
              "    }\n",
              "\n",
              "    .dataframe tbody tr th {\n",
              "        vertical-align: top;\n",
              "    }\n",
              "\n",
              "    .dataframe thead th {\n",
              "        text-align: right;\n",
              "    }\n",
              "</style>\n",
              "<table border=\"1\" class=\"dataframe\">\n",
              "  <thead>\n",
              "    <tr style=\"text-align: right;\">\n",
              "      <th></th>\n",
              "      <th>OBJECTID</th>\n",
              "      <th>TRLNAME</th>\n",
              "      <th>TRLALTNAME</th>\n",
              "      <th>MAPLABEL</th>\n",
              "      <th>TRLSTATUS</th>\n",
              "      <th>TRLSURFACE</th>\n",
              "      <th>TRLTYPE</th>\n",
              "      <th>TRLCLASS</th>\n",
              "      <th>TRLUSE</th>\n",
              "      <th>PUBLICDISPLAY</th>\n",
              "      <th>...</th>\n",
              "      <th>ISEXTANT</th>\n",
              "      <th>OPENTOPUBLIC</th>\n",
              "      <th>ALTLANGNAME</th>\n",
              "      <th>ALTLANG</th>\n",
              "      <th>SEASONAL</th>\n",
              "      <th>SEASDESC</th>\n",
              "      <th>MAINTAINER</th>\n",
              "      <th>NOTES</th>\n",
              "      <th>StagingTable</th>\n",
              "      <th>ShapeSTLength</th>\n",
              "    </tr>\n",
              "  </thead>\n",
              "  <tbody>\n",
              "    <tr>\n",
              "      <th>0</th>\n",
              "      <td>1</td>\n",
              "      <td>Jumbo Mine Trail</td>\n",
              "      <td>NaN</td>\n",
              "      <td>Jumbo Mine Trail</td>\n",
              "      <td>Existing</td>\n",
              "      <td>Unknown</td>\n",
              "      <td>Standard Terra Trail</td>\n",
              "      <td>Class 2: Moderately Developed</td>\n",
              "      <td>Hiker/Pedestrian</td>\n",
              "      <td>Public Map Display</td>\n",
              "      <td>...</td>\n",
              "      <td>True</td>\n",
              "      <td>Unknown</td>\n",
              "      <td>NaN</td>\n",
              "      <td>NaN</td>\n",
              "      <td>Unknown</td>\n",
              "      <td>NaN</td>\n",
              "      <td>National Park Service</td>\n",
              "      <td>Multiple  Routes</td>\n",
              "      <td>STAGING_AKR_TRAILS_ALL_20240213004113</td>\n",
              "      <td>0.000682</td>\n",
              "    </tr>\n",
              "    <tr>\n",
              "      <th>1</th>\n",
              "      <td>2</td>\n",
              "      <td>Jumbo Mine Trail</td>\n",
              "      <td>NaN</td>\n",
              "      <td>Jumbo Mine Trail</td>\n",
              "      <td>Existing</td>\n",
              "      <td>Unknown</td>\n",
              "      <td>Standard Terra Trail</td>\n",
              "      <td>Class 2: Moderately Developed</td>\n",
              "      <td>Hiker/Pedestrian</td>\n",
              "      <td>Public Map Display</td>\n",
              "      <td>...</td>\n",
              "      <td>True</td>\n",
              "      <td>Unknown</td>\n",
              "      <td>NaN</td>\n",
              "      <td>NaN</td>\n",
              "      <td>Unknown</td>\n",
              "      <td>NaN</td>\n",
              "      <td>National Park Service</td>\n",
              "      <td>Multiple  Routes</td>\n",
              "      <td>STAGING_AKR_TRAILS_ALL_20240213004113</td>\n",
              "      <td>0.000259</td>\n",
              "    </tr>\n",
              "    <tr>\n",
              "      <th>2</th>\n",
              "      <td>3</td>\n",
              "      <td>Jumbo Mine Trail</td>\n",
              "      <td>NaN</td>\n",
              "      <td>Jumbo Mine Trail</td>\n",
              "      <td>Existing</td>\n",
              "      <td>Unknown</td>\n",
              "      <td>Standard Terra Trail</td>\n",
              "      <td>Class 2: Moderately Developed</td>\n",
              "      <td>Hiker/Pedestrian</td>\n",
              "      <td>Public Map Display</td>\n",
              "      <td>...</td>\n",
              "      <td>True</td>\n",
              "      <td>Unknown</td>\n",
              "      <td>NaN</td>\n",
              "      <td>NaN</td>\n",
              "      <td>Unknown</td>\n",
              "      <td>NaN</td>\n",
              "      <td>National Park Service</td>\n",
              "      <td>Multiple  Routes</td>\n",
              "      <td>STAGING_AKR_TRAILS_ALL_20240213004113</td>\n",
              "      <td>0.000264</td>\n",
              "    </tr>\n",
              "    <tr>\n",
              "      <th>3</th>\n",
              "      <td>4</td>\n",
              "      <td>Jumbo Mine Trail</td>\n",
              "      <td>NaN</td>\n",
              "      <td>Jumbo Mine Trail</td>\n",
              "      <td>Existing</td>\n",
              "      <td>Unknown</td>\n",
              "      <td>Standard Terra Trail</td>\n",
              "      <td>Class 2: Moderately Developed</td>\n",
              "      <td>Hiker/Pedestrian</td>\n",
              "      <td>Public Map Display</td>\n",
              "      <td>...</td>\n",
              "      <td>True</td>\n",
              "      <td>Unknown</td>\n",
              "      <td>NaN</td>\n",
              "      <td>NaN</td>\n",
              "      <td>Unknown</td>\n",
              "      <td>NaN</td>\n",
              "      <td>National Park Service</td>\n",
              "      <td>Multiple  Routes</td>\n",
              "      <td>STAGING_AKR_TRAILS_ALL_20240213004113</td>\n",
              "      <td>0.000934</td>\n",
              "    </tr>\n",
              "    <tr>\n",
              "      <th>4</th>\n",
              "      <td>5</td>\n",
              "      <td>Jumbo Mine Trail</td>\n",
              "      <td>NaN</td>\n",
              "      <td>Jumbo Mine Trail</td>\n",
              "      <td>Existing</td>\n",
              "      <td>Unknown</td>\n",
              "      <td>Standard Terra Trail</td>\n",
              "      <td>Class 2: Moderately Developed</td>\n",
              "      <td>Hiker/Pedestrian</td>\n",
              "      <td>Public Map Display</td>\n",
              "      <td>...</td>\n",
              "      <td>True</td>\n",
              "      <td>Unknown</td>\n",
              "      <td>NaN</td>\n",
              "      <td>NaN</td>\n",
              "      <td>Unknown</td>\n",
              "      <td>NaN</td>\n",
              "      <td>National Park Service</td>\n",
              "      <td>Multiple  Routes</td>\n",
              "      <td>STAGING_AKR_TRAILS_ALL_20240213004113</td>\n",
              "      <td>0.000281</td>\n",
              "    </tr>\n",
              "  </tbody>\n",
              "</table>\n",
              "<p>5 rows × 42 columns</p>\n",
              "</div>"
            ],
            "text/plain": [
              "   OBJECTID           TRLNAME TRLALTNAME          MAPLABEL TRLSTATUS  \\\n",
              "0         1  Jumbo Mine Trail        NaN  Jumbo Mine Trail  Existing   \n",
              "1         2  Jumbo Mine Trail        NaN  Jumbo Mine Trail  Existing   \n",
              "2         3  Jumbo Mine Trail        NaN  Jumbo Mine Trail  Existing   \n",
              "3         4  Jumbo Mine Trail        NaN  Jumbo Mine Trail  Existing   \n",
              "4         5  Jumbo Mine Trail        NaN  Jumbo Mine Trail  Existing   \n",
              "\n",
              "  TRLSURFACE               TRLTYPE                       TRLCLASS  \\\n",
              "0    Unknown  Standard Terra Trail  Class 2: Moderately Developed   \n",
              "1    Unknown  Standard Terra Trail  Class 2: Moderately Developed   \n",
              "2    Unknown  Standard Terra Trail  Class 2: Moderately Developed   \n",
              "3    Unknown  Standard Terra Trail  Class 2: Moderately Developed   \n",
              "4    Unknown  Standard Terra Trail  Class 2: Moderately Developed   \n",
              "\n",
              "             TRLUSE       PUBLICDISPLAY  ... ISEXTANT  OPENTOPUBLIC  \\\n",
              "0  Hiker/Pedestrian  Public Map Display  ...     True       Unknown   \n",
              "1  Hiker/Pedestrian  Public Map Display  ...     True       Unknown   \n",
              "2  Hiker/Pedestrian  Public Map Display  ...     True       Unknown   \n",
              "3  Hiker/Pedestrian  Public Map Display  ...     True       Unknown   \n",
              "4  Hiker/Pedestrian  Public Map Display  ...     True       Unknown   \n",
              "\n",
              "  ALTLANGNAME ALTLANG SEASONAL SEASDESC             MAINTAINER  \\\n",
              "0         NaN     NaN  Unknown      NaN  National Park Service   \n",
              "1         NaN     NaN  Unknown      NaN  National Park Service   \n",
              "2         NaN     NaN  Unknown      NaN  National Park Service   \n",
              "3         NaN     NaN  Unknown      NaN  National Park Service   \n",
              "4         NaN     NaN  Unknown      NaN  National Park Service   \n",
              "\n",
              "              NOTES                           StagingTable ShapeSTLength  \n",
              "0  Multiple  Routes  STAGING_AKR_TRAILS_ALL_20240213004113      0.000682  \n",
              "1  Multiple  Routes  STAGING_AKR_TRAILS_ALL_20240213004113      0.000259  \n",
              "2  Multiple  Routes  STAGING_AKR_TRAILS_ALL_20240213004113      0.000264  \n",
              "3  Multiple  Routes  STAGING_AKR_TRAILS_ALL_20240213004113      0.000934  \n",
              "4  Multiple  Routes  STAGING_AKR_TRAILS_ALL_20240213004113      0.000281  \n",
              "\n",
              "[5 rows x 42 columns]"
            ]
          },
          "execution_count": 45,
          "metadata": {},
          "output_type": "execute_result"
        }
      ],
      "source": [
        "trails = pd.read_csv('NPS_-_Trails_-_Geographic_Coordinate_System.csv') # read in second dataset\n",
        "trails.head()"
      ]
    },
    {
      "cell_type": "markdown",
      "metadata": {
        "id": "7Umhm2HLsLHo"
      },
      "source": []
    },
    {
      "cell_type": "markdown",
      "metadata": {
        "id": "GAmCyysBsXCQ"
      },
      "source": [
        "**4) Join the datasets by mapping Name to Unitcode then joining on the same primary key!**"
      ]
    },
    {
      "cell_type": "code",
      "execution_count": null,
      "metadata": {
        "id": "gQNkNxobp8AO"
      },
      "outputs": [],
      "source": [
        "parks_nps_codes = {\n",
        "    \"Glacier\": \"\",\n",
        "    \"Grand Teton\": \"\",\n",
        "    \"Great Sand Dunes\": \"\",\n",
        "    \"Rocky Mountain\": \"ROMO\",\n",
        "    \"Saguaro\": \"SAGU\",\n",
        "    \"Yellowstone\": \"YELL\"\n",
        "}\n",
        "\n",
        "# Rename the 'Name' column to 'UNITCODE' and replace values using parks_nps_codes\n",
        "mountain_parks = mountain_parks.rename() # fill in rename argument\n",
        "mountain_parks['UNITCODE'] = mountain_parks['UNITCODE'].replace() # fill in replace argument\n",
        "mountain_parks.head()"
      ]
    },
    {
      "cell_type": "code",
      "execution_count": null,
      "metadata": {
        "id": "m_28T25crKK1"
      },
      "outputs": [],
      "source": [
        "merged_df = # create new dataframe by merging mountain_parks and trails\n",
        "merged_df.head()"
      ]
    },
    {
      "cell_type": "code",
      "execution_count": null,
      "metadata": {
        "id": "9JU-1Y3PzFbZ"
      },
      "outputs": [],
      "source": [
        "# view all columns in merged_df"
      ]
    },
    {
      "cell_type": "markdown",
      "metadata": {
        "id": "iAIOHJkPsnUJ"
      },
      "source": [
        "**5) What has changed about the structure of the dataset? (Apart from adding new columns from the join)?**"
      ]
    },
    {
      "cell_type": "markdown",
      "metadata": {
        "id": "9I6a3injsvDp"
      },
      "source": []
    },
    {
      "cell_type": "markdown",
      "metadata": {
        "id": "eySNy62N2jeY"
      },
      "source": [
        "# **Part C) OpenWeatherMaps API - Let's Check the Forecast at our Parks of Interest!**"
      ]
    },
    {
      "cell_type": "markdown",
      "metadata": {
        "id": "9Z-pKT7xkS40"
      },
      "source": [
        "To access the OpenWeatherMap API, first navigate [here](https://openweathermap.org/api) and sign up for an account!\n",
        "\n",
        "Then we will navigate to the `My API Keys` page under your profile, to generate an API key. This is all we need (aprt from the request/endpoint) to start pulling data from this website!"
      ]
    },
    {
      "cell_type": "markdown",
      "metadata": {
        "id": "XFoMZRFSk_U-"
      },
      "source": [
        "**1) Store API Credentials**\n",
        "\n",
        "Note: This isn't a great way to do this. But since this is a free account we're not too worried about security."
      ]
    },
    {
      "cell_type": "code",
      "execution_count": 10,
      "metadata": {
        "id": "eup-An3NlGaf"
      },
      "outputs": [],
      "source": [
        "# API Key (replace 'your_api_key' with the actual API key)\n",
        "api_key = '42e919afac4c1f87a02bbbff6fab2f54' #9c9681d1ee3a680fd15053968fa4c0a5'\n"
      ]
    },
    {
      "cell_type": "code",
      "execution_count": 1,
      "metadata": {},
      "outputs": [
        {
          "name": "stdout",
          "output_type": "stream",
          "text": [
            "{'coord': {'lon': 14.5048, 'lat': 35.8628}, 'weather': [{'id': 800, 'main': 'Clear', 'description': 'clear sky', 'icon': '01n'}], 'base': 'stations', 'main': {'temp': 15.12, 'feels_like': 14.99, 'temp_min': 15.12, 'temp_max': 15.12, 'pressure': 1019, 'humidity': 88, 'sea_level': 1019, 'grnd_level': 1018}, 'visibility': 10000, 'wind': {'speed': 5.66, 'deg': 220}, 'clouds': {'all': 0}, 'dt': 1737659585, 'sys': {'type': 1, 'id': 6861, 'country': 'MT', 'sunrise': 1737612493, 'sunset': 1737649147}, 'timezone': 3600, 'id': 2562529, 'name': 'Santa Luċija', 'cod': 200}\n"
          ]
        }
      ],
      "source": [
        "import requests\n",
        "\n",
        "city = input(\"Enter City:\")\n",
        "\n",
        "url = 'http://api.openweathermap.org/data/2.5/weather?q={}&appid=42e919afac4c1f87a02bbbff6fab2f54&units=metric'.format(city)\n",
        "\n",
        "res = requests.get(url)\n",
        "data = res.json()\n",
        "\n",
        "print(data)\n",
        "\n",
        "# humidity = data['main']['humidity']\n",
        "# pressure = data['main']['pressure']\n",
        "# wind = data['wind']['speed']\n",
        "# description = data['weather'][0]['description']\n",
        "# temp = data['main']['temp']\n",
        "\n",
        "# print('Temperature:',temp,'°C')\n",
        "# print('Wind:',wind)\n",
        "# print('Pressure: ',pressure)\n",
        "# print('Humidity: ',humidity)\n",
        "# print('Description:',description)\n"
      ]
    },
    {
      "cell_type": "markdown",
      "metadata": {
        "id": "WnLTYNq2lJ_j"
      },
      "source": [
        "**2) Set up your request!**\n",
        "\n",
        "Here, the goal is to add the average temperature for each of our six parks into our dataset, using the Openweather maps API."
      ]
    },
    {
      "cell_type": "code",
      "execution_count": 4,
      "metadata": {
        "id": "UgNcU-pjulMq"
      },
      "outputs": [],
      "source": [
        "parks_info = {\n",
        "    \"GLAC\": {\"lat\": 48.6966, \"lon\": -113.7183},\n",
        "    \"GRTE\": {\"lat\": 43.7904, \"lon\": -110.6818},\n",
        "    \"GRSA\": {\"lat\": 37.7926, \"lon\": -105.5943},\n",
        "    \"ROMO\": {\"lat\": 40.3428, \"lon\": -105.6836},\n",
        "    \"SAGU\": {\"lat\": 32.2967, \"lon\": -111.1666},\n",
        "    \"YELL\": {\"lat\": 44.4280, \"lon\": -110.5885}\n",
        "} # add comment"
      ]
    },
    {
      "cell_type": "code",
      "execution_count": 6,
      "metadata": {
        "id": "sCdRYP2Uur86"
      },
      "outputs": [
        {
          "name": "stdout",
          "output_type": "stream",
          "text": [
            "Failed to retrieve data for GLAC: Status code 401\n",
            "Failed to retrieve data for GRTE: Status code 401\n",
            "Failed to retrieve data for GRSA: Status code 401\n",
            "Failed to retrieve data for ROMO: Status code 401\n",
            "Failed to retrieve data for SAGU: Status code 401\n",
            "Failed to retrieve data for YELL: Status code 401\n"
          ]
        },
        {
          "ename": "NameError",
          "evalue": "name 'merged_df' is not defined",
          "output_type": "error",
          "traceback": [
            "\u001b[1;31m---------------------------------------------------------------------------\u001b[0m",
            "\u001b[1;31mNameError\u001b[0m                                 Traceback (most recent call last)",
            "Cell \u001b[1;32mIn[6], line 45\u001b[0m\n\u001b[0;32m     39\u001b[0m         \u001b[38;5;28mprint\u001b[39m(\u001b[38;5;124mf\u001b[39m\u001b[38;5;124m\"\u001b[39m\u001b[38;5;124mFailed to retrieve data for \u001b[39m\u001b[38;5;132;01m{\u001b[39;00munit_code\u001b[38;5;132;01m}\u001b[39;00m\u001b[38;5;124m: Status code\u001b[39m\u001b[38;5;124m\"\u001b[39m, response\u001b[38;5;241m.\u001b[39mstatus_code)\n\u001b[0;32m     42\u001b[0m \u001b[38;5;66;03m# df_avg_temp_summary =  # Create a DataFrame from the summary list\u001b[39;00m\n\u001b[1;32m---> 45\u001b[0m merged_df \u001b[38;5;241m=\u001b[39m merged_df\u001b[38;5;241m.\u001b[39mmerge() \u001b[38;5;66;03m# Merge the summary DataFrame with your existing merged_df on UNITCODE\u001b[39;00m\n\u001b[0;32m     48\u001b[0m merged_df\u001b[38;5;241m.\u001b[39mhead()\n",
            "\u001b[1;31mNameError\u001b[0m: name 'merged_df' is not defined"
          ]
        }
      ],
      "source": [
        "# Add comments\n",
        "avg_temp_summary = []\n",
        "\n",
        "#\n",
        "for unit_code, coords in parks_info.items():\n",
        "    lat, lon = coords['lat'], coords['lon']\n",
        "\n",
        "    #\n",
        "    url = f\"http://api.openweathermap.org/data/2.5/forecast?lat={lat}&lon={lon}&appid={api_key}&units=imperial\"\n",
        "\n",
        "    #\n",
        "    response = requests.get(url)\n",
        "\n",
        "    if response.status_code == 200:\n",
        "        # Parse the JSON response\n",
        "        forecast_data = response.json()\n",
        "        forecast_list = forecast_data['list']\n",
        "\n",
        "        #\n",
        "        df_forecast = pd.DataFrame([{\n",
        "            'datetime': item['dt_txt'],\n",
        "            'temperature': item['main']['temp']\n",
        "        } for item in forecast_list])\n",
        "\n",
        "        #\n",
        "        df_forecast['datetime'] = pd.to_datetime(df_forecast['datetime'])\n",
        "\n",
        "        #\n",
        "        df_forecast['date'] = df_forecast['datetime'].dt.date\n",
        "        daily_avg_temps = df_forecast.groupby('date')['temperature'].mean().reset_index()\n",
        "\n",
        "        #\n",
        "        five_day_avg_temp = daily_avg_temps['temperature'].mean()\n",
        "\n",
        "        #\n",
        "        avg_temp_summary.append({'UNITCODE': unit_code, 'five_day_avg_temp': five_day_avg_temp})\n",
        "\n",
        "    else:\n",
        "        print(f\"Failed to retrieve data for {unit_code}: Status code\", response.status_code)\n",
        "\n",
        "\n",
        "df_avg_temp_summary =  # Create a DataFrame from the summary list\n",
        "\n",
        "\n",
        "merged_df = merged_df.merge() # Merge the summary DataFrame with your existing merged_df on UNITCODE\n",
        "\n",
        "\n",
        "merged_df.head()"
      ]
    },
    {
      "cell_type": "markdown",
      "metadata": {
        "id": "74ZPXa_zylSZ"
      },
      "source": [
        "**3) Why are the values in five_day_avg_temp repeated?**"
      ]
    },
    {
      "cell_type": "markdown",
      "metadata": {
        "id": "8kvZxf5OyrV3"
      },
      "source": []
    },
    {
      "cell_type": "markdown",
      "metadata": {
        "id": "FXBwRtUR3f3-"
      },
      "source": [
        "**4) What is the difference between an inner (what we did the first time) and left merge (what we just did)?**"
      ]
    },
    {
      "cell_type": "markdown",
      "metadata": {
        "id": "6K2Lbnpq3mO2"
      },
      "source": []
    },
    {
      "cell_type": "markdown",
      "metadata": {
        "id": "7BAd3BYk4K9u"
      },
      "source": [
        "## **Part D) Build a Park \\& Trail Recommender!**"
      ]
    },
    {
      "cell_type": "code",
      "execution_count": null,
      "metadata": {
        "id": "A8gY3uQiy8JY"
      },
      "outputs": [],
      "source": [
        "def park_recommender(activity, state, n=5, popular=True):\n",
        "    # Add comments\n",
        "    state_parks = merged_df[merged_df['Location'].str.startswith(state, na=False)]\n",
        "\n",
        "    #\n",
        "    activity_parks = state_parks[state_parks['TRLUSE'].str.contains(activity, case=False, na=False)]\n",
        "\n",
        "    #\n",
        "    activity_parks = activity_parks.sort_values(\n",
        "        'Recreation visitors (2021)[11]',\n",
        "        ascending=not popular\n",
        "    )\n",
        "\n",
        "    #\n",
        "    top_parks = activity_parks.head(n)\n",
        "\n",
        "    return top_parks[['UNITCODE', 'Location', 'add whatever columns you want displayed for the top trails/parks']]"
      ]
    },
    {
      "cell_type": "code",
      "execution_count": null,
      "metadata": {
        "id": "o2yNpp4x2th3"
      },
      "outputs": [],
      "source": [
        "recommendations = park_recommender(\"activity\", \"state\", n=10)\n",
        "recommendations"
      ]
    },
    {
      "cell_type": "markdown",
      "metadata": {
        "id": "XWUTWjqi6uIl"
      },
      "source": [
        "**1) Describe how the recommender works -- why have these particular trails been recommended?**"
      ]
    },
    {
      "cell_type": "markdown",
      "metadata": {
        "id": "P3Qvjmxf60R5"
      },
      "source": []
    },
    {
      "cell_type": "markdown",
      "metadata": {
        "id": "joG8X1Zx8XA_"
      },
      "source": [
        "**2) Does this recommender suit the needs of our client (based on the data we wanted to collect from them)? Explain.**"
      ]
    },
    {
      "cell_type": "markdown",
      "metadata": {
        "id": "CPdqABpw8ja8"
      },
      "source": []
    },
    {
      "cell_type": "markdown",
      "metadata": {
        "id": "bwCUVGgY60r1"
      },
      "source": [
        "**3) How can we improve our approach? Should we be asking different questions in our survey? Trying to source different data? Trying to change our recommender function?**"
      ]
    },
    {
      "cell_type": "markdown",
      "metadata": {
        "id": "FC4zbId07DLI"
      },
      "source": []
    }
  ],
  "metadata": {
    "colab": {
      "provenance": []
    },
    "kernelspec": {
      "display_name": "base",
      "language": "python",
      "name": "python3"
    },
    "language_info": {
      "codemirror_mode": {
        "name": "ipython",
        "version": 3
      },
      "file_extension": ".py",
      "mimetype": "text/x-python",
      "name": "python",
      "nbconvert_exporter": "python",
      "pygments_lexer": "ipython3",
      "version": "3.12.4"
    }
  },
  "nbformat": 4,
  "nbformat_minor": 0
}

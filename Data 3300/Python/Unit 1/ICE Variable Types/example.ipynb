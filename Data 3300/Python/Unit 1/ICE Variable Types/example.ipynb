{
  "cells": [
    {
      "cell_type": "markdown",
      "id": "6e682242",
      "metadata": {
        "id": "6e682242"
      },
      "source": [
        "# Import Libraries"
      ]
    },
    {
      "cell_type": "code",
      "execution_count": null,
      "id": "02446fd3",
      "metadata": {
        "id": "02446fd3"
      },
      "outputs": [],
      "source": [
        "# import numpy as np\n",
        "# import pandas as pd"
      ]
    },
    {
      "cell_type": "markdown",
      "source": [
        "# Preview Data"
      ],
      "metadata": {
        "id": "Sx6F3FzD4Q2j"
      },
      "id": "Sx6F3FzD4Q2j"
    },
    {
      "cell_type": "code",
      "source": [
        "#df.head() #previews the first 5 rows\n",
        "#df.head(10) #previews the first 10 rows\n",
        "#pd.set_option('display.max_columns', None) #show all columns in the df"
      ],
      "metadata": {
        "id": "Zi7nG-pR4T0w"
      },
      "id": "Zi7nG-pR4T0w",
      "execution_count": null,
      "outputs": []
    },
    {
      "cell_type": "markdown",
      "id": "1692aa03",
      "metadata": {
        "id": "1692aa03"
      },
      "source": [
        "# Data Types"
      ]
    },
    {
      "cell_type": "code",
      "execution_count": null,
      "id": "55c00041",
      "metadata": {
        "id": "55c00041"
      },
      "outputs": [],
      "source": [
        "df.info() #to ID Python var types\n",
        "\n",
        "# int_var = 10\n",
        "# float_var = 10.5\n",
        "# str_var = 'Hello'\n",
        "# bool_var = True"
      ]
    },
    {
      "cell_type": "markdown",
      "id": "9721095d",
      "metadata": {
        "id": "9721095d"
      },
      "source": [
        "# Type Conversion"
      ]
    },
    {
      "cell_type": "code",
      "execution_count": null,
      "id": "61e7fcd1",
      "metadata": {
        "id": "61e7fcd1"
      },
      "outputs": [],
      "source": [
        "# float_var = float(int_var)\n",
        "# int_var = int(float_var)\n",
        "# str_var = str(int_var)\n",
        "# bool_var = bool(int_var)"
      ]
    },
    {
      "cell_type": "markdown",
      "source": [
        "# Convert to Datetime"
      ],
      "metadata": {
        "id": "suVw4it8EI4U"
      },
      "id": "suVw4it8EI4U"
    },
    {
      "cell_type": "code",
      "source": [
        "df['new column name'] = df['new column name'].apply(pd.to_datetime) #create new column and convert to datetime format"
      ],
      "metadata": {
        "id": "DLGzxpisEJUJ"
      },
      "id": "DLGzxpisEJUJ",
      "execution_count": null,
      "outputs": []
    },
    {
      "cell_type": "markdown",
      "id": "4277e742",
      "metadata": {
        "id": "4277e742"
      },
      "source": [
        "# Basic Operations"
      ]
    },
    {
      "cell_type": "code",
      "execution_count": null,
      "id": "57556c2f",
      "metadata": {
        "id": "57556c2f"
      },
      "outputs": [],
      "source": [
        "# sum_var = int_var + float_var\n",
        "# product_var = int_var * float_var\n",
        "# diff_var = float_var - int_var\n",
        "# div_var = float_var / int_var"
      ]
    },
    {
      "cell_type": "markdown",
      "id": "9bea13d5",
      "metadata": {
        "id": "9bea13d5"
      },
      "source": [
        "# String Operations"
      ]
    },
    {
      "cell_type": "code",
      "execution_count": null,
      "id": "5ecaf39d",
      "metadata": {
        "id": "5ecaf39d"
      },
      "outputs": [],
      "source": [
        "# str_concat = str_var + ' World'\n",
        "# str_upper = str_var.upper()\n",
        "# str_split = str_var.split('e')"
      ]
    },
    {
      "cell_type": "markdown",
      "id": "922586ff",
      "metadata": {
        "id": "922586ff"
      },
      "source": [
        "# List Operations"
      ]
    },
    {
      "cell_type": "code",
      "execution_count": null,
      "id": "80a0a53a",
      "metadata": {
        "id": "80a0a53a"
      },
      "outputs": [],
      "source": [
        "# list_var = [1, 2, 3, 4, 5]\n",
        "# list_append = list_var.append(6)\n",
        "# list_remove = list_var.remove(3)\n",
        "# list_slice = list_var[1:4]"
      ]
    },
    {
      "cell_type": "markdown",
      "id": "4e887c94",
      "metadata": {
        "id": "4e887c94"
      },
      "source": [
        "# Dictionary Operations"
      ]
    },
    {
      "cell_type": "code",
      "execution_count": null,
      "id": "1abf8a6f",
      "metadata": {
        "id": "1abf8a6f"
      },
      "outputs": [],
      "source": [
        "# dict_var = {'key1': 'value1', 'key2': 'value2'}\n",
        "# dict_keys = dict_var.keys()\n",
        "# dict_values = dict_var.values()\n",
        "# dict_update = dict_var.update({'key3': 'value3'})"
      ]
    },
    {
      "cell_type": "markdown",
      "id": "5d5bada7",
      "metadata": {
        "id": "5d5bada7"
      },
      "source": [
        "# Looping and Conditionals"
      ]
    },
    {
      "cell_type": "code",
      "execution_count": null,
      "id": "65a5b783",
      "metadata": {
        "id": "65a5b783"
      },
      "outputs": [],
      "source": [
        "# for i in range(5):\n",
        "#     print(i)\n",
        "\n",
        "# if int_var > 5:\n",
        "#     print('Greater than 5')\n",
        "# else:\n",
        "#     print('Less than or equal to 5')"
      ]
    },
    {
      "cell_type": "markdown",
      "source": [
        "# Example Visualizations for Qualitative Var"
      ],
      "metadata": {
        "id": "l1Xu6uD27RCD"
      },
      "id": "l1Xu6uD27RCD"
    },
    {
      "cell_type": "code",
      "source": [
        "# below is code to create a bar chart\n",
        "# df['column name'].value_counts().plot(kind='bar')\n",
        "# plt.title('Chart Title')\n",
        "# plt.xlabel('x axis name')\n",
        "# plt.ylabel('y axis name')\n",
        "# plt.show()"
      ],
      "metadata": {
        "id": "xtVBeK7y7SlO"
      },
      "id": "xtVBeK7y7SlO",
      "execution_count": null,
      "outputs": []
    },
    {
      "cell_type": "markdown",
      "source": [
        "# Example Visualizations for Quantitative Var"
      ],
      "metadata": {
        "id": "DVi6-zQw7gea"
      },
      "id": "DVi6-zQw7gea"
    },
    {
      "cell_type": "code",
      "source": [
        "# below is code to create a boxplot\n",
        "# df['column name'].plot(kind='box')\n",
        "# plt.show()"
      ],
      "metadata": {
        "id": "T-OM58tL7kPd"
      },
      "id": "T-OM58tL7kPd",
      "execution_count": null,
      "outputs": []
    },
    {
      "cell_type": "markdown",
      "source": [
        "# Example Visualizations for Qualitative Continuous Var"
      ],
      "metadata": {
        "id": "VJxhBfy27nYq"
      },
      "id": "VJxhBfy27nYq"
    },
    {
      "cell_type": "code",
      "source": [
        "# below is code to create a scatterplot\n",
        "# sns.scatterplot(x = df['column name1'], y = df['column name2'])"
      ],
      "metadata": {
        "id": "26l6BWYy7pjh"
      },
      "id": "26l6BWYy7pjh",
      "execution_count": null,
      "outputs": []
    }
  ],
  "metadata": {
    "colab": {
      "provenance": []
    }
  },
  "nbformat": 4,
  "nbformat_minor": 5
}
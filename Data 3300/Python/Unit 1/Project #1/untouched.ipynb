{
  "nbformat": 4,
  "nbformat_minor": 0,
  "metadata": {
    "colab": {
      "provenance": []
    },
    "kernelspec": {
      "name": "python3",
      "display_name": "Python 3"
    },
    "language_info": {
      "name": "python"
    }
  },
  "cells": [
    {
      "cell_type": "markdown",
      "source": [
        "## *DATA 3300*\n",
        "\n",
        "# **Final Project - Unit 1: Data Preparation**\n",
        "\n",
        "## Final Project Description\n",
        "\n",
        "The Final Project in this course is broken into three units, corresponding to the three units in the course. By the end of the course, each student will have completed a comprehensive final project on data preparation, data understanding, and data modeling. The final portion of the project will include an executive summary on the comprehensive final project you will have completed.\n",
        "\n",
        "## Introduction\n",
        "\n",
        "For this final project, we will take on the role of consultants for Aggie Investments, a Real Estate Investment Firm. In recent years, there has been a significant trend among investment firms to acquire properties for use as rental assets. While various geographies have been proposed, our focus is to assess the opportunities within a specific, rapidly growing market: Nashville, Tennessee.\n",
        "\n",
        "Our task is to analyze a provided dataset containing information on current Airbnb listings in the Nashville area. The objective is to explore the data comprehensively and provide informed recommendations to Aggie Investments regarding the potential of entering this market, the types of listings they should acquire, and how they should manage those listings. The project will involve data preparation, exploration, and the application of unsupervised machine learning models to uncover deeper insights and patterns within the data. These findings will guide our final recommendations to the firm.\n"
      ],
      "metadata": {
        "id": "DBsBbrbjwayQ"
      }
    },
    {
      "cell_type": "markdown",
      "source": [
        "## **Part 1: Data Types**\n",
        "\n",
        "**1 - Import the data3300_airbnb_data_raw_nashville.csv dataset into Python, explore the data to ensure we understand the data types that are present within the data.**\n",
        "\n",
        "REMEMBER THE CODE CHEAT SHEET!\n"
      ],
      "metadata": {
        "id": "G9Nyy7B2qXl7"
      }
    },
    {
      "cell_type": "code",
      "source": [
        "# replace with code to import the libraries and packages required to import data, manipulate dataframes, and produce plots (visualize data)\n",
        "\n",
        "import warnings\n",
        "warnings.filterwarnings(\"ignore\")"
      ],
      "metadata": {
        "id": "Jv1IbF1Y7uj6"
      },
      "execution_count": null,
      "outputs": []
    },
    {
      "cell_type": "code",
      "source": [
        "# replace with code to import dataset\n",
        "# replace with code to change display_option to display max columns in the dataframe"
      ],
      "metadata": {
        "id": "n7Af8bvM79RG"
      },
      "execution_count": null,
      "outputs": []
    },
    {
      "cell_type": "code",
      "source": [
        "# replace with code to preview the df."
      ],
      "metadata": {
        "id": "VTX6hOiB8FiS"
      },
      "execution_count": null,
      "outputs": []
    },
    {
      "cell_type": "markdown",
      "source": [
        "## **Variable And Data Types**\n",
        "**2 - For each of variables listed below, identify both the data type and the variable type.**\n",
        "\n",
        "*The field `id` has already been filled in to provide an example.*\n",
        "\n",
        "* **id**\n",
        "  * **Data Type:** float64.\n",
        "  * **Variable Type:** Discrete numerical\n",
        "* **host_since**\n",
        "  * **Data Type:** [insert answer]\n",
        "  * **Variable Type:** [insert answer]\n",
        "* **host_is_superhost**\n",
        "  * **Data Type:** [insert answer]\n",
        "  * **Variable Type:** [insert answer]\n",
        "* **availability_365**\n",
        "  * **Data Type:** [insert answer]\n",
        "  * **Variable Type:** [insert answer]\n",
        "* **accommodates**\n",
        "  * **Data Type:** [insert answer]\n",
        "  * **Variable Type:** [insert answer]\n",
        "* **price**\n",
        "  * **Data Type:** [insert answer]\n",
        "  * **Variable Type:** [insert answer]\n",
        "* **reviews_per_month**\n",
        "  * **Data Type:** [insert answer]\n",
        "  * **Variable Type:** [insert answer]\n"
      ],
      "metadata": {
        "id": "DP_fJHS46aQh"
      }
    },
    {
      "cell_type": "markdown",
      "source": [
        "## Additional Questions to Answer:\n",
        "\n",
        "* 3) What is the primary key in our dataset? What is the function of the primary key?\n",
        "  * Answer:\n",
        "* 4) What is the difference between a continuous and discrete variable? List examples of each in the dataset.\n",
        "  * Answer:\n",
        "* 5) What types of variables are considered quantitative (Numerical)? List examples in the dataset.\n",
        "  * Answer:"
      ],
      "metadata": {
        "id": "qGIb3dkV8rTk"
      }
    },
    {
      "cell_type": "markdown",
      "source": [
        "**6 - Create a Bar chart of a qualitative variable where the descriptive stat displayed the is count. What does this show us?**"
      ],
      "metadata": {
        "id": "RGu9HHZq9ptl"
      }
    },
    {
      "cell_type": "code",
      "source": [
        "# replace with code to create a bar chart"
      ],
      "metadata": {
        "id": "HkUpQkFA9paC"
      },
      "execution_count": null,
      "outputs": []
    },
    {
      "cell_type": "markdown",
      "source": [
        "[replace with answer - what does this show us?]"
      ],
      "metadata": {
        "id": "Zok4zyESwqKK"
      }
    },
    {
      "cell_type": "markdown",
      "source": [
        "**7 - Create a boxplot of a quantitative variable. What does this boxplot tell us about the variable?**\n"
      ],
      "metadata": {
        "id": "DZ3FFn0E9T6j"
      }
    },
    {
      "cell_type": "code",
      "source": [
        "# replace with code to create boxplot"
      ],
      "metadata": {
        "id": "Nf0AEorh9TZN"
      },
      "execution_count": null,
      "outputs": []
    },
    {
      "cell_type": "markdown",
      "source": [
        "[replace with answer - what does this show us?]"
      ],
      "metadata": {
        "id": "3J9Y6yZDwq8Y"
      }
    },
    {
      "cell_type": "markdown",
      "source": [
        "**8 - Create a scatterplot of 2 continuous variables. What do we learn from this plot?**\n"
      ],
      "metadata": {
        "id": "Yi-3H0Co9yyR"
      }
    },
    {
      "cell_type": "code",
      "source": [
        "# replace with code to create scatterplot"
      ],
      "metadata": {
        "id": "513tt7iF9_wd"
      },
      "execution_count": null,
      "outputs": []
    },
    {
      "cell_type": "markdown",
      "source": [
        "[replace with answer - what does this show us?]"
      ],
      "metadata": {
        "id": "PYIosu2wwrcF"
      }
    },
    {
      "cell_type": "markdown",
      "source": [
        "## **Part 2: Data Sources**\n",
        "\n",
        "\n",
        "**9 - Import the air_quality_dataframe.csv dataset into Python, and join this dataset with our listings dataset. You haven't joined two datasets in this class, so this template will help you!**\n",
        "\n",
        "Our business partners at Aggie investments believe that adding in the Average Air Quality for listings could potentially add value to our analysis. We have utilized the following code to create a new dataset called `air_quality_dataframe.csv` via the OpenWeather Air Quality API. This dataframe has a corresponding listing `id` field as well as the Average Air quality for that listing.\n",
        "\n"
      ],
      "metadata": {
        "id": "elWPI_Me-Q6n"
      }
    },
    {
      "cell_type": "code",
      "source": [
        "# replace with code to import the airquality dataset, name dataframe aq_df"
      ],
      "metadata": {
        "id": "CXDYjuZXArVr"
      },
      "execution_count": null,
      "outputs": []
    },
    {
      "cell_type": "code",
      "source": [
        "# replace with code to join the airquality dataset with our listings dataframe\n",
        "df = df.merge(aq_df, on='id', how='left')\n",
        "df.head()"
      ],
      "metadata": {
        "id": "dw9sF4WEAy73"
      },
      "execution_count": null,
      "outputs": []
    },
    {
      "cell_type": "markdown",
      "source": [
        "## Questions to Answer:\n",
        "\n",
        "* 10) Discuss the ethical considerations for our entire dataset (both Airbnb listings and AirQuality) -- Consider things like whether there is any personally identifiable (PI) data in our dataset, bias inherent in the sample of our data, ethical considerations of the impact of this task/analysis, etc.\n",
        "  * Answer:\n",
        "* 11) Are our data obtained from Primary or Secondary data sources?\n",
        "  * Answer:\n"
      ],
      "metadata": {
        "id": "57GnmHdeBhaX"
      }
    },
    {
      "cell_type": "markdown",
      "source": [
        "## **Part 3: Data Cleaning**\n",
        "\n",
        "\n",
        "Clean and transform our Airbnb listing data set. If you need some reminders about how to do this, revisit the data cleaning module!\n",
        "\n",
        "**12 - Think about any ethical concerns regarding this dataset. Remove any columns that personally identify hosts**"
      ],
      "metadata": {
        "id": "WrA-ybA8ZLC2"
      }
    },
    {
      "cell_type": "code",
      "source": [
        "# replace with code to remove any columns that personally identify hosts"
      ],
      "metadata": {
        "id": "tRP1ZOIPZKew"
      },
      "execution_count": null,
      "outputs": []
    },
    {
      "cell_type": "markdown",
      "source": [
        "**13 - Go through each attribute column and perform various data transformations necessary to cleanse the dataset. For each attribute/column, report each data cleansing step performed and the underlying assumption as to why the data cleansing action was performed.**\n",
        "  * Do not simply state that “all columns were trimmed” or restate the cleansing action itself.\n",
        "  * State the assumption (e.g., “M” was changed to “Male” because it was assumed that “M” indicated “Male” in this dataset.).\n",
        "  * Also, if no data transformations were made, state your assumption here as well (all data were assumed to be correct/clean).\n",
        "  * **WE WILL ADDRESS MISSING DATA IN UNIT 2, do NOT fill in or drop missing data** unless specifically instructed to."
      ],
      "metadata": {
        "id": "VuCixnSWapzA"
      }
    },
    {
      "cell_type": "markdown",
      "metadata": {
        "id": "h90i5G7y-nSy"
      },
      "source": [
        "### **Data Transformations & Assumptions**\n",
        "\n",
        "* **id**\n",
        "  * **Action** none\n",
        "  * **Assumption** all values are correct\n",
        "* **name**\n",
        "  * **Action**\n",
        "  * **Assumption**\n",
        "* **host_id**\n",
        "  * **Action**\n",
        "  * **Assumption**\n",
        "* **host_name**\n",
        "  * **Action**\n",
        "  * **Assumption**\n",
        "* **host_since**\n",
        "  * **Action** create new column called `days_as_host` and drop this column\n",
        "  * **Assumption**\n",
        "* **host_is_superhost**\n",
        "  * **Action**\n",
        "  * **Assumption**\n",
        "* **host_has_profile_pic**\n",
        "  * **Action**\n",
        "  * **Assumption**\n",
        "* **host_identity_verified**\n",
        "  * **Action**\n",
        "  * **Assumption**\n",
        "* **neighbourhood_group_cleansed**\n",
        "  * **Action**\n",
        "  * **Assumption**\n",
        "* **room_type**\n",
        "  * **Action**\n",
        "  * **Assumption**\n",
        "* **bathrooms_text**\n",
        "  * **Action** Create new column called `bathrooms` and drop this column\n",
        "  * **Assumption**\n",
        "* **price**\n",
        "  * **Action** Convert to float\n",
        "  * **Assumption**"
      ]
    },
    {
      "cell_type": "markdown",
      "source": [
        "##There are a few specific transformations you will need to complete as well.\n",
        "\n",
        "**14 - Create a new `days_as_host` column using the following hints:**\n",
        "* Convert the `host_since` column to a `datetime` object\n",
        "* Create the `days_as_host` column using the logic below (Note: this logic subtracts the host since date from the current date and then we pull the days from that calculation)\n",
        "* Drop `host_since`"
      ],
      "metadata": {
        "id": "YmEFoV-pcBbI"
      }
    },
    {
      "cell_type": "code",
      "source": [
        "# convert host_since to datetime object\n",
        "\n",
        "df[''] = (pd.to_datetime('today').normalize() - 'replace_this_val_with_host_since_date').dt.days # create new column, days_as_host by subtracting host_since from today's date\n",
        "\n",
        "# drop host_since"
      ],
      "metadata": {
        "id": "ZryH5b5nIlo2"
      },
      "execution_count": null,
      "outputs": []
    },
    {
      "cell_type": "markdown",
      "source": [
        "**15 - Create a new column called `bathrooms`**\n",
        "* Begin by examining the `value_counts` of `bathrooms_text`\n",
        "* Replace any numbers written in word form with the corresponding number (e.g., zero baths --> 0 baths)\n",
        "* Create a new column called `bathrooms` by splitting the text from bathrooms_text on a space delimiter and extracting the first value\n",
        "* Fill in missing values with 0 and drop `bathrooms_text`"
      ],
      "metadata": {
        "id": "4RDvNo67epO9"
      }
    },
    {
      "cell_type": "code",
      "source": [
        "# check value_counts of bathroom_text\n",
        "\n",
        "# string replace any numbers in word form with the corresponding number form\n",
        "df['bathrooms_text'] = df['bathrooms_text'].str.replace('', '')\n",
        "\n",
        "# create new bathrooms column by extracting first value from 'bathrooms_text'\n",
        "df[''] =  df[''].str.split(' ', n=1, expand=True)[0].astype(float)\n",
        "\n",
        "# fill in missing values with 0\n",
        "df['bathrooms'] =  df['bathrooms'].fillna('insert value')\n",
        "\n",
        "# drop 'bathrooms_text' from df"
      ],
      "metadata": {
        "id": "8Gn3zSEFIlf_"
      },
      "execution_count": null,
      "outputs": []
    },
    {
      "cell_type": "markdown",
      "source": [
        "**16 - Create a column called `short_term`. This column will be 1 if the `minimum_nights` column is less than 30, and 0 otherwise.**"
      ],
      "metadata": {
        "id": "u-2JVnvDfzE4"
      }
    },
    {
      "cell_type": "code",
      "source": [
        "# replace with code to create short_term column"
      ],
      "metadata": {
        "id": "wVbhlHeTIlYc"
      },
      "execution_count": null,
      "outputs": []
    },
    {
      "cell_type": "markdown",
      "source": [
        "**17 -  Any columns containing 't' and 'f' as values (True, False), should be converted to 1, 0.**"
      ],
      "metadata": {
        "id": "AJxMaeixgbRp"
      }
    },
    {
      "cell_type": "code",
      "source": [
        "# replace with code to replace t,f values with 1,0"
      ],
      "metadata": {
        "id": "bhXL_8VK4uns"
      },
      "execution_count": null,
      "outputs": []
    },
    {
      "cell_type": "markdown",
      "source": [
        "**18 - We want to treat `price` as a float, but it's currently an object. Remove any text characters, then convert to float.**"
      ],
      "metadata": {
        "id": "LJmw5ZQzgkmP"
      }
    },
    {
      "cell_type": "code",
      "source": [
        "# replace with code to remove text characters from price, then convert to float"
      ],
      "metadata": {
        "id": "yI_LEKsx40bR"
      },
      "execution_count": null,
      "outputs": []
    },
    {
      "cell_type": "markdown",
      "source": [
        "**19 - You should drop variables that are not relevant to the analysis in this step (i.e., do we need the lat and long of properties or is that unnecessary info?). We will examine missing data and outliers in the Unit 2 Assessment, so don't worry about `int` or `float` columns for now (unless they should be dropped).**"
      ],
      "metadata": {
        "id": "CVfSafnYbyN1"
      }
    },
    {
      "cell_type": "code",
      "source": [
        "# remove columns based on your assumptions identified and perform other data cleaning steps as necessary.\n",
        "# you might consider using a different code cell for each variable/column you make any changes to"
      ],
      "metadata": {
        "id": "zMJlwBL0I8o-"
      },
      "execution_count": null,
      "outputs": []
    },
    {
      "cell_type": "markdown",
      "source": [
        "**20 - Display the finalized clean dataset**"
      ],
      "metadata": {
        "id": "bkBrjbMmhTJ2"
      }
    },
    {
      "cell_type": "code",
      "source": [
        "# replace with code to display finalized clean dataset"
      ],
      "metadata": {
        "id": "URL493hLJQyO"
      },
      "execution_count": null,
      "outputs": []
    }
  ]
}